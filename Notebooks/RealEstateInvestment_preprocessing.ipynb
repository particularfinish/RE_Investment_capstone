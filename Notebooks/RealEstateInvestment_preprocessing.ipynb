{
 "cells": [
  {
   "cell_type": "markdown",
   "metadata": {},
   "source": [
    "# 4 Pre-Processing Data<a id='4_Pre-Processing_and_Training_Data'></a>"
   ]
  },
  {
   "cell_type": "markdown",
   "metadata": {},
   "source": [
    "## 4.1 Introduction<a id='4.2_Introduction'></a>"
   ]
  },
  {
   "cell_type": "markdown",
   "metadata": {},
   "source": [
    "In preceding notebooks, we performed preliminary assessments of data quality and refined the question to be answered. We determined that predicting market rent is the primary aim. That market rent can be applied to a Return-on-Investment calculation for each house for sale, determining whether or not that house would make a good investment on some ROI threshold. \n",
    "\n",
    "Before we can develop a predictive model, we need to encode categoricals, scale, and reduce dimensionality."
   ]
  },
  {
   "cell_type": "markdown",
   "metadata": {},
   "source": [
    "## 4.2 Imports<a id='4.3_Imports'></a>"
   ]
  },
  {
   "cell_type": "code",
   "execution_count": 22,
   "metadata": {},
   "outputs": [],
   "source": [
    "import pandas as pd\n",
    "import numpy as np\n",
    "import os\n",
    "import pickle\n",
    "import matplotlib.pyplot as plt\n",
    "import seaborn as sns\n",
    "from sklearn import __version__ as sklearn_version\n",
    "from sklearn.decomposition import PCA\n",
    "from sklearn.preprocessing import scale\n",
    "from sklearn.model_selection import train_test_split, cross_validate, GridSearchCV, learning_curve\n",
    "from sklearn.preprocessing import StandardScaler, MinMaxScaler\n",
    "from sklearn.dummy import DummyRegressor\n",
    "from sklearn.linear_model import LinearRegression\n",
    "from sklearn.ensemble import RandomForestRegressor\n",
    "from sklearn.metrics import r2_score, mean_squared_error, mean_absolute_error\n",
    "from sklearn.pipeline import make_pipeline\n",
    "from sklearn.impute import SimpleImputer\n",
    "from sklearn.feature_selection import SelectKBest, f_regression\n",
    "from sklearn.compose import ColumnTransformer\n",
    "import datetime\n",
    "import math\n",
    "\n",
    "from library.sb_utils import save_file"
   ]
  },
  {
   "cell_type": "markdown",
   "metadata": {},
   "source": [
    "## 4.3 Load Data<a id='4.4_Load_Data'></a>"
   ]
  },
  {
   "cell_type": "code",
   "execution_count": 23,
   "metadata": {
    "scrolled": true
   },
   "outputs": [
    {
     "data": {
      "text/html": [
       "<div>\n",
       "<style scoped>\n",
       "    .dataframe tbody tr th:only-of-type {\n",
       "        vertical-align: middle;\n",
       "    }\n",
       "\n",
       "    .dataframe tbody tr th {\n",
       "        vertical-align: top;\n",
       "    }\n",
       "\n",
       "    .dataframe thead th {\n",
       "        text-align: right;\n",
       "    }\n",
       "</style>\n",
       "<table border=\"1\" class=\"dataframe\">\n",
       "  <thead>\n",
       "    <tr style=\"text-align: right;\">\n",
       "      <th></th>\n",
       "      <th>0</th>\n",
       "      <th>1</th>\n",
       "      <th>2</th>\n",
       "      <th>3</th>\n",
       "      <th>4</th>\n",
       "    </tr>\n",
       "  </thead>\n",
       "  <tbody>\n",
       "    <tr>\n",
       "      <th>property_code</th>\n",
       "      <td>10000753</td>\n",
       "      <td>10000801</td>\n",
       "      <td>10000898</td>\n",
       "      <td>10000946</td>\n",
       "      <td>10001199</td>\n",
       "    </tr>\n",
       "    <tr>\n",
       "      <th>address</th>\n",
       "      <td>10627 Kittredge St</td>\n",
       "      <td>10705 Clermont St</td>\n",
       "      <td>10874 Fairfax Way</td>\n",
       "      <td>10944 Bellaire Way</td>\n",
       "      <td>11120 Sylvan Pl</td>\n",
       "    </tr>\n",
       "    <tr>\n",
       "      <th>city</th>\n",
       "      <td>Commerce City</td>\n",
       "      <td>Thornton</td>\n",
       "      <td>Thornton</td>\n",
       "      <td>Thornton</td>\n",
       "      <td>Parker</td>\n",
       "    </tr>\n",
       "    <tr>\n",
       "      <th>state</th>\n",
       "      <td>CO</td>\n",
       "      <td>CO</td>\n",
       "      <td>CO</td>\n",
       "      <td>CO</td>\n",
       "      <td>CO</td>\n",
       "    </tr>\n",
       "    <tr>\n",
       "      <th>zipcode</th>\n",
       "      <td>80022</td>\n",
       "      <td>80233</td>\n",
       "      <td>80233</td>\n",
       "      <td>80233</td>\n",
       "      <td>80138</td>\n",
       "    </tr>\n",
       "    <tr>\n",
       "      <th>beds</th>\n",
       "      <td>3</td>\n",
       "      <td>3</td>\n",
       "      <td>4</td>\n",
       "      <td>4</td>\n",
       "      <td>3</td>\n",
       "    </tr>\n",
       "    <tr>\n",
       "      <th>baths</th>\n",
       "      <td>2.5</td>\n",
       "      <td>2.0</td>\n",
       "      <td>2.0</td>\n",
       "      <td>2.0</td>\n",
       "      <td>2.0</td>\n",
       "    </tr>\n",
       "    <tr>\n",
       "      <th>sqft</th>\n",
       "      <td>1993</td>\n",
       "      <td>1544</td>\n",
       "      <td>1904</td>\n",
       "      <td>1800</td>\n",
       "      <td>1387</td>\n",
       "    </tr>\n",
       "    <tr>\n",
       "      <th>market_rent</th>\n",
       "      <td>2939.0</td>\n",
       "      <td>2529.0</td>\n",
       "      <td>2599.0</td>\n",
       "      <td>2485.0</td>\n",
       "      <td>2549.0</td>\n",
       "    </tr>\n",
       "    <tr>\n",
       "      <th>lat</th>\n",
       "      <td>39.88982</td>\n",
       "      <td>39.89058</td>\n",
       "      <td>39.89348</td>\n",
       "      <td>39.89548</td>\n",
       "      <td>39.51228</td>\n",
       "    </tr>\n",
       "    <tr>\n",
       "      <th>lng</th>\n",
       "      <td>-104.80151</td>\n",
       "      <td>-104.93351</td>\n",
       "      <td>-104.92838</td>\n",
       "      <td>-104.93625</td>\n",
       "      <td>-104.74424</td>\n",
       "    </tr>\n",
       "    <tr>\n",
       "      <th>districtMatch</th>\n",
       "      <td>Brighton 27J School District</td>\n",
       "      <td>Adams 12 Five Star Schools</td>\n",
       "      <td>Adams 12 Five Star Schools</td>\n",
       "      <td>Adams 12 Five Star Schools</td>\n",
       "      <td>Douglas County RE 1 School District</td>\n",
       "    </tr>\n",
       "    <tr>\n",
       "      <th>estimatedValue</th>\n",
       "      <td>473955.0</td>\n",
       "      <td>419002.45</td>\n",
       "      <td>424920.0</td>\n",
       "      <td>409695.0</td>\n",
       "      <td>540525.0</td>\n",
       "    </tr>\n",
       "    <tr>\n",
       "      <th>percentFreeDiscLunch</th>\n",
       "      <td>44.03</td>\n",
       "      <td>47.39</td>\n",
       "      <td>47.39</td>\n",
       "      <td>47.39</td>\n",
       "      <td>10.78</td>\n",
       "    </tr>\n",
       "    <tr>\n",
       "      <th>percentofAfricanAmericanStudents</th>\n",
       "      <td>2.2</td>\n",
       "      <td>1.91</td>\n",
       "      <td>1.91</td>\n",
       "      <td>1.91</td>\n",
       "      <td>1.29</td>\n",
       "    </tr>\n",
       "    <tr>\n",
       "      <th>percentofAsianStudents</th>\n",
       "      <td>2.92</td>\n",
       "      <td>4.73</td>\n",
       "      <td>4.73</td>\n",
       "      <td>4.73</td>\n",
       "      <td>4.64</td>\n",
       "    </tr>\n",
       "    <tr>\n",
       "      <th>percentofHispanicStudents</th>\n",
       "      <td>53.74</td>\n",
       "      <td>47.0</td>\n",
       "      <td>47.0</td>\n",
       "      <td>47.0</td>\n",
       "      <td>13.59</td>\n",
       "    </tr>\n",
       "    <tr>\n",
       "      <th>percentofIndianStudents</th>\n",
       "      <td>0.31</td>\n",
       "      <td>0.55</td>\n",
       "      <td>0.55</td>\n",
       "      <td>0.55</td>\n",
       "      <td>0.41</td>\n",
       "    </tr>\n",
       "    <tr>\n",
       "      <th>percentofPacificIslanderStudents</th>\n",
       "      <td>0.17</td>\n",
       "      <td>0.14</td>\n",
       "      <td>0.14</td>\n",
       "      <td>0.14</td>\n",
       "      <td>0.11</td>\n",
       "    </tr>\n",
       "    <tr>\n",
       "      <th>percentofTwoOrMoreRaceStudents</th>\n",
       "      <td>3.0</td>\n",
       "      <td>3.32</td>\n",
       "      <td>3.32</td>\n",
       "      <td>3.32</td>\n",
       "      <td>5.69</td>\n",
       "    </tr>\n",
       "    <tr>\n",
       "      <th>percentofWhiteStudents</th>\n",
       "      <td>37.65</td>\n",
       "      <td>42.36</td>\n",
       "      <td>42.36</td>\n",
       "      <td>42.36</td>\n",
       "      <td>74.28</td>\n",
       "    </tr>\n",
       "    <tr>\n",
       "      <th>rankMovement</th>\n",
       "      <td>-48.06</td>\n",
       "      <td>-23.4</td>\n",
       "      <td>-23.4</td>\n",
       "      <td>-23.4</td>\n",
       "      <td>10.24</td>\n",
       "    </tr>\n",
       "  </tbody>\n",
       "</table>\n",
       "</div>"
      ],
      "text/plain": [
       "                                                             0  \\\n",
       "property_code                                         10000753   \n",
       "address                                     10627 Kittredge St   \n",
       "city                                             Commerce City   \n",
       "state                                                       CO   \n",
       "zipcode                                                  80022   \n",
       "beds                                                         3   \n",
       "baths                                                      2.5   \n",
       "sqft                                                      1993   \n",
       "market_rent                                             2939.0   \n",
       "lat                                                   39.88982   \n",
       "lng                                                 -104.80151   \n",
       "districtMatch                     Brighton 27J School District   \n",
       "estimatedValue                                        473955.0   \n",
       "percentFreeDiscLunch                                     44.03   \n",
       "percentofAfricanAmericanStudents                           2.2   \n",
       "percentofAsianStudents                                    2.92   \n",
       "percentofHispanicStudents                                53.74   \n",
       "percentofIndianStudents                                   0.31   \n",
       "percentofPacificIslanderStudents                          0.17   \n",
       "percentofTwoOrMoreRaceStudents                             3.0   \n",
       "percentofWhiteStudents                                   37.65   \n",
       "rankMovement                                            -48.06   \n",
       "\n",
       "                                                           1  \\\n",
       "property_code                                       10000801   \n",
       "address                                    10705 Clermont St   \n",
       "city                                                Thornton   \n",
       "state                                                     CO   \n",
       "zipcode                                                80233   \n",
       "beds                                                       3   \n",
       "baths                                                    2.0   \n",
       "sqft                                                    1544   \n",
       "market_rent                                           2529.0   \n",
       "lat                                                 39.89058   \n",
       "lng                                               -104.93351   \n",
       "districtMatch                     Adams 12 Five Star Schools   \n",
       "estimatedValue                                     419002.45   \n",
       "percentFreeDiscLunch                                   47.39   \n",
       "percentofAfricanAmericanStudents                        1.91   \n",
       "percentofAsianStudents                                  4.73   \n",
       "percentofHispanicStudents                               47.0   \n",
       "percentofIndianStudents                                 0.55   \n",
       "percentofPacificIslanderStudents                        0.14   \n",
       "percentofTwoOrMoreRaceStudents                          3.32   \n",
       "percentofWhiteStudents                                 42.36   \n",
       "rankMovement                                           -23.4   \n",
       "\n",
       "                                                           2  \\\n",
       "property_code                                       10000898   \n",
       "address                                    10874 Fairfax Way   \n",
       "city                                                Thornton   \n",
       "state                                                     CO   \n",
       "zipcode                                                80233   \n",
       "beds                                                       4   \n",
       "baths                                                    2.0   \n",
       "sqft                                                    1904   \n",
       "market_rent                                           2599.0   \n",
       "lat                                                 39.89348   \n",
       "lng                                               -104.92838   \n",
       "districtMatch                     Adams 12 Five Star Schools   \n",
       "estimatedValue                                      424920.0   \n",
       "percentFreeDiscLunch                                   47.39   \n",
       "percentofAfricanAmericanStudents                        1.91   \n",
       "percentofAsianStudents                                  4.73   \n",
       "percentofHispanicStudents                               47.0   \n",
       "percentofIndianStudents                                 0.55   \n",
       "percentofPacificIslanderStudents                        0.14   \n",
       "percentofTwoOrMoreRaceStudents                          3.32   \n",
       "percentofWhiteStudents                                 42.36   \n",
       "rankMovement                                           -23.4   \n",
       "\n",
       "                                                           3  \\\n",
       "property_code                                       10000946   \n",
       "address                                   10944 Bellaire Way   \n",
       "city                                                Thornton   \n",
       "state                                                     CO   \n",
       "zipcode                                                80233   \n",
       "beds                                                       4   \n",
       "baths                                                    2.0   \n",
       "sqft                                                    1800   \n",
       "market_rent                                           2485.0   \n",
       "lat                                                 39.89548   \n",
       "lng                                               -104.93625   \n",
       "districtMatch                     Adams 12 Five Star Schools   \n",
       "estimatedValue                                      409695.0   \n",
       "percentFreeDiscLunch                                   47.39   \n",
       "percentofAfricanAmericanStudents                        1.91   \n",
       "percentofAsianStudents                                  4.73   \n",
       "percentofHispanicStudents                               47.0   \n",
       "percentofIndianStudents                                 0.55   \n",
       "percentofPacificIslanderStudents                        0.14   \n",
       "percentofTwoOrMoreRaceStudents                          3.32   \n",
       "percentofWhiteStudents                                 42.36   \n",
       "rankMovement                                           -23.4   \n",
       "\n",
       "                                                                    4  \n",
       "property_code                                                10001199  \n",
       "address                                               11120 Sylvan Pl  \n",
       "city                                                           Parker  \n",
       "state                                                              CO  \n",
       "zipcode                                                         80138  \n",
       "beds                                                                3  \n",
       "baths                                                             2.0  \n",
       "sqft                                                             1387  \n",
       "market_rent                                                    2549.0  \n",
       "lat                                                          39.51228  \n",
       "lng                                                        -104.74424  \n",
       "districtMatch                     Douglas County RE 1 School District  \n",
       "estimatedValue                                               540525.0  \n",
       "percentFreeDiscLunch                                            10.78  \n",
       "percentofAfricanAmericanStudents                                 1.29  \n",
       "percentofAsianStudents                                           4.64  \n",
       "percentofHispanicStudents                                       13.59  \n",
       "percentofIndianStudents                                          0.41  \n",
       "percentofPacificIslanderStudents                                 0.11  \n",
       "percentofTwoOrMoreRaceStudents                                   5.69  \n",
       "percentofWhiteStudents                                          74.28  \n",
       "rankMovement                                                    10.24  "
      ]
     },
     "execution_count": 23,
     "metadata": {},
     "output_type": "execute_result"
    }
   ],
   "source": [
    "corporate_data = pd.read_csv('../data/corporate_properties_values_Demo.csv')\n",
    "corporate_data.head().T"
   ]
  },
  {
   "cell_type": "code",
   "execution_count": 24,
   "metadata": {},
   "outputs": [
    {
     "data": {
      "text/html": [
       "<div>\n",
       "<style scoped>\n",
       "    .dataframe tbody tr th:only-of-type {\n",
       "        vertical-align: middle;\n",
       "    }\n",
       "\n",
       "    .dataframe tbody tr th {\n",
       "        vertical-align: top;\n",
       "    }\n",
       "\n",
       "    .dataframe thead th {\n",
       "        text-align: right;\n",
       "    }\n",
       "</style>\n",
       "<table border=\"1\" class=\"dataframe\">\n",
       "  <thead>\n",
       "    <tr style=\"text-align: right;\">\n",
       "      <th></th>\n",
       "      <th>0</th>\n",
       "      <th>1</th>\n",
       "      <th>2</th>\n",
       "      <th>3</th>\n",
       "      <th>4</th>\n",
       "    </tr>\n",
       "  </thead>\n",
       "  <tbody>\n",
       "    <tr>\n",
       "      <th>address</th>\n",
       "      <td>5211 Willow Way</td>\n",
       "      <td>3547 S Ivanhoe Street</td>\n",
       "      <td>1128 S Jackson Street</td>\n",
       "      <td>2585 N Holly Street</td>\n",
       "      <td>1193 S Clarkson Street</td>\n",
       "    </tr>\n",
       "    <tr>\n",
       "      <th>city</th>\n",
       "      <td>Denver</td>\n",
       "      <td>Denver</td>\n",
       "      <td>Denver</td>\n",
       "      <td>Denver</td>\n",
       "      <td>Denver</td>\n",
       "    </tr>\n",
       "    <tr>\n",
       "      <th>zip</th>\n",
       "      <td>80238</td>\n",
       "      <td>80237</td>\n",
       "      <td>80210</td>\n",
       "      <td>80207</td>\n",
       "      <td>80210</td>\n",
       "    </tr>\n",
       "    <tr>\n",
       "      <th>beds</th>\n",
       "      <td>4.0</td>\n",
       "      <td>5.0</td>\n",
       "      <td>2.0</td>\n",
       "      <td>4.0</td>\n",
       "      <td>4.0</td>\n",
       "    </tr>\n",
       "    <tr>\n",
       "      <th>baths</th>\n",
       "      <td>4.0</td>\n",
       "      <td>4.0</td>\n",
       "      <td>2.0</td>\n",
       "      <td>2.0</td>\n",
       "      <td>2.0</td>\n",
       "    </tr>\n",
       "    <tr>\n",
       "      <th>sqft</th>\n",
       "      <td>2773</td>\n",
       "      <td>3269</td>\n",
       "      <td>1595</td>\n",
       "      <td>1795</td>\n",
       "      <td>2177</td>\n",
       "    </tr>\n",
       "    <tr>\n",
       "      <th>listPrice</th>\n",
       "      <td>750000</td>\n",
       "      <td>750000</td>\n",
       "      <td>750000</td>\n",
       "      <td>750000</td>\n",
       "      <td>750000</td>\n",
       "    </tr>\n",
       "    <tr>\n",
       "      <th>taxes</th>\n",
       "      <td>5431</td>\n",
       "      <td>2919</td>\n",
       "      <td>2935</td>\n",
       "      <td>2877</td>\n",
       "      <td>3038</td>\n",
       "    </tr>\n",
       "    <tr>\n",
       "      <th>lat</th>\n",
       "      <td>39.792285</td>\n",
       "      <td>39.651669</td>\n",
       "      <td>39.696093</td>\n",
       "      <td>39.754414</td>\n",
       "      <td>39.694933</td>\n",
       "    </tr>\n",
       "    <tr>\n",
       "      <th>lng</th>\n",
       "      <td>-104.886263</td>\n",
       "      <td>-104.922119</td>\n",
       "      <td>-104.943268</td>\n",
       "      <td>-104.922607</td>\n",
       "      <td>-104.978287</td>\n",
       "    </tr>\n",
       "    <tr>\n",
       "      <th>monthly_hoa</th>\n",
       "      <td>43.0</td>\n",
       "      <td>0.0</td>\n",
       "      <td>0.0</td>\n",
       "      <td>0.0</td>\n",
       "      <td>0.0</td>\n",
       "    </tr>\n",
       "    <tr>\n",
       "      <th>districtMatch</th>\n",
       "      <td>Denver County 1 School District</td>\n",
       "      <td>Denver County 1 School District</td>\n",
       "      <td>Denver County 1 School District</td>\n",
       "      <td>Denver County 1 School District</td>\n",
       "      <td>Denver County 1 School District</td>\n",
       "    </tr>\n",
       "    <tr>\n",
       "      <th>percentFreeDiscLunch</th>\n",
       "      <td>65.04</td>\n",
       "      <td>65.04</td>\n",
       "      <td>65.04</td>\n",
       "      <td>65.04</td>\n",
       "      <td>65.04</td>\n",
       "    </tr>\n",
       "    <tr>\n",
       "      <th>percentofAfricanAmericanStudents</th>\n",
       "      <td>12.19</td>\n",
       "      <td>12.19</td>\n",
       "      <td>12.19</td>\n",
       "      <td>12.19</td>\n",
       "      <td>12.19</td>\n",
       "    </tr>\n",
       "    <tr>\n",
       "      <th>percentofAsianStudents</th>\n",
       "      <td>2.77</td>\n",
       "      <td>2.77</td>\n",
       "      <td>2.77</td>\n",
       "      <td>2.77</td>\n",
       "      <td>2.77</td>\n",
       "    </tr>\n",
       "    <tr>\n",
       "      <th>percentofHispanicStudents</th>\n",
       "      <td>53.59</td>\n",
       "      <td>53.59</td>\n",
       "      <td>53.59</td>\n",
       "      <td>53.59</td>\n",
       "      <td>53.59</td>\n",
       "    </tr>\n",
       "    <tr>\n",
       "      <th>percentofIndianStudents</th>\n",
       "      <td>0.71</td>\n",
       "      <td>0.71</td>\n",
       "      <td>0.71</td>\n",
       "      <td>0.71</td>\n",
       "      <td>0.71</td>\n",
       "    </tr>\n",
       "    <tr>\n",
       "      <th>percentofPacificIslanderStudents</th>\n",
       "      <td>0.4</td>\n",
       "      <td>0.4</td>\n",
       "      <td>0.4</td>\n",
       "      <td>0.4</td>\n",
       "      <td>0.4</td>\n",
       "    </tr>\n",
       "    <tr>\n",
       "      <th>percentofTwoOrMoreRaceStudents</th>\n",
       "      <td>3.71</td>\n",
       "      <td>3.71</td>\n",
       "      <td>3.71</td>\n",
       "      <td>3.71</td>\n",
       "      <td>3.71</td>\n",
       "    </tr>\n",
       "    <tr>\n",
       "      <th>percentofWhiteStudents</th>\n",
       "      <td>26.62</td>\n",
       "      <td>26.62</td>\n",
       "      <td>26.62</td>\n",
       "      <td>26.62</td>\n",
       "      <td>26.62</td>\n",
       "    </tr>\n",
       "    <tr>\n",
       "      <th>rankMovement</th>\n",
       "      <td>-34.32</td>\n",
       "      <td>-34.32</td>\n",
       "      <td>-34.32</td>\n",
       "      <td>-34.32</td>\n",
       "      <td>-34.32</td>\n",
       "    </tr>\n",
       "  </tbody>\n",
       "</table>\n",
       "</div>"
      ],
      "text/plain": [
       "                                                                0  \\\n",
       "address                                           5211 Willow Way   \n",
       "city                                                       Denver   \n",
       "zip                                                         80238   \n",
       "beds                                                          4.0   \n",
       "baths                                                         4.0   \n",
       "sqft                                                         2773   \n",
       "listPrice                                                  750000   \n",
       "taxes                                                        5431   \n",
       "lat                                                     39.792285   \n",
       "lng                                                   -104.886263   \n",
       "monthly_hoa                                                  43.0   \n",
       "districtMatch                     Denver County 1 School District   \n",
       "percentFreeDiscLunch                                        65.04   \n",
       "percentofAfricanAmericanStudents                            12.19   \n",
       "percentofAsianStudents                                       2.77   \n",
       "percentofHispanicStudents                                   53.59   \n",
       "percentofIndianStudents                                      0.71   \n",
       "percentofPacificIslanderStudents                              0.4   \n",
       "percentofTwoOrMoreRaceStudents                               3.71   \n",
       "percentofWhiteStudents                                      26.62   \n",
       "rankMovement                                               -34.32   \n",
       "\n",
       "                                                                1  \\\n",
       "address                                     3547 S Ivanhoe Street   \n",
       "city                                                       Denver   \n",
       "zip                                                         80237   \n",
       "beds                                                          5.0   \n",
       "baths                                                         4.0   \n",
       "sqft                                                         3269   \n",
       "listPrice                                                  750000   \n",
       "taxes                                                        2919   \n",
       "lat                                                     39.651669   \n",
       "lng                                                   -104.922119   \n",
       "monthly_hoa                                                   0.0   \n",
       "districtMatch                     Denver County 1 School District   \n",
       "percentFreeDiscLunch                                        65.04   \n",
       "percentofAfricanAmericanStudents                            12.19   \n",
       "percentofAsianStudents                                       2.77   \n",
       "percentofHispanicStudents                                   53.59   \n",
       "percentofIndianStudents                                      0.71   \n",
       "percentofPacificIslanderStudents                              0.4   \n",
       "percentofTwoOrMoreRaceStudents                               3.71   \n",
       "percentofWhiteStudents                                      26.62   \n",
       "rankMovement                                               -34.32   \n",
       "\n",
       "                                                                2  \\\n",
       "address                                     1128 S Jackson Street   \n",
       "city                                                       Denver   \n",
       "zip                                                         80210   \n",
       "beds                                                          2.0   \n",
       "baths                                                         2.0   \n",
       "sqft                                                         1595   \n",
       "listPrice                                                  750000   \n",
       "taxes                                                        2935   \n",
       "lat                                                     39.696093   \n",
       "lng                                                   -104.943268   \n",
       "monthly_hoa                                                   0.0   \n",
       "districtMatch                     Denver County 1 School District   \n",
       "percentFreeDiscLunch                                        65.04   \n",
       "percentofAfricanAmericanStudents                            12.19   \n",
       "percentofAsianStudents                                       2.77   \n",
       "percentofHispanicStudents                                   53.59   \n",
       "percentofIndianStudents                                      0.71   \n",
       "percentofPacificIslanderStudents                              0.4   \n",
       "percentofTwoOrMoreRaceStudents                               3.71   \n",
       "percentofWhiteStudents                                      26.62   \n",
       "rankMovement                                               -34.32   \n",
       "\n",
       "                                                                3  \\\n",
       "address                                       2585 N Holly Street   \n",
       "city                                                       Denver   \n",
       "zip                                                         80207   \n",
       "beds                                                          4.0   \n",
       "baths                                                         2.0   \n",
       "sqft                                                         1795   \n",
       "listPrice                                                  750000   \n",
       "taxes                                                        2877   \n",
       "lat                                                     39.754414   \n",
       "lng                                                   -104.922607   \n",
       "monthly_hoa                                                   0.0   \n",
       "districtMatch                     Denver County 1 School District   \n",
       "percentFreeDiscLunch                                        65.04   \n",
       "percentofAfricanAmericanStudents                            12.19   \n",
       "percentofAsianStudents                                       2.77   \n",
       "percentofHispanicStudents                                   53.59   \n",
       "percentofIndianStudents                                      0.71   \n",
       "percentofPacificIslanderStudents                              0.4   \n",
       "percentofTwoOrMoreRaceStudents                               3.71   \n",
       "percentofWhiteStudents                                      26.62   \n",
       "rankMovement                                               -34.32   \n",
       "\n",
       "                                                                4  \n",
       "address                                    1193 S Clarkson Street  \n",
       "city                                                       Denver  \n",
       "zip                                                         80210  \n",
       "beds                                                          4.0  \n",
       "baths                                                         2.0  \n",
       "sqft                                                         2177  \n",
       "listPrice                                                  750000  \n",
       "taxes                                                        3038  \n",
       "lat                                                     39.694933  \n",
       "lng                                                   -104.978287  \n",
       "monthly_hoa                                                   0.0  \n",
       "districtMatch                     Denver County 1 School District  \n",
       "percentFreeDiscLunch                                        65.04  \n",
       "percentofAfricanAmericanStudents                            12.19  \n",
       "percentofAsianStudents                                       2.77  \n",
       "percentofHispanicStudents                                   53.59  \n",
       "percentofIndianStudents                                      0.71  \n",
       "percentofPacificIslanderStudents                              0.4  \n",
       "percentofTwoOrMoreRaceStudents                               3.71  \n",
       "percentofWhiteStudents                                      26.62  \n",
       "rankMovement                                               -34.32  "
      ]
     },
     "execution_count": 24,
     "metadata": {},
     "output_type": "execute_result"
    }
   ],
   "source": [
    "sale_data = pd.read_csv('../data/for_sale_Demo.csv')\n",
    "sale_data.head().T"
   ]
  },
  {
   "cell_type": "markdown",
   "metadata": {},
   "source": [
    "## 4.4 Manipulate Categorical Data <a id='4.5_Extract_Big_Mountain_Data'></a>"
   ]
  },
  {
   "cell_type": "markdown",
   "metadata": {},
   "source": [
    "Let's start with the corporate owned properties. \n",
    "All of the properties are in Colorado, the state column doesn't add any information, let's remove it. The property_code is a unique, discrete piece of information with no relationship to outcomes, let's remove that too. "
   ]
  },
  {
   "cell_type": "code",
   "execution_count": 25,
   "metadata": {},
   "outputs": [],
   "source": [
    "# Drop uninformative 'state' and 'property_code' columns\n",
    "corporate_data = corporate_data.drop(['state', 'property_code'], axis=1)"
   ]
  },
  {
   "cell_type": "markdown",
   "metadata": {},
   "source": [
    "Let's rename a couple of features so they make sense across dataframes. Rename 'districtMatch' to 'district', and 'estimatedValue' to 'value'. We will do the same on the other dataframe once we begin pre-processing it. "
   ]
  },
  {
   "cell_type": "code",
   "execution_count": 26,
   "metadata": {},
   "outputs": [],
   "source": [
    "# Rename two columns in corporate data df\n",
    "cols = {'districtMatch':'district', 'estimatedValue':'value'}\n",
    "corporate_data = corporate_data.rename(columns=cols)"
   ]
  },
  {
   "cell_type": "code",
   "execution_count": 27,
   "metadata": {},
   "outputs": [],
   "source": [
    "# rename sale_data columns\n",
    "cols={'zip':'zipcode', 'listPrice':'value', 'districtMatch':'district'}\n",
    "sale_data = sale_data.rename(columns=cols)"
   ]
  },
  {
   "cell_type": "markdown",
   "metadata": {},
   "source": [
    "The 'city' and 'district' columns need to be changed to a numeric value. Use Dummy encoding (with one less column than one-hot to avoid double-representation and instability). "
   ]
  },
  {
   "cell_type": "code",
   "execution_count": 28,
   "metadata": {},
   "outputs": [
    {
     "data": {
      "text/plain": [
       "(array(['Commerce City', 'Thornton', 'Parker', 'Westminster', 'Henderson',\n",
       "        'Aurora', 'Brighton', 'Denver', 'Centennial', 'Arvada',\n",
       "        'Castle Rock', 'Highlands Ranch', 'Lakewood', 'Littleton',\n",
       "        'Morrison', 'Castle Pines', 'Erie', 'Broomfield', 'Northglenn'],\n",
       "       dtype=object),\n",
       " array(['Denver', 'Arvada', 'Lakewood', 'Centennial', 'Littleton',\n",
       "        'Wheat Ridge', 'Golden', 'Aurora', 'Englewood', 'Morrison',\n",
       "        'Westminster', 'Edgewater', 'Indian Hills', 'Greenwood Village',\n",
       "        'Commerce City', 'Idledale'], dtype=object))"
      ]
     },
     "execution_count": 28,
     "metadata": {},
     "output_type": "execute_result"
    }
   ],
   "source": [
    "corporate_data['city'].unique(), sale_data['city'].unique()"
   ]
  },
  {
   "cell_type": "code",
   "execution_count": 29,
   "metadata": {},
   "outputs": [
    {
     "data": {
      "text/plain": [
       "(array(['Brighton 27J School District', 'Adams 12 Five Star Schools',\n",
       "        'Douglas County RE 1 School District',\n",
       "        'Jefferson County R-1 School District',\n",
       "        'Cherry Creek 5 School District',\n",
       "        'Adams-Arapahoe 28J School District',\n",
       "        'Denver County 1 School District',\n",
       "        'Westminster 50 School District', 'Littleton 6 School District',\n",
       "        'Mapleton 1 School District',\n",
       "        'St. Vrain Valley RE 1J School District'], dtype=object),\n",
       " array(['Brighton 27J School District', 'Adams 12 Five Star Schools',\n",
       "        'Douglas County RE 1 School District',\n",
       "        'Jefferson County R-1 School District',\n",
       "        'Cherry Creek 5 School District',\n",
       "        'Adams-Arapahoe 28J School District',\n",
       "        'Denver County 1 School District',\n",
       "        'Westminster 50 School District', 'Littleton 6 School District',\n",
       "        'Mapleton 1 School District',\n",
       "        'St. Vrain Valley RE 1J School District'], dtype=object))"
      ]
     },
     "execution_count": 29,
     "metadata": {},
     "output_type": "execute_result"
    }
   ],
   "source": [
    "corporate_data['district'].unique(), corporate_data['district'].unique()"
   ]
  },
  {
   "cell_type": "code",
   "execution_count": 30,
   "metadata": {},
   "outputs": [],
   "source": [
    "# Arvada will be the dropped column from city, because it is the first, alphabetically. \n",
    "# Adams 12 will be the dropped column from district. \n",
    "corporate_data = pd.get_dummies(corporate_data, columns=['city'], prefix='City', drop_first=True)\n",
    "sale_data = pd.get_dummies(sale_data, columns=['city'], prefix='City', drop_first=True)\n",
    "corporate_data = pd.get_dummies(corporate_data, columns=['district'], prefix='District', drop_first=True)\n",
    "sale_data = pd.get_dummies(sale_data, columns=['district'], prefix='District', drop_first=True)"
   ]
  },
  {
   "cell_type": "markdown",
   "metadata": {},
   "source": [
    "We have a problem with the HOA data. Some of the deployment data (houses for sale) have HOAs, but we don't have any information about whether the corporate properties have an HOA. So, we have no way to scale that data.\n",
    "One idea is to combine the HOA price into the value of the house, over 30 years. Let's do that with the sales_data. "
   ]
  },
  {
   "cell_type": "code",
   "execution_count": 31,
   "metadata": {},
   "outputs": [],
   "source": [
    "# Roll HOA costs into the value of the house\n",
    "sale_data['value'] = sale_data['value'] + (360 * sale_data['monthly_hoa'])"
   ]
  },
  {
   "cell_type": "markdown",
   "metadata": {},
   "source": [
    "We have taxes for the sale data, because it is included in the listing. But, it is linearly related to the value of the house. Therefore, instead of *adding* tax data for the corporate-owned houses, we shall remove the tax data from the sale houses. "
   ]
  },
  {
   "cell_type": "code",
   "execution_count": 32,
   "metadata": {},
   "outputs": [],
   "source": [
    "# drop tax column because it's linearly related to sales price (percentage of sales price)\n",
    "sale_data.drop('taxes', axis=1, inplace=True)"
   ]
  },
  {
   "cell_type": "markdown",
   "metadata": {},
   "source": [
    "Feature names need to match, and be the same value / scale. Let's work on that. "
   ]
  },
  {
   "cell_type": "code",
   "execution_count": 33,
   "metadata": {},
   "outputs": [
    {
     "data": {
      "text/plain": [
       "Index(['City_Edgewater', 'City_Englewood', 'City_Golden',\n",
       "       'City_Greenwood Village', 'City_Idledale', 'City_Indian Hills',\n",
       "       'City_Wheat Ridge', 'District_Adams County 14 School District',\n",
       "       'District_Englewood 1 School District',\n",
       "       'District_Sheridan 2 School District', 'monthly_hoa'],\n",
       "      dtype='object')"
      ]
     },
     "execution_count": 33,
     "metadata": {},
     "output_type": "execute_result"
    }
   ],
   "source": [
    "sale_data.columns.difference(corporate_data.columns)"
   ]
  },
  {
   "cell_type": "code",
   "execution_count": 34,
   "metadata": {},
   "outputs": [
    {
     "data": {
      "text/plain": [
       "(Index(['address', 'zipcode', 'beds', 'baths', 'sqft', 'value', 'lat', 'lng',\n",
       "        'monthly_hoa', 'percentFreeDiscLunch',\n",
       "        'percentofAfricanAmericanStudents', 'percentofAsianStudents',\n",
       "        'percentofHispanicStudents', 'percentofIndianStudents',\n",
       "        'percentofPacificIslanderStudents', 'percentofTwoOrMoreRaceStudents',\n",
       "        'percentofWhiteStudents', 'rankMovement', 'City_Aurora',\n",
       "        'City_Centennial', 'City_Commerce City', 'City_Denver',\n",
       "        'City_Edgewater', 'City_Englewood', 'City_Golden',\n",
       "        'City_Greenwood Village', 'City_Idledale', 'City_Indian Hills',\n",
       "        'City_Lakewood', 'City_Littleton', 'City_Morrison', 'City_Westminster',\n",
       "        'City_Wheat Ridge', 'District_Adams County 14 School District',\n",
       "        'District_Adams-Arapahoe 28J School District',\n",
       "        'District_Cherry Creek 5 School District',\n",
       "        'District_Denver County 1 School District',\n",
       "        'District_Englewood 1 School District',\n",
       "        'District_Jefferson County R-1 School District',\n",
       "        'District_Littleton 6 School District',\n",
       "        'District_Mapleton 1 School District',\n",
       "        'District_Sheridan 2 School District',\n",
       "        'District_Westminster 50 School District'],\n",
       "       dtype='object'),\n",
       " Index(['address', 'zipcode', 'beds', 'baths', 'sqft', 'market_rent', 'lat',\n",
       "        'lng', 'value', 'percentFreeDiscLunch',\n",
       "        'percentofAfricanAmericanStudents', 'percentofAsianStudents',\n",
       "        'percentofHispanicStudents', 'percentofIndianStudents',\n",
       "        'percentofPacificIslanderStudents', 'percentofTwoOrMoreRaceStudents',\n",
       "        'percentofWhiteStudents', 'rankMovement', 'City_Aurora',\n",
       "        'City_Brighton', 'City_Broomfield', 'City_Castle Pines',\n",
       "        'City_Castle Rock', 'City_Centennial', 'City_Commerce City',\n",
       "        'City_Denver', 'City_Erie', 'City_Henderson', 'City_Highlands Ranch',\n",
       "        'City_Lakewood', 'City_Littleton', 'City_Morrison', 'City_Northglenn',\n",
       "        'City_Parker', 'City_Thornton', 'City_Westminster',\n",
       "        'District_Adams-Arapahoe 28J School District',\n",
       "        'District_Brighton 27J School District',\n",
       "        'District_Cherry Creek 5 School District',\n",
       "        'District_Denver County 1 School District',\n",
       "        'District_Douglas County RE 1 School District',\n",
       "        'District_Jefferson County R-1 School District',\n",
       "        'District_Littleton 6 School District',\n",
       "        'District_Mapleton 1 School District',\n",
       "        'District_St. Vrain Valley RE 1J School District',\n",
       "        'District_Westminster 50 School District'],\n",
       "       dtype='object'))"
      ]
     },
     "execution_count": 34,
     "metadata": {},
     "output_type": "execute_result"
    }
   ],
   "source": [
    "sale_data.columns, corporate_data.columns"
   ]
  },
  {
   "cell_type": "code",
   "execution_count": 35,
   "metadata": {},
   "outputs": [],
   "source": [
    "# Re-order corporate_data columns. \n",
    "corporate_data = corporate_data.loc[:, ['address', 'zipcode', 'beds', 'baths', 'sqft', 'market_rent','value', 'lat', 'lng',\n",
    "        'percentFreeDiscLunch',\n",
    "        'percentofAfricanAmericanStudents', 'percentofAsianStudents',\n",
    "        'percentofHispanicStudents', 'percentofIndianStudents',\n",
    "        'percentofPacificIslanderStudents', 'percentofTwoOrMoreRaceStudents',\n",
    "        'percentofWhiteStudents', 'rankMovement', 'City_Aurora',\n",
    "        'City_Brighton', 'City_Broomfield', 'City_Castle Pines',\n",
    "        'City_Castle Rock', 'City_Centennial', 'City_Commerce City',\n",
    "        'City_Denver', 'City_Erie', 'City_Henderson', 'City_Highlands Ranch',\n",
    "        'City_Lakewood', 'City_Littleton', 'City_Morrison', 'City_Northglenn',\n",
    "        'City_Parker', 'City_Thornton', 'City_Westminster',\n",
    "        'District_Adams-Arapahoe 28J School District',\n",
    "        'District_Brighton 27J School District',\n",
    "        'District_Cherry Creek 5 School District',\n",
    "        'District_Denver County 1 School District',\n",
    "        'District_Douglas County RE 1 School District',\n",
    "        'District_Jefferson County R-1 School District',\n",
    "        'District_Littleton 6 School District',\n",
    "        'District_Mapleton 1 School District',\n",
    "        'District_St. Vrain Valley RE 1J School District',\n",
    "        'District_Westminster 50 School District']]\n"
   ]
  },
  {
   "cell_type": "markdown",
   "metadata": {},
   "source": [
    "## 4.5 Train/Test Split<a id='4.6_Train/Test_Split'></a>"
   ]
  },
  {
   "cell_type": "markdown",
   "metadata": {},
   "source": [
    "Let's use a 70/30 train/test split within the corporate data, using Rent as the dependent variable. "
   ]
  },
  {
   "cell_type": "code",
   "execution_count": 36,
   "metadata": {},
   "outputs": [],
   "source": [
    "# use train_test_split \n",
    "X_train, X_test, y_train, y_test = train_test_split(corporate_data.drop(columns='market_rent'), \n",
    "                                                    corporate_data.market_rent, test_size=0.3, \n",
    "                                                    random_state=42)"
   ]
  },
  {
   "cell_type": "code",
   "execution_count": 37,
   "metadata": {},
   "outputs": [
    {
     "data": {
      "text/plain": [
       "((119, 45), (51, 45))"
      ]
     },
     "execution_count": 37,
     "metadata": {},
     "output_type": "execute_result"
    }
   ],
   "source": [
    "X_train.shape, X_test.shape"
   ]
  },
  {
   "cell_type": "code",
   "execution_count": 38,
   "metadata": {},
   "outputs": [
    {
     "data": {
      "text/plain": [
       "((119,), (51,))"
      ]
     },
     "execution_count": 38,
     "metadata": {},
     "output_type": "execute_result"
    }
   ],
   "source": [
    "y_train.shape, y_test.shape"
   ]
  },
  {
   "cell_type": "code",
   "execution_count": 39,
   "metadata": {},
   "outputs": [
    {
     "data": {
      "text/plain": [
       "((119, 41), (51, 41))"
      ]
     },
     "execution_count": 39,
     "metadata": {},
     "output_type": "execute_result"
    }
   ],
   "source": [
    "#Save the 'address' and 'zipcode' columns from the train/test data into address_train\n",
    "# and address_train\n",
    "#Then drop those columns from `X_train` and `X_test`. Use 'inplace=True'\n",
    "address_list = ['address', 'zipcode', 'lat', 'lng']\n",
    "address_train = X_train[address_list]\n",
    "address_test = X_test[address_list]\n",
    "X_train.drop(columns=address_list, inplace=True)\n",
    "X_test.drop(columns=address_list, inplace=True)\n",
    "X_train.shape, X_test.shape"
   ]
  },
  {
   "cell_type": "code",
   "execution_count": null,
   "metadata": {},
   "outputs": [],
   "source": []
  },
  {
   "cell_type": "code",
   "execution_count": 40,
   "metadata": {},
   "outputs": [
    {
     "data": {
      "text/plain": [
       "beds                                                 int64\n",
       "baths                                              float64\n",
       "sqft                                                 int64\n",
       "value                                              float64\n",
       "percentFreeDiscLunch                               float64\n",
       "percentofAfricanAmericanStudents                   float64\n",
       "percentofAsianStudents                             float64\n",
       "percentofHispanicStudents                          float64\n",
       "percentofIndianStudents                            float64\n",
       "percentofPacificIslanderStudents                   float64\n",
       "percentofTwoOrMoreRaceStudents                     float64\n",
       "percentofWhiteStudents                             float64\n",
       "rankMovement                                       float64\n",
       "City_Aurora                                          uint8\n",
       "City_Brighton                                        uint8\n",
       "City_Broomfield                                      uint8\n",
       "City_Castle Pines                                    uint8\n",
       "City_Castle Rock                                     uint8\n",
       "City_Centennial                                      uint8\n",
       "City_Commerce City                                   uint8\n",
       "City_Denver                                          uint8\n",
       "City_Erie                                            uint8\n",
       "City_Henderson                                       uint8\n",
       "City_Highlands Ranch                                 uint8\n",
       "City_Lakewood                                        uint8\n",
       "City_Littleton                                       uint8\n",
       "City_Morrison                                        uint8\n",
       "City_Northglenn                                      uint8\n",
       "City_Parker                                          uint8\n",
       "City_Thornton                                        uint8\n",
       "City_Westminster                                     uint8\n",
       "District_Adams-Arapahoe 28J School District          uint8\n",
       "District_Brighton 27J School District                uint8\n",
       "District_Cherry Creek 5 School District              uint8\n",
       "District_Denver County 1 School District             uint8\n",
       "District_Douglas County RE 1 School District         uint8\n",
       "District_Jefferson County R-1 School District        uint8\n",
       "District_Littleton 6 School District                 uint8\n",
       "District_Mapleton 1 School District                  uint8\n",
       "District_St. Vrain Valley RE 1J School District      uint8\n",
       "District_Westminster 50 School District              uint8\n",
       "dtype: object"
      ]
     },
     "execution_count": 40,
     "metadata": {},
     "output_type": "execute_result"
    }
   ],
   "source": [
    "#Check the `dtypes` attribute of `X_train` to verify all features are numeric\n",
    "X_train.dtypes"
   ]
  },
  {
   "cell_type": "code",
   "execution_count": 41,
   "metadata": {},
   "outputs": [
    {
     "data": {
      "text/plain": [
       "beds                                                 int64\n",
       "baths                                              float64\n",
       "sqft                                                 int64\n",
       "value                                              float64\n",
       "percentFreeDiscLunch                               float64\n",
       "percentofAfricanAmericanStudents                   float64\n",
       "percentofAsianStudents                             float64\n",
       "percentofHispanicStudents                          float64\n",
       "percentofIndianStudents                            float64\n",
       "percentofPacificIslanderStudents                   float64\n",
       "percentofTwoOrMoreRaceStudents                     float64\n",
       "percentofWhiteStudents                             float64\n",
       "rankMovement                                       float64\n",
       "City_Aurora                                          uint8\n",
       "City_Brighton                                        uint8\n",
       "City_Broomfield                                      uint8\n",
       "City_Castle Pines                                    uint8\n",
       "City_Castle Rock                                     uint8\n",
       "City_Centennial                                      uint8\n",
       "City_Commerce City                                   uint8\n",
       "City_Denver                                          uint8\n",
       "City_Erie                                            uint8\n",
       "City_Henderson                                       uint8\n",
       "City_Highlands Ranch                                 uint8\n",
       "City_Lakewood                                        uint8\n",
       "City_Littleton                                       uint8\n",
       "City_Morrison                                        uint8\n",
       "City_Northglenn                                      uint8\n",
       "City_Parker                                          uint8\n",
       "City_Thornton                                        uint8\n",
       "City_Westminster                                     uint8\n",
       "District_Adams-Arapahoe 28J School District          uint8\n",
       "District_Brighton 27J School District                uint8\n",
       "District_Cherry Creek 5 School District              uint8\n",
       "District_Denver County 1 School District             uint8\n",
       "District_Douglas County RE 1 School District         uint8\n",
       "District_Jefferson County R-1 School District        uint8\n",
       "District_Littleton 6 School District                 uint8\n",
       "District_Mapleton 1 School District                  uint8\n",
       "District_St. Vrain Valley RE 1J School District      uint8\n",
       "District_Westminster 50 School District              uint8\n",
       "dtype: object"
      ]
     },
     "execution_count": 41,
     "metadata": {},
     "output_type": "execute_result"
    }
   ],
   "source": [
    "#Repeat this check for the test split in `X_test`\n",
    "X_test.dtypes"
   ]
  },
  {
   "cell_type": "markdown",
   "metadata": {},
   "source": [
    "All features in X are numeric."
   ]
  },
  {
   "cell_type": "code",
   "execution_count": null,
   "metadata": {},
   "outputs": [],
   "source": []
  },
  {
   "cell_type": "markdown",
   "metadata": {},
   "source": [
    "## 4.6 Scale Data <a id='4.5_Extract_Big_Mountain_Data'></a>"
   ]
  },
  {
   "cell_type": "markdown",
   "metadata": {},
   "source": [
    " Let's look at the distributions of the training data. "
   ]
  },
  {
   "cell_type": "code",
   "execution_count": 42,
   "metadata": {},
   "outputs": [
    {
     "data": {
      "image/png": "[encoded data removed]",
      "text/plain": [
       "<Figure size 432x288 with 1 Axes>"
      ]
     },
     "metadata": {
      "needs_background": "light"
     },
     "output_type": "display_data"
    }
   ],
   "source": [
    "plt.hist(X_train['sqft'])\n",
    "plt.title('Square footage distribution')\n",
    "plt.xlabel('Sqft')\n",
    "plt.ylabel('# of properties')\n",
    "plt.show()"
   ]
  },
  {
   "cell_type": "markdown",
   "metadata": {},
   "source": [
    "It looks like the outliers may be skewing the data. We will remove the top 3% of square footage data:"
   ]
  },
  {
   "cell_type": "code",
   "execution_count": 43,
   "metadata": {},
   "outputs": [],
   "source": [
    "# Make a mask to trim off top 3% of square footage\n",
    "q_cutoff = X_train['sqft'].quantile(0.97)\n",
    "mask = X_train['sqft'] < q_cutoff\n",
    "tr_X_train = X_train[mask]\n",
    "tr_y_train = y_train[mask]"
   ]
  },
  {
   "cell_type": "code",
   "execution_count": 44,
   "metadata": {},
   "outputs": [
    {
     "data": {
      "image/png": "[encoded data removed]",
      "text/plain": [
       "<Figure size 432x288 with 1 Axes>"
      ]
     },
     "metadata": {
      "needs_background": "light"
     },
     "output_type": "display_data"
    }
   ],
   "source": [
    "# Recheck the sqft distribution\n",
    "plt.hist(tr_X_train['sqft'])\n",
    "plt.title('Square footage distribution')\n",
    "plt.xlabel('Sqft')\n",
    "plt.ylabel('# of properties')\n",
    "plt.show()"
   ]
  },
  {
   "cell_type": "code",
   "execution_count": 45,
   "metadata": {},
   "outputs": [
    {
     "data": {
      "image/png": "[encoded data removed]",
      "text/plain": [
       "<Figure size 432x288 with 1 Axes>"
      ]
     },
     "metadata": {
      "needs_background": "light"
     },
     "output_type": "display_data"
    }
   ],
   "source": [
    "plt.hist(tr_y_train)\n",
    "plt.title('Market Rent distribution')\n",
    "plt.xlabel('Rent')\n",
    "plt.ylabel('# of properties')\n",
    "plt.show()"
   ]
  },
  {
   "cell_type": "code",
   "execution_count": 46,
   "metadata": {},
   "outputs": [
    {
     "data": {
      "image/png": "[encoded data removed]",
      "text/plain": [
       "<Figure size 432x288 with 1 Axes>"
      ]
     },
     "metadata": {
      "needs_background": "light"
     },
     "output_type": "display_data"
    }
   ],
   "source": [
    "plt.hist(tr_X_train['value'])\n",
    "plt.title('Value distribution')\n",
    "plt.xlabel('Value')\n",
    "plt.ylabel('# of properties')\n",
    "plt.show()"
   ]
  },
  {
   "cell_type": "markdown",
   "metadata": {},
   "source": [
    "These histograms look pretty normal. We can use Min-Max Scaling on the value, market_rent, and sqft features. Let's see if the mins/max are fairly similar between both the test and train sets. "
   ]
  },
  {
   "cell_type": "code",
   "execution_count": 47,
   "metadata": {},
   "outputs": [
    {
     "data": {
      "text/plain": [
       "(2587, 3528)"
      ]
     },
     "execution_count": 47,
     "metadata": {},
     "output_type": "execute_result"
    }
   ],
   "source": [
    "tr_X_train['sqft'].max(), X_test['sqft'].max()"
   ]
  },
  {
   "cell_type": "markdown",
   "metadata": {},
   "source": [
    "Those values are too different, we cannot use Min Max Scaling. Let's use Standard Scaler instead on square footage and value. "
   ]
  },
  {
   "cell_type": "code",
   "execution_count": 48,
   "metadata": {},
   "outputs": [],
   "source": [
    "# create a copy of df\n",
    "scaled_tr_X_train = tr_X_train.copy()\n",
    "# create list of columns to be transformed\n",
    "colnames = ['beds', 'baths', 'value', 'sqft', 'percentFreeDiscLunch',\n",
    "        'percentofAfricanAmericanStudents', 'percentofAsianStudents',\n",
    "        'percentofHispanicStudents', 'percentofIndianStudents',\n",
    "        'percentofPacificIslanderStudents', 'percentofTwoOrMoreRaceStudents',\n",
    "        'percentofWhiteStudents', 'rankMovement']\n",
    "features = scaled_tr_X_train[colnames]\n",
    "valSqftscaler = StandardScaler().fit(features.values)\n",
    "features = valSqftscaler.transform(features.values)"
   ]
  },
  {
   "cell_type": "code",
   "execution_count": 49,
   "metadata": {},
   "outputs": [
    {
     "data": {
      "text/plain": [
       "(115, 41)"
      ]
     },
     "execution_count": 49,
     "metadata": {},
     "output_type": "execute_result"
    }
   ],
   "source": [
    "scaled_tr_X_train[colnames] = features\n",
    "scaled_tr_X_train.shape"
   ]
  },
  {
   "cell_type": "code",
   "execution_count": 50,
   "metadata": {},
   "outputs": [
    {
     "data": {
      "text/plain": [
       "Index(['beds', 'baths', 'sqft', 'value', 'percentFreeDiscLunch',\n",
       "       'percentofAfricanAmericanStudents', 'percentofAsianStudents',\n",
       "       'percentofHispanicStudents', 'percentofIndianStudents',\n",
       "       'percentofPacificIslanderStudents', 'percentofTwoOrMoreRaceStudents',\n",
       "       'percentofWhiteStudents', 'rankMovement', 'City_Aurora',\n",
       "       'City_Brighton', 'City_Broomfield', 'City_Castle Pines',\n",
       "       'City_Castle Rock', 'City_Centennial', 'City_Commerce City',\n",
       "       'City_Denver', 'City_Erie', 'City_Henderson', 'City_Highlands Ranch',\n",
       "       'City_Lakewood', 'City_Littleton', 'City_Morrison', 'City_Northglenn',\n",
       "       'City_Parker', 'City_Thornton', 'City_Westminster',\n",
       "       'District_Adams-Arapahoe 28J School District',\n",
       "       'District_Brighton 27J School District',\n",
       "       'District_Cherry Creek 5 School District',\n",
       "       'District_Denver County 1 School District',\n",
       "       'District_Douglas County RE 1 School District',\n",
       "       'District_Jefferson County R-1 School District',\n",
       "       'District_Littleton 6 School District',\n",
       "       'District_Mapleton 1 School District',\n",
       "       'District_St. Vrain Valley RE 1J School District',\n",
       "       'District_Westminster 50 School District'],\n",
       "      dtype='object')"
      ]
     },
     "execution_count": 50,
     "metadata": {},
     "output_type": "execute_result"
    }
   ],
   "source": [
    "scaled_tr_X_train.columns"
   ]
  },
  {
   "cell_type": "code",
   "execution_count": 51,
   "metadata": {},
   "outputs": [],
   "source": [
    "# In case I want to transform x, y, z\n",
    "#scaled_tr_X_train['x'] = math.sin\n",
    "#scaled_tr_X_train['y'] = \n",
    "#scaled_tr_X_train['z'] = \n",
    "#  x = r * math.sin(theta) * math.cos(phi) # bronstein (3.381a)\n",
    "#    y = r * math.sin(theta) * math.sin(phi)\n",
    "#    z = r * math.cos(theta)"
   ]
  },
  {
   "cell_type": "markdown",
   "metadata": {},
   "source": [
    "The X_train data is now transformed. Let's look at it:"
   ]
  },
  {
   "cell_type": "code",
   "execution_count": 52,
   "metadata": {},
   "outputs": [
    {
     "data": {
      "text/html": [
       "<div>\n",
       "<style scoped>\n",
       "    .dataframe tbody tr th:only-of-type {\n",
       "        vertical-align: middle;\n",
       "    }\n",
       "\n",
       "    .dataframe tbody tr th {\n",
       "        vertical-align: top;\n",
       "    }\n",
       "\n",
       "    .dataframe thead th {\n",
       "        text-align: right;\n",
       "    }\n",
       "</style>\n",
       "<table border=\"1\" class=\"dataframe\">\n",
       "  <thead>\n",
       "    <tr style=\"text-align: right;\">\n",
       "      <th></th>\n",
       "      <th>beds</th>\n",
       "      <th>baths</th>\n",
       "      <th>sqft</th>\n",
       "      <th>value</th>\n",
       "      <th>percentFreeDiscLunch</th>\n",
       "      <th>percentofAfricanAmericanStudents</th>\n",
       "      <th>percentofAsianStudents</th>\n",
       "      <th>percentofHispanicStudents</th>\n",
       "      <th>percentofIndianStudents</th>\n",
       "      <th>percentofPacificIslanderStudents</th>\n",
       "      <th>...</th>\n",
       "      <th>District_Adams-Arapahoe 28J School District</th>\n",
       "      <th>District_Brighton 27J School District</th>\n",
       "      <th>District_Cherry Creek 5 School District</th>\n",
       "      <th>District_Denver County 1 School District</th>\n",
       "      <th>District_Douglas County RE 1 School District</th>\n",
       "      <th>District_Jefferson County R-1 School District</th>\n",
       "      <th>District_Littleton 6 School District</th>\n",
       "      <th>District_Mapleton 1 School District</th>\n",
       "      <th>District_St. Vrain Valley RE 1J School District</th>\n",
       "      <th>District_Westminster 50 School District</th>\n",
       "    </tr>\n",
       "  </thead>\n",
       "  <tbody>\n",
       "    <tr>\n",
       "      <th>count</th>\n",
       "      <td>1.150000e+02</td>\n",
       "      <td>1.150000e+02</td>\n",
       "      <td>1.150000e+02</td>\n",
       "      <td>1.150000e+02</td>\n",
       "      <td>1.150000e+02</td>\n",
       "      <td>1.150000e+02</td>\n",
       "      <td>1.150000e+02</td>\n",
       "      <td>1.150000e+02</td>\n",
       "      <td>1.150000e+02</td>\n",
       "      <td>1.150000e+02</td>\n",
       "      <td>...</td>\n",
       "      <td>115.000000</td>\n",
       "      <td>115.000000</td>\n",
       "      <td>115.000000</td>\n",
       "      <td>115.000000</td>\n",
       "      <td>115.000000</td>\n",
       "      <td>115.000000</td>\n",
       "      <td>115.000000</td>\n",
       "      <td>115.000000</td>\n",
       "      <td>115.000000</td>\n",
       "      <td>115.000000</td>\n",
       "    </tr>\n",
       "    <tr>\n",
       "      <th>mean</th>\n",
       "      <td>1.737740e-16</td>\n",
       "      <td>-3.610638e-16</td>\n",
       "      <td>-3.234128e-16</td>\n",
       "      <td>-1.127600e-15</td>\n",
       "      <td>-1.337095e-16</td>\n",
       "      <td>-5.792468e-17</td>\n",
       "      <td>-4.112652e-16</td>\n",
       "      <td>5.367687e-16</td>\n",
       "      <td>-1.182629e-15</td>\n",
       "      <td>3.572022e-17</td>\n",
       "      <td>...</td>\n",
       "      <td>0.156522</td>\n",
       "      <td>0.043478</td>\n",
       "      <td>0.234783</td>\n",
       "      <td>0.139130</td>\n",
       "      <td>0.130435</td>\n",
       "      <td>0.086957</td>\n",
       "      <td>0.017391</td>\n",
       "      <td>0.008696</td>\n",
       "      <td>0.008696</td>\n",
       "      <td>0.043478</td>\n",
       "    </tr>\n",
       "    <tr>\n",
       "      <th>std</th>\n",
       "      <td>1.004376e+00</td>\n",
       "      <td>1.004376e+00</td>\n",
       "      <td>1.004376e+00</td>\n",
       "      <td>1.004376e+00</td>\n",
       "      <td>1.004376e+00</td>\n",
       "      <td>1.004376e+00</td>\n",
       "      <td>1.004376e+00</td>\n",
       "      <td>1.004376e+00</td>\n",
       "      <td>1.004376e+00</td>\n",
       "      <td>1.004376e+00</td>\n",
       "      <td>...</td>\n",
       "      <td>0.364939</td>\n",
       "      <td>0.204824</td>\n",
       "      <td>0.425718</td>\n",
       "      <td>0.347597</td>\n",
       "      <td>0.338255</td>\n",
       "      <td>0.283004</td>\n",
       "      <td>0.131296</td>\n",
       "      <td>0.093250</td>\n",
       "      <td>0.093250</td>\n",
       "      <td>0.204824</td>\n",
       "    </tr>\n",
       "    <tr>\n",
       "      <th>min</th>\n",
       "      <td>-2.013444e+00</td>\n",
       "      <td>-2.662700e+00</td>\n",
       "      <td>-2.671703e+00</td>\n",
       "      <td>-2.806163e+00</td>\n",
       "      <td>-1.624535e+00</td>\n",
       "      <td>-1.144692e+00</td>\n",
       "      <td>-1.685885e+00</td>\n",
       "      <td>-1.393700e+00</td>\n",
       "      <td>-2.956564e+00</td>\n",
       "      <td>-9.091428e-01</td>\n",
       "      <td>...</td>\n",
       "      <td>0.000000</td>\n",
       "      <td>0.000000</td>\n",
       "      <td>0.000000</td>\n",
       "      <td>0.000000</td>\n",
       "      <td>0.000000</td>\n",
       "      <td>0.000000</td>\n",
       "      <td>0.000000</td>\n",
       "      <td>0.000000</td>\n",
       "      <td>0.000000</td>\n",
       "      <td>0.000000</td>\n",
       "    </tr>\n",
       "    <tr>\n",
       "      <th>25%</th>\n",
       "      <td>-5.752697e-01</td>\n",
       "      <td>-5.653678e-01</td>\n",
       "      <td>-5.962133e-01</td>\n",
       "      <td>-5.555352e-01</td>\n",
       "      <td>-6.411935e-01</td>\n",
       "      <td>-1.007485e+00</td>\n",
       "      <td>-1.019989e+00</td>\n",
       "      <td>-9.167201e-01</td>\n",
       "      <td>-2.781198e-01</td>\n",
       "      <td>-6.942059e-01</td>\n",
       "      <td>...</td>\n",
       "      <td>0.000000</td>\n",
       "      <td>0.000000</td>\n",
       "      <td>0.000000</td>\n",
       "      <td>0.000000</td>\n",
       "      <td>0.000000</td>\n",
       "      <td>0.000000</td>\n",
       "      <td>0.000000</td>\n",
       "      <td>0.000000</td>\n",
       "      <td>0.000000</td>\n",
       "      <td>0.000000</td>\n",
       "    </tr>\n",
       "    <tr>\n",
       "      <th>50%</th>\n",
       "      <td>-5.752697e-01</td>\n",
       "      <td>-5.653678e-01</td>\n",
       "      <td>7.931436e-02</td>\n",
       "      <td>-4.138033e-02</td>\n",
       "      <td>-7.463536e-02</td>\n",
       "      <td>5.733685e-01</td>\n",
       "      <td>-1.611490e-01</td>\n",
       "      <td>4.973584e-01</td>\n",
       "      <td>-4.178647e-02</td>\n",
       "      <td>-3.257428e-01</td>\n",
       "      <td>...</td>\n",
       "      <td>0.000000</td>\n",
       "      <td>0.000000</td>\n",
       "      <td>0.000000</td>\n",
       "      <td>0.000000</td>\n",
       "      <td>0.000000</td>\n",
       "      <td>0.000000</td>\n",
       "      <td>0.000000</td>\n",
       "      <td>0.000000</td>\n",
       "      <td>0.000000</td>\n",
       "      <td>0.000000</td>\n",
       "    </tr>\n",
       "    <tr>\n",
       "      <th>75%</th>\n",
       "      <td>8.629046e-01</td>\n",
       "      <td>4.832983e-01</td>\n",
       "      <td>6.753681e-01</td>\n",
       "      <td>5.665908e-01</td>\n",
       "      <td>8.619018e-01</td>\n",
       "      <td>7.830127e-01</td>\n",
       "      <td>9.767968e-02</td>\n",
       "      <td>8.598520e-01</td>\n",
       "      <td>9.823245e-01</td>\n",
       "      <td>1.041309e-01</td>\n",
       "      <td>...</td>\n",
       "      <td>0.000000</td>\n",
       "      <td>0.000000</td>\n",
       "      <td>0.000000</td>\n",
       "      <td>0.000000</td>\n",
       "      <td>0.000000</td>\n",
       "      <td>0.000000</td>\n",
       "      <td>0.000000</td>\n",
       "      <td>0.000000</td>\n",
       "      <td>0.000000</td>\n",
       "      <td>0.000000</td>\n",
       "    </tr>\n",
       "    <tr>\n",
       "      <th>max</th>\n",
       "      <td>2.301079e+00</td>\n",
       "      <td>2.580631e+00</td>\n",
       "      <td>2.484926e+00</td>\n",
       "      <td>2.593644e+00</td>\n",
       "      <td>1.553272e+00</td>\n",
       "      <td>1.495462e+00</td>\n",
       "      <td>1.627122e+00</td>\n",
       "      <td>2.005527e+00</td>\n",
       "      <td>1.218658e+00</td>\n",
       "      <td>2.161383e+00</td>\n",
       "      <td>...</td>\n",
       "      <td>1.000000</td>\n",
       "      <td>1.000000</td>\n",
       "      <td>1.000000</td>\n",
       "      <td>1.000000</td>\n",
       "      <td>1.000000</td>\n",
       "      <td>1.000000</td>\n",
       "      <td>1.000000</td>\n",
       "      <td>1.000000</td>\n",
       "      <td>1.000000</td>\n",
       "      <td>1.000000</td>\n",
       "    </tr>\n",
       "  </tbody>\n",
       "</table>\n",
       "<p>8 rows × 41 columns</p>\n",
       "</div>"
      ],
      "text/plain": [
       "               beds         baths          sqft         value  \\\n",
       "count  1.150000e+02  1.150000e+02  1.150000e+02  1.150000e+02   \n",
       "mean   1.737740e-16 -3.610638e-16 -3.234128e-16 -1.127600e-15   \n",
       "std    1.004376e+00  1.004376e+00  1.004376e+00  1.004376e+00   \n",
       "min   -2.013444e+00 -2.662700e+00 -2.671703e+00 -2.806163e+00   \n",
       "25%   -5.752697e-01 -5.653678e-01 -5.962133e-01 -5.555352e-01   \n",
       "50%   -5.752697e-01 -5.653678e-01  7.931436e-02 -4.138033e-02   \n",
       "75%    8.629046e-01  4.832983e-01  6.753681e-01  5.665908e-01   \n",
       "max    2.301079e+00  2.580631e+00  2.484926e+00  2.593644e+00   \n",
       "\n",
       "       percentFreeDiscLunch  percentofAfricanAmericanStudents  \\\n",
       "count          1.150000e+02                      1.150000e+02   \n",
       "mean          -1.337095e-16                     -5.792468e-17   \n",
       "std            1.004376e+00                      1.004376e+00   \n",
       "min           -1.624535e+00                     -1.144692e+00   \n",
       "25%           -6.411935e-01                     -1.007485e+00   \n",
       "50%           -7.463536e-02                      5.733685e-01   \n",
       "75%            8.619018e-01                      7.830127e-01   \n",
       "max            1.553272e+00                      1.495462e+00   \n",
       "\n",
       "       percentofAsianStudents  percentofHispanicStudents  \\\n",
       "count            1.150000e+02               1.150000e+02   \n",
       "mean            -4.112652e-16               5.367687e-16   \n",
       "std              1.004376e+00               1.004376e+00   \n",
       "min             -1.685885e+00              -1.393700e+00   \n",
       "25%             -1.019989e+00              -9.167201e-01   \n",
       "50%             -1.611490e-01               4.973584e-01   \n",
       "75%              9.767968e-02               8.598520e-01   \n",
       "max              1.627122e+00               2.005527e+00   \n",
       "\n",
       "       percentofIndianStudents  percentofPacificIslanderStudents  ...  \\\n",
       "count             1.150000e+02                      1.150000e+02  ...   \n",
       "mean             -1.182629e-15                      3.572022e-17  ...   \n",
       "std               1.004376e+00                      1.004376e+00  ...   \n",
       "min              -2.956564e+00                     -9.091428e-01  ...   \n",
       "25%              -2.781198e-01                     -6.942059e-01  ...   \n",
       "50%              -4.178647e-02                     -3.257428e-01  ...   \n",
       "75%               9.823245e-01                      1.041309e-01  ...   \n",
       "max               1.218658e+00                      2.161383e+00  ...   \n",
       "\n",
       "       District_Adams-Arapahoe 28J School District  \\\n",
       "count                                   115.000000   \n",
       "mean                                      0.156522   \n",
       "std                                       0.364939   \n",
       "min                                       0.000000   \n",
       "25%                                       0.000000   \n",
       "50%                                       0.000000   \n",
       "75%                                       0.000000   \n",
       "max                                       1.000000   \n",
       "\n",
       "       District_Brighton 27J School District  \\\n",
       "count                             115.000000   \n",
       "mean                                0.043478   \n",
       "std                                 0.204824   \n",
       "min                                 0.000000   \n",
       "25%                                 0.000000   \n",
       "50%                                 0.000000   \n",
       "75%                                 0.000000   \n",
       "max                                 1.000000   \n",
       "\n",
       "       District_Cherry Creek 5 School District  \\\n",
       "count                               115.000000   \n",
       "mean                                  0.234783   \n",
       "std                                   0.425718   \n",
       "min                                   0.000000   \n",
       "25%                                   0.000000   \n",
       "50%                                   0.000000   \n",
       "75%                                   0.000000   \n",
       "max                                   1.000000   \n",
       "\n",
       "       District_Denver County 1 School District  \\\n",
       "count                                115.000000   \n",
       "mean                                   0.139130   \n",
       "std                                    0.347597   \n",
       "min                                    0.000000   \n",
       "25%                                    0.000000   \n",
       "50%                                    0.000000   \n",
       "75%                                    0.000000   \n",
       "max                                    1.000000   \n",
       "\n",
       "       District_Douglas County RE 1 School District  \\\n",
       "count                                    115.000000   \n",
       "mean                                       0.130435   \n",
       "std                                        0.338255   \n",
       "min                                        0.000000   \n",
       "25%                                        0.000000   \n",
       "50%                                        0.000000   \n",
       "75%                                        0.000000   \n",
       "max                                        1.000000   \n",
       "\n",
       "       District_Jefferson County R-1 School District  \\\n",
       "count                                     115.000000   \n",
       "mean                                        0.086957   \n",
       "std                                         0.283004   \n",
       "min                                         0.000000   \n",
       "25%                                         0.000000   \n",
       "50%                                         0.000000   \n",
       "75%                                         0.000000   \n",
       "max                                         1.000000   \n",
       "\n",
       "       District_Littleton 6 School District  \\\n",
       "count                            115.000000   \n",
       "mean                               0.017391   \n",
       "std                                0.131296   \n",
       "min                                0.000000   \n",
       "25%                                0.000000   \n",
       "50%                                0.000000   \n",
       "75%                                0.000000   \n",
       "max                                1.000000   \n",
       "\n",
       "       District_Mapleton 1 School District  \\\n",
       "count                           115.000000   \n",
       "mean                              0.008696   \n",
       "std                               0.093250   \n",
       "min                               0.000000   \n",
       "25%                               0.000000   \n",
       "50%                               0.000000   \n",
       "75%                               0.000000   \n",
       "max                               1.000000   \n",
       "\n",
       "       District_St. Vrain Valley RE 1J School District  \\\n",
       "count                                       115.000000   \n",
       "mean                                          0.008696   \n",
       "std                                           0.093250   \n",
       "min                                           0.000000   \n",
       "25%                                           0.000000   \n",
       "50%                                           0.000000   \n",
       "75%                                           0.000000   \n",
       "max                                           1.000000   \n",
       "\n",
       "       District_Westminster 50 School District  \n",
       "count                               115.000000  \n",
       "mean                                  0.043478  \n",
       "std                                   0.204824  \n",
       "min                                   0.000000  \n",
       "25%                                   0.000000  \n",
       "50%                                   0.000000  \n",
       "75%                                   0.000000  \n",
       "max                                   1.000000  \n",
       "\n",
       "[8 rows x 41 columns]"
      ]
     },
     "execution_count": 52,
     "metadata": {},
     "output_type": "execute_result"
    }
   ],
   "source": [
    "scaled_tr_X_train.describe()"
   ]
  },
  {
   "cell_type": "code",
   "execution_count": 53,
   "metadata": {},
   "outputs": [
    {
     "data": {
      "text/plain": [
       "(115, 41)"
      ]
     },
     "execution_count": 53,
     "metadata": {},
     "output_type": "execute_result"
    }
   ],
   "source": [
    "scaled_tr_X_train.shape"
   ]
  },
  {
   "cell_type": "markdown",
   "metadata": {},
   "source": [
    "## 4.7 PCA Dimension Reduction of Sparse Matrix <a id='4.6_Train/Test_Split'></a>"
   ]
  },
  {
   "cell_type": "markdown",
   "metadata": {},
   "source": [
    "After dummy encoding the district and city information, we have too many features and a lot of the matrix is sparse. Let's do PCA and reduce the dimensionality."
   ]
  },
  {
   "cell_type": "code",
   "execution_count": 54,
   "metadata": {},
   "outputs": [],
   "source": [
    "# create a copy of df\n",
    "reduced_X_train = scaled_tr_X_train.copy()\n",
    "# create list of columns to be transformed\n",
    "colnames = ['City_Aurora',\n",
    "       'City_Brighton', 'City_Broomfield', 'City_Castle Pines',\n",
    "       'City_Castle Rock', 'City_Centennial', 'City_Commerce City',\n",
    "       'City_Denver', 'City_Erie', 'City_Henderson', 'City_Highlands Ranch',\n",
    "       'City_Lakewood', 'City_Littleton', 'City_Morrison', 'City_Northglenn',\n",
    "       'City_Parker', 'City_Thornton', 'City_Westminster',\n",
    "       'District_Adams-Arapahoe 28J School District',\n",
    "       'District_Brighton 27J School District',\n",
    "       'District_Cherry Creek 5 School District',\n",
    "       'District_Denver County 1 School District',\n",
    "       'District_Douglas County RE 1 School District',\n",
    "       'District_Jefferson County R-1 School District',\n",
    "       'District_Littleton 6 School District',\n",
    "       'District_Mapleton 1 School District',\n",
    "       'District_St. Vrain Valley RE 1J School District',\n",
    "       'District_Westminster 50 School District']\n",
    "features = reduced_X_train[colnames]\n",
    "pca = PCA().fit(features.values)\n",
    "numfeatures = range(pca.n_components_)"
   ]
  },
  {
   "cell_type": "code",
   "execution_count": null,
   "metadata": {},
   "outputs": [],
   "source": []
  },
  {
   "cell_type": "code",
   "execution_count": 55,
   "metadata": {},
   "outputs": [
    {
     "data": {
      "image/png": "[encoded data removed]",
      "text/plain": [
       "<Figure size 432x288 with 1 Axes>"
      ]
     },
     "metadata": {
      "needs_background": "light"
     },
     "output_type": "display_data"
    }
   ],
   "source": [
    "plt.bar(numfeatures, pca.explained_variance_)\n",
    "plt.xticks(numfeatures)\n",
    "plt.xlabel('features')\n",
    "plt.ylabel('explained variance')\n",
    "plt.show()"
   ]
  },
  {
   "cell_type": "markdown",
   "metadata": {},
   "source": [
    "From the plots, let's use n_components = 4. "
   ]
  },
  {
   "cell_type": "code",
   "execution_count": 56,
   "metadata": {},
   "outputs": [],
   "source": [
    "pca = PCA(n_components=4)\n",
    "pca.fit(features.values)\n",
    "features = pca.transform(features.values)"
   ]
  },
  {
   "cell_type": "code",
   "execution_count": 57,
   "metadata": {},
   "outputs": [
    {
     "data": {
      "text/plain": [
       "(115, 4)"
      ]
     },
     "execution_count": 57,
     "metadata": {},
     "output_type": "execute_result"
    }
   ],
   "source": [
    "df = pd.DataFrame(features)\n",
    "df.shape"
   ]
  },
  {
   "cell_type": "code",
   "execution_count": 58,
   "metadata": {},
   "outputs": [
    {
     "data": {
      "text/plain": [
       "(115, 41)"
      ]
     },
     "execution_count": 58,
     "metadata": {},
     "output_type": "execute_result"
    }
   ],
   "source": [
    "reduced_X_train.shape"
   ]
  },
  {
   "cell_type": "code",
   "execution_count": 59,
   "metadata": {},
   "outputs": [],
   "source": [
    "reduced_X_train = reduced_X_train[reduced_X_train.columns[~reduced_X_train.columns.isin(colnames)]]"
   ]
  },
  {
   "cell_type": "code",
   "execution_count": 60,
   "metadata": {},
   "outputs": [
    {
     "data": {
      "text/plain": [
       "(115, 13)"
      ]
     },
     "execution_count": 60,
     "metadata": {},
     "output_type": "execute_result"
    }
   ],
   "source": [
    "reduced_X_train.shape"
   ]
  },
  {
   "cell_type": "code",
   "execution_count": 61,
   "metadata": {},
   "outputs": [],
   "source": [
    "reduced_X_train = pd.concat([reduced_X_train.reset_index(drop=True), df.reset_index(drop=True)], axis = 1)"
   ]
  },
  {
   "cell_type": "code",
   "execution_count": 62,
   "metadata": {},
   "outputs": [
    {
     "data": {
      "text/plain": [
       "(115, 17)"
      ]
     },
     "execution_count": 62,
     "metadata": {},
     "output_type": "execute_result"
    }
   ],
   "source": [
    "reduced_X_train.shape"
   ]
  },
  {
   "cell_type": "markdown",
   "metadata": {},
   "source": [
    "## 4.8 Transformation of test data <a id='4.6_Train/Test_Split'></a>"
   ]
  },
  {
   "cell_type": "markdown",
   "metadata": {},
   "source": [
    "First, let's use the previously fit scaling tool to scale the test data. "
   ]
  },
  {
   "cell_type": "code",
   "execution_count": 63,
   "metadata": {},
   "outputs": [],
   "source": [
    "# create a copy of df\n",
    "scaled_X_test = X_test.copy()\n",
    "# create list of columns to be transformed\n",
    "colnames = ['beds', 'baths', 'value', 'sqft', 'percentFreeDiscLunch',\n",
    "        'percentofAfricanAmericanStudents', 'percentofAsianStudents',\n",
    "        'percentofHispanicStudents', 'percentofIndianStudents',\n",
    "        'percentofPacificIslanderStudents', 'percentofTwoOrMoreRaceStudents',\n",
    "        'percentofWhiteStudents', 'rankMovement']\n",
    "features = scaled_X_test[colnames]\n",
    "features = valSqftscaler.transform(features.values)"
   ]
  },
  {
   "cell_type": "code",
   "execution_count": 64,
   "metadata": {},
   "outputs": [
    {
     "data": {
      "text/plain": [
       "(51, 41)"
      ]
     },
     "execution_count": 64,
     "metadata": {},
     "output_type": "execute_result"
    }
   ],
   "source": [
    "scaled_X_test[colnames] = features\n",
    "scaled_X_test.shape"
   ]
  },
  {
   "cell_type": "markdown",
   "metadata": {},
   "source": [
    "Now perform the dimensionality reduction."
   ]
  },
  {
   "cell_type": "code",
   "execution_count": 65,
   "metadata": {},
   "outputs": [],
   "source": [
    "# create a copy of df\n",
    "reduced_X_test = scaled_X_test.copy()\n",
    "# create list of columns to be transformed\n",
    "colnames = ['City_Aurora',\n",
    "       'City_Brighton', 'City_Broomfield', 'City_Castle Pines',\n",
    "       'City_Castle Rock', 'City_Centennial', 'City_Commerce City',\n",
    "       'City_Denver', 'City_Erie', 'City_Henderson', 'City_Highlands Ranch',\n",
    "       'City_Lakewood', 'City_Littleton', 'City_Morrison', 'City_Northglenn',\n",
    "       'City_Parker', 'City_Thornton', 'City_Westminster',\n",
    "       'District_Adams-Arapahoe 28J School District',\n",
    "       'District_Brighton 27J School District',\n",
    "       'District_Cherry Creek 5 School District',\n",
    "       'District_Denver County 1 School District',\n",
    "       'District_Douglas County RE 1 School District',\n",
    "       'District_Jefferson County R-1 School District',\n",
    "       'District_Littleton 6 School District',\n",
    "       'District_Mapleton 1 School District',\n",
    "       'District_St. Vrain Valley RE 1J School District',\n",
    "       'District_Westminster 50 School District']\n",
    "features = reduced_X_test[colnames]\n"
   ]
  },
  {
   "cell_type": "code",
   "execution_count": 66,
   "metadata": {},
   "outputs": [
    {
     "data": {
      "text/plain": [
       "PCA(n_components=4)"
      ]
     },
     "execution_count": 66,
     "metadata": {},
     "output_type": "execute_result"
    }
   ],
   "source": [
    "pca"
   ]
  },
  {
   "cell_type": "code",
   "execution_count": 67,
   "metadata": {},
   "outputs": [],
   "source": [
    "# Transform the test set\n",
    "features = pca.transform(features.values)"
   ]
  },
  {
   "cell_type": "code",
   "execution_count": 68,
   "metadata": {},
   "outputs": [],
   "source": [
    "# Remove all the columns affected by PCA\n",
    "reduced_X_test = reduced_X_test[reduced_X_test.columns[~reduced_X_test.columns.isin(colnames)]]"
   ]
  },
  {
   "cell_type": "code",
   "execution_count": 69,
   "metadata": {},
   "outputs": [
    {
     "data": {
      "text/plain": [
       "(51, 13)"
      ]
     },
     "execution_count": 69,
     "metadata": {},
     "output_type": "execute_result"
    }
   ],
   "source": [
    "reduced_X_test.shape"
   ]
  },
  {
   "cell_type": "code",
   "execution_count": 70,
   "metadata": {},
   "outputs": [],
   "source": [
    "# make temp df from features, makes code more readable during concatenation\n",
    "df = pd.DataFrame(features)\n",
    "# Concat data from feature reduction to test data\n",
    "reduced_X_test = pd.concat([reduced_X_test.reset_index(drop=True), df.reset_index(drop=True)], axis = 1)"
   ]
  },
  {
   "cell_type": "code",
   "execution_count": 71,
   "metadata": {},
   "outputs": [
    {
     "data": {
      "text/plain": [
       "(51, 17)"
      ]
     },
     "execution_count": 71,
     "metadata": {},
     "output_type": "execute_result"
    }
   ],
   "source": [
    "reduced_X_test.shape"
   ]
  },
  {
   "cell_type": "code",
   "execution_count": null,
   "metadata": {},
   "outputs": [],
   "source": []
  }
 ],
 "metadata": {
  "kernelspec": {
   "display_name": "Python 3",
   "language": "python",
   "name": "python3"
  },
  "language_info": {
   "codemirror_mode": {
    "name": "ipython",
    "version": 3
   },
   "file_extension": ".py",
   "mimetype": "text/x-python",
   "name": "python",
   "nbconvert_exporter": "python",
   "pygments_lexer": "ipython3",
   "version": "3.8.10"
  },
  "toc": {
   "base_numbering": 1,
   "nav_menu": {},
   "number_sections": true,
   "sideBar": true,
   "skip_h1_title": false,
   "title_cell": "Table of Contents",
   "title_sidebar": "Contents",
   "toc_cell": false,
   "toc_position": {},
   "toc_section_display": true,
   "toc_window_display": true
  },
  "varInspector": {
   "cols": {
    "lenName": 16,
    "lenType": 16,
    "lenVar": 40
   },
   "kernels_config": {
    "python": {
     "delete_cmd_postfix": "",
     "delete_cmd_prefix": "del ",
     "library": "var_list.py",
     "varRefreshCmd": "print(var_dic_list())"
    },
    "r": {
     "delete_cmd_postfix": ") ",
     "delete_cmd_prefix": "rm(",
     "library": "var_list.r",
     "varRefreshCmd": "cat(var_dic_list()) "
    }
   },
   "types_to_exclude": [
    "module",
    "function",
    "builtin_function_or_method",
    "instance",
    "_Feature"
   ],
   "window_display": false
  }
 },
 "nbformat": 4,
 "nbformat_minor": 4
}
