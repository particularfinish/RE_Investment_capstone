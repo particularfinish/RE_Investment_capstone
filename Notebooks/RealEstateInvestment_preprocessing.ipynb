{
 "cells": [
  {
   "cell_type": "markdown",
   "metadata": {},
   "source": [
    "# 4 Pre-Processing Data<a id='4_Pre-Processing_and_Training_Data'></a>"
   ]
  },
  {
   "cell_type": "markdown",
   "metadata": {},
   "source": [
    "## 4.1 Introduction<a id='4.2_Introduction'></a>"
   ]
  },
  {
   "cell_type": "markdown",
   "metadata": {},
   "source": [
    "In preceding notebooks, we performed preliminary assessments of data quality and refined the question to be answered. We determined that predicting market rent is the primary aim. That market rent can be applied to a Return-on-Investment calculation for each house for sale, determining whether or not that house would make a good investment on some ROI threshold. \n",
    "\n",
    "Before we can develop a predictive model, we need to encode categoricals, scale, and reduce dimensionality."
   ]
  },
  {
   "cell_type": "markdown",
   "metadata": {},
   "source": [
    "## 4.2 Imports<a id='4.3_Imports'></a>"
   ]
  },
  {
   "cell_type": "code",
   "execution_count": 326,
   "metadata": {},
   "outputs": [],
   "source": [
    "import pandas as pd\n",
    "import numpy as np\n",
    "import os\n",
    "import pickle\n",
    "import matplotlib.pyplot as plt\n",
    "import seaborn as sns\n",
    "from sklearn import __version__ as sklearn_version\n",
    "from sklearn.decomposition import PCA\n",
    "from sklearn.preprocessing import scale\n",
    "from sklearn.model_selection import train_test_split, cross_validate, GridSearchCV, learning_curve\n",
    "from sklearn.preprocessing import StandardScaler, MinMaxScaler\n",
    "from sklearn.dummy import DummyRegressor\n",
    "from sklearn.linear_model import LinearRegression\n",
    "from sklearn.ensemble import RandomForestRegressor\n",
    "from sklearn.metrics import r2_score, mean_squared_error, mean_absolute_error\n",
    "from sklearn.pipeline import make_pipeline\n",
    "from sklearn.impute import SimpleImputer\n",
    "from sklearn.feature_selection import SelectKBest, f_regression\n",
    "from sklearn.compose import ColumnTransformer\n",
    "import datetime\n",
    "import math\n",
    "\n",
    "from library.sb_utils import save_file"
   ]
  },
  {
   "cell_type": "markdown",
   "metadata": {},
   "source": [
    "## 4.3 Load Data<a id='4.4_Load_Data'></a>"
   ]
  },
  {
   "cell_type": "code",
   "execution_count": 327,
   "metadata": {
    "scrolled": true
   },
   "outputs": [
    {
     "data": {
      "text/html": [
       "<div>\n",
       "<style scoped>\n",
       "    .dataframe tbody tr th:only-of-type {\n",
       "        vertical-align: middle;\n",
       "    }\n",
       "\n",
       "    .dataframe tbody tr th {\n",
       "        vertical-align: top;\n",
       "    }\n",
       "\n",
       "    .dataframe thead th {\n",
       "        text-align: right;\n",
       "    }\n",
       "</style>\n",
       "<table border=\"1\" class=\"dataframe\">\n",
       "  <thead>\n",
       "    <tr style=\"text-align: right;\">\n",
       "      <th></th>\n",
       "      <th>0</th>\n",
       "      <th>1</th>\n",
       "      <th>2</th>\n",
       "      <th>3</th>\n",
       "      <th>4</th>\n",
       "    </tr>\n",
       "  </thead>\n",
       "  <tbody>\n",
       "    <tr>\n",
       "      <th>property_code</th>\n",
       "      <td>10000753</td>\n",
       "      <td>10000801</td>\n",
       "      <td>10000898</td>\n",
       "      <td>10000946</td>\n",
       "      <td>10001199</td>\n",
       "    </tr>\n",
       "    <tr>\n",
       "      <th>address</th>\n",
       "      <td>10627 Kittredge St</td>\n",
       "      <td>10705 Clermont St</td>\n",
       "      <td>10874 Fairfax Way</td>\n",
       "      <td>10944 Bellaire Way</td>\n",
       "      <td>11120 Sylvan Pl</td>\n",
       "    </tr>\n",
       "    <tr>\n",
       "      <th>city</th>\n",
       "      <td>Commerce City</td>\n",
       "      <td>Thornton</td>\n",
       "      <td>Thornton</td>\n",
       "      <td>Thornton</td>\n",
       "      <td>Parker</td>\n",
       "    </tr>\n",
       "    <tr>\n",
       "      <th>state</th>\n",
       "      <td>CO</td>\n",
       "      <td>CO</td>\n",
       "      <td>CO</td>\n",
       "      <td>CO</td>\n",
       "      <td>CO</td>\n",
       "    </tr>\n",
       "    <tr>\n",
       "      <th>zipcode</th>\n",
       "      <td>80022</td>\n",
       "      <td>80233</td>\n",
       "      <td>80233</td>\n",
       "      <td>80233</td>\n",
       "      <td>80138</td>\n",
       "    </tr>\n",
       "    <tr>\n",
       "      <th>beds</th>\n",
       "      <td>3</td>\n",
       "      <td>3</td>\n",
       "      <td>4</td>\n",
       "      <td>4</td>\n",
       "      <td>3</td>\n",
       "    </tr>\n",
       "    <tr>\n",
       "      <th>baths</th>\n",
       "      <td>2.5</td>\n",
       "      <td>2.0</td>\n",
       "      <td>2.0</td>\n",
       "      <td>2.0</td>\n",
       "      <td>2.0</td>\n",
       "    </tr>\n",
       "    <tr>\n",
       "      <th>sqft</th>\n",
       "      <td>1993</td>\n",
       "      <td>1544</td>\n",
       "      <td>1904</td>\n",
       "      <td>1800</td>\n",
       "      <td>1387</td>\n",
       "    </tr>\n",
       "    <tr>\n",
       "      <th>market_rent</th>\n",
       "      <td>2939.0</td>\n",
       "      <td>2529.0</td>\n",
       "      <td>2599.0</td>\n",
       "      <td>2485.0</td>\n",
       "      <td>2549.0</td>\n",
       "    </tr>\n",
       "    <tr>\n",
       "      <th>lat</th>\n",
       "      <td>39.88982</td>\n",
       "      <td>39.89058</td>\n",
       "      <td>39.89348</td>\n",
       "      <td>39.89548</td>\n",
       "      <td>39.51228</td>\n",
       "    </tr>\n",
       "    <tr>\n",
       "      <th>lng</th>\n",
       "      <td>-104.80151</td>\n",
       "      <td>-104.93351</td>\n",
       "      <td>-104.92838</td>\n",
       "      <td>-104.93625</td>\n",
       "      <td>-104.74424</td>\n",
       "    </tr>\n",
       "    <tr>\n",
       "      <th>districtMatch</th>\n",
       "      <td>Brighton 27J School District</td>\n",
       "      <td>Adams 12 Five Star Schools</td>\n",
       "      <td>Adams 12 Five Star Schools</td>\n",
       "      <td>Adams 12 Five Star Schools</td>\n",
       "      <td>Douglas County RE 1 School District</td>\n",
       "    </tr>\n",
       "    <tr>\n",
       "      <th>estimatedValue</th>\n",
       "      <td>473955.0</td>\n",
       "      <td>419002.45</td>\n",
       "      <td>424920.0</td>\n",
       "      <td>409695.0</td>\n",
       "      <td>540525.0</td>\n",
       "    </tr>\n",
       "    <tr>\n",
       "      <th>percentFreeDiscLunch</th>\n",
       "      <td>44.03</td>\n",
       "      <td>47.39</td>\n",
       "      <td>47.39</td>\n",
       "      <td>47.39</td>\n",
       "      <td>10.78</td>\n",
       "    </tr>\n",
       "    <tr>\n",
       "      <th>percentofAfricanAmericanStudents</th>\n",
       "      <td>2.2</td>\n",
       "      <td>1.91</td>\n",
       "      <td>1.91</td>\n",
       "      <td>1.91</td>\n",
       "      <td>1.29</td>\n",
       "    </tr>\n",
       "    <tr>\n",
       "      <th>percentofAsianStudents</th>\n",
       "      <td>2.92</td>\n",
       "      <td>4.73</td>\n",
       "      <td>4.73</td>\n",
       "      <td>4.73</td>\n",
       "      <td>4.64</td>\n",
       "    </tr>\n",
       "    <tr>\n",
       "      <th>percentofHispanicStudents</th>\n",
       "      <td>53.74</td>\n",
       "      <td>47.0</td>\n",
       "      <td>47.0</td>\n",
       "      <td>47.0</td>\n",
       "      <td>13.59</td>\n",
       "    </tr>\n",
       "    <tr>\n",
       "      <th>percentofIndianStudents</th>\n",
       "      <td>0.31</td>\n",
       "      <td>0.55</td>\n",
       "      <td>0.55</td>\n",
       "      <td>0.55</td>\n",
       "      <td>0.41</td>\n",
       "    </tr>\n",
       "    <tr>\n",
       "      <th>percentofPacificIslanderStudents</th>\n",
       "      <td>0.17</td>\n",
       "      <td>0.14</td>\n",
       "      <td>0.14</td>\n",
       "      <td>0.14</td>\n",
       "      <td>0.11</td>\n",
       "    </tr>\n",
       "    <tr>\n",
       "      <th>percentofTwoOrMoreRaceStudents</th>\n",
       "      <td>3.0</td>\n",
       "      <td>3.32</td>\n",
       "      <td>3.32</td>\n",
       "      <td>3.32</td>\n",
       "      <td>5.69</td>\n",
       "    </tr>\n",
       "    <tr>\n",
       "      <th>percentofWhiteStudents</th>\n",
       "      <td>37.65</td>\n",
       "      <td>42.36</td>\n",
       "      <td>42.36</td>\n",
       "      <td>42.36</td>\n",
       "      <td>74.28</td>\n",
       "    </tr>\n",
       "    <tr>\n",
       "      <th>rankMovement</th>\n",
       "      <td>-48.06</td>\n",
       "      <td>-23.4</td>\n",
       "      <td>-23.4</td>\n",
       "      <td>-23.4</td>\n",
       "      <td>10.24</td>\n",
       "    </tr>\n",
       "  </tbody>\n",
       "</table>\n",
       "</div>"
      ],
      "text/plain": [
       "                                                             0  \\\n",
       "property_code                                         10000753   \n",
       "address                                     10627 Kittredge St   \n",
       "city                                             Commerce City   \n",
       "state                                                       CO   \n",
       "zipcode                                                  80022   \n",
       "beds                                                         3   \n",
       "baths                                                      2.5   \n",
       "sqft                                                      1993   \n",
       "market_rent                                             2939.0   \n",
       "lat                                                   39.88982   \n",
       "lng                                                 -104.80151   \n",
       "districtMatch                     Brighton 27J School District   \n",
       "estimatedValue                                        473955.0   \n",
       "percentFreeDiscLunch                                     44.03   \n",
       "percentofAfricanAmericanStudents                           2.2   \n",
       "percentofAsianStudents                                    2.92   \n",
       "percentofHispanicStudents                                53.74   \n",
       "percentofIndianStudents                                   0.31   \n",
       "percentofPacificIslanderStudents                          0.17   \n",
       "percentofTwoOrMoreRaceStudents                             3.0   \n",
       "percentofWhiteStudents                                   37.65   \n",
       "rankMovement                                            -48.06   \n",
       "\n",
       "                                                           1  \\\n",
       "property_code                                       10000801   \n",
       "address                                    10705 Clermont St   \n",
       "city                                                Thornton   \n",
       "state                                                     CO   \n",
       "zipcode                                                80233   \n",
       "beds                                                       3   \n",
       "baths                                                    2.0   \n",
       "sqft                                                    1544   \n",
       "market_rent                                           2529.0   \n",
       "lat                                                 39.89058   \n",
       "lng                                               -104.93351   \n",
       "districtMatch                     Adams 12 Five Star Schools   \n",
       "estimatedValue                                     419002.45   \n",
       "percentFreeDiscLunch                                   47.39   \n",
       "percentofAfricanAmericanStudents                        1.91   \n",
       "percentofAsianStudents                                  4.73   \n",
       "percentofHispanicStudents                               47.0   \n",
       "percentofIndianStudents                                 0.55   \n",
       "percentofPacificIslanderStudents                        0.14   \n",
       "percentofTwoOrMoreRaceStudents                          3.32   \n",
       "percentofWhiteStudents                                 42.36   \n",
       "rankMovement                                           -23.4   \n",
       "\n",
       "                                                           2  \\\n",
       "property_code                                       10000898   \n",
       "address                                    10874 Fairfax Way   \n",
       "city                                                Thornton   \n",
       "state                                                     CO   \n",
       "zipcode                                                80233   \n",
       "beds                                                       4   \n",
       "baths                                                    2.0   \n",
       "sqft                                                    1904   \n",
       "market_rent                                           2599.0   \n",
       "lat                                                 39.89348   \n",
       "lng                                               -104.92838   \n",
       "districtMatch                     Adams 12 Five Star Schools   \n",
       "estimatedValue                                      424920.0   \n",
       "percentFreeDiscLunch                                   47.39   \n",
       "percentofAfricanAmericanStudents                        1.91   \n",
       "percentofAsianStudents                                  4.73   \n",
       "percentofHispanicStudents                               47.0   \n",
       "percentofIndianStudents                                 0.55   \n",
       "percentofPacificIslanderStudents                        0.14   \n",
       "percentofTwoOrMoreRaceStudents                          3.32   \n",
       "percentofWhiteStudents                                 42.36   \n",
       "rankMovement                                           -23.4   \n",
       "\n",
       "                                                           3  \\\n",
       "property_code                                       10000946   \n",
       "address                                   10944 Bellaire Way   \n",
       "city                                                Thornton   \n",
       "state                                                     CO   \n",
       "zipcode                                                80233   \n",
       "beds                                                       4   \n",
       "baths                                                    2.0   \n",
       "sqft                                                    1800   \n",
       "market_rent                                           2485.0   \n",
       "lat                                                 39.89548   \n",
       "lng                                               -104.93625   \n",
       "districtMatch                     Adams 12 Five Star Schools   \n",
       "estimatedValue                                      409695.0   \n",
       "percentFreeDiscLunch                                   47.39   \n",
       "percentofAfricanAmericanStudents                        1.91   \n",
       "percentofAsianStudents                                  4.73   \n",
       "percentofHispanicStudents                               47.0   \n",
       "percentofIndianStudents                                 0.55   \n",
       "percentofPacificIslanderStudents                        0.14   \n",
       "percentofTwoOrMoreRaceStudents                          3.32   \n",
       "percentofWhiteStudents                                 42.36   \n",
       "rankMovement                                           -23.4   \n",
       "\n",
       "                                                                    4  \n",
       "property_code                                                10001199  \n",
       "address                                               11120 Sylvan Pl  \n",
       "city                                                           Parker  \n",
       "state                                                              CO  \n",
       "zipcode                                                         80138  \n",
       "beds                                                                3  \n",
       "baths                                                             2.0  \n",
       "sqft                                                             1387  \n",
       "market_rent                                                    2549.0  \n",
       "lat                                                          39.51228  \n",
       "lng                                                        -104.74424  \n",
       "districtMatch                     Douglas County RE 1 School District  \n",
       "estimatedValue                                               540525.0  \n",
       "percentFreeDiscLunch                                            10.78  \n",
       "percentofAfricanAmericanStudents                                 1.29  \n",
       "percentofAsianStudents                                           4.64  \n",
       "percentofHispanicStudents                                       13.59  \n",
       "percentofIndianStudents                                          0.41  \n",
       "percentofPacificIslanderStudents                                 0.11  \n",
       "percentofTwoOrMoreRaceStudents                                   5.69  \n",
       "percentofWhiteStudents                                          74.28  \n",
       "rankMovement                                                    10.24  "
      ]
     },
     "execution_count": 327,
     "metadata": {},
     "output_type": "execute_result"
    }
   ],
   "source": [
    "corporate_data = pd.read_csv('../data/corporate_properties_values_Demo.csv')\n",
    "corporate_data.head().T"
   ]
  },
  {
   "cell_type": "code",
   "execution_count": 328,
   "metadata": {},
   "outputs": [
    {
     "data": {
      "text/plain": [
       "(170, 22)"
      ]
     },
     "execution_count": 328,
     "metadata": {},
     "output_type": "execute_result"
    }
   ],
   "source": [
    "corporate_data.shape"
   ]
  },
  {
   "cell_type": "code",
   "execution_count": 329,
   "metadata": {},
   "outputs": [
    {
     "data": {
      "text/html": [
       "<div>\n",
       "<style scoped>\n",
       "    .dataframe tbody tr th:only-of-type {\n",
       "        vertical-align: middle;\n",
       "    }\n",
       "\n",
       "    .dataframe tbody tr th {\n",
       "        vertical-align: top;\n",
       "    }\n",
       "\n",
       "    .dataframe thead th {\n",
       "        text-align: right;\n",
       "    }\n",
       "</style>\n",
       "<table border=\"1\" class=\"dataframe\">\n",
       "  <thead>\n",
       "    <tr style=\"text-align: right;\">\n",
       "      <th></th>\n",
       "      <th>0</th>\n",
       "      <th>1</th>\n",
       "      <th>2</th>\n",
       "      <th>3</th>\n",
       "      <th>4</th>\n",
       "    </tr>\n",
       "  </thead>\n",
       "  <tbody>\n",
       "    <tr>\n",
       "      <th>address</th>\n",
       "      <td>5211 Willow Way</td>\n",
       "      <td>3547 S Ivanhoe Street</td>\n",
       "      <td>1128 S Jackson Street</td>\n",
       "      <td>2585 N Holly Street</td>\n",
       "      <td>1193 S Clarkson Street</td>\n",
       "    </tr>\n",
       "    <tr>\n",
       "      <th>city</th>\n",
       "      <td>Denver</td>\n",
       "      <td>Denver</td>\n",
       "      <td>Denver</td>\n",
       "      <td>Denver</td>\n",
       "      <td>Denver</td>\n",
       "    </tr>\n",
       "    <tr>\n",
       "      <th>zip</th>\n",
       "      <td>80238</td>\n",
       "      <td>80237</td>\n",
       "      <td>80210</td>\n",
       "      <td>80207</td>\n",
       "      <td>80210</td>\n",
       "    </tr>\n",
       "    <tr>\n",
       "      <th>beds</th>\n",
       "      <td>4.0</td>\n",
       "      <td>5.0</td>\n",
       "      <td>2.0</td>\n",
       "      <td>4.0</td>\n",
       "      <td>4.0</td>\n",
       "    </tr>\n",
       "    <tr>\n",
       "      <th>baths</th>\n",
       "      <td>4.0</td>\n",
       "      <td>4.0</td>\n",
       "      <td>2.0</td>\n",
       "      <td>2.0</td>\n",
       "      <td>2.0</td>\n",
       "    </tr>\n",
       "    <tr>\n",
       "      <th>sqft</th>\n",
       "      <td>2773</td>\n",
       "      <td>3269</td>\n",
       "      <td>1595</td>\n",
       "      <td>1795</td>\n",
       "      <td>2177</td>\n",
       "    </tr>\n",
       "    <tr>\n",
       "      <th>listPrice</th>\n",
       "      <td>750000</td>\n",
       "      <td>750000</td>\n",
       "      <td>750000</td>\n",
       "      <td>750000</td>\n",
       "      <td>750000</td>\n",
       "    </tr>\n",
       "    <tr>\n",
       "      <th>taxes</th>\n",
       "      <td>5431</td>\n",
       "      <td>2919</td>\n",
       "      <td>2935</td>\n",
       "      <td>2877</td>\n",
       "      <td>3038</td>\n",
       "    </tr>\n",
       "    <tr>\n",
       "      <th>lat</th>\n",
       "      <td>39.792285</td>\n",
       "      <td>39.651669</td>\n",
       "      <td>39.696093</td>\n",
       "      <td>39.754414</td>\n",
       "      <td>39.694933</td>\n",
       "    </tr>\n",
       "    <tr>\n",
       "      <th>lng</th>\n",
       "      <td>-104.886263</td>\n",
       "      <td>-104.922119</td>\n",
       "      <td>-104.943268</td>\n",
       "      <td>-104.922607</td>\n",
       "      <td>-104.978287</td>\n",
       "    </tr>\n",
       "    <tr>\n",
       "      <th>monthly_hoa</th>\n",
       "      <td>43.0</td>\n",
       "      <td>0.0</td>\n",
       "      <td>0.0</td>\n",
       "      <td>0.0</td>\n",
       "      <td>0.0</td>\n",
       "    </tr>\n",
       "    <tr>\n",
       "      <th>districtMatch</th>\n",
       "      <td>Denver County 1 School District</td>\n",
       "      <td>Denver County 1 School District</td>\n",
       "      <td>Denver County 1 School District</td>\n",
       "      <td>Denver County 1 School District</td>\n",
       "      <td>Denver County 1 School District</td>\n",
       "    </tr>\n",
       "    <tr>\n",
       "      <th>percentFreeDiscLunch</th>\n",
       "      <td>65.04</td>\n",
       "      <td>65.04</td>\n",
       "      <td>65.04</td>\n",
       "      <td>65.04</td>\n",
       "      <td>65.04</td>\n",
       "    </tr>\n",
       "    <tr>\n",
       "      <th>percentofAfricanAmericanStudents</th>\n",
       "      <td>12.19</td>\n",
       "      <td>12.19</td>\n",
       "      <td>12.19</td>\n",
       "      <td>12.19</td>\n",
       "      <td>12.19</td>\n",
       "    </tr>\n",
       "    <tr>\n",
       "      <th>percentofAsianStudents</th>\n",
       "      <td>2.77</td>\n",
       "      <td>2.77</td>\n",
       "      <td>2.77</td>\n",
       "      <td>2.77</td>\n",
       "      <td>2.77</td>\n",
       "    </tr>\n",
       "    <tr>\n",
       "      <th>percentofHispanicStudents</th>\n",
       "      <td>53.59</td>\n",
       "      <td>53.59</td>\n",
       "      <td>53.59</td>\n",
       "      <td>53.59</td>\n",
       "      <td>53.59</td>\n",
       "    </tr>\n",
       "    <tr>\n",
       "      <th>percentofIndianStudents</th>\n",
       "      <td>0.71</td>\n",
       "      <td>0.71</td>\n",
       "      <td>0.71</td>\n",
       "      <td>0.71</td>\n",
       "      <td>0.71</td>\n",
       "    </tr>\n",
       "    <tr>\n",
       "      <th>percentofPacificIslanderStudents</th>\n",
       "      <td>0.4</td>\n",
       "      <td>0.4</td>\n",
       "      <td>0.4</td>\n",
       "      <td>0.4</td>\n",
       "      <td>0.4</td>\n",
       "    </tr>\n",
       "    <tr>\n",
       "      <th>percentofTwoOrMoreRaceStudents</th>\n",
       "      <td>3.71</td>\n",
       "      <td>3.71</td>\n",
       "      <td>3.71</td>\n",
       "      <td>3.71</td>\n",
       "      <td>3.71</td>\n",
       "    </tr>\n",
       "    <tr>\n",
       "      <th>percentofWhiteStudents</th>\n",
       "      <td>26.62</td>\n",
       "      <td>26.62</td>\n",
       "      <td>26.62</td>\n",
       "      <td>26.62</td>\n",
       "      <td>26.62</td>\n",
       "    </tr>\n",
       "    <tr>\n",
       "      <th>rankMovement</th>\n",
       "      <td>-34.32</td>\n",
       "      <td>-34.32</td>\n",
       "      <td>-34.32</td>\n",
       "      <td>-34.32</td>\n",
       "      <td>-34.32</td>\n",
       "    </tr>\n",
       "  </tbody>\n",
       "</table>\n",
       "</div>"
      ],
      "text/plain": [
       "                                                                0  \\\n",
       "address                                           5211 Willow Way   \n",
       "city                                                       Denver   \n",
       "zip                                                         80238   \n",
       "beds                                                          4.0   \n",
       "baths                                                         4.0   \n",
       "sqft                                                         2773   \n",
       "listPrice                                                  750000   \n",
       "taxes                                                        5431   \n",
       "lat                                                     39.792285   \n",
       "lng                                                   -104.886263   \n",
       "monthly_hoa                                                  43.0   \n",
       "districtMatch                     Denver County 1 School District   \n",
       "percentFreeDiscLunch                                        65.04   \n",
       "percentofAfricanAmericanStudents                            12.19   \n",
       "percentofAsianStudents                                       2.77   \n",
       "percentofHispanicStudents                                   53.59   \n",
       "percentofIndianStudents                                      0.71   \n",
       "percentofPacificIslanderStudents                              0.4   \n",
       "percentofTwoOrMoreRaceStudents                               3.71   \n",
       "percentofWhiteStudents                                      26.62   \n",
       "rankMovement                                               -34.32   \n",
       "\n",
       "                                                                1  \\\n",
       "address                                     3547 S Ivanhoe Street   \n",
       "city                                                       Denver   \n",
       "zip                                                         80237   \n",
       "beds                                                          5.0   \n",
       "baths                                                         4.0   \n",
       "sqft                                                         3269   \n",
       "listPrice                                                  750000   \n",
       "taxes                                                        2919   \n",
       "lat                                                     39.651669   \n",
       "lng                                                   -104.922119   \n",
       "monthly_hoa                                                   0.0   \n",
       "districtMatch                     Denver County 1 School District   \n",
       "percentFreeDiscLunch                                        65.04   \n",
       "percentofAfricanAmericanStudents                            12.19   \n",
       "percentofAsianStudents                                       2.77   \n",
       "percentofHispanicStudents                                   53.59   \n",
       "percentofIndianStudents                                      0.71   \n",
       "percentofPacificIslanderStudents                              0.4   \n",
       "percentofTwoOrMoreRaceStudents                               3.71   \n",
       "percentofWhiteStudents                                      26.62   \n",
       "rankMovement                                               -34.32   \n",
       "\n",
       "                                                                2  \\\n",
       "address                                     1128 S Jackson Street   \n",
       "city                                                       Denver   \n",
       "zip                                                         80210   \n",
       "beds                                                          2.0   \n",
       "baths                                                         2.0   \n",
       "sqft                                                         1595   \n",
       "listPrice                                                  750000   \n",
       "taxes                                                        2935   \n",
       "lat                                                     39.696093   \n",
       "lng                                                   -104.943268   \n",
       "monthly_hoa                                                   0.0   \n",
       "districtMatch                     Denver County 1 School District   \n",
       "percentFreeDiscLunch                                        65.04   \n",
       "percentofAfricanAmericanStudents                            12.19   \n",
       "percentofAsianStudents                                       2.77   \n",
       "percentofHispanicStudents                                   53.59   \n",
       "percentofIndianStudents                                      0.71   \n",
       "percentofPacificIslanderStudents                              0.4   \n",
       "percentofTwoOrMoreRaceStudents                               3.71   \n",
       "percentofWhiteStudents                                      26.62   \n",
       "rankMovement                                               -34.32   \n",
       "\n",
       "                                                                3  \\\n",
       "address                                       2585 N Holly Street   \n",
       "city                                                       Denver   \n",
       "zip                                                         80207   \n",
       "beds                                                          4.0   \n",
       "baths                                                         2.0   \n",
       "sqft                                                         1795   \n",
       "listPrice                                                  750000   \n",
       "taxes                                                        2877   \n",
       "lat                                                     39.754414   \n",
       "lng                                                   -104.922607   \n",
       "monthly_hoa                                                   0.0   \n",
       "districtMatch                     Denver County 1 School District   \n",
       "percentFreeDiscLunch                                        65.04   \n",
       "percentofAfricanAmericanStudents                            12.19   \n",
       "percentofAsianStudents                                       2.77   \n",
       "percentofHispanicStudents                                   53.59   \n",
       "percentofIndianStudents                                      0.71   \n",
       "percentofPacificIslanderStudents                              0.4   \n",
       "percentofTwoOrMoreRaceStudents                               3.71   \n",
       "percentofWhiteStudents                                      26.62   \n",
       "rankMovement                                               -34.32   \n",
       "\n",
       "                                                                4  \n",
       "address                                    1193 S Clarkson Street  \n",
       "city                                                       Denver  \n",
       "zip                                                         80210  \n",
       "beds                                                          4.0  \n",
       "baths                                                         2.0  \n",
       "sqft                                                         2177  \n",
       "listPrice                                                  750000  \n",
       "taxes                                                        3038  \n",
       "lat                                                     39.694933  \n",
       "lng                                                   -104.978287  \n",
       "monthly_hoa                                                   0.0  \n",
       "districtMatch                     Denver County 1 School District  \n",
       "percentFreeDiscLunch                                        65.04  \n",
       "percentofAfricanAmericanStudents                            12.19  \n",
       "percentofAsianStudents                                       2.77  \n",
       "percentofHispanicStudents                                   53.59  \n",
       "percentofIndianStudents                                      0.71  \n",
       "percentofPacificIslanderStudents                              0.4  \n",
       "percentofTwoOrMoreRaceStudents                               3.71  \n",
       "percentofWhiteStudents                                      26.62  \n",
       "rankMovement                                               -34.32  "
      ]
     },
     "execution_count": 329,
     "metadata": {},
     "output_type": "execute_result"
    }
   ],
   "source": [
    "sale_data = pd.read_csv('../data/for_sale_Demo.csv')\n",
    "sale_data.head().T"
   ]
  },
  {
   "cell_type": "markdown",
   "metadata": {},
   "source": [
    "## 4.4 Manipulate Categorical Data <a id='4.5_Extract_Big_Mountain_Data'></a>"
   ]
  },
  {
   "cell_type": "markdown",
   "metadata": {},
   "source": [
    "Let's start with the corporate owned properties. \n",
    "All of the properties are in Colorado, the state column doesn't add any information, let's remove it. The property_code is a unique, discrete piece of information used only by the property owner, with no relationship to the dependent variable, so let's remove that too. "
   ]
  },
  {
   "cell_type": "code",
   "execution_count": 330,
   "metadata": {},
   "outputs": [],
   "source": [
    "# Drop uninformative 'state' and 'property_code' columns\n",
    "corporate_data = corporate_data.drop(['state', 'property_code'], axis=1)"
   ]
  },
  {
   "cell_type": "markdown",
   "metadata": {},
   "source": [
    "Let's rename a couple of features so they make sense across dataframes. Rename 'districtMatch' to 'district', and 'estimatedValue' to 'value'. We will do the same on the other dataframe once we begin pre-processing it. "
   ]
  },
  {
   "cell_type": "code",
   "execution_count": 331,
   "metadata": {},
   "outputs": [],
   "source": [
    "# Rename two columns in corporate data df\n",
    "cols = {'districtMatch':'district', 'estimatedValue':'value'}\n",
    "corporate_data = corporate_data.rename(columns=cols)"
   ]
  },
  {
   "cell_type": "code",
   "execution_count": 332,
   "metadata": {},
   "outputs": [],
   "source": [
    "# rename sale_data columns\n",
    "cols={'zip':'zipcode', 'listPrice':'value', 'districtMatch':'district'}\n",
    "sale_data = sale_data.rename(columns=cols)"
   ]
  },
  {
   "cell_type": "markdown",
   "metadata": {},
   "source": [
    "The 'city' column doesn't add any information. Instead, let's use some information to categorize the cities by household income. Data for 2019 is available on the US Census site. Import that data, add to both the corporate_data and sale_data records, and we will set aside the city column before doing the test/train split. \n",
    "\n",
    "Additionally, the *name* of the district doesn't add any information. For each district, we have already gathered some information on the school lunch program (an indicator of poverty in the community), the rank of the schools within the district, and the racial demographics."
   ]
  },
  {
   "cell_type": "code",
   "execution_count": 333,
   "metadata": {
    "scrolled": true
   },
   "outputs": [],
   "source": [
    "income = pd.read_csv('../data/City income.csv')\n",
    "income_T = income.T"
   ]
  },
  {
   "cell_type": "code",
   "execution_count": 334,
   "metadata": {},
   "outputs": [],
   "source": [
    "new_header = income_T.iloc[0] \n",
    "# take the rest of the data minus the header row\n",
    "income_T = income_T[1:] \n",
    "# set the header row as the df header\n",
    "income_T.columns = new_header \n",
    "income_T.rename(columns = {'Fact ':'City'}, inplace = True)"
   ]
  },
  {
   "cell_type": "code",
   "execution_count": 335,
   "metadata": {},
   "outputs": [
    {
     "data": {
      "text/plain": [
       "Index(['Median household income (in 2019 dollars), 2015-2019', 'Per capita income in past 12 months (in 2019 dollars), 2015-2019'], dtype='object', name='Fact')"
      ]
     },
     "execution_count": 335,
     "metadata": {},
     "output_type": "execute_result"
    }
   ],
   "source": [
    "income_T.columns"
   ]
  },
  {
   "cell_type": "code",
   "execution_count": 336,
   "metadata": {},
   "outputs": [],
   "source": [
    "income_T.drop(['Per capita income in past 12 months (in 2019 dollars), 2015-2019'], axis=1, inplace=True)"
   ]
  },
  {
   "cell_type": "code",
   "execution_count": null,
   "metadata": {},
   "outputs": [],
   "source": []
  },
  {
   "cell_type": "code",
   "execution_count": 337,
   "metadata": {},
   "outputs": [
    {
     "data": {
      "text/html": [
       "<div>\n",
       "<style scoped>\n",
       "    .dataframe tbody tr th:only-of-type {\n",
       "        vertical-align: middle;\n",
       "    }\n",
       "\n",
       "    .dataframe tbody tr th {\n",
       "        vertical-align: top;\n",
       "    }\n",
       "\n",
       "    .dataframe thead th {\n",
       "        text-align: right;\n",
       "    }\n",
       "</style>\n",
       "<table border=\"1\" class=\"dataframe\">\n",
       "  <thead>\n",
       "    <tr style=\"text-align: right;\">\n",
       "      <th></th>\n",
       "      <th>address</th>\n",
       "      <th>city</th>\n",
       "      <th>zipcode</th>\n",
       "      <th>beds</th>\n",
       "      <th>baths</th>\n",
       "      <th>sqft</th>\n",
       "      <th>market_rent</th>\n",
       "      <th>lat</th>\n",
       "      <th>lng</th>\n",
       "      <th>district</th>\n",
       "      <th>value</th>\n",
       "      <th>percentFreeDiscLunch</th>\n",
       "      <th>percentofAfricanAmericanStudents</th>\n",
       "      <th>percentofAsianStudents</th>\n",
       "      <th>percentofHispanicStudents</th>\n",
       "      <th>percentofIndianStudents</th>\n",
       "      <th>percentofPacificIslanderStudents</th>\n",
       "      <th>percentofTwoOrMoreRaceStudents</th>\n",
       "      <th>percentofWhiteStudents</th>\n",
       "      <th>rankMovement</th>\n",
       "    </tr>\n",
       "  </thead>\n",
       "  <tbody>\n",
       "    <tr>\n",
       "      <th>6</th>\n",
       "      <td>11375 Nome St</td>\n",
       "      <td>Henderson</td>\n",
       "      <td>80640</td>\n",
       "      <td>4</td>\n",
       "      <td>2.0</td>\n",
       "      <td>2087</td>\n",
       "      <td>2595.0</td>\n",
       "      <td>39.90208</td>\n",
       "      <td>-104.85186</td>\n",
       "      <td>Brighton 27J School District</td>\n",
       "      <td>471589.95</td>\n",
       "      <td>44.03</td>\n",
       "      <td>2.20</td>\n",
       "      <td>2.92</td>\n",
       "      <td>53.74</td>\n",
       "      <td>0.31</td>\n",
       "      <td>0.17</td>\n",
       "      <td>3.00</td>\n",
       "      <td>37.65</td>\n",
       "      <td>-48.06</td>\n",
       "    </tr>\n",
       "    <tr>\n",
       "      <th>59</th>\n",
       "      <td>11620 Oakland Dr</td>\n",
       "      <td>Henderson</td>\n",
       "      <td>80640</td>\n",
       "      <td>3</td>\n",
       "      <td>1.5</td>\n",
       "      <td>1420</td>\n",
       "      <td>2339.0</td>\n",
       "      <td>39.90825</td>\n",
       "      <td>-104.84968</td>\n",
       "      <td>Brighton 27J School District</td>\n",
       "      <td>425300.00</td>\n",
       "      <td>44.03</td>\n",
       "      <td>2.20</td>\n",
       "      <td>2.92</td>\n",
       "      <td>53.74</td>\n",
       "      <td>0.31</td>\n",
       "      <td>0.17</td>\n",
       "      <td>3.00</td>\n",
       "      <td>37.65</td>\n",
       "      <td>-48.06</td>\n",
       "    </tr>\n",
       "    <tr>\n",
       "      <th>97</th>\n",
       "      <td>11798 W Marlowe Ave</td>\n",
       "      <td>Morrison</td>\n",
       "      <td>80465</td>\n",
       "      <td>4</td>\n",
       "      <td>2.5</td>\n",
       "      <td>2404</td>\n",
       "      <td>2933.0</td>\n",
       "      <td>39.63200</td>\n",
       "      <td>-105.12900</td>\n",
       "      <td>Jefferson County R-1 School District</td>\n",
       "      <td>430457.50</td>\n",
       "      <td>37.16</td>\n",
       "      <td>1.45</td>\n",
       "      <td>2.89</td>\n",
       "      <td>26.14</td>\n",
       "      <td>0.62</td>\n",
       "      <td>0.14</td>\n",
       "      <td>4.07</td>\n",
       "      <td>64.70</td>\n",
       "      <td>-23.29</td>\n",
       "    </tr>\n",
       "  </tbody>\n",
       "</table>\n",
       "</div>"
      ],
      "text/plain": [
       "                address       city  zipcode  beds  baths  sqft  market_rent  \\\n",
       "6         11375 Nome St  Henderson    80640     4    2.0  2087       2595.0   \n",
       "59     11620 Oakland Dr  Henderson    80640     3    1.5  1420       2339.0   \n",
       "97  11798 W Marlowe Ave   Morrison    80465     4    2.5  2404       2933.0   \n",
       "\n",
       "         lat        lng                              district      value  \\\n",
       "6   39.90208 -104.85186          Brighton 27J School District  471589.95   \n",
       "59  39.90825 -104.84968          Brighton 27J School District  425300.00   \n",
       "97  39.63200 -105.12900  Jefferson County R-1 School District  430457.50   \n",
       "\n",
       "    percentFreeDiscLunch  percentofAfricanAmericanStudents  \\\n",
       "6                  44.03                              2.20   \n",
       "59                 44.03                              2.20   \n",
       "97                 37.16                              1.45   \n",
       "\n",
       "    percentofAsianStudents  percentofHispanicStudents  \\\n",
       "6                     2.92                      53.74   \n",
       "59                    2.92                      53.74   \n",
       "97                    2.89                      26.14   \n",
       "\n",
       "    percentofIndianStudents  percentofPacificIslanderStudents  \\\n",
       "6                      0.31                              0.17   \n",
       "59                     0.31                              0.17   \n",
       "97                     0.62                              0.14   \n",
       "\n",
       "    percentofTwoOrMoreRaceStudents  percentofWhiteStudents  rankMovement  \n",
       "6                             3.00                   37.65        -48.06  \n",
       "59                            3.00                   37.65        -48.06  \n",
       "97                            4.07                   64.70        -23.29  "
      ]
     },
     "execution_count": 337,
     "metadata": {},
     "output_type": "execute_result"
    }
   ],
   "source": [
    "# Let's see if there are any towns in the corporate_data set which are not included in the income data. \n",
    "no_data = corporate_data[~corporate_data['city'].isin(income_T.index)]\n",
    "no_data.head()"
   ]
  },
  {
   "cell_type": "markdown",
   "metadata": {},
   "source": [
    "The houses in Henderson are actually in Commerce City. This is a quirk of Denver-metro addresses. Morrison is a tiny area, so there isn't any data available for it. The closest town to Morrison is Golden. Let's map these in both the corporate and sales data. "
   ]
  },
  {
   "cell_type": "code",
   "execution_count": 338,
   "metadata": {},
   "outputs": [],
   "source": [
    "dict1 = {'Henderson':'Commerce City', 'Morrison':'Golden'}\n",
    "corporate_data.loc[corporate_data['city'].isin(dict1.keys()), 'city'] = corporate_data['city'].map(dict1)"
   ]
  },
  {
   "cell_type": "code",
   "execution_count": 339,
   "metadata": {},
   "outputs": [],
   "source": [
    "# Let's see if there is any sales data that doesn't have income information. \n",
    "no_data = sale_data[~sale_data['city'].isin(income_T.index)]"
   ]
  },
  {
   "cell_type": "code",
   "execution_count": 340,
   "metadata": {},
   "outputs": [
    {
     "data": {
      "text/plain": [
       "array(['Morrison', 'Indian Hills', 'Idledale'], dtype=object)"
      ]
     },
     "execution_count": 340,
     "metadata": {},
     "output_type": "execute_result"
    }
   ],
   "source": [
    "no_data['city'].unique()"
   ]
  },
  {
   "cell_type": "markdown",
   "metadata": {},
   "source": [
    "All of these little hamlets are near Golden, so let's map them to Golden. "
   ]
  },
  {
   "cell_type": "code",
   "execution_count": 341,
   "metadata": {},
   "outputs": [],
   "source": [
    "dict2={'Morrison':'Golden', 'Indian Hills':'Golden', 'Idledale':'Golden'}\n",
    "sale_data.loc[sale_data['city'].isin(dict1.keys()), 'city'] = sale_data['city'].map(dict1)"
   ]
  },
  {
   "cell_type": "code",
   "execution_count": 342,
   "metadata": {},
   "outputs": [
    {
     "data": {
      "text/plain": [
       "((170, 21), (170, 20))"
      ]
     },
     "execution_count": 342,
     "metadata": {},
     "output_type": "execute_result"
    }
   ],
   "source": [
    "corporate_data_I = corporate_data.merge(income_T, left_on='city', right_on=income_T.index)\n",
    "corporate_data_I.shape, corporate_data.shape"
   ]
  },
  {
   "cell_type": "code",
   "execution_count": 343,
   "metadata": {},
   "outputs": [],
   "source": [
    "sale_data_I = sale_data.merge(income_T, left_on='city', right_on=income_T.index)"
   ]
  },
  {
   "cell_type": "markdown",
   "metadata": {},
   "source": [
    "We have a problem with the HOA data. Some of the deployment data (houses for sale) have HOAs, but we don't have any information about whether the corporate properties have an HOA. So, we have no way to scale that data.\n",
    "One idea is to combine the HOA price into the value of the house, over 30 years. Let's do that with the sales_data. "
   ]
  },
  {
   "cell_type": "code",
   "execution_count": 344,
   "metadata": {},
   "outputs": [],
   "source": [
    "sale_data_I['value'] = sale_data_I['value'] + (sale_data_I['monthly_hoa'] * 12)\n",
    "sale_data_I.drop(['monthly_hoa'], axis=1, inplace=True)"
   ]
  },
  {
   "cell_type": "markdown",
   "metadata": {},
   "source": [
    "We have taxes for the sale data, because it is included in the listing. But, it is linearly related to the value of the house, because it is a percentage of the house's value. Therefore, instead of *adding* tax data for the corporate-owned houses, we shall remove the tax data from the sale houses. "
   ]
  },
  {
   "cell_type": "code",
   "execution_count": 345,
   "metadata": {},
   "outputs": [],
   "source": [
    "# drop tax column because it's linearly related to sales price (percentage of sales price)\n",
    "sale_data_I.drop('taxes', axis=1, inplace=True)"
   ]
  },
  {
   "cell_type": "markdown",
   "metadata": {},
   "source": [
    "'Beds' and 'baths' should be categorical columns, since these are inherently categorical. Change the data types of these columns."
   ]
  },
  {
   "cell_type": "code",
   "execution_count": 346,
   "metadata": {},
   "outputs": [],
   "source": [
    "corporate_data_I['beds'] = pd.Categorical(corporate_data_I.beds)\n",
    "corporate_data_I['baths'] = pd.Categorical(corporate_data_I.baths)\n",
    "sale_data_I['beds'] = pd.Categorical(sale_data_I.beds)\n",
    "sale_data_I['baths'] = pd.Categorical(sale_data_I.baths)"
   ]
  },
  {
   "cell_type": "code",
   "execution_count": 347,
   "metadata": {},
   "outputs": [
    {
     "data": {
      "text/plain": [
       "(Index(['address', 'city', 'zipcode', 'beds', 'baths', 'sqft', 'value', 'lat',\n",
       "        'lng', 'district', 'percentFreeDiscLunch',\n",
       "        'percentofAfricanAmericanStudents', 'percentofAsianStudents',\n",
       "        'percentofHispanicStudents', 'percentofIndianStudents',\n",
       "        'percentofPacificIslanderStudents', 'percentofTwoOrMoreRaceStudents',\n",
       "        'percentofWhiteStudents', 'rankMovement',\n",
       "        'Median household income (in 2019 dollars), 2015-2019'],\n",
       "       dtype='object'),\n",
       " Index(['address', 'city', 'zipcode', 'beds', 'baths', 'sqft', 'market_rent',\n",
       "        'lat', 'lng', 'district', 'value', 'percentFreeDiscLunch',\n",
       "        'percentofAfricanAmericanStudents', 'percentofAsianStudents',\n",
       "        'percentofHispanicStudents', 'percentofIndianStudents',\n",
       "        'percentofPacificIslanderStudents', 'percentofTwoOrMoreRaceStudents',\n",
       "        'percentofWhiteStudents', 'rankMovement',\n",
       "        'Median household income (in 2019 dollars), 2015-2019'],\n",
       "       dtype='object'))"
      ]
     },
     "execution_count": 347,
     "metadata": {},
     "output_type": "execute_result"
    }
   ],
   "source": [
    "sale_data_I.columns, corporate_data_I.columns"
   ]
  },
  {
   "cell_type": "code",
   "execution_count": 348,
   "metadata": {},
   "outputs": [],
   "source": [
    "# Re-order corporate_data columns. \n",
    "corporate_data_I = corporate_data_I.loc[:, ['address', 'city', 'zipcode', 'beds', 'baths', 'sqft', 'market_rent',\n",
    "                                        'value', 'lat', 'lng', 'district', 'percentFreeDiscLunch',\n",
    "                                        'percentofAfricanAmericanStudents', 'percentofAsianStudents',\n",
    "                                        'percentofHispanicStudents', 'percentofIndianStudents',\n",
    "                                        'percentofPacificIslanderStudents', 'percentofTwoOrMoreRaceStudents',\n",
    "                                        'percentofWhiteStudents', 'rankMovement', \n",
    "                                        'Median household income (in 2019 dollars), 2015-2019']]\n"
   ]
  },
  {
   "cell_type": "code",
   "execution_count": 349,
   "metadata": {},
   "outputs": [
    {
     "data": {
      "text/plain": [
       "dtype('O')"
      ]
     },
     "execution_count": 349,
     "metadata": {},
     "output_type": "execute_result"
    }
   ],
   "source": [
    "# Check datatype of new column\n",
    "corporate_data_I['Median household income (in 2019 dollars), 2015-2019'].dtypes"
   ]
  },
  {
   "cell_type": "code",
   "execution_count": 350,
   "metadata": {},
   "outputs": [],
   "source": [
    "corporate_data_I[['Median household income (in 2019 dollars), 2015-2019']] = \\\n",
    "        corporate_data_I[['Median household income (in 2019 dollars), 2015-2019']].replace('[\\$,]','',regex=True).astype(float)"
   ]
  },
  {
   "cell_type": "code",
   "execution_count": 351,
   "metadata": {},
   "outputs": [],
   "source": [
    "sale_data_I[['Median household income (in 2019 dollars), 2015-2019']] = \\\n",
    "        sale_data_I[['Median household income (in 2019 dollars), 2015-2019']].replace('[\\$,]','',regex=True).astype(float)"
   ]
  },
  {
   "cell_type": "markdown",
   "metadata": {},
   "source": [
    "## 4.5 Train/Test Split<a id='4.6_Train/Test_Split'></a>"
   ]
  },
  {
   "cell_type": "markdown",
   "metadata": {},
   "source": [
    "Let's use a 70/30 train/test split within the corporate data, using 'market_rent' as the dependent variable. "
   ]
  },
  {
   "cell_type": "code",
   "execution_count": 352,
   "metadata": {},
   "outputs": [],
   "source": [
    "# use train_test_split \n",
    "X_train, X_test, y_train, y_test = train_test_split(corporate_data_I.drop(columns='market_rent'), \n",
    "                                                    corporate_data_I.market_rent, test_size=0.05, \n",
    "                                                    random_state=42)"
   ]
  },
  {
   "cell_type": "code",
   "execution_count": 353,
   "metadata": {},
   "outputs": [
    {
     "data": {
      "text/plain": [
       "((161, 20), (9, 20))"
      ]
     },
     "execution_count": 353,
     "metadata": {},
     "output_type": "execute_result"
    }
   ],
   "source": [
    "X_train.shape, X_test.shape"
   ]
  },
  {
   "cell_type": "code",
   "execution_count": 354,
   "metadata": {},
   "outputs": [
    {
     "data": {
      "text/plain": [
       "((161,), (9,))"
      ]
     },
     "execution_count": 354,
     "metadata": {},
     "output_type": "execute_result"
    }
   ],
   "source": [
    "y_train.shape, y_test.shape"
   ]
  },
  {
   "cell_type": "code",
   "execution_count": 355,
   "metadata": {},
   "outputs": [
    {
     "data": {
      "text/plain": [
       "((161, 14), (9, 14))"
      ]
     },
     "execution_count": 355,
     "metadata": {},
     "output_type": "execute_result"
    }
   ],
   "source": [
    "#Save the 'address' and 'zipcode' columns from the train/test data into address_train\n",
    "# and address_train\n",
    "#Then drop those columns from `X_train` and `X_test`. Use 'inplace=True'\n",
    "address_list = ['address', 'zipcode', 'lat', 'lng', 'district', 'city']\n",
    "address_train = X_train[address_list]\n",
    "address_test = X_test[address_list]\n",
    "X_train.drop(columns=address_list, inplace=True)\n",
    "X_test.drop(columns=address_list, inplace=True)\n",
    "X_train.shape, X_test.shape"
   ]
  },
  {
   "cell_type": "code",
   "execution_count": 356,
   "metadata": {},
   "outputs": [
    {
     "data": {
      "text/plain": [
       "beds                                                    category\n",
       "baths                                                   category\n",
       "sqft                                                       int64\n",
       "value                                                    float64\n",
       "percentFreeDiscLunch                                     float64\n",
       "percentofAfricanAmericanStudents                         float64\n",
       "percentofAsianStudents                                   float64\n",
       "percentofHispanicStudents                                float64\n",
       "percentofIndianStudents                                  float64\n",
       "percentofPacificIslanderStudents                         float64\n",
       "percentofTwoOrMoreRaceStudents                           float64\n",
       "percentofWhiteStudents                                   float64\n",
       "rankMovement                                             float64\n",
       "Median household income (in 2019 dollars), 2015-2019     float64\n",
       "dtype: object"
      ]
     },
     "execution_count": 356,
     "metadata": {},
     "output_type": "execute_result"
    }
   ],
   "source": [
    "#Check the `dtypes` attribute of `X_train` to verify all features are numeric\n",
    "X_train.dtypes"
   ]
  },
  {
   "cell_type": "code",
   "execution_count": 357,
   "metadata": {},
   "outputs": [
    {
     "data": {
      "text/plain": [
       "beds                                                    category\n",
       "baths                                                   category\n",
       "sqft                                                       int64\n",
       "value                                                    float64\n",
       "percentFreeDiscLunch                                     float64\n",
       "percentofAfricanAmericanStudents                         float64\n",
       "percentofAsianStudents                                   float64\n",
       "percentofHispanicStudents                                float64\n",
       "percentofIndianStudents                                  float64\n",
       "percentofPacificIslanderStudents                         float64\n",
       "percentofTwoOrMoreRaceStudents                           float64\n",
       "percentofWhiteStudents                                   float64\n",
       "rankMovement                                             float64\n",
       "Median household income (in 2019 dollars), 2015-2019     float64\n",
       "dtype: object"
      ]
     },
     "execution_count": 357,
     "metadata": {},
     "output_type": "execute_result"
    }
   ],
   "source": [
    "#Repeat this check for the test split in `X_test`\n",
    "X_test.dtypes"
   ]
  },
  {
   "cell_type": "markdown",
   "metadata": {},
   "source": [
    "All features in X are numeric."
   ]
  },
  {
   "cell_type": "code",
   "execution_count": null,
   "metadata": {},
   "outputs": [],
   "source": []
  },
  {
   "cell_type": "markdown",
   "metadata": {},
   "source": [
    "## 4.6 Scale Data <a id='4.5_Extract_Big_Mountain_Data'></a>"
   ]
  },
  {
   "cell_type": "markdown",
   "metadata": {},
   "source": [
    " Let's look at the distributions of the training data. "
   ]
  },
  {
   "cell_type": "code",
   "execution_count": 358,
   "metadata": {},
   "outputs": [
    {
     "data": {
      "image/png": "[encoded data removed]",
      "text/plain": [
       "<Figure size 432x288 with 1 Axes>"
      ]
     },
     "metadata": {
      "needs_background": "light"
     },
     "output_type": "display_data"
    }
   ],
   "source": [
    "plt.hist(X_train['sqft'])\n",
    "plt.title('Square footage distribution')\n",
    "plt.xlabel('Sqft')\n",
    "plt.ylabel('# of properties')\n",
    "plt.show()"
   ]
  },
  {
   "cell_type": "markdown",
   "metadata": {},
   "source": [
    "It looks like the outliers may be skewing the data. We will remove the top 3% of square footage data:"
   ]
  },
  {
   "cell_type": "code",
   "execution_count": 359,
   "metadata": {},
   "outputs": [],
   "source": [
    "# Make a mask to trim off top 3% of square footage\n",
    "q_cutoff = X_train['sqft'].quantile(0.97)\n",
    "mask = X_train['sqft'] < q_cutoff\n",
    "tr_X_train = X_train[mask]\n",
    "tr_y_train = y_train[mask]"
   ]
  },
  {
   "cell_type": "code",
   "execution_count": 360,
   "metadata": {},
   "outputs": [
    {
     "data": {
      "image/png": "[encoded data removed]",
      "text/plain": [
       "<Figure size 432x288 with 1 Axes>"
      ]
     },
     "metadata": {
      "needs_background": "light"
     },
     "output_type": "display_data"
    }
   ],
   "source": [
    "# Recheck the sqft distribution\n",
    "plt.hist(tr_X_train['sqft'])\n",
    "plt.title('Square footage distribution')\n",
    "plt.xlabel('Sqft')\n",
    "plt.ylabel('# of properties')\n",
    "plt.show()"
   ]
  },
  {
   "cell_type": "code",
   "execution_count": 361,
   "metadata": {},
   "outputs": [
    {
     "data": {
      "image/png": "[encoded data removed]",
      "text/plain": [
       "<Figure size 432x288 with 1 Axes>"
      ]
     },
     "metadata": {
      "needs_background": "light"
     },
     "output_type": "display_data"
    }
   ],
   "source": [
    "plt.hist(tr_y_train)\n",
    "plt.title('Market Rent distribution')\n",
    "plt.xlabel('Rent')\n",
    "plt.ylabel('# of properties')\n",
    "plt.show()"
   ]
  },
  {
   "cell_type": "code",
   "execution_count": 362,
   "metadata": {},
   "outputs": [
    {
     "data": {
      "image/png": "[encoded data removed]",
      "text/plain": [
       "<Figure size 432x288 with 1 Axes>"
      ]
     },
     "metadata": {
      "needs_background": "light"
     },
     "output_type": "display_data"
    }
   ],
   "source": [
    "plt.hist(tr_X_train['value'])\n",
    "plt.title('Value distribution')\n",
    "plt.xlabel('Value')\n",
    "plt.ylabel('# of properties')\n",
    "plt.show()"
   ]
  },
  {
   "cell_type": "markdown",
   "metadata": {},
   "source": [
    "These histograms look pretty normal. We can use Min-Max Scaling on the value, market_rent, and sqft features. Let's see if the mins/max are fairly similar between both the test and train sets. "
   ]
  },
  {
   "cell_type": "code",
   "execution_count": 364,
   "metadata": {},
   "outputs": [
    {
     "data": {
      "text/plain": [
       "(2626, 2645, 900, 1650)"
      ]
     },
     "execution_count": 364,
     "metadata": {},
     "output_type": "execute_result"
    }
   ],
   "source": [
    "tr_X_train['sqft'].max(), X_test['sqft'].max(), tr_X_train['sqft'].min(), X_test['sqft'].min()"
   ]
  },
  {
   "cell_type": "markdown",
   "metadata": {},
   "source": [
    "Those values are too different, we cannot use Min Max Scaling. Let's use Standard Scaler instead on square footage and value. "
   ]
  },
  {
   "cell_type": "code",
   "execution_count": 365,
   "metadata": {},
   "outputs": [],
   "source": [
    "# create a copy of df\n",
    "scaled_tr_X_train = tr_X_train.copy()\n",
    "# create list of columns to be transformed\n",
    "colnames = ['value', 'sqft', 'percentFreeDiscLunch',\n",
    "        'percentofAfricanAmericanStudents', 'percentofAsianStudents',\n",
    "        'percentofHispanicStudents', 'percentofIndianStudents',\n",
    "        'percentofPacificIslanderStudents', 'percentofTwoOrMoreRaceStudents',\n",
    "        'percentofWhiteStudents', 'rankMovement', 'Median household income (in 2019 dollars), 2015-2019']\n",
    "features = scaled_tr_X_train[colnames]\n",
    "valSqftscaler = StandardScaler().fit(features.values)\n",
    "features = valSqftscaler.transform(features.values)"
   ]
  },
  {
   "cell_type": "code",
   "execution_count": 366,
   "metadata": {},
   "outputs": [
    {
     "data": {
      "text/plain": [
       "(156, 14)"
      ]
     },
     "execution_count": 366,
     "metadata": {},
     "output_type": "execute_result"
    }
   ],
   "source": [
    "scaled_tr_X_train[colnames] = features\n",
    "scaled_tr_X_train.shape"
   ]
  },
  {
   "cell_type": "code",
   "execution_count": 367,
   "metadata": {},
   "outputs": [
    {
     "data": {
      "text/plain": [
       "Index(['beds', 'baths', 'sqft', 'value', 'percentFreeDiscLunch',\n",
       "       'percentofAfricanAmericanStudents', 'percentofAsianStudents',\n",
       "       'percentofHispanicStudents', 'percentofIndianStudents',\n",
       "       'percentofPacificIslanderStudents', 'percentofTwoOrMoreRaceStudents',\n",
       "       'percentofWhiteStudents', 'rankMovement',\n",
       "       'Median household income (in 2019 dollars), 2015-2019'],\n",
       "      dtype='object')"
      ]
     },
     "execution_count": 367,
     "metadata": {},
     "output_type": "execute_result"
    }
   ],
   "source": [
    "scaled_tr_X_train.columns"
   ]
  },
  {
   "cell_type": "code",
   "execution_count": 368,
   "metadata": {},
   "outputs": [],
   "source": [
    "# In case I want to transform x, y, z\n",
    "#scaled_tr_X_train['x'] = math.sin\n",
    "#scaled_tr_X_train['y'] = \n",
    "#scaled_tr_X_train['z'] = \n",
    "#  x = r * math.sin(theta) * math.cos(phi) # bronstein (3.381a)\n",
    "#    y = r * math.sin(theta) * math.sin(phi)\n",
    "#    z = r * math.cos(theta)"
   ]
  },
  {
   "cell_type": "markdown",
   "metadata": {},
   "source": [
    "The X_train data is now transformed. Let's look at it:"
   ]
  },
  {
   "cell_type": "code",
   "execution_count": 372,
   "metadata": {},
   "outputs": [
    {
     "data": {
      "text/html": [
       "<div>\n",
       "<style scoped>\n",
       "    .dataframe tbody tr th:only-of-type {\n",
       "        vertical-align: middle;\n",
       "    }\n",
       "\n",
       "    .dataframe tbody tr th {\n",
       "        vertical-align: top;\n",
       "    }\n",
       "\n",
       "    .dataframe thead th {\n",
       "        text-align: right;\n",
       "    }\n",
       "</style>\n",
       "<table border=\"1\" class=\"dataframe\">\n",
       "  <thead>\n",
       "    <tr style=\"text-align: right;\">\n",
       "      <th></th>\n",
       "      <th>sqft</th>\n",
       "      <th>value</th>\n",
       "      <th>percentFreeDiscLunch</th>\n",
       "      <th>percentofAfricanAmericanStudents</th>\n",
       "      <th>percentofAsianStudents</th>\n",
       "      <th>percentofHispanicStudents</th>\n",
       "      <th>percentofIndianStudents</th>\n",
       "      <th>percentofPacificIslanderStudents</th>\n",
       "      <th>percentofTwoOrMoreRaceStudents</th>\n",
       "      <th>percentofWhiteStudents</th>\n",
       "      <th>rankMovement</th>\n",
       "      <th>Median household income (in 2019 dollars), 2015-2019</th>\n",
       "    </tr>\n",
       "  </thead>\n",
       "  <tbody>\n",
       "    <tr>\n",
       "      <th>count</th>\n",
       "      <td>1.560000e+02</td>\n",
       "      <td>1.560000e+02</td>\n",
       "      <td>1.560000e+02</td>\n",
       "      <td>1.560000e+02</td>\n",
       "      <td>1.560000e+02</td>\n",
       "      <td>1.560000e+02</td>\n",
       "      <td>1.560000e+02</td>\n",
       "      <td>1.560000e+02</td>\n",
       "      <td>1.560000e+02</td>\n",
       "      <td>1.560000e+02</td>\n",
       "      <td>1.560000e+02</td>\n",
       "      <td>1.560000e+02</td>\n",
       "    </tr>\n",
       "    <tr>\n",
       "      <th>mean</th>\n",
       "      <td>3.031763e-16</td>\n",
       "      <td>2.683039e-16</td>\n",
       "      <td>3.835963e-16</td>\n",
       "      <td>-9.821204e-17</td>\n",
       "      <td>1.594166e-16</td>\n",
       "      <td>-1.708035e-16</td>\n",
       "      <td>-2.843167e-16</td>\n",
       "      <td>-8.219920e-17</td>\n",
       "      <td>5.835788e-17</td>\n",
       "      <td>-3.366253e-16</td>\n",
       "      <td>2.633221e-17</td>\n",
       "      <td>1.081756e-16</td>\n",
       "    </tr>\n",
       "    <tr>\n",
       "      <th>std</th>\n",
       "      <td>1.003221e+00</td>\n",
       "      <td>1.003221e+00</td>\n",
       "      <td>1.003221e+00</td>\n",
       "      <td>1.003221e+00</td>\n",
       "      <td>1.003221e+00</td>\n",
       "      <td>1.003221e+00</td>\n",
       "      <td>1.003221e+00</td>\n",
       "      <td>1.003221e+00</td>\n",
       "      <td>1.003221e+00</td>\n",
       "      <td>1.003221e+00</td>\n",
       "      <td>1.003221e+00</td>\n",
       "      <td>1.003221e+00</td>\n",
       "    </tr>\n",
       "    <tr>\n",
       "      <th>min</th>\n",
       "      <td>-2.464458e+00</td>\n",
       "      <td>-1.946024e+00</td>\n",
       "      <td>-1.647811e+00</td>\n",
       "      <td>-1.117975e+00</td>\n",
       "      <td>-1.662641e+00</td>\n",
       "      <td>-1.426565e+00</td>\n",
       "      <td>-3.038359e+00</td>\n",
       "      <td>-8.871405e-01</td>\n",
       "      <td>-1.791030e+00</td>\n",
       "      <td>-1.626091e+00</td>\n",
       "      <td>-1.479552e+00</td>\n",
       "      <td>-7.253852e-01</td>\n",
       "    </tr>\n",
       "    <tr>\n",
       "      <th>25%</th>\n",
       "      <td>-7.296377e-01</td>\n",
       "      <td>-5.612758e-01</td>\n",
       "      <td>-6.519587e-01</td>\n",
       "      <td>-1.021750e+00</td>\n",
       "      <td>-9.969505e-01</td>\n",
       "      <td>-9.421409e-01</td>\n",
       "      <td>-2.971690e-01</td>\n",
       "      <td>-6.746937e-01</td>\n",
       "      <td>-7.714134e-01</td>\n",
       "      <td>-7.962618e-01</td>\n",
       "      <td>-6.116763e-01</td>\n",
       "      <td>-7.253852e-01</td>\n",
       "    </tr>\n",
       "    <tr>\n",
       "      <th>50%</th>\n",
       "      <td>-3.230801e-02</td>\n",
       "      <td>-9.406919e-02</td>\n",
       "      <td>-7.819268e-02</td>\n",
       "      <td>5.836765e-01</td>\n",
       "      <td>-1.220432e-01</td>\n",
       "      <td>4.940095e-01</td>\n",
       "      <td>-5.529927e-02</td>\n",
       "      <td>-3.104992e-01</td>\n",
       "      <td>2.482031e-01</td>\n",
       "      <td>-2.703255e-02</td>\n",
       "      <td>-3.091199e-01</td>\n",
       "      <td>-5.179478e-01</td>\n",
       "    </tr>\n",
       "    <tr>\n",
       "      <th>75%</th>\n",
       "      <td>6.621870e-01</td>\n",
       "      <td>3.632037e-01</td>\n",
       "      <td>8.702593e-01</td>\n",
       "      <td>7.913185e-01</td>\n",
       "      <td>1.394780e-01</td>\n",
       "      <td>8.600898e-01</td>\n",
       "      <td>9.928028e-01</td>\n",
       "      <td>1.143944e-01</td>\n",
       "      <td>4.490366e-01</td>\n",
       "      <td>5.435362e-01</td>\n",
       "      <td>8.502467e-02</td>\n",
       "      <td>1.247400e-01</td>\n",
       "    </tr>\n",
       "    <tr>\n",
       "      <th>max</th>\n",
       "      <td>2.428188e+00</td>\n",
       "      <td>4.726258e+00</td>\n",
       "      <td>1.570425e+00</td>\n",
       "      <td>1.496964e+00</td>\n",
       "      <td>1.684831e+00</td>\n",
       "      <td>2.025719e+00</td>\n",
       "      <td>1.234672e+00</td>\n",
       "      <td>2.147814e+00</td>\n",
       "      <td>1.535598e+00</td>\n",
       "      <td>1.815892e+00</td>\n",
       "      <td>2.301456e+00</td>\n",
       "      <td>2.859861e+00</td>\n",
       "    </tr>\n",
       "  </tbody>\n",
       "</table>\n",
       "</div>"
      ],
      "text/plain": [
       "               sqft         value  percentFreeDiscLunch  \\\n",
       "count  1.560000e+02  1.560000e+02          1.560000e+02   \n",
       "mean   3.031763e-16  2.683039e-16          3.835963e-16   \n",
       "std    1.003221e+00  1.003221e+00          1.003221e+00   \n",
       "min   -2.464458e+00 -1.946024e+00         -1.647811e+00   \n",
       "25%   -7.296377e-01 -5.612758e-01         -6.519587e-01   \n",
       "50%   -3.230801e-02 -9.406919e-02         -7.819268e-02   \n",
       "75%    6.621870e-01  3.632037e-01          8.702593e-01   \n",
       "max    2.428188e+00  4.726258e+00          1.570425e+00   \n",
       "\n",
       "       percentofAfricanAmericanStudents  percentofAsianStudents  \\\n",
       "count                      1.560000e+02            1.560000e+02   \n",
       "mean                      -9.821204e-17            1.594166e-16   \n",
       "std                        1.003221e+00            1.003221e+00   \n",
       "min                       -1.117975e+00           -1.662641e+00   \n",
       "25%                       -1.021750e+00           -9.969505e-01   \n",
       "50%                        5.836765e-01           -1.220432e-01   \n",
       "75%                        7.913185e-01            1.394780e-01   \n",
       "max                        1.496964e+00            1.684831e+00   \n",
       "\n",
       "       percentofHispanicStudents  percentofIndianStudents  \\\n",
       "count               1.560000e+02             1.560000e+02   \n",
       "mean               -1.708035e-16            -2.843167e-16   \n",
       "std                 1.003221e+00             1.003221e+00   \n",
       "min                -1.426565e+00            -3.038359e+00   \n",
       "25%                -9.421409e-01            -2.971690e-01   \n",
       "50%                 4.940095e-01            -5.529927e-02   \n",
       "75%                 8.600898e-01             9.928028e-01   \n",
       "max                 2.025719e+00             1.234672e+00   \n",
       "\n",
       "       percentofPacificIslanderStudents  percentofTwoOrMoreRaceStudents  \\\n",
       "count                      1.560000e+02                    1.560000e+02   \n",
       "mean                      -8.219920e-17                    5.835788e-17   \n",
       "std                        1.003221e+00                    1.003221e+00   \n",
       "min                       -8.871405e-01                   -1.791030e+00   \n",
       "25%                       -6.746937e-01                   -7.714134e-01   \n",
       "50%                       -3.104992e-01                    2.482031e-01   \n",
       "75%                        1.143944e-01                    4.490366e-01   \n",
       "max                        2.147814e+00                    1.535598e+00   \n",
       "\n",
       "       percentofWhiteStudents  rankMovement  \\\n",
       "count            1.560000e+02  1.560000e+02   \n",
       "mean            -3.366253e-16  2.633221e-17   \n",
       "std              1.003221e+00  1.003221e+00   \n",
       "min             -1.626091e+00 -1.479552e+00   \n",
       "25%             -7.962618e-01 -6.116763e-01   \n",
       "50%             -2.703255e-02 -3.091199e-01   \n",
       "75%              5.435362e-01  8.502467e-02   \n",
       "max              1.815892e+00  2.301456e+00   \n",
       "\n",
       "       Median household income (in 2019 dollars), 2015-2019  \n",
       "count                                       1.560000e+02     \n",
       "mean                                        1.081756e-16     \n",
       "std                                         1.003221e+00     \n",
       "min                                        -7.253852e-01     \n",
       "25%                                        -7.253852e-01     \n",
       "50%                                        -5.179478e-01     \n",
       "75%                                         1.247400e-01     \n",
       "max                                         2.859861e+00     "
      ]
     },
     "execution_count": 372,
     "metadata": {},
     "output_type": "execute_result"
    }
   ],
   "source": [
    "scaled_tr_X_train.describe()"
   ]
  },
  {
   "cell_type": "code",
   "execution_count": 370,
   "metadata": {},
   "outputs": [
    {
     "data": {
      "text/plain": [
       "(156, 14)"
      ]
     },
     "execution_count": 370,
     "metadata": {},
     "output_type": "execute_result"
    }
   ],
   "source": [
    "scaled_tr_X_train.shape"
   ]
  },
  {
   "cell_type": "code",
   "execution_count": null,
   "metadata": {},
   "outputs": [],
   "source": []
  },
  {
   "cell_type": "markdown",
   "metadata": {},
   "source": [
    "## 4.8 Transformation of test data <a id='4.6_Train/Test_Split'></a>"
   ]
  },
  {
   "cell_type": "markdown",
   "metadata": {},
   "source": [
    "First, let's use the previously fit scaling tool to scale the test data. "
   ]
  },
  {
   "cell_type": "code",
   "execution_count": 373,
   "metadata": {},
   "outputs": [],
   "source": [
    "# create a copy of df\n",
    "scaled_X_test = X_test.copy()\n",
    "# create list of columns to be transformed\n",
    "colnames = ['value', 'sqft', 'percentFreeDiscLunch',\n",
    "        'percentofAfricanAmericanStudents', 'percentofAsianStudents',\n",
    "        'percentofHispanicStudents', 'percentofIndianStudents',\n",
    "        'percentofPacificIslanderStudents', 'percentofTwoOrMoreRaceStudents',\n",
    "        'percentofWhiteStudents', 'rankMovement', 'Median household income (in 2019 dollars), 2015-2019']\n",
    "features = scaled_X_test[colnames]\n",
    "features = valSqftscaler.transform(features.values)"
   ]
  },
  {
   "cell_type": "code",
   "execution_count": 374,
   "metadata": {},
   "outputs": [
    {
     "data": {
      "text/plain": [
       "(9, 14)"
      ]
     },
     "execution_count": 374,
     "metadata": {},
     "output_type": "execute_result"
    }
   ],
   "source": [
    "scaled_X_test[colnames] = features\n",
    "scaled_X_test.shape"
   ]
  },
  {
   "cell_type": "markdown",
   "metadata": {},
   "source": [
    "Because the StandardScaler() was fit on the training data, the mean of the test data will not be zero. "
   ]
  },
  {
   "cell_type": "code",
   "execution_count": 375,
   "metadata": {},
   "outputs": [
    {
     "data": {
      "text/html": [
       "<div>\n",
       "<style scoped>\n",
       "    .dataframe tbody tr th:only-of-type {\n",
       "        vertical-align: middle;\n",
       "    }\n",
       "\n",
       "    .dataframe tbody tr th {\n",
       "        vertical-align: top;\n",
       "    }\n",
       "\n",
       "    .dataframe thead th {\n",
       "        text-align: right;\n",
       "    }\n",
       "</style>\n",
       "<table border=\"1\" class=\"dataframe\">\n",
       "  <thead>\n",
       "    <tr style=\"text-align: right;\">\n",
       "      <th></th>\n",
       "      <th>sqft</th>\n",
       "      <th>value</th>\n",
       "      <th>percentFreeDiscLunch</th>\n",
       "      <th>percentofAfricanAmericanStudents</th>\n",
       "      <th>percentofAsianStudents</th>\n",
       "      <th>percentofHispanicStudents</th>\n",
       "      <th>percentofIndianStudents</th>\n",
       "      <th>percentofPacificIslanderStudents</th>\n",
       "      <th>percentofTwoOrMoreRaceStudents</th>\n",
       "      <th>percentofWhiteStudents</th>\n",
       "      <th>rankMovement</th>\n",
       "      <th>Median household income (in 2019 dollars), 2015-2019</th>\n",
       "    </tr>\n",
       "  </thead>\n",
       "  <tbody>\n",
       "    <tr>\n",
       "      <th>count</th>\n",
       "      <td>9.000000</td>\n",
       "      <td>9.000000</td>\n",
       "      <td>9.000000</td>\n",
       "      <td>9.000000</td>\n",
       "      <td>9.000000</td>\n",
       "      <td>9.000000</td>\n",
       "      <td>9.000000</td>\n",
       "      <td>9.000000</td>\n",
       "      <td>9.000000</td>\n",
       "      <td>9.000000</td>\n",
       "      <td>9.000000</td>\n",
       "      <td>9.000000</td>\n",
       "    </tr>\n",
       "    <tr>\n",
       "      <th>mean</th>\n",
       "      <td>0.636675</td>\n",
       "      <td>0.131373</td>\n",
       "      <td>-0.326930</td>\n",
       "      <td>-0.211253</td>\n",
       "      <td>0.207632</td>\n",
       "      <td>-0.436665</td>\n",
       "      <td>-0.234462</td>\n",
       "      <td>-0.121658</td>\n",
       "      <td>0.161805</td>\n",
       "      <td>0.433169</td>\n",
       "      <td>0.347647</td>\n",
       "      <td>0.688342</td>\n",
       "    </tr>\n",
       "    <tr>\n",
       "      <th>std</th>\n",
       "      <td>0.833306</td>\n",
       "      <td>1.118185</td>\n",
       "      <td>1.139254</td>\n",
       "      <td>1.011236</td>\n",
       "      <td>1.164982</td>\n",
       "      <td>1.157039</td>\n",
       "      <td>1.275261</td>\n",
       "      <td>0.970210</td>\n",
       "      <td>1.195678</td>\n",
       "      <td>1.132100</td>\n",
       "      <td>1.136149</td>\n",
       "      <td>1.350319</td>\n",
       "    </tr>\n",
       "    <tr>\n",
       "      <th>min</th>\n",
       "      <td>-0.338453</td>\n",
       "      <td>-2.497256</td>\n",
       "      <td>-1.647811</td>\n",
       "      <td>-1.117975</td>\n",
       "      <td>-0.996951</td>\n",
       "      <td>-1.426565</td>\n",
       "      <td>-3.038359</td>\n",
       "      <td>-0.887140</td>\n",
       "      <td>-1.523252</td>\n",
       "      <td>-1.368052</td>\n",
       "      <td>-0.930655</td>\n",
       "      <td>-0.725385</td>\n",
       "    </tr>\n",
       "    <tr>\n",
       "      <th>25%</th>\n",
       "      <td>0.143442</td>\n",
       "      <td>-0.094255</td>\n",
       "      <td>-0.651959</td>\n",
       "      <td>-1.021750</td>\n",
       "      <td>-0.668860</td>\n",
       "      <td>-0.942141</td>\n",
       "      <td>-0.055299</td>\n",
       "      <td>-0.674694</td>\n",
       "      <td>-0.586029</td>\n",
       "      <td>0.369800</td>\n",
       "      <td>-0.309120</td>\n",
       "      <td>-0.517948</td>\n",
       "    </tr>\n",
       "    <tr>\n",
       "      <th>50%</th>\n",
       "      <td>0.347538</td>\n",
       "      <td>0.276180</td>\n",
       "      <td>-0.651959</td>\n",
       "      <td>-0.939031</td>\n",
       "      <td>-0.164838</td>\n",
       "      <td>-0.942141</td>\n",
       "      <td>-0.055299</td>\n",
       "      <td>-0.310499</td>\n",
       "      <td>0.248203</td>\n",
       "      <td>0.369800</td>\n",
       "      <td>0.085025</td>\n",
       "      <td>-0.069450</td>\n",
       "    </tr>\n",
       "    <tr>\n",
       "      <th>75%</th>\n",
       "      <td>1.064711</td>\n",
       "      <td>0.578454</td>\n",
       "      <td>-0.388324</td>\n",
       "      <td>0.583677</td>\n",
       "      <td>1.684831</td>\n",
       "      <td>-0.658225</td>\n",
       "      <td>0.267194</td>\n",
       "      <td>-0.310499</td>\n",
       "      <td>1.535598</td>\n",
       "      <td>1.064745</td>\n",
       "      <td>0.312416</td>\n",
       "      <td>1.901680</td>\n",
       "    </tr>\n",
       "    <tr>\n",
       "      <th>max</th>\n",
       "      <td>2.482047</td>\n",
       "      <td>1.449840</td>\n",
       "      <td>1.570425</td>\n",
       "      <td>1.496964</td>\n",
       "      <td>1.684831</td>\n",
       "      <td>2.025719</td>\n",
       "      <td>1.234672</td>\n",
       "      <td>2.147814</td>\n",
       "      <td>1.535598</td>\n",
       "      <td>1.815892</td>\n",
       "      <td>2.301456</td>\n",
       "      <td>2.509439</td>\n",
       "    </tr>\n",
       "  </tbody>\n",
       "</table>\n",
       "</div>"
      ],
      "text/plain": [
       "           sqft     value  percentFreeDiscLunch  \\\n",
       "count  9.000000  9.000000              9.000000   \n",
       "mean   0.636675  0.131373             -0.326930   \n",
       "std    0.833306  1.118185              1.139254   \n",
       "min   -0.338453 -2.497256             -1.647811   \n",
       "25%    0.143442 -0.094255             -0.651959   \n",
       "50%    0.347538  0.276180             -0.651959   \n",
       "75%    1.064711  0.578454             -0.388324   \n",
       "max    2.482047  1.449840              1.570425   \n",
       "\n",
       "       percentofAfricanAmericanStudents  percentofAsianStudents  \\\n",
       "count                          9.000000                9.000000   \n",
       "mean                          -0.211253                0.207632   \n",
       "std                            1.011236                1.164982   \n",
       "min                           -1.117975               -0.996951   \n",
       "25%                           -1.021750               -0.668860   \n",
       "50%                           -0.939031               -0.164838   \n",
       "75%                            0.583677                1.684831   \n",
       "max                            1.496964                1.684831   \n",
       "\n",
       "       percentofHispanicStudents  percentofIndianStudents  \\\n",
       "count                   9.000000                 9.000000   \n",
       "mean                   -0.436665                -0.234462   \n",
       "std                     1.157039                 1.275261   \n",
       "min                    -1.426565                -3.038359   \n",
       "25%                    -0.942141                -0.055299   \n",
       "50%                    -0.942141                -0.055299   \n",
       "75%                    -0.658225                 0.267194   \n",
       "max                     2.025719                 1.234672   \n",
       "\n",
       "       percentofPacificIslanderStudents  percentofTwoOrMoreRaceStudents  \\\n",
       "count                          9.000000                        9.000000   \n",
       "mean                          -0.121658                        0.161805   \n",
       "std                            0.970210                        1.195678   \n",
       "min                           -0.887140                       -1.523252   \n",
       "25%                           -0.674694                       -0.586029   \n",
       "50%                           -0.310499                        0.248203   \n",
       "75%                           -0.310499                        1.535598   \n",
       "max                            2.147814                        1.535598   \n",
       "\n",
       "       percentofWhiteStudents  rankMovement  \\\n",
       "count                9.000000      9.000000   \n",
       "mean                 0.433169      0.347647   \n",
       "std                  1.132100      1.136149   \n",
       "min                 -1.368052     -0.930655   \n",
       "25%                  0.369800     -0.309120   \n",
       "50%                  0.369800      0.085025   \n",
       "75%                  1.064745      0.312416   \n",
       "max                  1.815892      2.301456   \n",
       "\n",
       "       Median household income (in 2019 dollars), 2015-2019  \n",
       "count                                           9.000000     \n",
       "mean                                            0.688342     \n",
       "std                                             1.350319     \n",
       "min                                            -0.725385     \n",
       "25%                                            -0.517948     \n",
       "50%                                            -0.069450     \n",
       "75%                                             1.901680     \n",
       "max                                             2.509439     "
      ]
     },
     "execution_count": 375,
     "metadata": {},
     "output_type": "execute_result"
    }
   ],
   "source": [
    "scaled_X_test.describe()"
   ]
  }
 ],
 "metadata": {
  "kernelspec": {
   "display_name": "Python 3",
   "language": "python",
   "name": "python3"
  },
  "language_info": {
   "codemirror_mode": {
    "name": "ipython",
    "version": 3
   },
   "file_extension": ".py",
   "mimetype": "text/x-python",
   "name": "python",
   "nbconvert_exporter": "python",
   "pygments_lexer": "ipython3",
   "version": "3.8.10"
  },
  "toc": {
   "base_numbering": 1,
   "nav_menu": {},
   "number_sections": true,
   "sideBar": true,
   "skip_h1_title": false,
   "title_cell": "Table of Contents",
   "title_sidebar": "Contents",
   "toc_cell": false,
   "toc_position": {},
   "toc_section_display": true,
   "toc_window_display": true
  },
  "varInspector": {
   "cols": {
    "lenName": 16,
    "lenType": 16,
    "lenVar": 40
   },
   "kernels_config": {
    "python": {
     "delete_cmd_postfix": "",
     "delete_cmd_prefix": "del ",
     "library": "var_list.py",
     "varRefreshCmd": "print(var_dic_list())"
    },
    "r": {
     "delete_cmd_postfix": ") ",
     "delete_cmd_prefix": "rm(",
     "library": "var_list.r",
     "varRefreshCmd": "cat(var_dic_list()) "
    }
   },
   "types_to_exclude": [
    "module",
    "function",
    "builtin_function_or_method",
    "instance",
    "_Feature"
   ],
   "window_display": false
  }
 },
 "nbformat": 4,
 "nbformat_minor": 4
}
