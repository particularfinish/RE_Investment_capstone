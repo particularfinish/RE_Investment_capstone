{
 "cells": [
  {
   "cell_type": "markdown",
   "id": "7a461499",
   "metadata": {},
   "source": [
    "<a id='Capstone2: Predict which homes currently for sale would meet the requirements of a real estate investor'></a>"
   ]
  },
  {
   "cell_type": "markdown",
   "id": "149ba607",
   "metadata": {},
   "source": [
    "### 1.1 Capstone 2: Real Estate Investment Prediction"
   ]
  },
  {
   "cell_type": "markdown",
   "id": "5e392229",
   "metadata": {},
   "source": [
    "The purpose of this data science project is to come up with a model that predicts whether an available house may meet the requirements of a 'typical' real estate investor.\n",
    "\n",
    "There are many homes entering the market, and they sell extremely quickly. It's difficult for an investor to calculate capitalization rate and look at the neighborhood, when most houses list mid-week and are sold by Sunday. One of the investors I spoke with has an intuitive sense of why he purchases in the particular neighborhoods and at a particular price-point, but he has to drive around to get a 'feel' for the property; when purchasing in a new city, he has to fly there and look at it in person. This isn't efficient. Which characteristics of a property truly mean most to an investor? Can we use data to tell the investor the source of his intuitive 'feel'?\n",
    "\n",
    "This project aims to build a predictive model which will suggest which of the currently available homes would meet an investor's criteria, using both the inventory of the individual investor I spoke with, and the inventory of one of the largest home-rental companies in the United States, and school demographic data for schools with enrollment based on geographical boundaries. "
   ]
  },
  {
   "cell_type": "markdown",
   "id": "8b8d31ba",
   "metadata": {},
   "source": [
    "## 1.2 Imports & Keys"
   ]
  },
  {
   "cell_type": "code",
   "execution_count": 1,
   "id": "ee4519e0",
   "metadata": {},
   "outputs": [],
   "source": [
    "# Import packages\n",
    "# Store the API keys and APP IDs as strings\n",
    "\n",
    "import requests, json\n",
    "import pandas as pd\n",
    "from ast import literal_eval\n",
    "import numpy as np\n",
    "\n",
    "#create config.py file with your key, and add a .gitignore file with the name of the credential \n",
    "#file (i.e. config.py) so that your key isn't exposed to the world on GitHub if pushing there.\n",
    "# import Configmel\n",
    "\n",
    "SCHOOLDIGGER_APP_KEY = 'XXX'\n",
    "SCHOOLDIGGER_API_KEY = 'XXX'"
   ]
  },
  {
   "cell_type": "markdown",
   "id": "f181993a",
   "metadata": {},
   "source": [
    "## 1.3 Corporate Investor Portfolio Data"
   ]
  },
  {
   "cell_type": "markdown",
   "id": "1fc576fc",
   "metadata": {},
   "source": [
    "### 1.3.1 Load the Corporate Investor Inventory Data"
   ]
  },
  {
   "cell_type": "markdown",
   "id": "c5613166",
   "metadata": {},
   "source": [
    "The first data to import is the inventory data from the large corporate investor. This company does not have an API, but the call their website uses to query their database was available through the developer console. I modified the call to include a suitable polygon of the Denver metro area (approximately the area banded by the beltway). "
   ]
  },
  {
   "cell_type": "code",
   "execution_count": 2,
   "id": "dd27c1c9",
   "metadata": {},
   "outputs": [],
   "source": [
    "# Get inventory data from the corporate investor's website using an HTTPS request taken fron the console \n",
    "# with some modifications to geographical area and return quantity\n",
    "# Store the data as text.\n",
    "\n",
    "corporateinvestor_url = \"https://lease.invitationhomes.com/api/search-v2?sort=(by:distance,dir:asc)&center=(lat:39.739236,lng:-104.990251)&bounds=(east:-104.50630325447565,north:40.06708178814617,south:39.40982316328329,west:-105.47419874552435)&filters=()&amenities=()&offset=0&limit=1000&legacy=false\"\n",
    "r_inv = requests.get(corporateinvestor_url)\n",
    "json_data_inv = r_inv.json()"
   ]
  },
  {
   "cell_type": "code",
   "execution_count": 3,
   "id": "7962c2aa",
   "metadata": {},
   "outputs": [
    {
     "name": "stdout",
     "output_type": "stream",
     "text": [
      "200 <class 'dict'>\n"
     ]
    }
   ],
   "source": [
    "# Print the response code and confirm the data type of the file created. \n",
    "print(r_inv.status_code, type(json_data_inv))"
   ]
  },
  {
   "cell_type": "code",
   "execution_count": 4,
   "id": "d16a57b7",
   "metadata": {},
   "outputs": [
    {
     "data": {
      "text/html": [
       "<div>\n",
       "<style scoped>\n",
       "    .dataframe tbody tr th:only-of-type {\n",
       "        vertical-align: middle;\n",
       "    }\n",
       "\n",
       "    .dataframe tbody tr th {\n",
       "        vertical-align: top;\n",
       "    }\n",
       "\n",
       "    .dataframe thead th {\n",
       "        text-align: right;\n",
       "    }\n",
       "</style>\n",
       "<table border=\"1\" class=\"dataframe\">\n",
       "  <thead>\n",
       "    <tr style=\"text-align: right;\">\n",
       "      <th></th>\n",
       "      <th>property_code</th>\n",
       "      <th>address_1</th>\n",
       "      <th>city</th>\n",
       "      <th>state</th>\n",
       "      <th>zipcode</th>\n",
       "      <th>beds</th>\n",
       "      <th>baths</th>\n",
       "      <th>sqft</th>\n",
       "      <th>market_rent</th>\n",
       "      <th>lat</th>\n",
       "      <th>lng</th>\n",
       "    </tr>\n",
       "  </thead>\n",
       "  <tbody>\n",
       "    <tr>\n",
       "      <th>0</th>\n",
       "      <td>10062936</td>\n",
       "      <td>4326 Wyandot St</td>\n",
       "      <td>Denver</td>\n",
       "      <td>CO</td>\n",
       "      <td>80211</td>\n",
       "      <td>3</td>\n",
       "      <td>2.00</td>\n",
       "      <td>1752</td>\n",
       "      <td>2850.00</td>\n",
       "      <td>39.77600000</td>\n",
       "      <td>-105.01437000</td>\n",
       "    </tr>\n",
       "    <tr>\n",
       "      <th>1</th>\n",
       "      <td>10049641</td>\n",
       "      <td>527 Leona Dr</td>\n",
       "      <td>Denver</td>\n",
       "      <td>CO</td>\n",
       "      <td>80221</td>\n",
       "      <td>3</td>\n",
       "      <td>3.00</td>\n",
       "      <td>1188</td>\n",
       "      <td>2375.00</td>\n",
       "      <td>39.84392000</td>\n",
       "      <td>-104.99356000</td>\n",
       "    </tr>\n",
       "    <tr>\n",
       "      <th>2</th>\n",
       "      <td>10062824</td>\n",
       "      <td>2361 Stacy Dr</td>\n",
       "      <td>Denver</td>\n",
       "      <td>CO</td>\n",
       "      <td>80221</td>\n",
       "      <td>3</td>\n",
       "      <td>2.00</td>\n",
       "      <td>1650</td>\n",
       "      <td>2310.00</td>\n",
       "      <td>39.84679000</td>\n",
       "      <td>-105.01484000</td>\n",
       "    </tr>\n",
       "    <tr>\n",
       "      <th>3</th>\n",
       "      <td>10096530</td>\n",
       "      <td>5120 Troy St</td>\n",
       "      <td>Denver</td>\n",
       "      <td>CO</td>\n",
       "      <td>80239</td>\n",
       "      <td>3</td>\n",
       "      <td>2.00</td>\n",
       "      <td>1864</td>\n",
       "      <td>2525.00</td>\n",
       "      <td>39.78991000</td>\n",
       "      <td>-104.84171000</td>\n",
       "    </tr>\n",
       "    <tr>\n",
       "      <th>4</th>\n",
       "      <td>10062679</td>\n",
       "      <td>9729 Detroit St</td>\n",
       "      <td>Thornton</td>\n",
       "      <td>CO</td>\n",
       "      <td>80229</td>\n",
       "      <td>4</td>\n",
       "      <td>2.00</td>\n",
       "      <td>2022</td>\n",
       "      <td>2550.00</td>\n",
       "      <td>39.87234000</td>\n",
       "      <td>-104.95237000</td>\n",
       "    </tr>\n",
       "  </tbody>\n",
       "</table>\n",
       "</div>"
      ],
      "text/plain": [
       "  property_code        address_1      city state zipcode  beds baths  sqft  \\\n",
       "0      10062936  4326 Wyandot St    Denver    CO   80211     3  2.00  1752   \n",
       "1      10049641     527 Leona Dr    Denver    CO   80221     3  3.00  1188   \n",
       "2      10062824    2361 Stacy Dr    Denver    CO   80221     3  2.00  1650   \n",
       "3      10096530     5120 Troy St    Denver    CO   80239     3  2.00  1864   \n",
       "4      10062679  9729 Detroit St  Thornton    CO   80229     4  2.00  2022   \n",
       "\n",
       "  market_rent          lat            lng  \n",
       "0     2850.00  39.77600000  -105.01437000  \n",
       "1     2375.00  39.84392000  -104.99356000  \n",
       "2     2310.00  39.84679000  -105.01484000  \n",
       "3     2525.00  39.78991000  -104.84171000  \n",
       "4     2550.00  39.87234000  -104.95237000  "
      ]
     },
     "execution_count": 4,
     "metadata": {},
     "output_type": "execute_result"
    }
   ],
   "source": [
    "# Create a dataframe from the inventory data using the relevant column names, and display the first 5 rows. \n",
    "\n",
    "corporate_inv = pd.DataFrame(json_data_inv['results'], columns=['property_code', 'address_1', 'city', 'state', 'zipcode', 'beds',\n",
    "                                                'baths', 'sqft', 'market_rent', 'lat', 'lng'])\n",
    "corporate_inv.head()"
   ]
  },
  {
   "cell_type": "code",
   "execution_count": 5,
   "id": "563dcf11",
   "metadata": {},
   "outputs": [
    {
     "data": {
      "text/plain": [
       "(51, 11)"
      ]
     },
     "execution_count": 5,
     "metadata": {},
     "output_type": "execute_result"
    }
   ],
   "source": [
    "# How many properties are included currently in the corporate investor inventory available on the web? \n",
    "corporate_inv.shape"
   ]
  },
  {
   "cell_type": "markdown",
   "id": "d1f6e8d4",
   "metadata": {},
   "source": [
    "Let's check the datatypes, and if necessary, clean them up. Here's what we expect, looking at the head of the dataframe:\n",
    "'property_code', 'zipcode', 'beds', 'sqft': int64; \n",
    "'address_1', 'state': object; \n",
    "'baths', 'market_rent', 'lat', 'lng': float."
   ]
  },
  {
   "cell_type": "code",
   "execution_count": 6,
   "id": "eb098484",
   "metadata": {},
   "outputs": [
    {
     "data": {
      "text/plain": [
       "property_code    object\n",
       "address_1        object\n",
       "city             object\n",
       "state            object\n",
       "zipcode          object\n",
       "beds              int64\n",
       "baths            object\n",
       "sqft              int64\n",
       "market_rent      object\n",
       "lat              object\n",
       "lng              object\n",
       "dtype: object"
      ]
     },
     "execution_count": 6,
     "metadata": {},
     "output_type": "execute_result"
    }
   ],
   "source": [
    "corporate_inv.dtypes"
   ]
  },
  {
   "cell_type": "markdown",
   "id": "a97b33a3",
   "metadata": {},
   "source": [
    "This is problematic because we cannot sort or manipulate by property code, for instance, if the property codes are sometimes strings and sometimes integers. Let's make the datatypes consistent. "
   ]
  },
  {
   "cell_type": "code",
   "execution_count": 7,
   "id": "84eb9e6b",
   "metadata": {},
   "outputs": [
    {
     "data": {
      "text/plain": [
       "property_code      int32\n",
       "address_1         object\n",
       "city              object\n",
       "state             object\n",
       "zipcode            int32\n",
       "beds               int32\n",
       "baths            float64\n",
       "sqft               int32\n",
       "market_rent      float64\n",
       "lat              float64\n",
       "lng              float64\n",
       "dtype: object"
      ]
     },
     "execution_count": 7,
     "metadata": {},
     "output_type": "execute_result"
    }
   ],
   "source": [
    "# Create a dictionary of datatypes then pass the string to the 'astype' method\n",
    "data_types_dict = {'property_code': int, 'address_1': str, 'city': str, 'state': str, 'zipcode': int, 'beds': int, \n",
    "                  'baths': float, 'sqft': int, 'market_rent': float, 'lat': float, 'lng': float}\n",
    "corporate_inv = corporate_inv.astype(data_types_dict)\n",
    "corporate_inv.dtypes"
   ]
  },
  {
   "cell_type": "markdown",
   "id": "0e51190e",
   "metadata": {},
   "source": [
    "The datatypes now look appropriate; we can move on to manipulating the data. "
   ]
  },
  {
   "cell_type": "markdown",
   "id": "0bf66595",
   "metadata": {},
   "source": [
    "### 1.3.2 Concatenate DataFrames and Check for Duplicates"
   ]
  },
  {
   "cell_type": "markdown",
   "id": "b9122c0d",
   "metadata": {},
   "source": [
    "There are approximately 60 records in our new dataframe, but the corporate investor probably owns far more. Due to the difficulty of collecting their portfolio holdings (properties are owned under multiple corporate names in multiple counties in this metro area), we will run this periodically and concatenate the new listings to the previously aquired listings, which have been saved locally, and check for duplicates. If done repeatedly, this list should grow over time. \n",
    "\n",
    "To summarize, we already have  cache of data. We need to load the previously collected data into a dataframe, concatenate the old/new dataframes, compare for duplicates, clean up the dataset (look for missing values), and write the resulting dataframe back to the csv. "
   ]
  },
  {
   "cell_type": "code",
   "execution_count": 8,
   "id": "b57598b1",
   "metadata": {},
   "outputs": [],
   "source": [
    "# Load the previously collected data from a csv into a new df, and print the head\n",
    "corporate_old = pd.read_csv('../data/corporate_properties.csv')"
   ]
  },
  {
   "cell_type": "code",
   "execution_count": 9,
   "id": "68f3913d",
   "metadata": {},
   "outputs": [],
   "source": [
    "# Combine the old and new inventory dfs and reset the index\n",
    "inventory_combined = pd.concat([corporate_old, corporate_inv]).reset_index(drop=True)"
   ]
  },
  {
   "cell_type": "code",
   "execution_count": 10,
   "id": "b140214a",
   "metadata": {},
   "outputs": [
    {
     "name": "stdout",
     "output_type": "stream",
     "text": [
      "   property_code           address_1           city state  zipcode  beds  \\\n",
      "0       10000753  10627 Kittredge St  Commerce City    CO    80022     3   \n",
      "1       10000801   10705 Clermont St       Thornton    CO    80233     3   \n",
      "2       10000898   10874 Fairfax Way       Thornton    CO    80233     4   \n",
      "3       10000946  10944 Bellaire Way       Thornton    CO    80233     4   \n",
      "4       10001199     11120 Sylvan Pl         Parker    CO    80138     3   \n",
      "\n",
      "   baths  sqft  market_rent       lat        lng  \n",
      "0    2.5  1993       2939.0  39.88982 -104.80151  \n",
      "1    2.0  1544       2529.0  39.89058 -104.93351  \n",
      "2    2.0  1904       2599.0  39.89348 -104.92838  \n",
      "3    2.0  1800       2485.0  39.89548 -104.93625  \n",
      "4    2.0  1387       2549.0  39.51228 -104.74424   (221, 11)\n"
     ]
    }
   ],
   "source": [
    "#Print the head and shape of the combined df.\n",
    "print(inventory_combined.head(), inventory_combined.shape)"
   ]
  },
  {
   "cell_type": "code",
   "execution_count": 11,
   "id": "67e3c213",
   "metadata": {},
   "outputs": [
    {
     "data": {
      "text/plain": [
       "(188, 11)"
      ]
     },
     "execution_count": 11,
     "metadata": {},
     "output_type": "execute_result"
    }
   ],
   "source": [
    "# Sort the values by the unique field 'property_code' and drop duplicates. \n",
    "inventory_combined.sort_values('property_code', inplace=True)\n",
    "pd.DataFrame.drop_duplicates(inventory_combined, subset = ['property_code'], inplace=True)\n",
    "inventory_combined.shape"
   ]
  },
  {
   "cell_type": "markdown",
   "id": "9479b5f3",
   "metadata": {},
   "source": [
    "Count the number of missing values in each column and sort them."
   ]
  },
  {
   "cell_type": "code",
   "execution_count": 12,
   "id": "4bac064b",
   "metadata": {},
   "outputs": [
    {
     "data": {
      "text/html": [
       "<div>\n",
       "<style scoped>\n",
       "    .dataframe tbody tr th:only-of-type {\n",
       "        vertical-align: middle;\n",
       "    }\n",
       "\n",
       "    .dataframe tbody tr th {\n",
       "        vertical-align: top;\n",
       "    }\n",
       "\n",
       "    .dataframe thead th {\n",
       "        text-align: right;\n",
       "    }\n",
       "</style>\n",
       "<table border=\"1\" class=\"dataframe\">\n",
       "  <thead>\n",
       "    <tr style=\"text-align: right;\">\n",
       "      <th></th>\n",
       "      <th>Count</th>\n",
       "      <th>%</th>\n",
       "    </tr>\n",
       "  </thead>\n",
       "  <tbody>\n",
       "    <tr>\n",
       "      <th>property_code</th>\n",
       "      <td>0</td>\n",
       "      <td>0.0</td>\n",
       "    </tr>\n",
       "    <tr>\n",
       "      <th>address_1</th>\n",
       "      <td>0</td>\n",
       "      <td>0.0</td>\n",
       "    </tr>\n",
       "    <tr>\n",
       "      <th>city</th>\n",
       "      <td>0</td>\n",
       "      <td>0.0</td>\n",
       "    </tr>\n",
       "    <tr>\n",
       "      <th>state</th>\n",
       "      <td>0</td>\n",
       "      <td>0.0</td>\n",
       "    </tr>\n",
       "    <tr>\n",
       "      <th>zipcode</th>\n",
       "      <td>0</td>\n",
       "      <td>0.0</td>\n",
       "    </tr>\n",
       "    <tr>\n",
       "      <th>beds</th>\n",
       "      <td>0</td>\n",
       "      <td>0.0</td>\n",
       "    </tr>\n",
       "    <tr>\n",
       "      <th>baths</th>\n",
       "      <td>0</td>\n",
       "      <td>0.0</td>\n",
       "    </tr>\n",
       "    <tr>\n",
       "      <th>sqft</th>\n",
       "      <td>0</td>\n",
       "      <td>0.0</td>\n",
       "    </tr>\n",
       "    <tr>\n",
       "      <th>market_rent</th>\n",
       "      <td>0</td>\n",
       "      <td>0.0</td>\n",
       "    </tr>\n",
       "    <tr>\n",
       "      <th>lat</th>\n",
       "      <td>0</td>\n",
       "      <td>0.0</td>\n",
       "    </tr>\n",
       "    <tr>\n",
       "      <th>lng</th>\n",
       "      <td>0</td>\n",
       "      <td>0.0</td>\n",
       "    </tr>\n",
       "  </tbody>\n",
       "</table>\n",
       "</div>"
      ],
      "text/plain": [
       "               Count    %\n",
       "property_code      0  0.0\n",
       "address_1          0  0.0\n",
       "city               0  0.0\n",
       "state              0  0.0\n",
       "zipcode            0  0.0\n",
       "beds               0  0.0\n",
       "baths              0  0.0\n",
       "sqft               0  0.0\n",
       "market_rent        0  0.0\n",
       "lat                0  0.0\n",
       "lng                0  0.0"
      ]
     },
     "execution_count": 12,
     "metadata": {},
     "output_type": "execute_result"
    }
   ],
   "source": [
    "#Count (using `.sum()`) the number of missing values (`.isnull()`) in each column of \n",
    "#combined_inventory as well as the percentages (using `.mean()` instead of `.sum()`).\n",
    "#Order them (increasing or decreasing) using sort_values\n",
    "#Call `pd.concat` to present these in a single table (DataFrame) with the helpful column names 'count' and '%'\n",
    "missing = pd.concat([inventory_combined.isnull().sum(), round(100 * inventory_combined.isnull().mean(), 2)], axis=1)\n",
    "missing.columns=[\"Count\", \"%\"]\n",
    "missing.sort_values('Count', inplace=True, ascending=False)\n",
    "missing.head(15)"
   ]
  },
  {
   "cell_type": "markdown",
   "id": "e2014020",
   "metadata": {},
   "source": [
    "There aren't any missing values in this dataset!"
   ]
  },
  {
   "cell_type": "code",
   "execution_count": 13,
   "id": "7843e1d4",
   "metadata": {},
   "outputs": [
    {
     "data": {
      "text/plain": [
       "(188, 11)"
      ]
     },
     "execution_count": 13,
     "metadata": {},
     "output_type": "execute_result"
    }
   ],
   "source": [
    "# If there are any missing values, remove the entire row (because data from Invitation should be complete\n",
    "# unless there is an error)\n",
    "inventory_combined.dropna(inplace=True)\n",
    "inventory_combined.shape"
   ]
  },
  {
   "cell_type": "code",
   "execution_count": 14,
   "id": "e762644f",
   "metadata": {},
   "outputs": [],
   "source": [
    "# Write the combined dataframe back to the csv. Overwrite the old file.\n",
    "inventory_combined.to_csv('../data/corporate_properties.csv', index = False, header = True)"
   ]
  },
  {
   "cell_type": "markdown",
   "id": "31248f7f",
   "metadata": {},
   "source": [
    "## 1.4 Individual Investor Data "
   ]
  },
  {
   "cell_type": "markdown",
   "id": "878f04b3",
   "metadata": {},
   "source": [
    "### 1.4.1 Load the Individual Investor Dataset"
   ]
  },
  {
   "cell_type": "markdown",
   "id": "0b5bffe5",
   "metadata": {},
   "source": [
    "The second dataset to load into memory and examine is the .csv containing our individual investor's portfolio of local real estate investments. "
   ]
  },
  {
   "cell_type": "code",
   "execution_count": 15,
   "id": "ffb68f96",
   "metadata": {},
   "outputs": [
    {
     "name": "stdout",
     "output_type": "stream",
     "text": [
      "              Site Address     City Mail State  Mail Zip   County Status Notes\n",
      "0        3692     CHASE CT  Boulder         CO     80307  Boulder          NaN\n",
      "1      424    S LASHLEY LN  Boulder         CO     80307  Boulder          NaN\n",
      "2  3035     ONEAL PKWY 41S  Boulder         CO     80307  Boulder          NaN\n",
      "3      285     SEMINOLE DR  Boulder         CO     80307  Boulder          NaN\n",
      "4         840     FAITH CT  Boulder         CO     80303  Boulder          NaN (24, 6)\n"
     ]
    }
   ],
   "source": [
    "# Create a second dataframe from the inventory from private individual investor (obtained from the investor)\n",
    "# Print the first 5 rows.\n",
    "ind_inv = pd.read_csv('../raw_data/individualinvestor_properties.csv')\n",
    "ind_inv = ind_inv[['Site Address', 'City', 'Mail State', 'Mail Zip', 'County', 'Status Notes', ]]\n",
    "print(ind_inv.head(), ind_inv.shape)"
   ]
  },
  {
   "cell_type": "markdown",
   "id": "19b00894",
   "metadata": {},
   "source": [
    "### 1.4.2 Examine and Clean the Data"
   ]
  },
  {
   "cell_type": "markdown",
   "id": "b7d0d500",
   "metadata": {},
   "source": [
    "I see that this data does not contain the square footage, current rent or lat/long location. This information may be difficult to put to use, unless I can find a way to automate the return of at least the square footage from the county assessor's site or another real estate repository. There are some unnecessary spaces between the street number and street name in the 'Site Address' column. Also, what is in the 'Status Notes' column? Let's look at missing data."
   ]
  },
  {
   "cell_type": "code",
   "execution_count": 16,
   "id": "e6d6e7be",
   "metadata": {},
   "outputs": [
    {
     "name": "stdout",
     "output_type": "stream",
     "text": [
      "    Site Address     City Mail State  Mail Zip   County Status Notes\n",
      "0  3692 CHASE CT  Boulder         CO     80307  Boulder          NaN\n"
     ]
    },
    {
     "name": "stderr",
     "output_type": "stream",
     "text": [
      "<ipython-input-16-beec9552eb28>:2: FutureWarning: The default value of regex will change from True to False in a future version.\n",
      "  ind_inv['Site Address'] = ind_inv['Site Address'].str.replace('\\s{2,}', ' ')\n"
     ]
    }
   ],
   "source": [
    "# Replace any number of spaces in 'Site Address' with one space\n",
    "ind_inv['Site Address'] = ind_inv['Site Address'].str.replace('\\s{2,}', ' ')\n",
    "print(ind_inv.head(1))"
   ]
  },
  {
   "cell_type": "code",
   "execution_count": 17,
   "id": "c4d14013",
   "metadata": {},
   "outputs": [
    {
     "data": {
      "text/html": [
       "<div>\n",
       "<style scoped>\n",
       "    .dataframe tbody tr th:only-of-type {\n",
       "        vertical-align: middle;\n",
       "    }\n",
       "\n",
       "    .dataframe tbody tr th {\n",
       "        vertical-align: top;\n",
       "    }\n",
       "\n",
       "    .dataframe thead th {\n",
       "        text-align: right;\n",
       "    }\n",
       "</style>\n",
       "<table border=\"1\" class=\"dataframe\">\n",
       "  <thead>\n",
       "    <tr style=\"text-align: right;\">\n",
       "      <th></th>\n",
       "      <th>Count</th>\n",
       "      <th>%</th>\n",
       "    </tr>\n",
       "  </thead>\n",
       "  <tbody>\n",
       "    <tr>\n",
       "      <th>Status Notes</th>\n",
       "      <td>16</td>\n",
       "      <td>66.67</td>\n",
       "    </tr>\n",
       "    <tr>\n",
       "      <th>Site Address</th>\n",
       "      <td>0</td>\n",
       "      <td>0.00</td>\n",
       "    </tr>\n",
       "    <tr>\n",
       "      <th>City</th>\n",
       "      <td>0</td>\n",
       "      <td>0.00</td>\n",
       "    </tr>\n",
       "    <tr>\n",
       "      <th>Mail State</th>\n",
       "      <td>0</td>\n",
       "      <td>0.00</td>\n",
       "    </tr>\n",
       "    <tr>\n",
       "      <th>Mail Zip</th>\n",
       "      <td>0</td>\n",
       "      <td>0.00</td>\n",
       "    </tr>\n",
       "    <tr>\n",
       "      <th>County</th>\n",
       "      <td>0</td>\n",
       "      <td>0.00</td>\n",
       "    </tr>\n",
       "  </tbody>\n",
       "</table>\n",
       "</div>"
      ],
      "text/plain": [
       "              Count      %\n",
       "Status Notes     16  66.67\n",
       "Site Address      0   0.00\n",
       "City              0   0.00\n",
       "Mail State        0   0.00\n",
       "Mail Zip          0   0.00\n",
       "County            0   0.00"
      ]
     },
     "execution_count": 17,
     "metadata": {},
     "output_type": "execute_result"
    }
   ],
   "source": [
    "#Count (using `.sum()`) the number of missing values (`.isnull()`) in each column of \n",
    "#combined_inventory as well as the percentages (using `.mean()` instead of `.sum()`).\n",
    "#Order them (increasing or decreasing) using sort_values\n",
    "#Call `pd.concat` to present these in a single table (DataFrame) with the helpful column names 'count' and '%'\n",
    "missing = pd.concat([ind_inv.isnull().sum(), round(100 * ind_inv.isnull().mean(), 2)], axis=1)\n",
    "missing.columns=[\"Count\", \"%\"]\n",
    "missing.sort_values('Count', inplace=True, ascending=False)\n",
    "missing.head(15)"
   ]
  },
  {
   "cell_type": "markdown",
   "id": "3ea77c32",
   "metadata": {},
   "source": [
    "It looks like all of the missing data is within 'Status Notes'. "
   ]
  },
  {
   "cell_type": "code",
   "execution_count": 18,
   "id": "3d3bdb86",
   "metadata": {},
   "outputs": [
    {
     "data": {
      "text/plain": [
       "array([nan, 'Multi (3)', 'Multi', 'MH In Park',\n",
       "       'Single Family Residential', 'Mobile Home Parks'], dtype=object)"
      ]
     },
     "execution_count": 18,
     "metadata": {},
     "output_type": "execute_result"
    }
   ],
   "source": [
    "# Look at all the unique values within the column, 'Status Notes'\n",
    "ind_inv['Status Notes'].unique()"
   ]
  },
  {
   "cell_type": "markdown",
   "id": "21e2ca46",
   "metadata": {},
   "source": [
    "It looks like 'Status Notes' contains information about the type of properties, including whether something is a multi-family property or a mobile home. The scope of this study is single family residences, only. We can delete all entries denoted as multi or mobile home. We will keep only rows with 'Status Notes' entry of 'Single Family Residential' or NaN. "
   ]
  },
  {
   "cell_type": "code",
   "execution_count": 19,
   "id": "567c76f3",
   "metadata": {},
   "outputs": [
    {
     "data": {
      "text/plain": [
       "(17, 6)"
      ]
     },
     "execution_count": 19,
     "metadata": {},
     "output_type": "execute_result"
    }
   ],
   "source": [
    "# Make a list of 'Status Notes' values that we will keep\n",
    "status_options = ['Single Family Residential', np.nan] \n",
    "    \n",
    "# selecting rows based on condition \n",
    "ind_inv = ind_inv[ind_inv['Status Notes'].isin(status_options)] \n",
    "ind_inv.shape"
   ]
  },
  {
   "cell_type": "markdown",
   "id": "be96f82c",
   "metadata": {},
   "source": [
    "There are 17 properties left in this dataset. It is possible that we will not use this dataset for the initial model. "
   ]
  },
  {
   "cell_type": "markdown",
   "id": "0d496f7c",
   "metadata": {},
   "source": [
    "### 1.4.3 Save the Investor Data Locally"
   ]
  },
  {
   "cell_type": "code",
   "execution_count": 20,
   "id": "c71a8163",
   "metadata": {},
   "outputs": [],
   "source": [
    "ind_inv.to_csv(\"../data/individualinvestor_properties.csv\", index = False)"
   ]
  },
  {
   "cell_type": "markdown",
   "id": "5e4ab129",
   "metadata": {},
   "source": [
    "## 1.5 SchoolDigger API Data"
   ]
  },
  {
   "cell_type": "markdown",
   "id": "9375edb9",
   "metadata": {},
   "source": [
    "Next, we can use the SchoolDigger API to get the school information and demographics. Per their documentation (developer.schooldigger.com), other characteristics of the school such as the percentage of students receiving free lunch, and the percentages of various ethnicities of the students, are also available. "
   ]
  },
  {
   "cell_type": "markdown",
   "id": "15845da5",
   "metadata": {},
   "source": [
    "### 1.5.1 Load Data through API"
   ]
  },
  {
   "cell_type": "markdown",
   "id": "0acb8ea8",
   "metadata": {},
   "source": [
    "Create the url as per the schooldigger documentation to include rankings from 2020, the shape of the denver metro area in question (the same as that called for the corporate investorproperties) and max per page, which is 50. We will not look at the private, virtual, charter and magnet schools. We will iterate the call to gather all of the data. "
   ]
  },
  {
   "cell_type": "markdown",
   "id": "be297061",
   "metadata": {},
   "source": [
    "First, we will call the first page of the response and check the JSON for the number of pages in the complete set. "
   ]
  },
  {
   "cell_type": "code",
   "execution_count": 72,
   "id": "4b38e26a",
   "metadata": {},
   "outputs": [],
   "source": [
    "url = 'https://api.schooldigger.com/v1.2/schools?st=CO&boxLatitudeNW=40.06708178814617&boxLongitudeNW=-105.47419874552435&boxLatitudeSE=39.40982316328329&boxLongitudeSE=-104.50630325447565&perPage=50'   \n",
    "url_params = {     # Parameters passed to the API\n",
    "    \"page\": 1,  # We are going to iterate the page number\n",
    "    \"level\": \"Public\",\n",
    "    \"isCharter\": \"False\",\n",
    "    \"isVirtual\": \"False\",\n",
    "    \"isMagnet\": \"False\",\n",
    "    \"appID\": \"XXX\",\n",
    "    \"appKey\": \"XXX\"\n",
    "    }\n",
    "    \n",
    "r = requests.get(url, params=url_params)\n",
    "\n",
    "# 'schoolList' per API documentation contains needed data\n",
    "# Create initial dataframe\n",
    "firstpage = r.json()\n",
    "df1 = pd.DataFrame.from_dict(firstpage['schoolList'])\n"
   ]
  },
  {
   "cell_type": "code",
   "execution_count": 133,
   "id": "820bc134",
   "metadata": {},
   "outputs": [
    {
     "name": "stdout",
     "output_type": "stream",
     "text": [
      "14\n"
     ]
    }
   ],
   "source": [
    "# Get the total number of pages to be returned from the JSON\n",
    "num_pages = firstpage['numberOfPages']\n",
    "print(num_pages)"
   ]
  },
  {
   "cell_type": "code",
   "execution_count": 134,
   "id": "6af6826b",
   "metadata": {
    "scrolled": true
   },
   "outputs": [],
   "source": [
    "def get_schools(page_num): \n",
    "# This function launches the request for all school data in the Denver region.\n",
    "\n",
    "# Parameters passed to the API\n",
    "    url = 'https://api.schooldigger.com/v1.2/schools?st=CO&boxLatitudeNW=40.06708178814617&boxLongitudeNW=-105.47419874552435&boxLatitudeSE=39.40982316328329&boxLongitudeSE=-104.50630325447565&perPage=50'   \n",
    "    url_params = {     \n",
    "    \"page\": page_num,  \n",
    "    \"level\": \"Public\",\n",
    "    \"isCharter\": \"False\",\n",
    "    \"isVirtual\": \"False\",\n",
    "    \"isMagnet\": \"False\",\n",
    "    \"appID\": \"XXX\",\n",
    "    \"appKEY\": \"XXX\"    \n",
    "    }\n",
    "\n",
    "    \n",
    "    response = requests.get(url, params=url_params)\n",
    "    return response.json()\n",
    "\n",
    "# Iterate over the page_num up to the max number of pages. Call the get_schools function and append result to the dataframe. \n",
    "for page_num in range(2,(num_pages + 1)) : \n",
    "    try:\n",
    "            output_json = get_schools(page_num) \n",
    "            df2 = pd.DataFrame.from_dict(output_json['schoolList'])\n",
    "            df1 = df1.append(df2)\n",
    "\n",
    "    except AttributeError:\n",
    "            print(\"error at \", page_num)\n",
    "            "
   ]
  },
  {
   "cell_type": "code",
   "execution_count": 135,
   "id": "148bc709",
   "metadata": {},
   "outputs": [],
   "source": [
    "# Save the raw file to local computer. Altered the keys so that I cannot accidentally make the call again (paid API)\n",
    "df1.to_csv(\"../raw_data/school_digger.csv\", index = False)"
   ]
  },
  {
   "cell_type": "code",
   "execution_count": 40,
   "id": "0713c51f",
   "metadata": {},
   "outputs": [],
   "source": [
    "# Load the dataframe back from the local file, for testing without running above code.  \n",
    "schooldigger_raw_df = pd.read_csv(\"../raw_data/school_digger.csv\")"
   ]
  },
  {
   "cell_type": "code",
   "execution_count": 41,
   "id": "b03bfc22",
   "metadata": {},
   "outputs": [
    {
     "data": {
      "text/html": [
       "<div>\n",
       "<style scoped>\n",
       "    .dataframe tbody tr th:only-of-type {\n",
       "        vertical-align: middle;\n",
       "    }\n",
       "\n",
       "    .dataframe tbody tr th {\n",
       "        vertical-align: top;\n",
       "    }\n",
       "\n",
       "    .dataframe thead th {\n",
       "        text-align: right;\n",
       "    }\n",
       "</style>\n",
       "<table border=\"1\" class=\"dataframe\">\n",
       "  <thead>\n",
       "    <tr style=\"text-align: right;\">\n",
       "      <th></th>\n",
       "      <th>schoolid</th>\n",
       "      <th>schoolName</th>\n",
       "      <th>address</th>\n",
       "      <th>lowGrade</th>\n",
       "      <th>highGrade</th>\n",
       "      <th>schoolLevel</th>\n",
       "      <th>district</th>\n",
       "      <th>county</th>\n",
       "      <th>rankMovement</th>\n",
       "      <th>schoolYearlyDetails</th>\n",
       "      <th>hasBoundary</th>\n",
       "    </tr>\n",
       "  </thead>\n",
       "  <tbody>\n",
       "    <tr>\n",
       "      <th>508</th>\n",
       "      <td>80000400709</td>\n",
       "      <td>Rocky Mountain School Of Expeditionary Learning</td>\n",
       "      <td>{'latLong': {'latitude': 39.6854, 'longitude':...</td>\n",
       "      <td>K</td>\n",
       "      <td>12</td>\n",
       "      <td>Alternative</td>\n",
       "      <td>{'districtID': '0800004', 'districtName': 'Den...</td>\n",
       "      <td>{'countyName': 'Denver County', 'countyURL': '...</td>\n",
       "      <td>NaN</td>\n",
       "      <td>[{'year': 2020, 'numberOfStudents': 368, 'perc...</td>\n",
       "      <td>False</td>\n",
       "    </tr>\n",
       "    <tr>\n",
       "      <th>359</th>\n",
       "      <td>80028606668</td>\n",
       "      <td>Lookout Mountain</td>\n",
       "      <td>{'latLong': {'latitude': 39.741558, 'longitude...</td>\n",
       "      <td>5</td>\n",
       "      <td>12</td>\n",
       "      <td>High</td>\n",
       "      <td>{'districtID': '0800286', 'districtName': 'Div...</td>\n",
       "      <td>{'countyName': 'Jefferson County', 'countyURL'...</td>\n",
       "      <td>NaN</td>\n",
       "      <td>[{'year': 2020, 'numberOfStudents': 0, 'percen...</td>\n",
       "      <td>False</td>\n",
       "    </tr>\n",
       "    <tr>\n",
       "      <th>417</th>\n",
       "      <td>80028606703</td>\n",
       "      <td>Mount View Youth Services Center</td>\n",
       "      <td>{'latLong': {'latitude': 39.647876, 'longitude...</td>\n",
       "      <td>5</td>\n",
       "      <td>12</td>\n",
       "      <td>High</td>\n",
       "      <td>{'districtID': '0800286', 'districtName': 'Div...</td>\n",
       "      <td>{'countyName': 'Jefferson County', 'countyURL'...</td>\n",
       "      <td>NaN</td>\n",
       "      <td>[{'year': 2020, 'numberOfStudents': 0, 'percen...</td>\n",
       "      <td>False</td>\n",
       "    </tr>\n",
       "    <tr>\n",
       "      <th>49</th>\n",
       "      <td>80028606742</td>\n",
       "      <td>Betty K Marler Youth Services Center</td>\n",
       "      <td>{'latLong': {'latitude': 39.647876, 'longitude...</td>\n",
       "      <td>6</td>\n",
       "      <td>12</td>\n",
       "      <td>High</td>\n",
       "      <td>{'districtID': '0800286', 'districtName': 'Div...</td>\n",
       "      <td>{'countyName': 'Jefferson County', 'countyURL'...</td>\n",
       "      <td>NaN</td>\n",
       "      <td>[{'year': 2020, 'numberOfStudents': 0, 'percen...</td>\n",
       "      <td>False</td>\n",
       "    </tr>\n",
       "    <tr>\n",
       "      <th>5</th>\n",
       "      <td>80195000009</td>\n",
       "      <td>Adams City Middle School</td>\n",
       "      <td>{'latLong': {'latitude': 39.8282, 'longitude':...</td>\n",
       "      <td>6</td>\n",
       "      <td>8</td>\n",
       "      <td>Middle</td>\n",
       "      <td>{'districtID': '0801950', 'districtName': 'Sch...</td>\n",
       "      <td>{'countyName': 'Adams County', 'countyURL': 'h...</td>\n",
       "      <td>-38.0</td>\n",
       "      <td>[{'year': 2020, 'numberOfStudents': 773, 'perc...</td>\n",
       "      <td>True</td>\n",
       "    </tr>\n",
       "  </tbody>\n",
       "</table>\n",
       "</div>"
      ],
      "text/plain": [
       "        schoolid                                       schoolName  \\\n",
       "508  80000400709  Rocky Mountain School Of Expeditionary Learning   \n",
       "359  80028606668                                 Lookout Mountain   \n",
       "417  80028606703                 Mount View Youth Services Center   \n",
       "49   80028606742             Betty K Marler Youth Services Center   \n",
       "5    80195000009                         Adams City Middle School   \n",
       "\n",
       "                                               address lowGrade highGrade  \\\n",
       "508  {'latLong': {'latitude': 39.6854, 'longitude':...        K        12   \n",
       "359  {'latLong': {'latitude': 39.741558, 'longitude...        5        12   \n",
       "417  {'latLong': {'latitude': 39.647876, 'longitude...        5        12   \n",
       "49   {'latLong': {'latitude': 39.647876, 'longitude...        6        12   \n",
       "5    {'latLong': {'latitude': 39.8282, 'longitude':...        6         8   \n",
       "\n",
       "     schoolLevel                                           district  \\\n",
       "508  Alternative  {'districtID': '0800004', 'districtName': 'Den...   \n",
       "359         High  {'districtID': '0800286', 'districtName': 'Div...   \n",
       "417         High  {'districtID': '0800286', 'districtName': 'Div...   \n",
       "49          High  {'districtID': '0800286', 'districtName': 'Div...   \n",
       "5         Middle  {'districtID': '0801950', 'districtName': 'Sch...   \n",
       "\n",
       "                                                county  rankMovement  \\\n",
       "508  {'countyName': 'Denver County', 'countyURL': '...           NaN   \n",
       "359  {'countyName': 'Jefferson County', 'countyURL'...           NaN   \n",
       "417  {'countyName': 'Jefferson County', 'countyURL'...           NaN   \n",
       "49   {'countyName': 'Jefferson County', 'countyURL'...           NaN   \n",
       "5    {'countyName': 'Adams County', 'countyURL': 'h...         -38.0   \n",
       "\n",
       "                                   schoolYearlyDetails  hasBoundary  \n",
       "508  [{'year': 2020, 'numberOfStudents': 368, 'perc...        False  \n",
       "359  [{'year': 2020, 'numberOfStudents': 0, 'percen...        False  \n",
       "417  [{'year': 2020, 'numberOfStudents': 0, 'percen...        False  \n",
       "49   [{'year': 2020, 'numberOfStudents': 0, 'percen...        False  \n",
       "5    [{'year': 2020, 'numberOfStudents': 773, 'perc...         True  "
      ]
     },
     "execution_count": 41,
     "metadata": {},
     "output_type": "execute_result"
    }
   ],
   "source": [
    "# Somehow, my raw data file ended up with duplicates:\n",
    "schooldigger_raw_df.sort_values(by='schoolid').head()"
   ]
  },
  {
   "cell_type": "code",
   "execution_count": 42,
   "id": "32bb8bf1",
   "metadata": {},
   "outputs": [],
   "source": [
    "# Drop duplicates by school id\n",
    "schooldigger_raw_df.drop_duplicates(subset=\"schoolid\", inplace=True)"
   ]
  },
  {
   "cell_type": "code",
   "execution_count": 43,
   "id": "658c7ece",
   "metadata": {},
   "outputs": [],
   "source": [
    "# If there are no duplicates, the above code will not make any changes. \n",
    "schooldigger_raw_df.to_csv(\"../raw_data/school_digger.csv\", index = False)"
   ]
  },
  {
   "cell_type": "markdown",
   "id": "b3c88cf9",
   "metadata": {},
   "source": [
    "### 1.5.2 Narrow Down the Dataset for Desired Fields"
   ]
  },
  {
   "cell_type": "code",
   "execution_count": 3,
   "id": "562038b2",
   "metadata": {},
   "outputs": [
    {
     "name": "stdout",
     "output_type": "stream",
     "text": [
      "Index(['schoolid', 'schoolName', 'phone', 'url', 'urlCompare', 'address',\n",
      "       'lowGrade', 'highGrade', 'schoolLevel', 'isCharterSchool',\n",
      "       'isMagnetSchool', 'isVirtualSchool', 'isTitleISchool',\n",
      "       'isTitleISchoolwideSchool', 'district', 'county', 'rankHistory',\n",
      "       'rankMovement', 'schoolYearlyDetails', 'isPrivate', 'privateDays',\n",
      "       'privateHours', 'privateHasLibrary', 'privateCoed',\n",
      "       'privateOrientation', 'hasBoundary'],\n",
      "      dtype='object')\n"
     ]
    }
   ],
   "source": [
    "# List the column names of the data\n",
    "print(schooldigger_raw_df.columns)"
   ]
  },
  {
   "cell_type": "markdown",
   "id": "4170bf07",
   "metadata": {},
   "source": [
    "Because we did not include any virtual schools, magnet schools, charter schools, or private schools in the call to the API, we can safely delete those columns of the dataframe. We also do not need the url, urlcompare, the phone number, and some other superfluous columns for this project. "
   ]
  },
  {
   "cell_type": "code",
   "execution_count": 4,
   "id": "48508b39",
   "metadata": {},
   "outputs": [
    {
     "name": "stdout",
     "output_type": "stream",
     "text": [
      "Index(['schoolid', 'schoolName', 'address', 'lowGrade', 'highGrade',\n",
      "       'schoolLevel', 'district', 'county', 'rankMovement',\n",
      "       'schoolYearlyDetails', 'hasBoundary'],\n",
      "      dtype='object')\n"
     ]
    }
   ],
   "source": [
    "# Make a list of columns to keep and then keep just those columns. \n",
    "# Print out the new list of columns to confirm changes.\n",
    "keep_columns = ['schoolid', 'schoolName', 'address', 'lowGrade', 'highGrade', 'schoolLevel', 'district', 'county',\n",
    "                'rankMovement', 'schoolYearlyDetails', 'hasBoundary']\n",
    "schooldigger_raw_df = schooldigger_raw_df[keep_columns]\n",
    "print(schooldigger_raw_df.columns)"
   ]
  },
  {
   "cell_type": "markdown",
   "id": "71f7ee45",
   "metadata": {},
   "source": [
    "### 1.5.3 Correct Data Types, and Unnest Lists and Dictionaries within the SchoolDigger set"
   ]
  },
  {
   "cell_type": "markdown",
   "id": "10e8458e",
   "metadata": {},
   "source": [
    "Some nice data is under 'schoolYearlyDetails' as a nested list, and under 'address', 'district' and 'county' as dictionaries. "
   ]
  },
  {
   "cell_type": "code",
   "execution_count": 5,
   "id": "1f695a3e",
   "metadata": {
    "scrolled": true
   },
   "outputs": [
    {
     "name": "stdout",
     "output_type": "stream",
     "text": [
      "<class 'str'>\n",
      "<class 'str'>\n",
      "<class 'str'>\n",
      "<class 'str'>\n"
     ]
    }
   ],
   "source": [
    "# Display the type of data in columns\n",
    "list_strings = ['schoolYearlyDetails','address', 'county', 'district']\n",
    "for column in list_strings:    \n",
    "    print(type(schooldigger_raw_df[column][0]))"
   ]
  },
  {
   "cell_type": "markdown",
   "id": "d5203b47",
   "metadata": {},
   "source": [
    "These fields are currently strings, so first we need to change them dict / list. "
   ]
  },
  {
   "cell_type": "code",
   "execution_count": 6,
   "id": "1d547e4a",
   "metadata": {},
   "outputs": [
    {
     "name": "stdout",
     "output_type": "stream",
     "text": [
      "<class 'list'>\n",
      "<class 'dict'>\n",
      "<class 'dict'>\n",
      "<class 'dict'>\n"
     ]
    }
   ],
   "source": [
    "# Use literal_eval to change strings to list/dict and print out the current data type of those series. \n",
    "for column in list_strings:\n",
    "    schooldigger_raw_df[column] = schooldigger_raw_df[column].apply(lambda x: literal_eval(str(x)))\n",
    "for column in list_strings:    \n",
    "    print(type(schooldigger_raw_df[column][0]))"
   ]
  },
  {
   "cell_type": "markdown",
   "id": "42993499",
   "metadata": {},
   "source": [
    "We can use the pandas json_normalize function to flatten the dictionaries within the 'address', 'county', and 'district' columns. "
   ]
  },
  {
   "cell_type": "code",
   "execution_count": 7,
   "id": "0be77e8a",
   "metadata": {},
   "outputs": [],
   "source": [
    "# Use panda's json_normalize to flatten the dictionaries within the columns.\n",
    "df_address = pd.json_normalize(schooldigger_raw_df['address'])\n",
    "df_county = pd.json_normalize(schooldigger_raw_df['county'])\n",
    "df_district = pd.json_normalize(schooldigger_raw_df['district'])"
   ]
  },
  {
   "cell_type": "code",
   "execution_count": 8,
   "id": "dfd1e0a8",
   "metadata": {},
   "outputs": [],
   "source": [
    "# Reset all of the indexes\n",
    "df_address.reset_index(drop=True, inplace=True)\n",
    "df_county.reset_index(drop=True, inplace=True)\n",
    "df_district.reset_index(drop=True, inplace=True)\n",
    "schooldigger_raw_df.reset_index(drop=True, inplace=True)"
   ]
  },
  {
   "cell_type": "code",
   "execution_count": 9,
   "id": "38c8d17f",
   "metadata": {},
   "outputs": [
    {
     "name": "stdout",
     "output_type": "stream",
     "text": [
      "Index(['countyName', 'countyURL'], dtype='object')\n",
      "       countyName                                          countyURL\n",
      "0   Denver County  https://www.schooldigger.com/go/CO/county/Denv...\n",
      "1   Denver County  https://www.schooldigger.com/go/CO/county/Denv...\n",
      "2    Adams County  https://www.schooldigger.com/go/CO/county/Adam...\n",
      "3  Douglas County  https://www.schooldigger.com/go/CO/county/Doug...\n",
      "4    Adams County  https://www.schooldigger.com/go/CO/county/Adam...\n"
     ]
    }
   ],
   "source": [
    "# Look at the data in the 'county' df. We will only keep the 'countyName' column, because the other column contains\n",
    "# URLs back to the API website which generate 404 errors. \n",
    "print(df_county.columns)\n",
    "print(df_county.head())"
   ]
  },
  {
   "cell_type": "code",
   "execution_count": 10,
   "id": "b71eb31d",
   "metadata": {},
   "outputs": [
    {
     "name": "stdout",
     "output_type": "stream",
     "text": [
      "Index(['districtID', 'districtName', 'url', 'rankURL'], dtype='object')\n"
     ]
    }
   ],
   "source": [
    "# look at the data in the 'district' df. We will only keep the 'districtName', because again the other columns contain\n",
    "# URLs, and we will not be using the 'districtID'\n",
    "print(df_district.columns)"
   ]
  },
  {
   "cell_type": "code",
   "execution_count": 11,
   "id": "5049e2cd",
   "metadata": {},
   "outputs": [
    {
     "name": "stdout",
     "output_type": "stream",
     "text": [
      "Index(['street', 'city', 'state', 'stateFull', 'zip', 'zip4', 'cityURL',\n",
      "       'zipURL', 'html', 'latLong.latitude', 'latLong.longitude'],\n",
      "      dtype='object')\n"
     ]
    }
   ],
   "source": [
    "# Look at the data in the 'address' df. We will keep the street, city, state, zip, latitude and longitude.\n",
    "# We will drop the full state name, the zip+4, and the URLs back to the API source. \n",
    "print(df_address.columns)"
   ]
  },
  {
   "cell_type": "code",
   "execution_count": 12,
   "id": "b1e00b8a",
   "metadata": {},
   "outputs": [],
   "source": [
    "# Now concatentate the normalized columns to the main df, and drop all of the unwanted columns as discussed above. \n",
    "schooldigger_explode_df = pd.concat([schooldigger_raw_df, df_address, df_county, df_district], axis=1)\n",
    "schooldigger_explode_df.drop(['address', 'stateFull', 'cityURL', 'zipURL', 'html', 'countyURL', 'url', 'rankURL', \n",
    "                         'district', 'districtID', 'county'], axis = 1, inplace=True)"
   ]
  },
  {
   "cell_type": "code",
   "execution_count": 13,
   "id": "2b9ac04c",
   "metadata": {},
   "outputs": [
    {
     "name": "stdout",
     "output_type": "stream",
     "text": [
      "      schoolid                   schoolName lowGrade highGrade schoolLevel  \\\n",
      "0  80336000305  Abraham Lincoln High School        9        12        High   \n",
      "1  80336001750  Academia Ana Marie Sandoval       PK         6  Elementary   \n",
      "\n",
      "   rankMovement                                schoolYearlyDetails  \\\n",
      "0         -12.0  [{'year': 2020, 'numberOfStudents': 971, 'perc...   \n",
      "1         -13.0  [{'year': 2020, 'numberOfStudents': 423, 'perc...   \n",
      "\n",
      "   hasBoundary                        street    city state    zip  zip4  \\\n",
      "0         True  2285 South Federal Boulevard  Denver    CO  80219  5433   \n",
      "1         True           3655 Wyandot Street  Denver    CO  80211  2950   \n",
      "\n",
      "   latLong.latitude  latLong.longitude     countyName           districtName  \n",
      "0           39.6761          -105.0265  Denver County  School District No. 1  \n",
      "1           39.7675          -105.0155  Denver County  School District No. 1  \n"
     ]
    }
   ],
   "source": [
    "#schooldigger_explode_df.reset_index(drop=True, inplace=True)\n",
    "print(schooldigger_explode_df.head(2))"
   ]
  },
  {
   "cell_type": "code",
   "execution_count": 14,
   "id": "49fc76ba",
   "metadata": {},
   "outputs": [
    {
     "name": "stdout",
     "output_type": "stream",
     "text": [
      "[{'year': 2020, 'numberOfStudents': 971, 'percentFreeDiscLunch': 90.73, 'percentofAfricanAmericanStudents': 4.02, 'percentofAsianStudents': 2.88, 'percentofHispanicStudents': 88.36, 'percentofIndianStudents': 1.24, 'percentofPacificIslanderStudents': 0.0, 'percentofWhiteStudents': 2.99, 'percentofTwoOrMoreRaceStudents': 0.51, 'percentofUnspecifiedRaceStudents': None, 'teachersFulltime': 65.0, 'pupilTeacherRatio': 14.9, 'numberofAfricanAmericanStudents': 39, 'numberofAsianStudents': 28, 'numberofHispanicStudents': 858, 'numberofIndianStudents': 12, 'numberofPacificIslanderStudents': 0, 'numberofWhiteStudents': 29, 'numberofTwoOrMoreRaceStudents': 5, 'numberofUnspecifiedRaceStudents': None}, {'year': 2019, 'numberOfStudents': 952, 'percentFreeDiscLunch': 91.07, 'percentofAfricanAmericanStudents': 3.05, 'percentofAsianStudents': 3.99, 'percentofHispanicStudents': 88.55, 'percentofIndianStudents': 1.05, 'percentofPacificIslanderStudents': 0.0, 'percentofWhiteStudents': 2.63, 'percentofTwoOrMoreRaceStudents': 0.74, 'percentofUnspecifiedRaceStudents': None, 'teachersFulltime': 65.3, 'pupilTeacherRatio': 14.5, 'numberofAfricanAmericanStudents': 29, 'numberofAsianStudents': 38, 'numberofHispanicStudents': 843, 'numberofIndianStudents': 10, 'numberofPacificIslanderStudents': 0, 'numberofWhiteStudents': 25, 'numberofTwoOrMoreRaceStudents': 7, 'numberofUnspecifiedRaceStudents': None}]\n"
     ]
    }
   ],
   "source": [
    "# Now let's look at the 'schoolYearlyDetails' which contains a dictionary, by printing one entry to the console to examine \n",
    "print(schooldigger_explode_df['schoolYearlyDetails'][0])"
   ]
  },
  {
   "cell_type": "markdown",
   "id": "1f57879b",
   "metadata": {},
   "source": [
    "The column 'schoolYearlyDetails' is a list of dictionaries. We are going to handle this by first moving it to a series, then dropping the '2019' data. We will drop the '2019' data because we will examine the potential investment properties with their present characteristics, and not look at changes over time. "
   ]
  },
  {
   "cell_type": "code",
   "execution_count": 15,
   "id": "0bb932af",
   "metadata": {},
   "outputs": [],
   "source": [
    "# Turn the column into a series; and drop the data from 2019. Drop the column from the main schooldigger df which was \n",
    "# made into a series. \n",
    "details_series = schooldigger_explode_df['schoolYearlyDetails'].apply(pd.Series).reset_index(drop=True)\n",
    "details_series.drop([1], axis=1, inplace=True)\n",
    "schooldigger_explode_df.drop(['schoolYearlyDetails'], axis = 1, inplace=True)"
   ]
  },
  {
   "cell_type": "code",
   "execution_count": 16,
   "id": "ed9f50f5",
   "metadata": {},
   "outputs": [
    {
     "data": {
      "text/plain": [
       "Index(['schoolid', 'schoolName', 'lowGrade', 'highGrade', 'schoolLevel',\n",
       "       'rankMovement', 'hasBoundary', 'street', 'city', 'state', 'zip', 'zip4',\n",
       "       'latLong.latitude', 'latLong.longitude', 'countyName', 'districtName'],\n",
       "      dtype='object')"
      ]
     },
     "execution_count": 16,
     "metadata": {},
     "output_type": "execute_result"
    }
   ],
   "source": [
    "schooldigger_explode_df.columns"
   ]
  },
  {
   "cell_type": "code",
   "execution_count": 17,
   "id": "a9ff4bdc",
   "metadata": {},
   "outputs": [
    {
     "name": "stdout",
     "output_type": "stream",
     "text": [
      "                                                   0\n",
      "0  {'year': 2020, 'numberOfStudents': 971, 'perce...\n",
      "1  {'year': 2020, 'numberOfStudents': 423, 'perce... (1292, 1)\n"
     ]
    }
   ],
   "source": [
    "# Reset the index of the schoolYearlyDetails series and print the head to the console\n",
    "details_series.reset_index(drop=True, inplace=True)\n",
    "print(details_series.head(2), details_series.shape)"
   ]
  },
  {
   "cell_type": "code",
   "execution_count": 18,
   "id": "557caa73",
   "metadata": {},
   "outputs": [],
   "source": [
    "# Concat the main schooldigger df with this details series.\n",
    "schooldigger_explode_df = pd.concat([schooldigger_explode_df, details_series], axis=1)"
   ]
  },
  {
   "cell_type": "code",
   "execution_count": 19,
   "id": "dde476ac",
   "metadata": {},
   "outputs": [],
   "source": [
    "# Rename a few of the columns to make it easier to visually parse\n",
    "schooldigger_explode_df.rename(columns = {0:'Details', 'latLong.latitude':'latitude', 'latLong.longitude':'longitude'},\n",
    "                               inplace = True)"
   ]
  },
  {
   "cell_type": "code",
   "execution_count": 20,
   "id": "eddedf14",
   "metadata": {},
   "outputs": [
    {
     "name": "stdout",
     "output_type": "stream",
     "text": [
      "Index([                                 0,                 'numberOfStudents',\n",
      "        'numberofAfricanAmericanStudents',            'numberofAsianStudents',\n",
      "               'numberofHispanicStudents',           'numberofIndianStudents',\n",
      "        'numberofPacificIslanderStudents',    'numberofTwoOrMoreRaceStudents',\n",
      "        'numberofUnspecifiedRaceStudents',            'numberofWhiteStudents',\n",
      "                   'percentFreeDiscLunch', 'percentofAfricanAmericanStudents',\n",
      "                 'percentofAsianStudents',        'percentofHispanicStudents',\n",
      "                'percentofIndianStudents', 'percentofPacificIslanderStudents',\n",
      "         'percentofTwoOrMoreRaceStudents', 'percentofUnspecifiedRaceStudents',\n",
      "                 'percentofWhiteStudents',                'pupilTeacherRatio',\n",
      "                       'teachersFulltime',                             'year'],\n",
      "      dtype='object')\n"
     ]
    }
   ],
   "source": [
    "# create new df of the Details column and use apply(pd.Series), print the column name to pick which we want to keep.\n",
    "df_deets = schooldigger_explode_df['Details'].apply(pd.Series)\n",
    "print(df_deets.columns)"
   ]
  },
  {
   "cell_type": "code",
   "execution_count": 21,
   "id": "5054c933",
   "metadata": {},
   "outputs": [],
   "source": [
    "# Filter the df by the list of columns we wish to keep; Because we are keeping all the % columns and the total column, \n",
    "# we can drop the columns containing number (because % * total will give us back number)\n",
    "list_deets = ['numberOfStudents', 'percentFreeDiscLunch', 'percentofAfricanAmericanStudents', \n",
    "                    'percentofAsianStudents', 'percentofHispanicStudents', 'percentofWhiteStudents', 'percentofIndianStudents',\n",
    "                    'percentofPacificIslanderStudents','percentofTwoOrMoreRaceStudents', 'percentofUnspecifiedRaceStudents',\n",
    "                    'pupilTeacherRatio', 'year']\n",
    "df_deets = df_deets[list_deets].reset_index()"
   ]
  },
  {
   "cell_type": "code",
   "execution_count": 22,
   "id": "b2d7d18f",
   "metadata": {},
   "outputs": [],
   "source": [
    "# Create 'clean' schooldigger df by concatenating the main schooldigger df and the df_deets column-wise. Drop the\n",
    "# un-expanded column, 'Details' because it contains information already contained in the df. \n",
    "schooldigger_clean = pd.concat([schooldigger_explode_df, df_deets], axis=1)\n",
    "schooldigger_clean.drop(['Details'], axis = 1, inplace=True)"
   ]
  },
  {
   "cell_type": "code",
   "execution_count": 23,
   "id": "bd974d14",
   "metadata": {},
   "outputs": [
    {
     "data": {
      "text/plain": [
       "Index(['schoolid', 'schoolName', 'lowGrade', 'highGrade', 'schoolLevel',\n",
       "       'rankMovement', 'hasBoundary', 'street', 'city', 'state', 'zip', 'zip4',\n",
       "       'latitude', 'longitude', 'countyName', 'districtName', 'index',\n",
       "       'numberOfStudents', 'percentFreeDiscLunch',\n",
       "       'percentofAfricanAmericanStudents', 'percentofAsianStudents',\n",
       "       'percentofHispanicStudents', 'percentofWhiteStudents',\n",
       "       'percentofIndianStudents', 'percentofPacificIslanderStudents',\n",
       "       'percentofTwoOrMoreRaceStudents', 'percentofUnspecifiedRaceStudents',\n",
       "       'pupilTeacherRatio', 'year'],\n",
       "      dtype='object')"
      ]
     },
     "execution_count": 23,
     "metadata": {},
     "output_type": "execute_result"
    }
   ],
   "source": [
    "schooldigger_clean.columns"
   ]
  },
  {
   "cell_type": "markdown",
   "id": "63b9dfc3",
   "metadata": {},
   "source": [
    "### 1.5.4 Explore the Cleaned SchoolDigger Data"
   ]
  },
  {
   "cell_type": "markdown",
   "id": "48aaeca2",
   "metadata": {},
   "source": [
    "Now that the data is orderly, we can look at the values within the dataset. It's pretty large at 671 schools, which dwarfs the quantity of the records we have for the investment portfolios. Let's look at some of the data, making sure that it's relevant for our model, which again, is to look at the feeder schools for particular geographical regions. \n",
    "\n",
    "Let's start by looking at the 'hasBoundary' column. "
   ]
  },
  {
   "cell_type": "code",
   "execution_count": 24,
   "id": "68a78eaa",
   "metadata": {},
   "outputs": [
    {
     "name": "stdout",
     "output_type": "stream",
     "text": [
      "[ True False]\n"
     ]
    },
    {
     "data": {
      "text/plain": [
       "1125"
      ]
     },
     "execution_count": 24,
     "metadata": {},
     "output_type": "execute_result"
    }
   ],
   "source": [
    "# Explore some of the data. What is in the 'hasBoundary' column?\n",
    "print(schooldigger_clean['hasBoundary'].unique())\n",
    "(schooldigger_clean['hasBoundary'].values == True).sum()"
   ]
  },
  {
   "cell_type": "markdown",
   "id": "858d0ee7",
   "metadata": {},
   "source": [
    "We are interested in schools where the majority of their students are pulled from a boundary area, because if the school draws students from a wide area, it doesn't reflect the characteristics of the neighborhood. It looks like the overwhelming majority of schools in our dataset have boundaried enrollment areas. What does the data look like where 'hasBoundary' is False?"
   ]
  },
  {
   "cell_type": "code",
   "execution_count": 69,
   "id": "f31f5337",
   "metadata": {},
   "outputs": [
    {
     "name": "stdout",
     "output_type": "stream",
     "text": [
      "        schoolid                                         schoolName lowGrade  \\\n",
      "7    80258006343                         Adams Youth Service Center        4   \n",
      "8    80690006435                        Adams12 Five Star Preschool       PK   \n",
      "14   80291006750                         Altitude Elementary School       PK   \n",
      "18   80234006625                 Aps Early Beginnings - A Zoom Site       PK   \n",
      "21   80249001219                         Arapahoe Ridge High School        9   \n",
      "43   80336006682                   Bear Valley International School        6   \n",
      "49   80028606742               Betty K Marler Youth Services Center        6   \n",
      "50   80555006671             Big Picture College And Career Academy        9   \n",
      "61   80480001907                           Brady Exploration School        9   \n",
      "75   80336000322              Career Education Center Early College        9   \n",
      "114  80378001310            Colorado's Finest High School Of Choice        9   \n",
      "125  80480006306  Connections Learning Center On The Earle Johns...        6   \n",
      "126  80336000380                      Contemporary Learning Academy        9   \n",
      "154  80336006731                                  Delta High School        9   \n",
      "157  80336006516   Denver Center For 21st-Century Learning At Wyman        6   \n",
      "160  80336006790                     Denver Green School Northfield        6   \n",
      "176  80345001527                                      Eagle Academy        9   \n",
      "181  80654000032                   Early Childhood Education Center       PK   \n",
      "182  80723006799            Early Learning Center at Francis M. Day       PK   \n",
      "183  80723006175              Early Learning Center at Gregory Hill       PK   \n",
      "184  80723006721                 Early Learning Center at Perl Mack       PK   \n",
      "200  80336000345                         Emily Griffith High School        9   \n",
      "203  80378000029  Englewood Early Childhood Education Center At ...       PK   \n",
      "215  80336006599                                      Excel Academy        9   \n",
      "227  80336001575                    Florence Crittenton High School        9   \n",
      "\n",
      "    highGrade      schoolLevel  rankMovement  hasBoundary  \\\n",
      "7          12      Alternative           NaN        False   \n",
      "8          PK  Prekindergarten           NaN        False   \n",
      "14          5       Elementary           NaN        False   \n",
      "18         PK  Prekindergarten           NaN        False   \n",
      "21         12             High         -39.0        False   \n",
      "43          8           Middle           NaN        False   \n",
      "49         12             High           NaN        False   \n",
      "50         12             High           NaN        False   \n",
      "61         12             High           NaN        False   \n",
      "75         12             High           5.0        False   \n",
      "114        12             High         -21.0        False   \n",
      "125         8           Middle           NaN        False   \n",
      "126        12             High         -19.0        False   \n",
      "154        12             High           NaN        False   \n",
      "157        12             High           NaN        False   \n",
      "160         7           Middle           NaN        False   \n",
      "176        12             High           7.0        False   \n",
      "181        PK  Prekindergarten           NaN        False   \n",
      "182        PK  Prekindergarten           NaN        False   \n",
      "183        PK  Prekindergarten           NaN        False   \n",
      "184        PK  Prekindergarten           NaN        False   \n",
      "200        12             High          -6.0        False   \n",
      "203        PK  Prekindergarten           NaN        False   \n",
      "215        12             High           NaN        False   \n",
      "227        12             High          21.0        False   \n",
      "\n",
      "                          street             city state  ...  \\\n",
      "7        1933 East Bridge Street         Brighton    CO  ...   \n",
      "8         1500 East 128th Avenue         Thornton    CO  ...   \n",
      "14   27300 East Southshore Drive           Aurora    CO  ...   \n",
      "18          812 N Jamaica Street           Aurora    CO  ...   \n",
      "21          6600 Arapahoe Avenue          Boulder    CO  ...   \n",
      "43         3005 South Golden Way           Denver    CO  ...   \n",
      "49   7862 West Mansfield Parkway           Denver    CO  ...   \n",
      "50              7350 N. Broadway           Denver    CO  ...   \n",
      "61           5220 W. Ohio Avenue         Lakewood    CO  ...   \n",
      "75             2650 Eliot Street           Denver    CO  ...   \n",
      "114               300 W Chenango        Englewood    CO  ...   \n",
      "125            1200 Johnson Road           Golden    CO  ...   \n",
      "126              200 E. 9th Ave.           Denver    CO  ...   \n",
      "154     655 South Monaco Parkway           Denver    CO  ...   \n",
      "157         1690 Williams Street           Denver    CO  ...   \n",
      "160             5677 N Galena St           Denver    CO  ...   \n",
      "176          9375 Cresthill Lane  Highlands Ranch    CO  ...   \n",
      "181            4100 S. Hazel Ct.        Englewood    CO  ...   \n",
      "182               1740 Jordan Dr           Denver    CO  ...   \n",
      "183           8030 Irving Street      Westminster    CO  ...   \n",
      "184         7125 Mariposa Street           Denver    CO  ...   \n",
      "200             1860 Lincoln St.           Denver    CO  ...   \n",
      "203              3838 S Huron St        Englewood    CO  ...   \n",
      "215        1825 S. Federal Blvd.           Denver    CO  ...   \n",
      "227                55 South Zuni           Denver    CO  ...   \n",
      "\n",
      "    percentofAfricanAmericanStudents percentofAsianStudents  \\\n",
      "7                               7.41                   0.00   \n",
      "8                               1.45                   7.25   \n",
      "14                              4.62                   8.60   \n",
      "18                             20.00                   0.00   \n",
      "21                              1.33                   2.00   \n",
      "43                              2.22                   5.11   \n",
      "49                               NaN                    NaN   \n",
      "50                              0.00                   0.74   \n",
      "61                              1.77                   0.25   \n",
      "75                              0.81                   1.02   \n",
      "114                             2.01                   0.00   \n",
      "125                             0.00                   0.00   \n",
      "126                            41.13                   0.81   \n",
      "154                            16.83                   0.99   \n",
      "157                            35.12                   0.00   \n",
      "160                            21.74                   2.17   \n",
      "176                             2.21                   5.15   \n",
      "181                             7.41                   4.94   \n",
      "182                              NaN                    NaN   \n",
      "183                             1.61                   4.44   \n",
      "184                             0.00                   0.00   \n",
      "200                            20.00                   1.56   \n",
      "203                             3.04                   3.91   \n",
      "215                             2.18                   0.36   \n",
      "227                             8.57                   0.95   \n",
      "\n",
      "     percentofHispanicStudents  percentofWhiteStudents  \\\n",
      "7                        70.37                   14.81   \n",
      "8                        65.22                   25.12   \n",
      "14                       14.38                   64.18   \n",
      "18                       68.57                    0.00   \n",
      "21                       59.33                   33.33   \n",
      "43                       77.56                   12.00   \n",
      "49                         NaN                     NaN   \n",
      "50                       69.12                   22.06   \n",
      "61                       51.39                   39.75   \n",
      "75                       94.09                    3.26   \n",
      "114                      33.78                   61.20   \n",
      "125                      40.91                   47.73   \n",
      "126                      36.29                   13.71   \n",
      "154                      62.38                   17.82   \n",
      "157                      51.71                    8.29   \n",
      "160                      24.64                   39.86   \n",
      "176                      18.38                   67.65   \n",
      "181                      72.22                   13.58   \n",
      "182                        NaN                     NaN   \n",
      "183                      63.71                   25.40   \n",
      "184                      40.91                   54.55   \n",
      "200                      58.70                   15.58   \n",
      "203                      39.13                   49.57   \n",
      "215                      88.00                    6.91   \n",
      "227                      84.76                    4.76   \n",
      "\n",
      "    percentofIndianStudents percentofPacificIslanderStudents  \\\n",
      "7                      0.00                             0.00   \n",
      "8                      0.00                             0.00   \n",
      "14                     0.90                             0.39   \n",
      "18                     0.00                             0.00   \n",
      "21                     2.00                             0.00   \n",
      "43                     0.89                             0.00   \n",
      "49                      NaN                              NaN   \n",
      "50                     0.74                             0.00   \n",
      "61                     2.28                             0.25   \n",
      "75                     0.20                             0.00   \n",
      "114                    0.33                             0.00   \n",
      "125                    4.55                             0.00   \n",
      "126                    2.42                             0.00   \n",
      "154                    0.00                             0.00   \n",
      "157                    1.95                             0.00   \n",
      "160                    0.00                             0.00   \n",
      "176                    0.74                             0.00   \n",
      "181                    0.62                             0.62   \n",
      "182                     NaN                              NaN   \n",
      "183                    0.40                             0.40   \n",
      "184                    0.00                             0.00   \n",
      "200                    0.78                             0.52   \n",
      "203                    0.00                             0.00   \n",
      "215                    0.73                             0.36   \n",
      "227                    0.00                             0.00   \n",
      "\n",
      "     percentofTwoOrMoreRaceStudents  percentofUnspecifiedRaceStudents  \\\n",
      "7                              7.41                               NaN   \n",
      "8                              0.97                               NaN   \n",
      "14                             6.93                               NaN   \n",
      "18                            11.43                               NaN   \n",
      "21                             2.00                               NaN   \n",
      "43                             2.22                               NaN   \n",
      "49                              NaN                               NaN   \n",
      "50                             7.35                               NaN   \n",
      "61                             4.30                               NaN   \n",
      "75                             0.61                               NaN   \n",
      "114                            2.68                               NaN   \n",
      "125                            6.82                               NaN   \n",
      "126                            5.65                               NaN   \n",
      "154                            1.98                               NaN   \n",
      "157                            2.93                               NaN   \n",
      "160                           11.59                               NaN   \n",
      "176                            5.88                               NaN   \n",
      "181                            0.62                               NaN   \n",
      "182                             NaN                               NaN   \n",
      "183                            4.03                               NaN   \n",
      "184                            4.55                               NaN   \n",
      "200                            2.86                               NaN   \n",
      "203                            4.35                               NaN   \n",
      "215                            1.45                               NaN   \n",
      "227                            0.95                               NaN   \n",
      "\n",
      "     pupilTeacherRatio    year  \n",
      "7                  4.5  2020.0  \n",
      "8                 69.0  2020.0  \n",
      "14                19.4  2020.0  \n",
      "18                64.8  2020.0  \n",
      "21                 6.2  2020.0  \n",
      "43                13.0  2020.0  \n",
      "49                 NaN  2020.0  \n",
      "50                11.3  2020.0  \n",
      "61                20.1  2020.0  \n",
      "75                12.4  2020.0  \n",
      "114               14.7  2020.0  \n",
      "125                4.8  2020.0  \n",
      "126                8.4  2020.0  \n",
      "154               14.4  2020.0  \n",
      "157               10.9  2020.0  \n",
      "160               13.0  2020.0  \n",
      "176               10.6  2020.0  \n",
      "181               15.7  2020.0  \n",
      "182                NaN     NaN  \n",
      "183               30.8  2020.0  \n",
      "184                NaN  2020.0  \n",
      "200               20.2  2020.0  \n",
      "203               81.5  2020.0  \n",
      "215               23.3  2020.0  \n",
      "227                9.1  2020.0  \n",
      "\n",
      "[25 rows x 29 columns]\n"
     ]
    }
   ],
   "source": [
    "# Filter the schooldigger_clean df for rows where 'hasBoundary' == False \n",
    "df = schooldigger_clean[(schooldigger_clean['hasBoundary'].values == False)]\n",
    "print(df.head(25))"
   ]
  },
  {
   "cell_type": "markdown",
   "id": "29025ccd",
   "metadata": {},
   "source": [
    "It looks like some of these are preschools, and some appear to be alternative high schools. If a record describes a preschool or an alternative highschool, there is no rank movement *and* the hasBoundary is false. Let's remove the data where 'rankMovement' is NaN, and see how many records of schools without an enrollment boundary remain. "
   ]
  },
  {
   "cell_type": "code",
   "execution_count": 70,
   "id": "fc8cc1d5",
   "metadata": {},
   "outputs": [
    {
     "data": {
      "text/plain": [
       "29"
      ]
     },
     "execution_count": 70,
     "metadata": {},
     "output_type": "execute_result"
    }
   ],
   "source": [
    "# Filter the schooldigger_clean df on those rows where 'rankMovement' is NaN, and sum the number of 'hasBoundary'==False\n",
    "schooldigger_clean = schooldigger_clean[~schooldigger_clean['rankMovement'].isnull()]\n",
    "(schooldigger_clean['hasBoundary'].values == False).sum()"
   ]
  },
  {
   "cell_type": "markdown",
   "id": "a6701554",
   "metadata": {},
   "source": [
    "That removed all but 15 of the rows where the 'hasBoundary' is false. Let's look at those remaining rows:"
   ]
  },
  {
   "cell_type": "code",
   "execution_count": 71,
   "id": "429218b8",
   "metadata": {},
   "outputs": [
    {
     "data": {
      "text/html": [
       "<div>\n",
       "<style scoped>\n",
       "    .dataframe tbody tr th:only-of-type {\n",
       "        vertical-align: middle;\n",
       "    }\n",
       "\n",
       "    .dataframe tbody tr th {\n",
       "        vertical-align: top;\n",
       "    }\n",
       "\n",
       "    .dataframe thead th {\n",
       "        text-align: right;\n",
       "    }\n",
       "</style>\n",
       "<table border=\"1\" class=\"dataframe\">\n",
       "  <thead>\n",
       "    <tr style=\"text-align: right;\">\n",
       "      <th></th>\n",
       "      <th>schoolid</th>\n",
       "      <th>schoolName</th>\n",
       "      <th>lowGrade</th>\n",
       "      <th>highGrade</th>\n",
       "      <th>schoolLevel</th>\n",
       "      <th>rankMovement</th>\n",
       "      <th>hasBoundary</th>\n",
       "      <th>street</th>\n",
       "      <th>city</th>\n",
       "      <th>state</th>\n",
       "      <th>...</th>\n",
       "      <th>percentofAfricanAmericanStudents</th>\n",
       "      <th>percentofAsianStudents</th>\n",
       "      <th>percentofHispanicStudents</th>\n",
       "      <th>percentofWhiteStudents</th>\n",
       "      <th>percentofIndianStudents</th>\n",
       "      <th>percentofPacificIslanderStudents</th>\n",
       "      <th>percentofTwoOrMoreRaceStudents</th>\n",
       "      <th>percentofUnspecifiedRaceStudents</th>\n",
       "      <th>pupilTeacherRatio</th>\n",
       "      <th>year</th>\n",
       "    </tr>\n",
       "  </thead>\n",
       "  <tbody>\n",
       "    <tr>\n",
       "      <th>21</th>\n",
       "      <td>80249001219</td>\n",
       "      <td>Arapahoe Ridge High School</td>\n",
       "      <td>9</td>\n",
       "      <td>12</td>\n",
       "      <td>High</td>\n",
       "      <td>-39.0</td>\n",
       "      <td>False</td>\n",
       "      <td>6600 Arapahoe Avenue</td>\n",
       "      <td>Boulder</td>\n",
       "      <td>CO</td>\n",
       "      <td>...</td>\n",
       "      <td>1.33</td>\n",
       "      <td>2.00</td>\n",
       "      <td>59.33</td>\n",
       "      <td>33.33</td>\n",
       "      <td>2.00</td>\n",
       "      <td>0.00</td>\n",
       "      <td>2.00</td>\n",
       "      <td>NaN</td>\n",
       "      <td>6.2</td>\n",
       "      <td>2020.0</td>\n",
       "    </tr>\n",
       "    <tr>\n",
       "      <th>75</th>\n",
       "      <td>80336000322</td>\n",
       "      <td>Career Education Center Early College</td>\n",
       "      <td>9</td>\n",
       "      <td>12</td>\n",
       "      <td>High</td>\n",
       "      <td>5.0</td>\n",
       "      <td>False</td>\n",
       "      <td>2650 Eliot Street</td>\n",
       "      <td>Denver</td>\n",
       "      <td>CO</td>\n",
       "      <td>...</td>\n",
       "      <td>0.81</td>\n",
       "      <td>1.02</td>\n",
       "      <td>94.09</td>\n",
       "      <td>3.26</td>\n",
       "      <td>0.20</td>\n",
       "      <td>0.00</td>\n",
       "      <td>0.61</td>\n",
       "      <td>NaN</td>\n",
       "      <td>12.4</td>\n",
       "      <td>2020.0</td>\n",
       "    </tr>\n",
       "    <tr>\n",
       "      <th>114</th>\n",
       "      <td>80378001310</td>\n",
       "      <td>Colorado's Finest High School Of Choice</td>\n",
       "      <td>9</td>\n",
       "      <td>12</td>\n",
       "      <td>High</td>\n",
       "      <td>-21.0</td>\n",
       "      <td>False</td>\n",
       "      <td>300 W Chenango</td>\n",
       "      <td>Englewood</td>\n",
       "      <td>CO</td>\n",
       "      <td>...</td>\n",
       "      <td>2.01</td>\n",
       "      <td>0.00</td>\n",
       "      <td>33.78</td>\n",
       "      <td>61.20</td>\n",
       "      <td>0.33</td>\n",
       "      <td>0.00</td>\n",
       "      <td>2.68</td>\n",
       "      <td>NaN</td>\n",
       "      <td>14.7</td>\n",
       "      <td>2020.0</td>\n",
       "    </tr>\n",
       "    <tr>\n",
       "      <th>126</th>\n",
       "      <td>80336000380</td>\n",
       "      <td>Contemporary Learning Academy</td>\n",
       "      <td>9</td>\n",
       "      <td>12</td>\n",
       "      <td>High</td>\n",
       "      <td>-19.0</td>\n",
       "      <td>False</td>\n",
       "      <td>200 E. 9th Ave.</td>\n",
       "      <td>Denver</td>\n",
       "      <td>CO</td>\n",
       "      <td>...</td>\n",
       "      <td>41.13</td>\n",
       "      <td>0.81</td>\n",
       "      <td>36.29</td>\n",
       "      <td>13.71</td>\n",
       "      <td>2.42</td>\n",
       "      <td>0.00</td>\n",
       "      <td>5.65</td>\n",
       "      <td>NaN</td>\n",
       "      <td>8.4</td>\n",
       "      <td>2020.0</td>\n",
       "    </tr>\n",
       "    <tr>\n",
       "      <th>176</th>\n",
       "      <td>80345001527</td>\n",
       "      <td>Eagle Academy</td>\n",
       "      <td>9</td>\n",
       "      <td>12</td>\n",
       "      <td>High</td>\n",
       "      <td>7.0</td>\n",
       "      <td>False</td>\n",
       "      <td>9375 Cresthill Lane</td>\n",
       "      <td>Highlands Ranch</td>\n",
       "      <td>CO</td>\n",
       "      <td>...</td>\n",
       "      <td>2.21</td>\n",
       "      <td>5.15</td>\n",
       "      <td>18.38</td>\n",
       "      <td>67.65</td>\n",
       "      <td>0.74</td>\n",
       "      <td>0.00</td>\n",
       "      <td>5.88</td>\n",
       "      <td>NaN</td>\n",
       "      <td>10.6</td>\n",
       "      <td>2020.0</td>\n",
       "    </tr>\n",
       "    <tr>\n",
       "      <th>200</th>\n",
       "      <td>80336000345</td>\n",
       "      <td>Emily Griffith High School</td>\n",
       "      <td>9</td>\n",
       "      <td>12</td>\n",
       "      <td>High</td>\n",
       "      <td>-6.0</td>\n",
       "      <td>False</td>\n",
       "      <td>1860 Lincoln St.</td>\n",
       "      <td>Denver</td>\n",
       "      <td>CO</td>\n",
       "      <td>...</td>\n",
       "      <td>20.00</td>\n",
       "      <td>1.56</td>\n",
       "      <td>58.70</td>\n",
       "      <td>15.58</td>\n",
       "      <td>0.78</td>\n",
       "      <td>0.52</td>\n",
       "      <td>2.86</td>\n",
       "      <td>NaN</td>\n",
       "      <td>20.2</td>\n",
       "      <td>2020.0</td>\n",
       "    </tr>\n",
       "    <tr>\n",
       "      <th>227</th>\n",
       "      <td>80336001575</td>\n",
       "      <td>Florence Crittenton High School</td>\n",
       "      <td>9</td>\n",
       "      <td>12</td>\n",
       "      <td>High</td>\n",
       "      <td>21.0</td>\n",
       "      <td>False</td>\n",
       "      <td>55 South Zuni</td>\n",
       "      <td>Denver</td>\n",
       "      <td>CO</td>\n",
       "      <td>...</td>\n",
       "      <td>8.57</td>\n",
       "      <td>0.95</td>\n",
       "      <td>84.76</td>\n",
       "      <td>4.76</td>\n",
       "      <td>0.00</td>\n",
       "      <td>0.00</td>\n",
       "      <td>0.95</td>\n",
       "      <td>NaN</td>\n",
       "      <td>9.1</td>\n",
       "      <td>2020.0</td>\n",
       "    </tr>\n",
       "    <tr>\n",
       "      <th>238</th>\n",
       "      <td>80480001920</td>\n",
       "      <td>Free Horizon Montessori</td>\n",
       "      <td>PK</td>\n",
       "      <td>8</td>\n",
       "      <td>Elementary</td>\n",
       "      <td>51.0</td>\n",
       "      <td>False</td>\n",
       "      <td>15920 W 10th Ave</td>\n",
       "      <td>Golden</td>\n",
       "      <td>CO</td>\n",
       "      <td>...</td>\n",
       "      <td>0.66</td>\n",
       "      <td>1.53</td>\n",
       "      <td>9.19</td>\n",
       "      <td>83.37</td>\n",
       "      <td>0.00</td>\n",
       "      <td>0.00</td>\n",
       "      <td>5.25</td>\n",
       "      <td>NaN</td>\n",
       "      <td>18.8</td>\n",
       "      <td>2020.0</td>\n",
       "    </tr>\n",
       "    <tr>\n",
       "      <th>298</th>\n",
       "      <td>80258000729</td>\n",
       "      <td>Innovations &amp; Options</td>\n",
       "      <td>6</td>\n",
       "      <td>12</td>\n",
       "      <td>High</td>\n",
       "      <td>0.0</td>\n",
       "      <td>False</td>\n",
       "      <td>830 Bridge Street</td>\n",
       "      <td>Brighton</td>\n",
       "      <td>CO</td>\n",
       "      <td>...</td>\n",
       "      <td>1.37</td>\n",
       "      <td>1.02</td>\n",
       "      <td>57.34</td>\n",
       "      <td>36.52</td>\n",
       "      <td>0.68</td>\n",
       "      <td>0.00</td>\n",
       "      <td>3.07</td>\n",
       "      <td>NaN</td>\n",
       "      <td>22.5</td>\n",
       "      <td>2020.0</td>\n",
       "    </tr>\n",
       "    <tr>\n",
       "      <th>351</th>\n",
       "      <td>80195001307</td>\n",
       "      <td>Lester R Arnold High School</td>\n",
       "      <td>9</td>\n",
       "      <td>12</td>\n",
       "      <td>High</td>\n",
       "      <td>-14.0</td>\n",
       "      <td>False</td>\n",
       "      <td>6500 East 72nd Avenue</td>\n",
       "      <td>Commerce City</td>\n",
       "      <td>CO</td>\n",
       "      <td>...</td>\n",
       "      <td>1.98</td>\n",
       "      <td>0.00</td>\n",
       "      <td>83.40</td>\n",
       "      <td>13.04</td>\n",
       "      <td>0.79</td>\n",
       "      <td>0.00</td>\n",
       "      <td>0.79</td>\n",
       "      <td>NaN</td>\n",
       "      <td>20.0</td>\n",
       "      <td>2020.0</td>\n",
       "    </tr>\n",
       "    <tr>\n",
       "      <th>358</th>\n",
       "      <td>80480000988</td>\n",
       "      <td>Longview High School</td>\n",
       "      <td>9</td>\n",
       "      <td>12</td>\n",
       "      <td>High</td>\n",
       "      <td>-13.0</td>\n",
       "      <td>False</td>\n",
       "      <td>13301 West 2nd Place</td>\n",
       "      <td>Lakewood</td>\n",
       "      <td>CO</td>\n",
       "      <td>...</td>\n",
       "      <td>2.04</td>\n",
       "      <td>4.08</td>\n",
       "      <td>20.41</td>\n",
       "      <td>67.35</td>\n",
       "      <td>0.00</td>\n",
       "      <td>0.00</td>\n",
       "      <td>6.12</td>\n",
       "      <td>NaN</td>\n",
       "      <td>9.8</td>\n",
       "      <td>2020.0</td>\n",
       "    </tr>\n",
       "    <tr>\n",
       "      <th>388</th>\n",
       "      <td>80480006163</td>\n",
       "      <td>McLain Community High School</td>\n",
       "      <td>7</td>\n",
       "      <td>12</td>\n",
       "      <td>High</td>\n",
       "      <td>-23.0</td>\n",
       "      <td>False</td>\n",
       "      <td>13600 West 2nd Place</td>\n",
       "      <td>Lakewood</td>\n",
       "      <td>CO</td>\n",
       "      <td>...</td>\n",
       "      <td>1.28</td>\n",
       "      <td>0.51</td>\n",
       "      <td>29.08</td>\n",
       "      <td>64.03</td>\n",
       "      <td>0.51</td>\n",
       "      <td>0.26</td>\n",
       "      <td>4.34</td>\n",
       "      <td>NaN</td>\n",
       "      <td>12.5</td>\n",
       "      <td>2020.0</td>\n",
       "    </tr>\n",
       "    <tr>\n",
       "      <th>558</th>\n",
       "      <td>80654006565</td>\n",
       "      <td>Soar Academy</td>\n",
       "      <td>6</td>\n",
       "      <td>12</td>\n",
       "      <td>High</td>\n",
       "      <td>-8.0</td>\n",
       "      <td>False</td>\n",
       "      <td>4107 S. Federal Blvd.</td>\n",
       "      <td>Englewood</td>\n",
       "      <td>CO</td>\n",
       "      <td>...</td>\n",
       "      <td>1.06</td>\n",
       "      <td>0.00</td>\n",
       "      <td>72.34</td>\n",
       "      <td>19.15</td>\n",
       "      <td>4.26</td>\n",
       "      <td>0.00</td>\n",
       "      <td>3.19</td>\n",
       "      <td>NaN</td>\n",
       "      <td>15.6</td>\n",
       "      <td>2020.0</td>\n",
       "    </tr>\n",
       "    <tr>\n",
       "      <th>581</th>\n",
       "      <td>80336006491</td>\n",
       "      <td>Summit Academy</td>\n",
       "      <td>6</td>\n",
       "      <td>12</td>\n",
       "      <td>High</td>\n",
       "      <td>-3.0</td>\n",
       "      <td>False</td>\n",
       "      <td>5590 W Evans Ave.</td>\n",
       "      <td>Denver</td>\n",
       "      <td>CO</td>\n",
       "      <td>...</td>\n",
       "      <td>0.90</td>\n",
       "      <td>0.00</td>\n",
       "      <td>92.79</td>\n",
       "      <td>5.86</td>\n",
       "      <td>0.00</td>\n",
       "      <td>0.00</td>\n",
       "      <td>0.45</td>\n",
       "      <td>NaN</td>\n",
       "      <td>10.5</td>\n",
       "      <td>2020.0</td>\n",
       "    </tr>\n",
       "    <tr>\n",
       "      <th>623</th>\n",
       "      <td>80690001172</td>\n",
       "      <td>Vantage Point</td>\n",
       "      <td>6</td>\n",
       "      <td>12</td>\n",
       "      <td>High</td>\n",
       "      <td>-20.0</td>\n",
       "      <td>False</td>\n",
       "      <td>10900 Huron Street</td>\n",
       "      <td>Northglenn</td>\n",
       "      <td>CO</td>\n",
       "      <td>...</td>\n",
       "      <td>2.35</td>\n",
       "      <td>2.09</td>\n",
       "      <td>61.36</td>\n",
       "      <td>31.59</td>\n",
       "      <td>1.83</td>\n",
       "      <td>0.26</td>\n",
       "      <td>0.52</td>\n",
       "      <td>NaN</td>\n",
       "      <td>12.8</td>\n",
       "      <td>2020.0</td>\n",
       "    </tr>\n",
       "    <tr>\n",
       "      <th>696</th>\n",
       "      <td>80336000322</td>\n",
       "      <td>Career Education Center Early College</td>\n",
       "      <td>9</td>\n",
       "      <td>12</td>\n",
       "      <td>High</td>\n",
       "      <td>5.0</td>\n",
       "      <td>False</td>\n",
       "      <td>2650 Eliot Street</td>\n",
       "      <td>Denver</td>\n",
       "      <td>CO</td>\n",
       "      <td>...</td>\n",
       "      <td>0.81</td>\n",
       "      <td>1.02</td>\n",
       "      <td>94.09</td>\n",
       "      <td>3.26</td>\n",
       "      <td>0.20</td>\n",
       "      <td>0.00</td>\n",
       "      <td>0.61</td>\n",
       "      <td>NaN</td>\n",
       "      <td>12.4</td>\n",
       "      <td>2020.0</td>\n",
       "    </tr>\n",
       "    <tr>\n",
       "      <th>735</th>\n",
       "      <td>80378001310</td>\n",
       "      <td>Colorado's Finest High School Of Choice</td>\n",
       "      <td>9</td>\n",
       "      <td>12</td>\n",
       "      <td>High</td>\n",
       "      <td>-21.0</td>\n",
       "      <td>False</td>\n",
       "      <td>300 W Chenango</td>\n",
       "      <td>Englewood</td>\n",
       "      <td>CO</td>\n",
       "      <td>...</td>\n",
       "      <td>2.01</td>\n",
       "      <td>0.00</td>\n",
       "      <td>33.78</td>\n",
       "      <td>61.20</td>\n",
       "      <td>0.33</td>\n",
       "      <td>0.00</td>\n",
       "      <td>2.68</td>\n",
       "      <td>NaN</td>\n",
       "      <td>14.7</td>\n",
       "      <td>2020.0</td>\n",
       "    </tr>\n",
       "    <tr>\n",
       "      <th>747</th>\n",
       "      <td>80336000380</td>\n",
       "      <td>Contemporary Learning Academy</td>\n",
       "      <td>9</td>\n",
       "      <td>12</td>\n",
       "      <td>High</td>\n",
       "      <td>-19.0</td>\n",
       "      <td>False</td>\n",
       "      <td>200 E. 9th Ave.</td>\n",
       "      <td>Denver</td>\n",
       "      <td>CO</td>\n",
       "      <td>...</td>\n",
       "      <td>41.13</td>\n",
       "      <td>0.81</td>\n",
       "      <td>36.29</td>\n",
       "      <td>13.71</td>\n",
       "      <td>2.42</td>\n",
       "      <td>0.00</td>\n",
       "      <td>5.65</td>\n",
       "      <td>NaN</td>\n",
       "      <td>8.4</td>\n",
       "      <td>2020.0</td>\n",
       "    </tr>\n",
       "    <tr>\n",
       "      <th>797</th>\n",
       "      <td>80345001527</td>\n",
       "      <td>Eagle Academy</td>\n",
       "      <td>9</td>\n",
       "      <td>12</td>\n",
       "      <td>High</td>\n",
       "      <td>7.0</td>\n",
       "      <td>False</td>\n",
       "      <td>9375 Cresthill Lane</td>\n",
       "      <td>Highlands Ranch</td>\n",
       "      <td>CO</td>\n",
       "      <td>...</td>\n",
       "      <td>2.21</td>\n",
       "      <td>5.15</td>\n",
       "      <td>18.38</td>\n",
       "      <td>67.65</td>\n",
       "      <td>0.74</td>\n",
       "      <td>0.00</td>\n",
       "      <td>5.88</td>\n",
       "      <td>NaN</td>\n",
       "      <td>10.6</td>\n",
       "      <td>2020.0</td>\n",
       "    </tr>\n",
       "    <tr>\n",
       "      <th>821</th>\n",
       "      <td>80336000345</td>\n",
       "      <td>Emily Griffith High School</td>\n",
       "      <td>9</td>\n",
       "      <td>12</td>\n",
       "      <td>High</td>\n",
       "      <td>-6.0</td>\n",
       "      <td>False</td>\n",
       "      <td>1860 Lincoln St.</td>\n",
       "      <td>Denver</td>\n",
       "      <td>CO</td>\n",
       "      <td>...</td>\n",
       "      <td>20.00</td>\n",
       "      <td>1.56</td>\n",
       "      <td>58.70</td>\n",
       "      <td>15.58</td>\n",
       "      <td>0.78</td>\n",
       "      <td>0.52</td>\n",
       "      <td>2.86</td>\n",
       "      <td>NaN</td>\n",
       "      <td>20.2</td>\n",
       "      <td>2020.0</td>\n",
       "    </tr>\n",
       "    <tr>\n",
       "      <th>848</th>\n",
       "      <td>80336001575</td>\n",
       "      <td>Florence Crittenton High School</td>\n",
       "      <td>9</td>\n",
       "      <td>12</td>\n",
       "      <td>High</td>\n",
       "      <td>21.0</td>\n",
       "      <td>False</td>\n",
       "      <td>55 South Zuni</td>\n",
       "      <td>Denver</td>\n",
       "      <td>CO</td>\n",
       "      <td>...</td>\n",
       "      <td>8.57</td>\n",
       "      <td>0.95</td>\n",
       "      <td>84.76</td>\n",
       "      <td>4.76</td>\n",
       "      <td>0.00</td>\n",
       "      <td>0.00</td>\n",
       "      <td>0.95</td>\n",
       "      <td>NaN</td>\n",
       "      <td>9.1</td>\n",
       "      <td>2020.0</td>\n",
       "    </tr>\n",
       "    <tr>\n",
       "      <th>859</th>\n",
       "      <td>80480001920</td>\n",
       "      <td>Free Horizon Montessori</td>\n",
       "      <td>PK</td>\n",
       "      <td>8</td>\n",
       "      <td>Elementary</td>\n",
       "      <td>51.0</td>\n",
       "      <td>False</td>\n",
       "      <td>15920 W 10th Ave</td>\n",
       "      <td>Golden</td>\n",
       "      <td>CO</td>\n",
       "      <td>...</td>\n",
       "      <td>0.66</td>\n",
       "      <td>1.53</td>\n",
       "      <td>9.19</td>\n",
       "      <td>83.37</td>\n",
       "      <td>0.00</td>\n",
       "      <td>0.00</td>\n",
       "      <td>5.25</td>\n",
       "      <td>NaN</td>\n",
       "      <td>18.8</td>\n",
       "      <td>2020.0</td>\n",
       "    </tr>\n",
       "    <tr>\n",
       "      <th>919</th>\n",
       "      <td>80258000729</td>\n",
       "      <td>Innovations &amp; Options</td>\n",
       "      <td>6</td>\n",
       "      <td>12</td>\n",
       "      <td>High</td>\n",
       "      <td>0.0</td>\n",
       "      <td>False</td>\n",
       "      <td>830 Bridge Street</td>\n",
       "      <td>Brighton</td>\n",
       "      <td>CO</td>\n",
       "      <td>...</td>\n",
       "      <td>1.37</td>\n",
       "      <td>1.02</td>\n",
       "      <td>57.34</td>\n",
       "      <td>36.52</td>\n",
       "      <td>0.68</td>\n",
       "      <td>0.00</td>\n",
       "      <td>3.07</td>\n",
       "      <td>NaN</td>\n",
       "      <td>22.5</td>\n",
       "      <td>2020.0</td>\n",
       "    </tr>\n",
       "    <tr>\n",
       "      <th>972</th>\n",
       "      <td>80195001307</td>\n",
       "      <td>Lester R Arnold High School</td>\n",
       "      <td>9</td>\n",
       "      <td>12</td>\n",
       "      <td>High</td>\n",
       "      <td>-14.0</td>\n",
       "      <td>False</td>\n",
       "      <td>6500 East 72nd Avenue</td>\n",
       "      <td>Commerce City</td>\n",
       "      <td>CO</td>\n",
       "      <td>...</td>\n",
       "      <td>1.98</td>\n",
       "      <td>0.00</td>\n",
       "      <td>83.40</td>\n",
       "      <td>13.04</td>\n",
       "      <td>0.79</td>\n",
       "      <td>0.00</td>\n",
       "      <td>0.79</td>\n",
       "      <td>NaN</td>\n",
       "      <td>20.0</td>\n",
       "      <td>2020.0</td>\n",
       "    </tr>\n",
       "    <tr>\n",
       "      <th>979</th>\n",
       "      <td>80480000988</td>\n",
       "      <td>Longview High School</td>\n",
       "      <td>9</td>\n",
       "      <td>12</td>\n",
       "      <td>High</td>\n",
       "      <td>-13.0</td>\n",
       "      <td>False</td>\n",
       "      <td>13301 West 2nd Place</td>\n",
       "      <td>Lakewood</td>\n",
       "      <td>CO</td>\n",
       "      <td>...</td>\n",
       "      <td>2.04</td>\n",
       "      <td>4.08</td>\n",
       "      <td>20.41</td>\n",
       "      <td>67.35</td>\n",
       "      <td>0.00</td>\n",
       "      <td>0.00</td>\n",
       "      <td>6.12</td>\n",
       "      <td>NaN</td>\n",
       "      <td>9.8</td>\n",
       "      <td>2020.0</td>\n",
       "    </tr>\n",
       "    <tr>\n",
       "      <th>1009</th>\n",
       "      <td>80480006163</td>\n",
       "      <td>McLain Community High School</td>\n",
       "      <td>7</td>\n",
       "      <td>12</td>\n",
       "      <td>High</td>\n",
       "      <td>-23.0</td>\n",
       "      <td>False</td>\n",
       "      <td>13600 West 2nd Place</td>\n",
       "      <td>Lakewood</td>\n",
       "      <td>CO</td>\n",
       "      <td>...</td>\n",
       "      <td>1.28</td>\n",
       "      <td>0.51</td>\n",
       "      <td>29.08</td>\n",
       "      <td>64.03</td>\n",
       "      <td>0.51</td>\n",
       "      <td>0.26</td>\n",
       "      <td>4.34</td>\n",
       "      <td>NaN</td>\n",
       "      <td>12.5</td>\n",
       "      <td>2020.0</td>\n",
       "    </tr>\n",
       "    <tr>\n",
       "      <th>1179</th>\n",
       "      <td>80654006565</td>\n",
       "      <td>Soar Academy</td>\n",
       "      <td>6</td>\n",
       "      <td>12</td>\n",
       "      <td>High</td>\n",
       "      <td>-8.0</td>\n",
       "      <td>False</td>\n",
       "      <td>4107 S. Federal Blvd.</td>\n",
       "      <td>Englewood</td>\n",
       "      <td>CO</td>\n",
       "      <td>...</td>\n",
       "      <td>1.06</td>\n",
       "      <td>0.00</td>\n",
       "      <td>72.34</td>\n",
       "      <td>19.15</td>\n",
       "      <td>4.26</td>\n",
       "      <td>0.00</td>\n",
       "      <td>3.19</td>\n",
       "      <td>NaN</td>\n",
       "      <td>15.6</td>\n",
       "      <td>2020.0</td>\n",
       "    </tr>\n",
       "    <tr>\n",
       "      <th>1202</th>\n",
       "      <td>80336006491</td>\n",
       "      <td>Summit Academy</td>\n",
       "      <td>6</td>\n",
       "      <td>12</td>\n",
       "      <td>High</td>\n",
       "      <td>-3.0</td>\n",
       "      <td>False</td>\n",
       "      <td>5590 W Evans Ave.</td>\n",
       "      <td>Denver</td>\n",
       "      <td>CO</td>\n",
       "      <td>...</td>\n",
       "      <td>0.90</td>\n",
       "      <td>0.00</td>\n",
       "      <td>92.79</td>\n",
       "      <td>5.86</td>\n",
       "      <td>0.00</td>\n",
       "      <td>0.00</td>\n",
       "      <td>0.45</td>\n",
       "      <td>NaN</td>\n",
       "      <td>10.5</td>\n",
       "      <td>2020.0</td>\n",
       "    </tr>\n",
       "    <tr>\n",
       "      <th>1244</th>\n",
       "      <td>80690001172</td>\n",
       "      <td>Vantage Point</td>\n",
       "      <td>6</td>\n",
       "      <td>12</td>\n",
       "      <td>High</td>\n",
       "      <td>-20.0</td>\n",
       "      <td>False</td>\n",
       "      <td>10900 Huron Street</td>\n",
       "      <td>Northglenn</td>\n",
       "      <td>CO</td>\n",
       "      <td>...</td>\n",
       "      <td>2.35</td>\n",
       "      <td>2.09</td>\n",
       "      <td>61.36</td>\n",
       "      <td>31.59</td>\n",
       "      <td>1.83</td>\n",
       "      <td>0.26</td>\n",
       "      <td>0.52</td>\n",
       "      <td>NaN</td>\n",
       "      <td>12.8</td>\n",
       "      <td>2020.0</td>\n",
       "    </tr>\n",
       "  </tbody>\n",
       "</table>\n",
       "<p>29 rows × 29 columns</p>\n",
       "</div>"
      ],
      "text/plain": [
       "         schoolid                               schoolName lowGrade highGrade  \\\n",
       "21    80249001219               Arapahoe Ridge High School        9        12   \n",
       "75    80336000322    Career Education Center Early College        9        12   \n",
       "114   80378001310  Colorado's Finest High School Of Choice        9        12   \n",
       "126   80336000380            Contemporary Learning Academy        9        12   \n",
       "176   80345001527                            Eagle Academy        9        12   \n",
       "200   80336000345               Emily Griffith High School        9        12   \n",
       "227   80336001575          Florence Crittenton High School        9        12   \n",
       "238   80480001920                  Free Horizon Montessori       PK         8   \n",
       "298   80258000729                    Innovations & Options        6        12   \n",
       "351   80195001307              Lester R Arnold High School        9        12   \n",
       "358   80480000988                     Longview High School        9        12   \n",
       "388   80480006163             McLain Community High School        7        12   \n",
       "558   80654006565                             Soar Academy        6        12   \n",
       "581   80336006491                           Summit Academy        6        12   \n",
       "623   80690001172                            Vantage Point        6        12   \n",
       "696   80336000322    Career Education Center Early College        9        12   \n",
       "735   80378001310  Colorado's Finest High School Of Choice        9        12   \n",
       "747   80336000380            Contemporary Learning Academy        9        12   \n",
       "797   80345001527                            Eagle Academy        9        12   \n",
       "821   80336000345               Emily Griffith High School        9        12   \n",
       "848   80336001575          Florence Crittenton High School        9        12   \n",
       "859   80480001920                  Free Horizon Montessori       PK         8   \n",
       "919   80258000729                    Innovations & Options        6        12   \n",
       "972   80195001307              Lester R Arnold High School        9        12   \n",
       "979   80480000988                     Longview High School        9        12   \n",
       "1009  80480006163             McLain Community High School        7        12   \n",
       "1179  80654006565                             Soar Academy        6        12   \n",
       "1202  80336006491                           Summit Academy        6        12   \n",
       "1244  80690001172                            Vantage Point        6        12   \n",
       "\n",
       "     schoolLevel  rankMovement  hasBoundary                 street  \\\n",
       "21          High         -39.0        False   6600 Arapahoe Avenue   \n",
       "75          High           5.0        False      2650 Eliot Street   \n",
       "114         High         -21.0        False         300 W Chenango   \n",
       "126         High         -19.0        False        200 E. 9th Ave.   \n",
       "176         High           7.0        False    9375 Cresthill Lane   \n",
       "200         High          -6.0        False       1860 Lincoln St.   \n",
       "227         High          21.0        False          55 South Zuni   \n",
       "238   Elementary          51.0        False       15920 W 10th Ave   \n",
       "298         High           0.0        False      830 Bridge Street   \n",
       "351         High         -14.0        False  6500 East 72nd Avenue   \n",
       "358         High         -13.0        False   13301 West 2nd Place   \n",
       "388         High         -23.0        False   13600 West 2nd Place   \n",
       "558         High          -8.0        False  4107 S. Federal Blvd.   \n",
       "581         High          -3.0        False      5590 W Evans Ave.   \n",
       "623         High         -20.0        False     10900 Huron Street   \n",
       "696         High           5.0        False      2650 Eliot Street   \n",
       "735         High         -21.0        False         300 W Chenango   \n",
       "747         High         -19.0        False        200 E. 9th Ave.   \n",
       "797         High           7.0        False    9375 Cresthill Lane   \n",
       "821         High          -6.0        False       1860 Lincoln St.   \n",
       "848         High          21.0        False          55 South Zuni   \n",
       "859   Elementary          51.0        False       15920 W 10th Ave   \n",
       "919         High           0.0        False      830 Bridge Street   \n",
       "972         High         -14.0        False  6500 East 72nd Avenue   \n",
       "979         High         -13.0        False   13301 West 2nd Place   \n",
       "1009        High         -23.0        False   13600 West 2nd Place   \n",
       "1179        High          -8.0        False  4107 S. Federal Blvd.   \n",
       "1202        High          -3.0        False      5590 W Evans Ave.   \n",
       "1244        High         -20.0        False     10900 Huron Street   \n",
       "\n",
       "                 city state  ... percentofAfricanAmericanStudents  \\\n",
       "21            Boulder    CO  ...                             1.33   \n",
       "75             Denver    CO  ...                             0.81   \n",
       "114         Englewood    CO  ...                             2.01   \n",
       "126            Denver    CO  ...                            41.13   \n",
       "176   Highlands Ranch    CO  ...                             2.21   \n",
       "200            Denver    CO  ...                            20.00   \n",
       "227            Denver    CO  ...                             8.57   \n",
       "238            Golden    CO  ...                             0.66   \n",
       "298          Brighton    CO  ...                             1.37   \n",
       "351     Commerce City    CO  ...                             1.98   \n",
       "358          Lakewood    CO  ...                             2.04   \n",
       "388          Lakewood    CO  ...                             1.28   \n",
       "558         Englewood    CO  ...                             1.06   \n",
       "581            Denver    CO  ...                             0.90   \n",
       "623        Northglenn    CO  ...                             2.35   \n",
       "696            Denver    CO  ...                             0.81   \n",
       "735         Englewood    CO  ...                             2.01   \n",
       "747            Denver    CO  ...                            41.13   \n",
       "797   Highlands Ranch    CO  ...                             2.21   \n",
       "821            Denver    CO  ...                            20.00   \n",
       "848            Denver    CO  ...                             8.57   \n",
       "859            Golden    CO  ...                             0.66   \n",
       "919          Brighton    CO  ...                             1.37   \n",
       "972     Commerce City    CO  ...                             1.98   \n",
       "979          Lakewood    CO  ...                             2.04   \n",
       "1009         Lakewood    CO  ...                             1.28   \n",
       "1179        Englewood    CO  ...                             1.06   \n",
       "1202           Denver    CO  ...                             0.90   \n",
       "1244       Northglenn    CO  ...                             2.35   \n",
       "\n",
       "     percentofAsianStudents  percentofHispanicStudents  \\\n",
       "21                     2.00                      59.33   \n",
       "75                     1.02                      94.09   \n",
       "114                    0.00                      33.78   \n",
       "126                    0.81                      36.29   \n",
       "176                    5.15                      18.38   \n",
       "200                    1.56                      58.70   \n",
       "227                    0.95                      84.76   \n",
       "238                    1.53                       9.19   \n",
       "298                    1.02                      57.34   \n",
       "351                    0.00                      83.40   \n",
       "358                    4.08                      20.41   \n",
       "388                    0.51                      29.08   \n",
       "558                    0.00                      72.34   \n",
       "581                    0.00                      92.79   \n",
       "623                    2.09                      61.36   \n",
       "696                    1.02                      94.09   \n",
       "735                    0.00                      33.78   \n",
       "747                    0.81                      36.29   \n",
       "797                    5.15                      18.38   \n",
       "821                    1.56                      58.70   \n",
       "848                    0.95                      84.76   \n",
       "859                    1.53                       9.19   \n",
       "919                    1.02                      57.34   \n",
       "972                    0.00                      83.40   \n",
       "979                    4.08                      20.41   \n",
       "1009                   0.51                      29.08   \n",
       "1179                   0.00                      72.34   \n",
       "1202                   0.00                      92.79   \n",
       "1244                   2.09                      61.36   \n",
       "\n",
       "      percentofWhiteStudents percentofIndianStudents  \\\n",
       "21                     33.33                    2.00   \n",
       "75                      3.26                    0.20   \n",
       "114                    61.20                    0.33   \n",
       "126                    13.71                    2.42   \n",
       "176                    67.65                    0.74   \n",
       "200                    15.58                    0.78   \n",
       "227                     4.76                    0.00   \n",
       "238                    83.37                    0.00   \n",
       "298                    36.52                    0.68   \n",
       "351                    13.04                    0.79   \n",
       "358                    67.35                    0.00   \n",
       "388                    64.03                    0.51   \n",
       "558                    19.15                    4.26   \n",
       "581                     5.86                    0.00   \n",
       "623                    31.59                    1.83   \n",
       "696                     3.26                    0.20   \n",
       "735                    61.20                    0.33   \n",
       "747                    13.71                    2.42   \n",
       "797                    67.65                    0.74   \n",
       "821                    15.58                    0.78   \n",
       "848                     4.76                    0.00   \n",
       "859                    83.37                    0.00   \n",
       "919                    36.52                    0.68   \n",
       "972                    13.04                    0.79   \n",
       "979                    67.35                    0.00   \n",
       "1009                   64.03                    0.51   \n",
       "1179                   19.15                    4.26   \n",
       "1202                    5.86                    0.00   \n",
       "1244                   31.59                    1.83   \n",
       "\n",
       "     percentofPacificIslanderStudents  percentofTwoOrMoreRaceStudents  \\\n",
       "21                               0.00                            2.00   \n",
       "75                               0.00                            0.61   \n",
       "114                              0.00                            2.68   \n",
       "126                              0.00                            5.65   \n",
       "176                              0.00                            5.88   \n",
       "200                              0.52                            2.86   \n",
       "227                              0.00                            0.95   \n",
       "238                              0.00                            5.25   \n",
       "298                              0.00                            3.07   \n",
       "351                              0.00                            0.79   \n",
       "358                              0.00                            6.12   \n",
       "388                              0.26                            4.34   \n",
       "558                              0.00                            3.19   \n",
       "581                              0.00                            0.45   \n",
       "623                              0.26                            0.52   \n",
       "696                              0.00                            0.61   \n",
       "735                              0.00                            2.68   \n",
       "747                              0.00                            5.65   \n",
       "797                              0.00                            5.88   \n",
       "821                              0.52                            2.86   \n",
       "848                              0.00                            0.95   \n",
       "859                              0.00                            5.25   \n",
       "919                              0.00                            3.07   \n",
       "972                              0.00                            0.79   \n",
       "979                              0.00                            6.12   \n",
       "1009                             0.26                            4.34   \n",
       "1179                             0.00                            3.19   \n",
       "1202                             0.00                            0.45   \n",
       "1244                             0.26                            0.52   \n",
       "\n",
       "      percentofUnspecifiedRaceStudents  pupilTeacherRatio    year  \n",
       "21                                 NaN                6.2  2020.0  \n",
       "75                                 NaN               12.4  2020.0  \n",
       "114                                NaN               14.7  2020.0  \n",
       "126                                NaN                8.4  2020.0  \n",
       "176                                NaN               10.6  2020.0  \n",
       "200                                NaN               20.2  2020.0  \n",
       "227                                NaN                9.1  2020.0  \n",
       "238                                NaN               18.8  2020.0  \n",
       "298                                NaN               22.5  2020.0  \n",
       "351                                NaN               20.0  2020.0  \n",
       "358                                NaN                9.8  2020.0  \n",
       "388                                NaN               12.5  2020.0  \n",
       "558                                NaN               15.6  2020.0  \n",
       "581                                NaN               10.5  2020.0  \n",
       "623                                NaN               12.8  2020.0  \n",
       "696                                NaN               12.4  2020.0  \n",
       "735                                NaN               14.7  2020.0  \n",
       "747                                NaN                8.4  2020.0  \n",
       "797                                NaN               10.6  2020.0  \n",
       "821                                NaN               20.2  2020.0  \n",
       "848                                NaN                9.1  2020.0  \n",
       "859                                NaN               18.8  2020.0  \n",
       "919                                NaN               22.5  2020.0  \n",
       "972                                NaN               20.0  2020.0  \n",
       "979                                NaN                9.8  2020.0  \n",
       "1009                               NaN               12.5  2020.0  \n",
       "1179                               NaN               15.6  2020.0  \n",
       "1202                               NaN               10.5  2020.0  \n",
       "1244                               NaN               12.8  2020.0  \n",
       "\n",
       "[29 rows x 29 columns]"
      ]
     },
     "execution_count": 71,
     "metadata": {},
     "output_type": "execute_result"
    }
   ],
   "source": [
    "# Filter the schooldigger_clean df on 'hasBoundary' == False \n",
    "schooldigger_clean[(schooldigger_clean['hasBoundary'].values == False)]"
   ]
  },
  {
   "cell_type": "markdown",
   "id": "c5907b24",
   "metadata": {},
   "source": [
    "It looks like these are either Montessori, or alternative-style high schools. We may need to just remove all of these, because they aren't regular feeder schools for the areas, but maybe their presence has some effect on the data. We should leave them in for now. "
   ]
  },
  {
   "cell_type": "markdown",
   "id": "399ce74c",
   "metadata": {},
   "source": [
    "We haven't noticed any missing data of significance in this dataset, but let's check to be sure. "
   ]
  },
  {
   "cell_type": "code",
   "execution_count": 72,
   "id": "b3b1fd25",
   "metadata": {},
   "outputs": [
    {
     "data": {
      "text/html": [
       "<div>\n",
       "<style scoped>\n",
       "    .dataframe tbody tr th:only-of-type {\n",
       "        vertical-align: middle;\n",
       "    }\n",
       "\n",
       "    .dataframe tbody tr th {\n",
       "        vertical-align: top;\n",
       "    }\n",
       "\n",
       "    .dataframe thead th {\n",
       "        text-align: right;\n",
       "    }\n",
       "</style>\n",
       "<table border=\"1\" class=\"dataframe\">\n",
       "  <thead>\n",
       "    <tr style=\"text-align: right;\">\n",
       "      <th></th>\n",
       "      <th>Count</th>\n",
       "      <th>%</th>\n",
       "    </tr>\n",
       "  </thead>\n",
       "  <tbody>\n",
       "    <tr>\n",
       "      <th>percentofUnspecifiedRaceStudents</th>\n",
       "      <td>1098</td>\n",
       "      <td>100.00</td>\n",
       "    </tr>\n",
       "    <tr>\n",
       "      <th>pupilTeacherRatio</th>\n",
       "      <td>2</td>\n",
       "      <td>0.18</td>\n",
       "    </tr>\n",
       "    <tr>\n",
       "      <th>percentofTwoOrMoreRaceStudents</th>\n",
       "      <td>2</td>\n",
       "      <td>0.18</td>\n",
       "    </tr>\n",
       "    <tr>\n",
       "      <th>percentofPacificIslanderStudents</th>\n",
       "      <td>2</td>\n",
       "      <td>0.18</td>\n",
       "    </tr>\n",
       "    <tr>\n",
       "      <th>percentofIndianStudents</th>\n",
       "      <td>2</td>\n",
       "      <td>0.18</td>\n",
       "    </tr>\n",
       "    <tr>\n",
       "      <th>percentofWhiteStudents</th>\n",
       "      <td>2</td>\n",
       "      <td>0.18</td>\n",
       "    </tr>\n",
       "    <tr>\n",
       "      <th>percentofHispanicStudents</th>\n",
       "      <td>2</td>\n",
       "      <td>0.18</td>\n",
       "    </tr>\n",
       "    <tr>\n",
       "      <th>percentofAsianStudents</th>\n",
       "      <td>2</td>\n",
       "      <td>0.18</td>\n",
       "    </tr>\n",
       "    <tr>\n",
       "      <th>percentofAfricanAmericanStudents</th>\n",
       "      <td>2</td>\n",
       "      <td>0.18</td>\n",
       "    </tr>\n",
       "    <tr>\n",
       "      <th>percentFreeDiscLunch</th>\n",
       "      <td>2</td>\n",
       "      <td>0.18</td>\n",
       "    </tr>\n",
       "    <tr>\n",
       "      <th>schoolid</th>\n",
       "      <td>0</td>\n",
       "      <td>0.00</td>\n",
       "    </tr>\n",
       "    <tr>\n",
       "      <th>districtName</th>\n",
       "      <td>0</td>\n",
       "      <td>0.00</td>\n",
       "    </tr>\n",
       "    <tr>\n",
       "      <th>numberOfStudents</th>\n",
       "      <td>0</td>\n",
       "      <td>0.00</td>\n",
       "    </tr>\n",
       "    <tr>\n",
       "      <th>index</th>\n",
       "      <td>0</td>\n",
       "      <td>0.00</td>\n",
       "    </tr>\n",
       "    <tr>\n",
       "      <th>countyName</th>\n",
       "      <td>0</td>\n",
       "      <td>0.00</td>\n",
       "    </tr>\n",
       "  </tbody>\n",
       "</table>\n",
       "</div>"
      ],
      "text/plain": [
       "                                  Count       %\n",
       "percentofUnspecifiedRaceStudents   1098  100.00\n",
       "pupilTeacherRatio                     2    0.18\n",
       "percentofTwoOrMoreRaceStudents        2    0.18\n",
       "percentofPacificIslanderStudents      2    0.18\n",
       "percentofIndianStudents               2    0.18\n",
       "percentofWhiteStudents                2    0.18\n",
       "percentofHispanicStudents             2    0.18\n",
       "percentofAsianStudents                2    0.18\n",
       "percentofAfricanAmericanStudents      2    0.18\n",
       "percentFreeDiscLunch                  2    0.18\n",
       "schoolid                              0    0.00\n",
       "districtName                          0    0.00\n",
       "numberOfStudents                      0    0.00\n",
       "index                                 0    0.00\n",
       "countyName                            0    0.00"
      ]
     },
     "execution_count": 72,
     "metadata": {},
     "output_type": "execute_result"
    }
   ],
   "source": [
    "#Count (using `.sum()`) the number of missing values (`.isnull()`) in each column of \n",
    "#combined_inventory as well as the percentages (using `.mean()` instead of `.sum()`).\n",
    "#Order them (increasing or decreasing) using sort_values\n",
    "#Call `pd.concat` to present these in a single table (DataFrame) with the helpful column names 'count' and '%'\n",
    "missing = pd.concat([schooldigger_clean.isnull().sum(), round(100 * schooldigger_clean.isnull().mean(), 2)], axis=1)\n",
    "missing.columns=[\"Count\", \"%\"]\n",
    "missing.sort_values('Count', inplace=True, ascending=False)\n",
    "missing.head(15)"
   ]
  },
  {
   "cell_type": "markdown",
   "id": "f50ebc42",
   "metadata": {},
   "source": [
    "There isn't any data at all in the 'percentofUnspecifiedRaceStudents' column. That column should be removed since it doesn't offer any information. Also, It looks like there may be one record that's missing several fields. Let's look for it:"
   ]
  },
  {
   "cell_type": "code",
   "execution_count": 73,
   "id": "b88c8276",
   "metadata": {},
   "outputs": [],
   "source": [
    "# Filter schooldigger_clean against the blank column\n",
    "schooldigger_clean = schooldigger_clean.loc[:, schooldigger_clean.columns != 'percentofUnspecifiedRaceStudents']"
   ]
  },
  {
   "cell_type": "code",
   "execution_count": 74,
   "id": "429c5448",
   "metadata": {},
   "outputs": [
    {
     "data": {
      "text/html": [
       "<div>\n",
       "<style scoped>\n",
       "    .dataframe tbody tr th:only-of-type {\n",
       "        vertical-align: middle;\n",
       "    }\n",
       "\n",
       "    .dataframe tbody tr th {\n",
       "        vertical-align: top;\n",
       "    }\n",
       "\n",
       "    .dataframe thead th {\n",
       "        text-align: right;\n",
       "    }\n",
       "</style>\n",
       "<table border=\"1\" class=\"dataframe\">\n",
       "  <thead>\n",
       "    <tr style=\"text-align: right;\">\n",
       "      <th></th>\n",
       "      <th>schoolid</th>\n",
       "      <th>schoolName</th>\n",
       "      <th>lowGrade</th>\n",
       "      <th>highGrade</th>\n",
       "      <th>schoolLevel</th>\n",
       "      <th>rankMovement</th>\n",
       "      <th>hasBoundary</th>\n",
       "      <th>street</th>\n",
       "      <th>city</th>\n",
       "      <th>state</th>\n",
       "      <th>...</th>\n",
       "      <th>percentFreeDiscLunch</th>\n",
       "      <th>percentofAfricanAmericanStudents</th>\n",
       "      <th>percentofAsianStudents</th>\n",
       "      <th>percentofHispanicStudents</th>\n",
       "      <th>percentofWhiteStudents</th>\n",
       "      <th>percentofIndianStudents</th>\n",
       "      <th>percentofPacificIslanderStudents</th>\n",
       "      <th>percentofTwoOrMoreRaceStudents</th>\n",
       "      <th>pupilTeacherRatio</th>\n",
       "      <th>year</th>\n",
       "    </tr>\n",
       "  </thead>\n",
       "  <tbody>\n",
       "    <tr>\n",
       "      <th>619</th>\n",
       "      <td>80555000959</td>\n",
       "      <td>Valley View K-8</td>\n",
       "      <td>K</td>\n",
       "      <td>8</td>\n",
       "      <td>Elementary</td>\n",
       "      <td>45.0</td>\n",
       "      <td>True</td>\n",
       "      <td>660 West 70th Avenue</td>\n",
       "      <td>Denver</td>\n",
       "      <td>CO</td>\n",
       "      <td>...</td>\n",
       "      <td>NaN</td>\n",
       "      <td>NaN</td>\n",
       "      <td>NaN</td>\n",
       "      <td>NaN</td>\n",
       "      <td>NaN</td>\n",
       "      <td>NaN</td>\n",
       "      <td>NaN</td>\n",
       "      <td>NaN</td>\n",
       "      <td>NaN</td>\n",
       "      <td>2020.0</td>\n",
       "    </tr>\n",
       "    <tr>\n",
       "      <th>1240</th>\n",
       "      <td>80555000959</td>\n",
       "      <td>Valley View K-8</td>\n",
       "      <td>K</td>\n",
       "      <td>8</td>\n",
       "      <td>Elementary</td>\n",
       "      <td>45.0</td>\n",
       "      <td>True</td>\n",
       "      <td>660 West 70th Avenue</td>\n",
       "      <td>Denver</td>\n",
       "      <td>CO</td>\n",
       "      <td>...</td>\n",
       "      <td>NaN</td>\n",
       "      <td>NaN</td>\n",
       "      <td>NaN</td>\n",
       "      <td>NaN</td>\n",
       "      <td>NaN</td>\n",
       "      <td>NaN</td>\n",
       "      <td>NaN</td>\n",
       "      <td>NaN</td>\n",
       "      <td>NaN</td>\n",
       "      <td>2020.0</td>\n",
       "    </tr>\n",
       "  </tbody>\n",
       "</table>\n",
       "<p>2 rows × 28 columns</p>\n",
       "</div>"
      ],
      "text/plain": [
       "         schoolid       schoolName lowGrade highGrade schoolLevel  \\\n",
       "619   80555000959  Valley View K-8        K         8  Elementary   \n",
       "1240  80555000959  Valley View K-8        K         8  Elementary   \n",
       "\n",
       "      rankMovement  hasBoundary                street    city state  ...  \\\n",
       "619           45.0         True  660 West 70th Avenue  Denver    CO  ...   \n",
       "1240          45.0         True  660 West 70th Avenue  Denver    CO  ...   \n",
       "\n",
       "     percentFreeDiscLunch percentofAfricanAmericanStudents  \\\n",
       "619                   NaN                              NaN   \n",
       "1240                  NaN                              NaN   \n",
       "\n",
       "      percentofAsianStudents  percentofHispanicStudents  \\\n",
       "619                      NaN                        NaN   \n",
       "1240                     NaN                        NaN   \n",
       "\n",
       "     percentofWhiteStudents percentofIndianStudents  \\\n",
       "619                     NaN                     NaN   \n",
       "1240                    NaN                     NaN   \n",
       "\n",
       "      percentofPacificIslanderStudents  percentofTwoOrMoreRaceStudents  \\\n",
       "619                                NaN                             NaN   \n",
       "1240                               NaN                             NaN   \n",
       "\n",
       "      pupilTeacherRatio    year  \n",
       "619                 NaN  2020.0  \n",
       "1240                NaN  2020.0  \n",
       "\n",
       "[2 rows x 28 columns]"
      ]
     },
     "execution_count": 74,
     "metadata": {},
     "output_type": "execute_result"
    }
   ],
   "source": [
    "# Filter schooldigger_clean for the missing records\n",
    "schooldigger_clean[schooldigger_clean['pupilTeacherRatio'].isnull()]"
   ]
  },
  {
   "cell_type": "code",
   "execution_count": 75,
   "id": "efbb1400",
   "metadata": {},
   "outputs": [
    {
     "data": {
      "text/plain": [
       "Index(['schoolid', 'schoolName', 'lowGrade', 'highGrade', 'schoolLevel',\n",
       "       'rankMovement', 'hasBoundary', 'street', 'city', 'state', 'zip', 'zip4',\n",
       "       'latitude', 'longitude', 'countyName', 'districtName', 'index',\n",
       "       'numberOfStudents', 'percentFreeDiscLunch',\n",
       "       'percentofAfricanAmericanStudents', 'percentofAsianStudents',\n",
       "       'percentofHispanicStudents', 'percentofWhiteStudents',\n",
       "       'percentofIndianStudents', 'percentofPacificIslanderStudents',\n",
       "       'percentofTwoOrMoreRaceStudents', 'pupilTeacherRatio', 'year'],\n",
       "      dtype='object')"
      ]
     },
     "execution_count": 75,
     "metadata": {},
     "output_type": "execute_result"
    }
   ],
   "source": [
    "schooldigger_clean.columns"
   ]
  },
  {
   "cell_type": "markdown",
   "id": "7e4f0511",
   "metadata": {},
   "source": [
    "There is one record which is missing all the information taken from 'schoolYearlyDetails'. We will leave this record in the dataframe because 'hasBoundary' = True and it has a rankMovement. "
   ]
  },
  {
   "cell_type": "markdown",
   "id": "4aca1fd5",
   "metadata": {},
   "source": [
    "### 1.5.5 Save the SchoolDigger Data Locally"
   ]
  },
  {
   "cell_type": "code",
   "execution_count": 114,
   "id": "a47bb9d5",
   "metadata": {},
   "outputs": [],
   "source": [
    "# Send the df as a csv to the local drive\n",
    "schooldigger_clean.to_csv(\"../data/school_digger.csv\", index = False)"
   ]
  },
  {
   "cell_type": "markdown",
   "id": "76f74f64",
   "metadata": {},
   "source": [
    "## 1.6 Get Current Listing Data - Homes For Sale"
   ]
  },
  {
   "cell_type": "markdown",
   "id": "ffad697c",
   "metadata": {},
   "source": [
    "### 1.6.1 Load Current Listings from Website"
   ]
  },
  {
   "cell_type": "markdown",
   "id": "15fea8e5",
   "metadata": {},
   "source": [
    "A website that accumulates listings from other MLS-sponsored webpages is used here. It lists a variety of data about each home for sale, because it's sourced from several other websites. Because of this, it's also pretty straightforward to reuse a query from their website. Let's start by importing a file with an HTTP request."
   ]
  },
  {
   "cell_type": "code",
   "execution_count": 15,
   "id": "97cf490c",
   "metadata": {},
   "outputs": [
    {
     "name": "stdout",
     "output_type": "stream",
     "text": [
      "200 <class 'list'>\n"
     ]
    }
   ],
   "source": [
    "# url of query, using min price of 200k, max of 750k, and the same lat-long shape as used in other queries for this project\n",
    "url_denverhomes = \"https://www.searchdenverhomes.com/api/v2/search/?page=1&list_price_max=750000&neighborhood=all&baths_min=all&beds_min=all&type=res&list_price_min=200000&&per_page=1000&latitude_min=39.609319&longitude_min=-105.248336&latitude_max=39.844849&longitude_max=-104.725113\"\n",
    "# Get request and response\n",
    "r = requests.get(url_denverhomes)\n",
    "json_data = r.json()\n",
    "print(r.status_code, type(json_data))"
   ]
  },
  {
   "cell_type": "code",
   "execution_count": 16,
   "id": "061b9758",
   "metadata": {},
   "outputs": [
    {
     "name": "stdout",
     "output_type": "stream",
     "text": [
      "                                              fields\n",
      "0  {'living_area_above_ground': {'data': 914, 'la...\n",
      "1  {'living_area_above_ground': {'data': 1615, 'l...\n",
      "2  {'living_area_above_ground': {'data': 1583, 'l...\n",
      "3  {'living_area_above_ground': {'data': 1104, 'l...\n",
      "4  {'living_area_above_ground': {'data': 1745, 'l... <class 'dict'> (697, 1)\n"
     ]
    }
   ],
   "source": [
    "# Create df from json_data, look at sample record entry\n",
    "listings_df = pd.DataFrame(json_data, columns=['fields'])\n",
    "print(listings_df.head(), type(listings_df['fields'][0]), listings_df.shape)"
   ]
  },
  {
   "cell_type": "markdown",
   "id": "eaadc4ed",
   "metadata": {},
   "source": [
    "### 1.6.2 Flatten the Data"
   ]
  },
  {
   "cell_type": "markdown",
   "id": "34392d2a",
   "metadata": {},
   "source": [
    "All of the listing data is in one column, and the fields consist of a very long dictionary. Let's use json_normalize to flatten the data, separating it into columns that are readable and parsable. "
   ]
  },
  {
   "cell_type": "code",
   "execution_count": 17,
   "id": "659202a0",
   "metadata": {},
   "outputs": [],
   "source": [
    "# Because the df consists of dict, use pd.normalize and look at columns\n",
    "listings_df = pd.json_normalize(listings_df['fields'])"
   ]
  },
  {
   "cell_type": "code",
   "execution_count": 18,
   "id": "35d4c7d4",
   "metadata": {},
   "outputs": [
    {
     "name": "stdout",
     "output_type": "stream",
     "text": [
      "['living_area_above_ground.data', 'living_area_above_ground.label', 'list_price.raw', 'list_price.data', 'list_price.label', 'school_district.data', 'school_district.label', 'zoned.data', 'zoned.label', 'total_carport_spaces.data', 'total_carport_spaces.label', 'total_garage_spaces.data', 'total_garage_spaces.label', 'living_area.data', 'living_area.label', 'lot_size.data', 'lot_size.label', 'taxes.data', 'taxes.label', 'baths.data', 'baths.label', 'images.data', 'neighborhood.data', 'neighborhood.label', 'listing_office.data', 'listing_office.label', 'property_id.data', 'city.data', 'city.label', 'style.data', 'style.label', 'mls_number.data', 'mls_number.label', 'zip.data', 'zip.label', 'basement_finished.data', 'basement_finished.label', 'sold_price.data', 'sold_price.label', 'acres.data', 'acres.label', 'state.data', 'state.label', 'sewer.data', 'sewer.label', 'elementary_school.data', 'elementary_school.label', 'contact_url.data.url', 'contact_url.data.show_on_details', 'latitude.data', 'amenities.data', 'amenities.label', 'type.data', 'type.label', 'status.data', 'status.label', 'updated.data', 'location_tags.data', 'square_footage.data', 'square_footage.label', 'sold.data', 'parking_desc.data', 'parking_desc.label', 'garage_spaces.data', 'garage_spaces.label', 'basement.data', 'basement.label', 'remarks.data.text', 'remarks.data.show_on_list_view', 'subdivision.data', 'subdivision.label', 'rental.data', 'office_name.data', 'office_name.label', 'middle_school.data', 'middle_school.label', 'year_built.data', 'year_built.label', 'disclaimers.data.courtesy_of.html', 'disclaimers.data.courtesy_of.placement', 'disclaimers.data.courtesy_of.mapsearch_placement', 'disclaimers.data.courtesy_of.mega', 'disclaimers.data.disclaimer.html', 'disclaimers.data.disclaimer.mega', 'building_area_total.data', 'building_area_total.label', 'high_school.data', 'high_school.label', 'created.data', 'longitude.data', 'beds.data', 'beds.label', 'subtype.data', 'subtype.label', 'street.data', 'street.label', 'url.data', 'address.data', 'num_fireplaces.data', 'num_fireplaces.label', 'hoa_frequency.data', 'hoa_frequency.label', 'fee_includes.data', 'fee_includes.label', 'hoa_fees.data', 'hoa_fees.label', 'list_price_change.data.date', 'list_price_change.data.amount', 'list_price_change.data.direction', 'list_price_change.label', 'view.data', 'view.label']\n"
     ]
    }
   ],
   "source": [
    "# Make a list of all the column names, because there are a lot\n",
    "my_list = listings_df.columns.values.tolist()\n",
    "print(my_list)"
   ]
  },
  {
   "cell_type": "markdown",
   "id": "8c4e9e4b",
   "metadata": {},
   "source": [
    "### 1.6.3 Narrow Down the Data: What are we looking for?"
   ]
  },
  {
   "cell_type": "markdown",
   "id": "969b5e3a",
   "metadata": {},
   "source": [
    "There's a lot of extra data here which we aren't going to include in our model for possible future rental homes. For example, we don't need any of the columns which keep record-keeping data, such as labels, from the source website. We don't need any contact information, disclaimers, or URLs. We do require information about the physical characteristics of each property, similar in scope to the data we have already collected from the investment profile, and we need any information which contributes to the cost of ownership (list price, HOA if any, and annual taxes). "
   ]
  },
  {
   "cell_type": "code",
   "execution_count": 19,
   "id": "c84285a5",
   "metadata": {},
   "outputs": [],
   "source": [
    "# Filter the df for just the columns we want\n",
    "listings_df = listings_df[['list_price.raw', 'school_district.data','taxes.data',\n",
    "                          'baths.data', 'city.data', 'zip.data','elementary_school.data', 'latitude.data', \n",
    "                          'square_footage.data','middle_school.data',\n",
    "                          'high_school.data', 'longitude.data','beds.data', 'street.data', 'hoa_fees.data',\n",
    "                          'hoa_frequency.data']]"
   ]
  },
  {
   "cell_type": "code",
   "execution_count": 20,
   "id": "b3e5d141",
   "metadata": {},
   "outputs": [
    {
     "name": "stdout",
     "output_type": "stream",
     "text": [
      "   listPrice              district   taxes  baths         city    zip  \\\n",
      "0     750000  Jefferson County R-1  $1,664    2.0  Wheat Ridge  80214   \n",
      "1     750000              Denver 1  $2,749    3.0       Denver  80210   \n",
      "2     750000              Denver 1  $2,205    2.0       Denver  80205   \n",
      "3     750000              Denver 1  $2,354    2.0       Denver  80207   \n",
      "4     750000        Cherry Creek 5  $3,754    3.0       Denver  80222   \n",
      "\n",
      "                elementarySchool        lat   sqft      middleSchool  \\\n",
      "0                        Lumberg  39.759313  1,751         Jefferson   \n",
      "1                         Asbury  39.687801  1,615             Grant   \n",
      "2  Cole Arts And Science Academy  39.762607  1,583             Wyatt   \n",
      "3                        Stedman  39.755537  1,104  Bill Roberts E-8   \n",
      "4                    Holly Hills  39.659757  3,099              West   \n",
      "\n",
      "     highSchool         lng  beds               address hoaFees hoaFreq  \n",
      "0     Jefferson -105.055104   4.0    2920 Benton Street     NaN     NaN  \n",
      "1         South -104.971911   3.0    1305 E Iowa Avenue     NaN     NaN  \n",
      "2        Manual -104.967457   3.0  3233 N Gilpin Street     NaN     NaN  \n",
      "3          East -104.931366   5.0    2634 Dahlia Street     NaN     NaN  \n",
      "4  Cherry Creek -104.913892   4.0  3112 S Monaco Circle     NaN     NaN  \n"
     ]
    }
   ],
   "source": [
    "# Rename a few of the columns to make it easier to visually parse\n",
    "listings_df.rename(columns = {'list_price.raw':'listPrice', 'school_district.data':'district', 'living_area.data':'livingArea',\n",
    "                              'taxes.data':'taxes', 'baths.data':'baths', 'city.data':'city', 'zip.data':'zip',\n",
    "                              'elementary_school.data':'elementarySchool', 'latitude.data':'lat', 'longitude.data':'lng', \n",
    "                              'square_footage.data':'sqft', 'middle_school.data':'middleSchool', 'high_school.data':'highSchool',\n",
    "                              'beds.data':'beds', 'street.data':'address', 'hoa_fees.data':'hoaFees', 'hoa_frequency.data':'hoaFreq'},\n",
    "                               inplace = True)\n",
    "print(listings_df.head())"
   ]
  },
  {
   "cell_type": "code",
   "execution_count": 21,
   "id": "83825026",
   "metadata": {},
   "outputs": [],
   "source": [
    "# Reorder the columns to make more sense\n",
    "listings_ordered = listings_df.loc[:, ['address', 'city', 'zip', 'beds', 'baths', 'sqft', 'listPrice', 'taxes', \n",
    "                                       'hoaFees', 'hoaFreq','lat', 'lng', 'district', 'elementarySchool', 'middleSchool',\n",
    "                                      'highSchool']]"
   ]
  },
  {
   "cell_type": "markdown",
   "id": "babacb85",
   "metadata": {},
   "source": [
    "### 1.6.4 Explore the Cleaned For-Sale Listings"
   ]
  },
  {
   "cell_type": "markdown",
   "id": "448061c0",
   "metadata": {},
   "source": [
    "We can see from the small snippet of code that there are missing values in the hoaFees column. Let's look at those unique values. "
   ]
  },
  {
   "cell_type": "code",
   "execution_count": 22,
   "id": "33f4ead7",
   "metadata": {},
   "outputs": [
    {
     "data": {
      "text/plain": [
       "array([nan, '$43', '$0', '$113', '$65', '$700', '$400', '$150', '$350',\n",
       "       '$35', '$80', '$63', '$500', '$68', '$79', '$250', '$1,250',\n",
       "       '$357', '$49', '$195', '$440', '$145', '$55', '$30', '$375',\n",
       "       '$180', '$185', '$85', '$33', '$270', '$388', '$39', '$795',\n",
       "       '$183', '$140', '$302', '$310', '$62', '$59', '$42', '$498',\n",
       "       '$130', '$100', '$58', '$353', '$200', '$67', '$132', '$70',\n",
       "       '$295', '$122', '$373', '$374', '$45', '$330', '$235', '$129',\n",
       "       '$660', '$99', '$98', '$44', '$160', '$2,700'], dtype=object)"
      ]
     },
     "execution_count": 22,
     "metadata": {},
     "output_type": "execute_result"
    }
   ],
   "source": [
    "# Show the unique values present in the 'hoaFees column'\n",
    "listings_ordered['hoaFees'].unique()"
   ]
  },
  {
   "cell_type": "markdown",
   "id": "695ad1aa",
   "metadata": {},
   "source": [
    "Let's change all the NaN to $0 so that the data is consistent."
   ]
  },
  {
   "cell_type": "code",
   "execution_count": 23,
   "id": "a0ef9f0b",
   "metadata": {},
   "outputs": [],
   "source": [
    "# Use fillna to replace NaN with '$0'\n",
    "listings_ordered['hoaFees'].fillna('$0',inplace=True)"
   ]
  },
  {
   "cell_type": "markdown",
   "id": "b464ce7f",
   "metadata": {},
   "source": [
    "We need to be able to calculate a capitalization rate on proposed properties. There should be a value in the 'hoaFees' column where there is a value in the 'hoaFreq' column. Let's look at the unique values in the 'hoaFreq' column:"
   ]
  },
  {
   "cell_type": "code",
   "execution_count": 24,
   "id": "0f57e1d5",
   "metadata": {},
   "outputs": [
    {
     "data": {
      "text/plain": [
       "(119,\n",
       " array([nan, 'Monthly', 'Annually', 'Semi-Annually', 'Quarterly'],\n",
       "       dtype=object))"
      ]
     },
     "execution_count": 24,
     "metadata": {},
     "output_type": "execute_result"
    }
   ],
   "source": [
    "# how many values in 'hoaFreq' are not NaN?\n",
    "listings_ordered['hoaFreq'].count(), listings_ordered['hoaFreq'].unique()"
   ]
  },
  {
   "cell_type": "code",
   "execution_count": 25,
   "id": "fa5027cf",
   "metadata": {},
   "outputs": [],
   "source": [
    "# fill Nan in 'hoaFreq' with 'N/A'\n",
    "listings_ordered['hoaFreq'].fillna('N/A', inplace=True)"
   ]
  },
  {
   "cell_type": "code",
   "execution_count": 26,
   "id": "f21dd119",
   "metadata": {},
   "outputs": [
    {
     "data": {
      "text/html": [
       "<div>\n",
       "<style scoped>\n",
       "    .dataframe tbody tr th:only-of-type {\n",
       "        vertical-align: middle;\n",
       "    }\n",
       "\n",
       "    .dataframe tbody tr th {\n",
       "        vertical-align: top;\n",
       "    }\n",
       "\n",
       "    .dataframe thead th {\n",
       "        text-align: right;\n",
       "    }\n",
       "</style>\n",
       "<table border=\"1\" class=\"dataframe\">\n",
       "  <thead>\n",
       "    <tr style=\"text-align: right;\">\n",
       "      <th></th>\n",
       "      <th>address</th>\n",
       "      <th>city</th>\n",
       "      <th>zip</th>\n",
       "      <th>beds</th>\n",
       "      <th>baths</th>\n",
       "      <th>sqft</th>\n",
       "      <th>listPrice</th>\n",
       "      <th>taxes</th>\n",
       "      <th>hoaFees</th>\n",
       "      <th>hoaFreq</th>\n",
       "      <th>lat</th>\n",
       "      <th>lng</th>\n",
       "      <th>district</th>\n",
       "      <th>elementarySchool</th>\n",
       "      <th>middleSchool</th>\n",
       "      <th>highSchool</th>\n",
       "    </tr>\n",
       "  </thead>\n",
       "  <tbody>\n",
       "    <tr>\n",
       "      <th>343</th>\n",
       "      <td>5575 Argonne Court</td>\n",
       "      <td>Denver</td>\n",
       "      <td>80249</td>\n",
       "      <td>3.0</td>\n",
       "      <td>3.0</td>\n",
       "      <td>2,572</td>\n",
       "      <td>550000</td>\n",
       "      <td>$4,377</td>\n",
       "      <td>$150</td>\n",
       "      <td>N/A</td>\n",
       "      <td>39.797259</td>\n",
       "      <td>-104.769374</td>\n",
       "      <td>Denver 1</td>\n",
       "      <td>Waller</td>\n",
       "      <td>Dr. Martin Luther King</td>\n",
       "      <td>Dr. Martin Luther King</td>\n",
       "    </tr>\n",
       "  </tbody>\n",
       "</table>\n",
       "</div>"
      ],
      "text/plain": [
       "                address    city    zip  beds  baths   sqft  listPrice   taxes  \\\n",
       "343  5575 Argonne Court  Denver  80249   3.0    3.0  2,572     550000  $4,377   \n",
       "\n",
       "    hoaFees hoaFreq        lat         lng  district elementarySchool  \\\n",
       "343    $150     N/A  39.797259 -104.769374  Denver 1           Waller   \n",
       "\n",
       "               middleSchool              highSchool  \n",
       "343  Dr. Martin Luther King  Dr. Martin Luther King  "
      ]
     },
     "execution_count": 26,
     "metadata": {},
     "output_type": "execute_result"
    }
   ],
   "source": [
    "# Are there any cases where there is an hoaFee, but no corresponding frequency value?\n",
    "listings_ordered[~listings_ordered['hoaFees'].isin(['$0']) & (listings_ordered['hoaFreq'] == 'N/A')]"
   ]
  },
  {
   "cell_type": "markdown",
   "id": "f77b7de6",
   "metadata": {},
   "source": [
    "Using Zillow, we see that the listing here has an HOA which is included already in the taxes, so we can change that value to 0."
   ]
  },
  {
   "cell_type": "code",
   "execution_count": 27,
   "id": "afa3b0ba",
   "metadata": {},
   "outputs": [
    {
     "data": {
      "text/html": [
       "<div>\n",
       "<style scoped>\n",
       "    .dataframe tbody tr th:only-of-type {\n",
       "        vertical-align: middle;\n",
       "    }\n",
       "\n",
       "    .dataframe tbody tr th {\n",
       "        vertical-align: top;\n",
       "    }\n",
       "\n",
       "    .dataframe thead th {\n",
       "        text-align: right;\n",
       "    }\n",
       "</style>\n",
       "<table border=\"1\" class=\"dataframe\">\n",
       "  <thead>\n",
       "    <tr style=\"text-align: right;\">\n",
       "      <th></th>\n",
       "      <th>address</th>\n",
       "      <th>city</th>\n",
       "      <th>zip</th>\n",
       "      <th>beds</th>\n",
       "      <th>baths</th>\n",
       "      <th>sqft</th>\n",
       "      <th>listPrice</th>\n",
       "      <th>taxes</th>\n",
       "      <th>hoaFees</th>\n",
       "      <th>hoaFreq</th>\n",
       "      <th>lat</th>\n",
       "      <th>lng</th>\n",
       "      <th>district</th>\n",
       "      <th>elementarySchool</th>\n",
       "      <th>middleSchool</th>\n",
       "      <th>highSchool</th>\n",
       "    </tr>\n",
       "  </thead>\n",
       "  <tbody>\n",
       "  </tbody>\n",
       "</table>\n",
       "</div>"
      ],
      "text/plain": [
       "Empty DataFrame\n",
       "Columns: [address, city, zip, beds, baths, sqft, listPrice, taxes, hoaFees, hoaFreq, lat, lng, district, elementarySchool, middleSchool, highSchool]\n",
       "Index: []"
      ]
     },
     "execution_count": 27,
     "metadata": {},
     "output_type": "execute_result"
    }
   ],
   "source": [
    "listings_ordered.at[343,'hoaFees']='$0'\n",
    "listings_ordered[~listings_ordered['hoaFees'].isin(['$0']) & (listings_ordered['hoaFreq'] == 'N/A')]"
   ]
  },
  {
   "cell_type": "markdown",
   "id": "cb88883e",
   "metadata": {},
   "source": [
    "Every instance of an HOA fee over $0 has a frequency, so we will be able to calculate the capitalization. \n",
    "Now that we have the HOA data cleaned up, let's look at missing values. "
   ]
  },
  {
   "cell_type": "code",
   "execution_count": 28,
   "id": "58ceb493",
   "metadata": {},
   "outputs": [
    {
     "data": {
      "text/html": [
       "<div>\n",
       "<style scoped>\n",
       "    .dataframe tbody tr th:only-of-type {\n",
       "        vertical-align: middle;\n",
       "    }\n",
       "\n",
       "    .dataframe tbody tr th {\n",
       "        vertical-align: top;\n",
       "    }\n",
       "\n",
       "    .dataframe thead th {\n",
       "        text-align: right;\n",
       "    }\n",
       "</style>\n",
       "<table border=\"1\" class=\"dataframe\">\n",
       "  <thead>\n",
       "    <tr style=\"text-align: right;\">\n",
       "      <th></th>\n",
       "      <th>Count</th>\n",
       "      <th>%</th>\n",
       "    </tr>\n",
       "  </thead>\n",
       "  <tbody>\n",
       "    <tr>\n",
       "      <th>baths</th>\n",
       "      <td>6</td>\n",
       "      <td>0.86</td>\n",
       "    </tr>\n",
       "    <tr>\n",
       "      <th>beds</th>\n",
       "      <td>5</td>\n",
       "      <td>0.72</td>\n",
       "    </tr>\n",
       "    <tr>\n",
       "      <th>taxes</th>\n",
       "      <td>5</td>\n",
       "      <td>0.72</td>\n",
       "    </tr>\n",
       "    <tr>\n",
       "      <th>sqft</th>\n",
       "      <td>3</td>\n",
       "      <td>0.43</td>\n",
       "    </tr>\n",
       "    <tr>\n",
       "      <th>district</th>\n",
       "      <td>3</td>\n",
       "      <td>0.43</td>\n",
       "    </tr>\n",
       "    <tr>\n",
       "      <th>elementarySchool</th>\n",
       "      <td>3</td>\n",
       "      <td>0.43</td>\n",
       "    </tr>\n",
       "    <tr>\n",
       "      <th>middleSchool</th>\n",
       "      <td>3</td>\n",
       "      <td>0.43</td>\n",
       "    </tr>\n",
       "    <tr>\n",
       "      <th>highSchool</th>\n",
       "      <td>3</td>\n",
       "      <td>0.43</td>\n",
       "    </tr>\n",
       "    <tr>\n",
       "      <th>address</th>\n",
       "      <td>0</td>\n",
       "      <td>0.00</td>\n",
       "    </tr>\n",
       "    <tr>\n",
       "      <th>city</th>\n",
       "      <td>0</td>\n",
       "      <td>0.00</td>\n",
       "    </tr>\n",
       "    <tr>\n",
       "      <th>zip</th>\n",
       "      <td>0</td>\n",
       "      <td>0.00</td>\n",
       "    </tr>\n",
       "    <tr>\n",
       "      <th>listPrice</th>\n",
       "      <td>0</td>\n",
       "      <td>0.00</td>\n",
       "    </tr>\n",
       "    <tr>\n",
       "      <th>hoaFees</th>\n",
       "      <td>0</td>\n",
       "      <td>0.00</td>\n",
       "    </tr>\n",
       "    <tr>\n",
       "      <th>hoaFreq</th>\n",
       "      <td>0</td>\n",
       "      <td>0.00</td>\n",
       "    </tr>\n",
       "    <tr>\n",
       "      <th>lat</th>\n",
       "      <td>0</td>\n",
       "      <td>0.00</td>\n",
       "    </tr>\n",
       "  </tbody>\n",
       "</table>\n",
       "</div>"
      ],
      "text/plain": [
       "                  Count     %\n",
       "baths                 6  0.86\n",
       "beds                  5  0.72\n",
       "taxes                 5  0.72\n",
       "sqft                  3  0.43\n",
       "district              3  0.43\n",
       "elementarySchool      3  0.43\n",
       "middleSchool          3  0.43\n",
       "highSchool            3  0.43\n",
       "address               0  0.00\n",
       "city                  0  0.00\n",
       "zip                   0  0.00\n",
       "listPrice             0  0.00\n",
       "hoaFees               0  0.00\n",
       "hoaFreq               0  0.00\n",
       "lat                   0  0.00"
      ]
     },
     "execution_count": 28,
     "metadata": {},
     "output_type": "execute_result"
    }
   ],
   "source": [
    "#Count (using `.sum()`) the number of missing values (`.isnull()`) in each column of \n",
    "#combined_inventory as well as the percentages (using `.mean()` instead of `.sum()`).\n",
    "#Order them (increasing or decreasing) using sort_values\n",
    "#Call `pd.concat` to present these in a single table (DataFrame) with the helpful column names 'count' and '%'\n",
    "missing = pd.concat([listings_ordered.isnull().sum(), round(100 * listings_ordered.isnull().mean(), 2)], axis=1)\n",
    "missing.columns=[\"Count\", \"%\"]\n",
    "missing.sort_values('Count', inplace=True, ascending=False)\n",
    "missing.head(15)"
   ]
  },
  {
   "cell_type": "markdown",
   "id": "eb4dca69",
   "metadata": {},
   "source": [
    "Let's look at those records with missing data. "
   ]
  },
  {
   "cell_type": "code",
   "execution_count": 29,
   "id": "33a6112b",
   "metadata": {},
   "outputs": [
    {
     "data": {
      "text/html": [
       "<div>\n",
       "<style scoped>\n",
       "    .dataframe tbody tr th:only-of-type {\n",
       "        vertical-align: middle;\n",
       "    }\n",
       "\n",
       "    .dataframe tbody tr th {\n",
       "        vertical-align: top;\n",
       "    }\n",
       "\n",
       "    .dataframe thead th {\n",
       "        text-align: right;\n",
       "    }\n",
       "</style>\n",
       "<table border=\"1\" class=\"dataframe\">\n",
       "  <thead>\n",
       "    <tr style=\"text-align: right;\">\n",
       "      <th></th>\n",
       "      <th>address</th>\n",
       "      <th>city</th>\n",
       "      <th>zip</th>\n",
       "      <th>beds</th>\n",
       "      <th>baths</th>\n",
       "      <th>sqft</th>\n",
       "      <th>listPrice</th>\n",
       "      <th>taxes</th>\n",
       "      <th>hoaFees</th>\n",
       "      <th>hoaFreq</th>\n",
       "      <th>lat</th>\n",
       "      <th>lng</th>\n",
       "      <th>district</th>\n",
       "      <th>elementarySchool</th>\n",
       "      <th>middleSchool</th>\n",
       "      <th>highSchool</th>\n",
       "    </tr>\n",
       "  </thead>\n",
       "  <tbody>\n",
       "    <tr>\n",
       "      <th>66</th>\n",
       "      <td>4593 Parfet Street</td>\n",
       "      <td>Wheat Ridge</td>\n",
       "      <td>80033</td>\n",
       "      <td>NaN</td>\n",
       "      <td>NaN</td>\n",
       "      <td>1,152</td>\n",
       "      <td>699999</td>\n",
       "      <td>$2,822</td>\n",
       "      <td>$0</td>\n",
       "      <td>N/A</td>\n",
       "      <td>39.780613</td>\n",
       "      <td>-105.122053</td>\n",
       "      <td>Jefferson County R-1</td>\n",
       "      <td>Kullerstrand</td>\n",
       "      <td>Everitt</td>\n",
       "      <td>Wheat Ridge</td>\n",
       "    </tr>\n",
       "    <tr>\n",
       "      <th>153</th>\n",
       "      <td>2215 S Sheridan Boulevard</td>\n",
       "      <td>Denver</td>\n",
       "      <td>80227</td>\n",
       "      <td>NaN</td>\n",
       "      <td>NaN</td>\n",
       "      <td>NaN</td>\n",
       "      <td>649000</td>\n",
       "      <td>NaN</td>\n",
       "      <td>$0</td>\n",
       "      <td>N/A</td>\n",
       "      <td>39.675443</td>\n",
       "      <td>-105.053620</td>\n",
       "      <td>NaN</td>\n",
       "      <td>NaN</td>\n",
       "      <td>NaN</td>\n",
       "      <td>NaN</td>\n",
       "    </tr>\n",
       "    <tr>\n",
       "      <th>265</th>\n",
       "      <td>5475 Espana Court</td>\n",
       "      <td>Denver</td>\n",
       "      <td>80249</td>\n",
       "      <td>NaN</td>\n",
       "      <td>NaN</td>\n",
       "      <td>2,864</td>\n",
       "      <td>585000</td>\n",
       "      <td>$6,992</td>\n",
       "      <td>$0</td>\n",
       "      <td>N/A</td>\n",
       "      <td>39.793697</td>\n",
       "      <td>-104.757826</td>\n",
       "      <td>Denver 1</td>\n",
       "      <td>Waller</td>\n",
       "      <td>McGlone</td>\n",
       "      <td>DSST: Green Valley Ranch</td>\n",
       "    </tr>\n",
       "    <tr>\n",
       "      <th>588</th>\n",
       "      <td>6595 N Federal Boulevard</td>\n",
       "      <td>Denver</td>\n",
       "      <td>80221</td>\n",
       "      <td>NaN</td>\n",
       "      <td>NaN</td>\n",
       "      <td>NaN</td>\n",
       "      <td>429000</td>\n",
       "      <td>NaN</td>\n",
       "      <td>$0</td>\n",
       "      <td>N/A</td>\n",
       "      <td>39.816303</td>\n",
       "      <td>-105.025476</td>\n",
       "      <td>NaN</td>\n",
       "      <td>NaN</td>\n",
       "      <td>NaN</td>\n",
       "      <td>NaN</td>\n",
       "    </tr>\n",
       "    <tr>\n",
       "      <th>605</th>\n",
       "      <td>960 S Perry Street</td>\n",
       "      <td>Denver</td>\n",
       "      <td>80219</td>\n",
       "      <td>2.0</td>\n",
       "      <td>NaN</td>\n",
       "      <td>1,081</td>\n",
       "      <td>420000</td>\n",
       "      <td>$1,417</td>\n",
       "      <td>$0</td>\n",
       "      <td>N/A</td>\n",
       "      <td>39.699520</td>\n",
       "      <td>-105.039990</td>\n",
       "      <td>Denver 1</td>\n",
       "      <td>Castro</td>\n",
       "      <td>West Leadership</td>\n",
       "      <td>Abraham Lincoln</td>\n",
       "    </tr>\n",
       "    <tr>\n",
       "      <th>696</th>\n",
       "      <td>2199 W Radcliff Avenue Unit G</td>\n",
       "      <td>Englewood</td>\n",
       "      <td>80110</td>\n",
       "      <td>NaN</td>\n",
       "      <td>NaN</td>\n",
       "      <td>NaN</td>\n",
       "      <td>220000</td>\n",
       "      <td>NaN</td>\n",
       "      <td>$0</td>\n",
       "      <td>N/A</td>\n",
       "      <td>39.637269</td>\n",
       "      <td>-105.015003</td>\n",
       "      <td>NaN</td>\n",
       "      <td>NaN</td>\n",
       "      <td>NaN</td>\n",
       "      <td>NaN</td>\n",
       "    </tr>\n",
       "  </tbody>\n",
       "</table>\n",
       "</div>"
      ],
      "text/plain": [
       "                           address         city    zip  beds  baths   sqft  \\\n",
       "66              4593 Parfet Street  Wheat Ridge  80033   NaN    NaN  1,152   \n",
       "153      2215 S Sheridan Boulevard       Denver  80227   NaN    NaN    NaN   \n",
       "265              5475 Espana Court       Denver  80249   NaN    NaN  2,864   \n",
       "588       6595 N Federal Boulevard       Denver  80221   NaN    NaN    NaN   \n",
       "605             960 S Perry Street       Denver  80219   2.0    NaN  1,081   \n",
       "696  2199 W Radcliff Avenue Unit G    Englewood  80110   NaN    NaN    NaN   \n",
       "\n",
       "     listPrice   taxes hoaFees hoaFreq        lat         lng  \\\n",
       "66      699999  $2,822      $0     N/A  39.780613 -105.122053   \n",
       "153     649000     NaN      $0     N/A  39.675443 -105.053620   \n",
       "265     585000  $6,992      $0     N/A  39.793697 -104.757826   \n",
       "588     429000     NaN      $0     N/A  39.816303 -105.025476   \n",
       "605     420000  $1,417      $0     N/A  39.699520 -105.039990   \n",
       "696     220000     NaN      $0     N/A  39.637269 -105.015003   \n",
       "\n",
       "                 district elementarySchool     middleSchool  \\\n",
       "66   Jefferson County R-1     Kullerstrand          Everitt   \n",
       "153                   NaN              NaN              NaN   \n",
       "265              Denver 1           Waller          McGlone   \n",
       "588                   NaN              NaN              NaN   \n",
       "605              Denver 1           Castro  West Leadership   \n",
       "696                   NaN              NaN              NaN   \n",
       "\n",
       "                   highSchool  \n",
       "66                Wheat Ridge  \n",
       "153                       NaN  \n",
       "265  DSST: Green Valley Ranch  \n",
       "588                       NaN  \n",
       "605           Abraham Lincoln  \n",
       "696                       NaN  "
      ]
     },
     "execution_count": 29,
     "metadata": {},
     "output_type": "execute_result"
    }
   ],
   "source": [
    "# Filter on 'beds' field missing\n",
    "listings_ordered[listings_ordered['baths'].isnull()]"
   ]
  },
  {
   "cell_type": "markdown",
   "id": "a1cd8646",
   "metadata": {},
   "source": [
    "Remove those records. We can't figure out the likely rent without the number of beds/baths. "
   ]
  },
  {
   "cell_type": "code",
   "execution_count": 30,
   "id": "a92f80a5",
   "metadata": {},
   "outputs": [
    {
     "data": {
      "text/plain": [
       "(691, 16)"
      ]
     },
     "execution_count": 30,
     "metadata": {},
     "output_type": "execute_result"
    }
   ],
   "source": [
    "listings_ordered = listings_ordered[~listings_ordered['baths'].isnull()]\n",
    "listings_ordered.shape"
   ]
  },
  {
   "cell_type": "markdown",
   "id": "0668def0",
   "metadata": {},
   "source": [
    "### 1.6.5 Save the Homes For Sale data locally"
   ]
  },
  {
   "cell_type": "code",
   "execution_count": 31,
   "id": "f7f7efd9",
   "metadata": {},
   "outputs": [],
   "source": [
    "listings_ordered.to_csv('../data/denverlistings.csv')"
   ]
  },
  {
   "cell_type": "code",
   "execution_count": null,
   "id": "6daba36e",
   "metadata": {},
   "outputs": [],
   "source": []
  }
 ],
 "metadata": {
  "kernelspec": {
   "display_name": "Python 3",
   "language": "python",
   "name": "python3"
  },
  "language_info": {
   "codemirror_mode": {
    "name": "ipython",
    "version": 3
   },
   "file_extension": ".py",
   "mimetype": "text/x-python",
   "name": "python",
   "nbconvert_exporter": "python",
   "pygments_lexer": "ipython3",
   "version": "3.8.10"
  }
 },
 "nbformat": 4,
 "nbformat_minor": 5
}
