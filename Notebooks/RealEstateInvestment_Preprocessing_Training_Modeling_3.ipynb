{
 "cells": [
  {
   "cell_type": "markdown",
   "metadata": {},
   "source": [
    "# 3 Pre-Processing Data and Training<a id='4_Pre-Processing_and_Training_Data'></a>"
   ]
  },
  {
   "cell_type": "markdown",
   "metadata": {},
   "source": [
    "## 3.1 Introduction<a id='4.2_Introduction'></a>"
   ]
  },
  {
   "cell_type": "markdown",
   "metadata": {},
   "source": [
    "In preceding notebooks, we performed preliminary assessments of data quality and refined the question to be answered. We determined that predicting market rent is the primary aim. That market rent can be applied to a Return-on-Investment calculation for each house for sale, determining whether or not that house would make a good investment on some ROI threshold. \n",
    "\n",
    "Before we can develop a predictive model, we need to encode categoricals, scale, and reduce dimensionality."
   ]
  },
  {
   "cell_type": "markdown",
   "metadata": {},
   "source": [
    "## 3.2 Imports<a id='4.3_Imports'></a>"
   ]
  },
  {
   "cell_type": "code",
   "execution_count": 1427,
   "metadata": {},
   "outputs": [],
   "source": [
    "import pandas as pd\n",
    "import numpy as np\n",
    "import os\n",
    "import pickle\n",
    "import matplotlib.pyplot as plt\n",
    "import seaborn as sns\n",
    "from sklearn import __version__ as sklearn_version\n",
    "from sklearn.decomposition import PCA\n",
    "from sklearn.preprocessing import scale\n",
    "from sklearn.model_selection import train_test_split, cross_validate, GridSearchCV, learning_curve, RandomizedSearchCV\n",
    "from sklearn.preprocessing import StandardScaler, MinMaxScaler\n",
    "from sklearn.dummy import DummyRegressor\n",
    "from sklearn.linear_model import LinearRegression\n",
    "from sklearn.ensemble import RandomForestRegressor\n",
    "from sklearn.metrics import r2_score, mean_squared_error, mean_absolute_error\n",
    "from sklearn.pipeline import make_pipeline\n",
    "from sklearn.impute import SimpleImputer\n",
    "from sklearn.feature_selection import SelectKBest, f_regression\n",
    "from sklearn.compose import ColumnTransformer\n",
    "from sklearn import tree, metrics\n",
    "from io import StringIO\n",
    "from IPython.display import Image\n",
    "import pydotplus\n",
    "import datetime\n",
    "import math\n",
    "\n",
    "from library.sb_utils import save_file"
   ]
  },
  {
   "cell_type": "markdown",
   "metadata": {},
   "source": [
    "## 3.3 Load Data<a id='4.4_Load_Data'></a>"
   ]
  },
  {
   "cell_type": "code",
   "execution_count": 1428,
   "metadata": {
    "scrolled": true
   },
   "outputs": [
    {
     "data": {
      "text/html": [
       "<div>\n",
       "<style scoped>\n",
       "    .dataframe tbody tr th:only-of-type {\n",
       "        vertical-align: middle;\n",
       "    }\n",
       "\n",
       "    .dataframe tbody tr th {\n",
       "        vertical-align: top;\n",
       "    }\n",
       "\n",
       "    .dataframe thead th {\n",
       "        text-align: right;\n",
       "    }\n",
       "</style>\n",
       "<table border=\"1\" class=\"dataframe\">\n",
       "  <thead>\n",
       "    <tr style=\"text-align: right;\">\n",
       "      <th></th>\n",
       "      <th>0</th>\n",
       "      <th>1</th>\n",
       "      <th>2</th>\n",
       "      <th>3</th>\n",
       "      <th>4</th>\n",
       "    </tr>\n",
       "  </thead>\n",
       "  <tbody>\n",
       "    <tr>\n",
       "      <th>property_code</th>\n",
       "      <td>10000616</td>\n",
       "      <td>10000753</td>\n",
       "      <td>10000801</td>\n",
       "      <td>10000898</td>\n",
       "      <td>10000946</td>\n",
       "    </tr>\n",
       "    <tr>\n",
       "      <th>address_1</th>\n",
       "      <td>10433 Holland Pl</td>\n",
       "      <td>10627 Kittredge St</td>\n",
       "      <td>10705 Clermont St</td>\n",
       "      <td>10874 Fairfax Way</td>\n",
       "      <td>10944 Bellaire Way</td>\n",
       "    </tr>\n",
       "    <tr>\n",
       "      <th>city</th>\n",
       "      <td>Westminster</td>\n",
       "      <td>Commerce City</td>\n",
       "      <td>Thornton</td>\n",
       "      <td>Thornton</td>\n",
       "      <td>Thornton</td>\n",
       "    </tr>\n",
       "    <tr>\n",
       "      <th>state</th>\n",
       "      <td>CO</td>\n",
       "      <td>CO</td>\n",
       "      <td>CO</td>\n",
       "      <td>CO</td>\n",
       "      <td>CO</td>\n",
       "    </tr>\n",
       "    <tr>\n",
       "      <th>zipcode</th>\n",
       "      <td>80021</td>\n",
       "      <td>80022</td>\n",
       "      <td>80233</td>\n",
       "      <td>80233</td>\n",
       "      <td>80233</td>\n",
       "    </tr>\n",
       "    <tr>\n",
       "      <th>beds</th>\n",
       "      <td>3</td>\n",
       "      <td>3</td>\n",
       "      <td>3</td>\n",
       "      <td>4</td>\n",
       "      <td>4</td>\n",
       "    </tr>\n",
       "    <tr>\n",
       "      <th>baths</th>\n",
       "      <td>1.5</td>\n",
       "      <td>2.5</td>\n",
       "      <td>2.0</td>\n",
       "      <td>2.0</td>\n",
       "      <td>2.0</td>\n",
       "    </tr>\n",
       "    <tr>\n",
       "      <th>sqft</th>\n",
       "      <td>1144</td>\n",
       "      <td>1993</td>\n",
       "      <td>1544</td>\n",
       "      <td>1904</td>\n",
       "      <td>1800</td>\n",
       "    </tr>\n",
       "    <tr>\n",
       "      <th>market_rent</th>\n",
       "      <td>2199.0</td>\n",
       "      <td>2939.0</td>\n",
       "      <td>2529.0</td>\n",
       "      <td>2599.0</td>\n",
       "      <td>2485.0</td>\n",
       "    </tr>\n",
       "    <tr>\n",
       "      <th>lat</th>\n",
       "      <td>39.8825</td>\n",
       "      <td>39.88982</td>\n",
       "      <td>39.89058</td>\n",
       "      <td>39.89348</td>\n",
       "      <td>39.89548</td>\n",
       "    </tr>\n",
       "    <tr>\n",
       "      <th>lng</th>\n",
       "      <td>-105.10441</td>\n",
       "      <td>-104.80151</td>\n",
       "      <td>-104.93351</td>\n",
       "      <td>-104.92838</td>\n",
       "      <td>-104.93625</td>\n",
       "    </tr>\n",
       "    <tr>\n",
       "      <th>districtMatch</th>\n",
       "      <td>Jefferson County R-1 School District</td>\n",
       "      <td>Brighton 27J School District</td>\n",
       "      <td>Adams 12 Five Star Schools</td>\n",
       "      <td>Adams 12 Five Star Schools</td>\n",
       "      <td>Adams 12 Five Star Schools</td>\n",
       "    </tr>\n",
       "    <tr>\n",
       "      <th>estimatedPrice</th>\n",
       "      <td>452333.33</td>\n",
       "      <td>503300.0</td>\n",
       "      <td>418283.33</td>\n",
       "      <td>431633.33</td>\n",
       "      <td>428333.33</td>\n",
       "    </tr>\n",
       "    <tr>\n",
       "      <th>percentFreeDiscLunch</th>\n",
       "      <td>37.16</td>\n",
       "      <td>44.03</td>\n",
       "      <td>47.39</td>\n",
       "      <td>47.39</td>\n",
       "      <td>47.39</td>\n",
       "    </tr>\n",
       "    <tr>\n",
       "      <th>percentofAfricanAmericanStudents</th>\n",
       "      <td>1.45</td>\n",
       "      <td>2.2</td>\n",
       "      <td>1.91</td>\n",
       "      <td>1.91</td>\n",
       "      <td>1.91</td>\n",
       "    </tr>\n",
       "    <tr>\n",
       "      <th>percentofAsianStudents</th>\n",
       "      <td>2.89</td>\n",
       "      <td>2.92</td>\n",
       "      <td>4.73</td>\n",
       "      <td>4.73</td>\n",
       "      <td>4.73</td>\n",
       "    </tr>\n",
       "    <tr>\n",
       "      <th>percentofHispanicStudents</th>\n",
       "      <td>26.14</td>\n",
       "      <td>53.74</td>\n",
       "      <td>47.0</td>\n",
       "      <td>47.0</td>\n",
       "      <td>47.0</td>\n",
       "    </tr>\n",
       "    <tr>\n",
       "      <th>percentofIndianStudents</th>\n",
       "      <td>0.62</td>\n",
       "      <td>0.31</td>\n",
       "      <td>0.55</td>\n",
       "      <td>0.55</td>\n",
       "      <td>0.55</td>\n",
       "    </tr>\n",
       "    <tr>\n",
       "      <th>percentofPacificIslanderStudents</th>\n",
       "      <td>0.14</td>\n",
       "      <td>0.17</td>\n",
       "      <td>0.14</td>\n",
       "      <td>0.14</td>\n",
       "      <td>0.14</td>\n",
       "    </tr>\n",
       "    <tr>\n",
       "      <th>percentofTwoOrMoreRaceStudents</th>\n",
       "      <td>4.07</td>\n",
       "      <td>3.0</td>\n",
       "      <td>3.32</td>\n",
       "      <td>3.32</td>\n",
       "      <td>3.32</td>\n",
       "    </tr>\n",
       "    <tr>\n",
       "      <th>percentofWhiteStudents</th>\n",
       "      <td>64.7</td>\n",
       "      <td>37.65</td>\n",
       "      <td>42.36</td>\n",
       "      <td>42.36</td>\n",
       "      <td>42.36</td>\n",
       "    </tr>\n",
       "    <tr>\n",
       "      <th>rankMovement</th>\n",
       "      <td>-23.29</td>\n",
       "      <td>-48.06</td>\n",
       "      <td>-23.4</td>\n",
       "      <td>-23.4</td>\n",
       "      <td>-23.4</td>\n",
       "    </tr>\n",
       "  </tbody>\n",
       "</table>\n",
       "</div>"
      ],
      "text/plain": [
       "                                                                     0  \\\n",
       "property_code                                                 10000616   \n",
       "address_1                                             10433 Holland Pl   \n",
       "city                                                       Westminster   \n",
       "state                                                               CO   \n",
       "zipcode                                                          80021   \n",
       "beds                                                                 3   \n",
       "baths                                                              1.5   \n",
       "sqft                                                              1144   \n",
       "market_rent                                                     2199.0   \n",
       "lat                                                            39.8825   \n",
       "lng                                                         -105.10441   \n",
       "districtMatch                     Jefferson County R-1 School District   \n",
       "estimatedPrice                                               452333.33   \n",
       "percentFreeDiscLunch                                             37.16   \n",
       "percentofAfricanAmericanStudents                                  1.45   \n",
       "percentofAsianStudents                                            2.89   \n",
       "percentofHispanicStudents                                        26.14   \n",
       "percentofIndianStudents                                           0.62   \n",
       "percentofPacificIslanderStudents                                  0.14   \n",
       "percentofTwoOrMoreRaceStudents                                    4.07   \n",
       "percentofWhiteStudents                                            64.7   \n",
       "rankMovement                                                    -23.29   \n",
       "\n",
       "                                                             1  \\\n",
       "property_code                                         10000753   \n",
       "address_1                                   10627 Kittredge St   \n",
       "city                                             Commerce City   \n",
       "state                                                       CO   \n",
       "zipcode                                                  80022   \n",
       "beds                                                         3   \n",
       "baths                                                      2.5   \n",
       "sqft                                                      1993   \n",
       "market_rent                                             2939.0   \n",
       "lat                                                   39.88982   \n",
       "lng                                                 -104.80151   \n",
       "districtMatch                     Brighton 27J School District   \n",
       "estimatedPrice                                        503300.0   \n",
       "percentFreeDiscLunch                                     44.03   \n",
       "percentofAfricanAmericanStudents                           2.2   \n",
       "percentofAsianStudents                                    2.92   \n",
       "percentofHispanicStudents                                53.74   \n",
       "percentofIndianStudents                                   0.31   \n",
       "percentofPacificIslanderStudents                          0.17   \n",
       "percentofTwoOrMoreRaceStudents                             3.0   \n",
       "percentofWhiteStudents                                   37.65   \n",
       "rankMovement                                            -48.06   \n",
       "\n",
       "                                                           2  \\\n",
       "property_code                                       10000801   \n",
       "address_1                                  10705 Clermont St   \n",
       "city                                                Thornton   \n",
       "state                                                     CO   \n",
       "zipcode                                                80233   \n",
       "beds                                                       3   \n",
       "baths                                                    2.0   \n",
       "sqft                                                    1544   \n",
       "market_rent                                           2529.0   \n",
       "lat                                                 39.89058   \n",
       "lng                                               -104.93351   \n",
       "districtMatch                     Adams 12 Five Star Schools   \n",
       "estimatedPrice                                     418283.33   \n",
       "percentFreeDiscLunch                                   47.39   \n",
       "percentofAfricanAmericanStudents                        1.91   \n",
       "percentofAsianStudents                                  4.73   \n",
       "percentofHispanicStudents                               47.0   \n",
       "percentofIndianStudents                                 0.55   \n",
       "percentofPacificIslanderStudents                        0.14   \n",
       "percentofTwoOrMoreRaceStudents                          3.32   \n",
       "percentofWhiteStudents                                 42.36   \n",
       "rankMovement                                           -23.4   \n",
       "\n",
       "                                                           3  \\\n",
       "property_code                                       10000898   \n",
       "address_1                                  10874 Fairfax Way   \n",
       "city                                                Thornton   \n",
       "state                                                     CO   \n",
       "zipcode                                                80233   \n",
       "beds                                                       4   \n",
       "baths                                                    2.0   \n",
       "sqft                                                    1904   \n",
       "market_rent                                           2599.0   \n",
       "lat                                                 39.89348   \n",
       "lng                                               -104.92838   \n",
       "districtMatch                     Adams 12 Five Star Schools   \n",
       "estimatedPrice                                     431633.33   \n",
       "percentFreeDiscLunch                                   47.39   \n",
       "percentofAfricanAmericanStudents                        1.91   \n",
       "percentofAsianStudents                                  4.73   \n",
       "percentofHispanicStudents                               47.0   \n",
       "percentofIndianStudents                                 0.55   \n",
       "percentofPacificIslanderStudents                        0.14   \n",
       "percentofTwoOrMoreRaceStudents                          3.32   \n",
       "percentofWhiteStudents                                 42.36   \n",
       "rankMovement                                           -23.4   \n",
       "\n",
       "                                                           4  \n",
       "property_code                                       10000946  \n",
       "address_1                                 10944 Bellaire Way  \n",
       "city                                                Thornton  \n",
       "state                                                     CO  \n",
       "zipcode                                                80233  \n",
       "beds                                                       4  \n",
       "baths                                                    2.0  \n",
       "sqft                                                    1800  \n",
       "market_rent                                           2485.0  \n",
       "lat                                                 39.89548  \n",
       "lng                                               -104.93625  \n",
       "districtMatch                     Adams 12 Five Star Schools  \n",
       "estimatedPrice                                     428333.33  \n",
       "percentFreeDiscLunch                                   47.39  \n",
       "percentofAfricanAmericanStudents                        1.91  \n",
       "percentofAsianStudents                                  4.73  \n",
       "percentofHispanicStudents                               47.0  \n",
       "percentofIndianStudents                                 0.55  \n",
       "percentofPacificIslanderStudents                        0.14  \n",
       "percentofTwoOrMoreRaceStudents                          3.32  \n",
       "percentofWhiteStudents                                 42.36  \n",
       "rankMovement                                           -23.4  "
      ]
     },
     "execution_count": 1428,
     "metadata": {},
     "output_type": "execute_result"
    }
   ],
   "source": [
    "corporate_data = pd.read_csv('../data/corporate_properties_values_Demo.csv')\n",
    "corporate_data.head().T"
   ]
  },
  {
   "cell_type": "code",
   "execution_count": 1429,
   "metadata": {},
   "outputs": [
    {
     "data": {
      "text/plain": [
       "(188, 22)"
      ]
     },
     "execution_count": 1429,
     "metadata": {},
     "output_type": "execute_result"
    }
   ],
   "source": [
    "corporate_data.shape"
   ]
  },
  {
   "cell_type": "code",
   "execution_count": 1430,
   "metadata": {},
   "outputs": [
    {
     "data": {
      "text/html": [
       "<div>\n",
       "<style scoped>\n",
       "    .dataframe tbody tr th:only-of-type {\n",
       "        vertical-align: middle;\n",
       "    }\n",
       "\n",
       "    .dataframe tbody tr th {\n",
       "        vertical-align: top;\n",
       "    }\n",
       "\n",
       "    .dataframe thead th {\n",
       "        text-align: right;\n",
       "    }\n",
       "</style>\n",
       "<table border=\"1\" class=\"dataframe\">\n",
       "  <thead>\n",
       "    <tr style=\"text-align: right;\">\n",
       "      <th></th>\n",
       "      <th>0</th>\n",
       "      <th>1</th>\n",
       "      <th>2</th>\n",
       "      <th>3</th>\n",
       "      <th>4</th>\n",
       "    </tr>\n",
       "  </thead>\n",
       "  <tbody>\n",
       "    <tr>\n",
       "      <th>address</th>\n",
       "      <td>2920 Benton Street</td>\n",
       "      <td>1305 E Iowa Avenue</td>\n",
       "      <td>3233 N Gilpin Street</td>\n",
       "      <td>2634 Dahlia Street</td>\n",
       "      <td>3112 S Monaco Circle</td>\n",
       "    </tr>\n",
       "    <tr>\n",
       "      <th>city</th>\n",
       "      <td>Wheat Ridge</td>\n",
       "      <td>Denver</td>\n",
       "      <td>Denver</td>\n",
       "      <td>Denver</td>\n",
       "      <td>Denver</td>\n",
       "    </tr>\n",
       "    <tr>\n",
       "      <th>zip</th>\n",
       "      <td>80214</td>\n",
       "      <td>80210</td>\n",
       "      <td>80205</td>\n",
       "      <td>80207</td>\n",
       "      <td>80222</td>\n",
       "    </tr>\n",
       "    <tr>\n",
       "      <th>beds</th>\n",
       "      <td>4.0</td>\n",
       "      <td>3.0</td>\n",
       "      <td>3.0</td>\n",
       "      <td>5.0</td>\n",
       "      <td>4.0</td>\n",
       "    </tr>\n",
       "    <tr>\n",
       "      <th>baths</th>\n",
       "      <td>2.0</td>\n",
       "      <td>3.0</td>\n",
       "      <td>2.0</td>\n",
       "      <td>2.0</td>\n",
       "      <td>3.0</td>\n",
       "    </tr>\n",
       "    <tr>\n",
       "      <th>sqft</th>\n",
       "      <td>1751</td>\n",
       "      <td>1615</td>\n",
       "      <td>1583</td>\n",
       "      <td>1104</td>\n",
       "      <td>3099</td>\n",
       "    </tr>\n",
       "    <tr>\n",
       "      <th>listPrice</th>\n",
       "      <td>750000</td>\n",
       "      <td>750000</td>\n",
       "      <td>750000</td>\n",
       "      <td>750000</td>\n",
       "      <td>750000</td>\n",
       "    </tr>\n",
       "    <tr>\n",
       "      <th>taxes</th>\n",
       "      <td>1664</td>\n",
       "      <td>2749</td>\n",
       "      <td>2205</td>\n",
       "      <td>2354</td>\n",
       "      <td>3754</td>\n",
       "    </tr>\n",
       "    <tr>\n",
       "      <th>lat</th>\n",
       "      <td>39.759313</td>\n",
       "      <td>39.687801</td>\n",
       "      <td>39.762607</td>\n",
       "      <td>39.755537</td>\n",
       "      <td>39.659757</td>\n",
       "    </tr>\n",
       "    <tr>\n",
       "      <th>lng</th>\n",
       "      <td>-105.055104</td>\n",
       "      <td>-104.971911</td>\n",
       "      <td>-104.967457</td>\n",
       "      <td>-104.931366</td>\n",
       "      <td>-104.913892</td>\n",
       "    </tr>\n",
       "    <tr>\n",
       "      <th>monthly_hoa</th>\n",
       "      <td>0.0</td>\n",
       "      <td>0.0</td>\n",
       "      <td>0.0</td>\n",
       "      <td>0.0</td>\n",
       "      <td>0.0</td>\n",
       "    </tr>\n",
       "    <tr>\n",
       "      <th>districtMatch</th>\n",
       "      <td>Jefferson County R-1 School District</td>\n",
       "      <td>Denver County 1 School District</td>\n",
       "      <td>Denver County 1 School District</td>\n",
       "      <td>Denver County 1 School District</td>\n",
       "      <td>Cherry Creek 5 School District</td>\n",
       "    </tr>\n",
       "    <tr>\n",
       "      <th>percentFreeDiscLunch</th>\n",
       "      <td>37.16</td>\n",
       "      <td>65.04</td>\n",
       "      <td>65.04</td>\n",
       "      <td>65.04</td>\n",
       "      <td>31.32</td>\n",
       "    </tr>\n",
       "    <tr>\n",
       "      <th>percentofAfricanAmericanStudents</th>\n",
       "      <td>1.45</td>\n",
       "      <td>12.19</td>\n",
       "      <td>12.19</td>\n",
       "      <td>12.19</td>\n",
       "      <td>10.96</td>\n",
       "    </tr>\n",
       "    <tr>\n",
       "      <th>percentofAsianStudents</th>\n",
       "      <td>2.89</td>\n",
       "      <td>2.77</td>\n",
       "      <td>2.77</td>\n",
       "      <td>2.77</td>\n",
       "      <td>8.53</td>\n",
       "    </tr>\n",
       "    <tr>\n",
       "      <th>percentofHispanicStudents</th>\n",
       "      <td>26.14</td>\n",
       "      <td>53.59</td>\n",
       "      <td>53.59</td>\n",
       "      <td>53.59</td>\n",
       "      <td>21.0</td>\n",
       "    </tr>\n",
       "    <tr>\n",
       "      <th>percentofIndianStudents</th>\n",
       "      <td>0.62</td>\n",
       "      <td>0.71</td>\n",
       "      <td>0.71</td>\n",
       "      <td>0.71</td>\n",
       "      <td>0.58</td>\n",
       "    </tr>\n",
       "    <tr>\n",
       "      <th>percentofPacificIslanderStudents</th>\n",
       "      <td>0.14</td>\n",
       "      <td>0.4</td>\n",
       "      <td>0.4</td>\n",
       "      <td>0.4</td>\n",
       "      <td>0.26</td>\n",
       "    </tr>\n",
       "    <tr>\n",
       "      <th>percentofTwoOrMoreRaceStudents</th>\n",
       "      <td>4.07</td>\n",
       "      <td>3.71</td>\n",
       "      <td>3.71</td>\n",
       "      <td>3.71</td>\n",
       "      <td>8.19</td>\n",
       "    </tr>\n",
       "    <tr>\n",
       "      <th>percentofWhiteStudents</th>\n",
       "      <td>64.7</td>\n",
       "      <td>26.62</td>\n",
       "      <td>26.62</td>\n",
       "      <td>26.62</td>\n",
       "      <td>50.48</td>\n",
       "    </tr>\n",
       "    <tr>\n",
       "      <th>rankMovement</th>\n",
       "      <td>-23.29</td>\n",
       "      <td>-34.32</td>\n",
       "      <td>-34.32</td>\n",
       "      <td>-34.32</td>\n",
       "      <td>-29.53</td>\n",
       "    </tr>\n",
       "  </tbody>\n",
       "</table>\n",
       "</div>"
      ],
      "text/plain": [
       "                                                                     0  \\\n",
       "address                                             2920 Benton Street   \n",
       "city                                                       Wheat Ridge   \n",
       "zip                                                              80214   \n",
       "beds                                                               4.0   \n",
       "baths                                                              2.0   \n",
       "sqft                                                              1751   \n",
       "listPrice                                                       750000   \n",
       "taxes                                                             1664   \n",
       "lat                                                          39.759313   \n",
       "lng                                                        -105.055104   \n",
       "monthly_hoa                                                        0.0   \n",
       "districtMatch                     Jefferson County R-1 School District   \n",
       "percentFreeDiscLunch                                             37.16   \n",
       "percentofAfricanAmericanStudents                                  1.45   \n",
       "percentofAsianStudents                                            2.89   \n",
       "percentofHispanicStudents                                        26.14   \n",
       "percentofIndianStudents                                           0.62   \n",
       "percentofPacificIslanderStudents                                  0.14   \n",
       "percentofTwoOrMoreRaceStudents                                    4.07   \n",
       "percentofWhiteStudents                                            64.7   \n",
       "rankMovement                                                    -23.29   \n",
       "\n",
       "                                                                1  \\\n",
       "address                                        1305 E Iowa Avenue   \n",
       "city                                                       Denver   \n",
       "zip                                                         80210   \n",
       "beds                                                          3.0   \n",
       "baths                                                         3.0   \n",
       "sqft                                                         1615   \n",
       "listPrice                                                  750000   \n",
       "taxes                                                        2749   \n",
       "lat                                                     39.687801   \n",
       "lng                                                   -104.971911   \n",
       "monthly_hoa                                                   0.0   \n",
       "districtMatch                     Denver County 1 School District   \n",
       "percentFreeDiscLunch                                        65.04   \n",
       "percentofAfricanAmericanStudents                            12.19   \n",
       "percentofAsianStudents                                       2.77   \n",
       "percentofHispanicStudents                                   53.59   \n",
       "percentofIndianStudents                                      0.71   \n",
       "percentofPacificIslanderStudents                              0.4   \n",
       "percentofTwoOrMoreRaceStudents                               3.71   \n",
       "percentofWhiteStudents                                      26.62   \n",
       "rankMovement                                               -34.32   \n",
       "\n",
       "                                                                2  \\\n",
       "address                                      3233 N Gilpin Street   \n",
       "city                                                       Denver   \n",
       "zip                                                         80205   \n",
       "beds                                                          3.0   \n",
       "baths                                                         2.0   \n",
       "sqft                                                         1583   \n",
       "listPrice                                                  750000   \n",
       "taxes                                                        2205   \n",
       "lat                                                     39.762607   \n",
       "lng                                                   -104.967457   \n",
       "monthly_hoa                                                   0.0   \n",
       "districtMatch                     Denver County 1 School District   \n",
       "percentFreeDiscLunch                                        65.04   \n",
       "percentofAfricanAmericanStudents                            12.19   \n",
       "percentofAsianStudents                                       2.77   \n",
       "percentofHispanicStudents                                   53.59   \n",
       "percentofIndianStudents                                      0.71   \n",
       "percentofPacificIslanderStudents                              0.4   \n",
       "percentofTwoOrMoreRaceStudents                               3.71   \n",
       "percentofWhiteStudents                                      26.62   \n",
       "rankMovement                                               -34.32   \n",
       "\n",
       "                                                                3  \\\n",
       "address                                        2634 Dahlia Street   \n",
       "city                                                       Denver   \n",
       "zip                                                         80207   \n",
       "beds                                                          5.0   \n",
       "baths                                                         2.0   \n",
       "sqft                                                         1104   \n",
       "listPrice                                                  750000   \n",
       "taxes                                                        2354   \n",
       "lat                                                     39.755537   \n",
       "lng                                                   -104.931366   \n",
       "monthly_hoa                                                   0.0   \n",
       "districtMatch                     Denver County 1 School District   \n",
       "percentFreeDiscLunch                                        65.04   \n",
       "percentofAfricanAmericanStudents                            12.19   \n",
       "percentofAsianStudents                                       2.77   \n",
       "percentofHispanicStudents                                   53.59   \n",
       "percentofIndianStudents                                      0.71   \n",
       "percentofPacificIslanderStudents                              0.4   \n",
       "percentofTwoOrMoreRaceStudents                               3.71   \n",
       "percentofWhiteStudents                                      26.62   \n",
       "rankMovement                                               -34.32   \n",
       "\n",
       "                                                               4  \n",
       "address                                     3112 S Monaco Circle  \n",
       "city                                                      Denver  \n",
       "zip                                                        80222  \n",
       "beds                                                         4.0  \n",
       "baths                                                        3.0  \n",
       "sqft                                                        3099  \n",
       "listPrice                                                 750000  \n",
       "taxes                                                       3754  \n",
       "lat                                                    39.659757  \n",
       "lng                                                  -104.913892  \n",
       "monthly_hoa                                                  0.0  \n",
       "districtMatch                     Cherry Creek 5 School District  \n",
       "percentFreeDiscLunch                                       31.32  \n",
       "percentofAfricanAmericanStudents                           10.96  \n",
       "percentofAsianStudents                                      8.53  \n",
       "percentofHispanicStudents                                   21.0  \n",
       "percentofIndianStudents                                     0.58  \n",
       "percentofPacificIslanderStudents                            0.26  \n",
       "percentofTwoOrMoreRaceStudents                              8.19  \n",
       "percentofWhiteStudents                                     50.48  \n",
       "rankMovement                                              -29.53  "
      ]
     },
     "execution_count": 1430,
     "metadata": {},
     "output_type": "execute_result"
    }
   ],
   "source": [
    "sale_data = pd.read_csv('../data/for_sale_Demo.csv')\n",
    "sale_data.head().T"
   ]
  },
  {
   "cell_type": "markdown",
   "metadata": {},
   "source": [
    "## 3.4 Manipulate Categorical Data <a id='4.5_Extract_Big_Mountain_Data'></a>"
   ]
  },
  {
   "cell_type": "markdown",
   "metadata": {},
   "source": [
    "Let's start with the corporate owned properties. \n",
    "Because all of the properties are in Colorado, the state column doesn't add any information: let's remove it. The property_code is a unique, discrete piece of information used only by the property owner, with no relationship to the dependent variable, so let's remove that too. "
   ]
  },
  {
   "cell_type": "code",
   "execution_count": 1431,
   "metadata": {},
   "outputs": [],
   "source": [
    "# Drop uninformative 'state' and 'property_code' columns\n",
    "corporate_data = corporate_data.drop(['state', 'property_code'], axis=1)"
   ]
  },
  {
   "cell_type": "markdown",
   "metadata": {},
   "source": [
    "Let's rename a couple of features so they make sense across dataframes. Rename 'estimatedValue' to 'value'. We will do the same on the other dataframe once we begin pre-processing it. "
   ]
  },
  {
   "cell_type": "code",
   "execution_count": 1432,
   "metadata": {},
   "outputs": [],
   "source": [
    "# Rename two columns in corporate data df\n",
    "cols = {'estimatedValue':'value'}\n",
    "corporate_data = corporate_data.rename(columns=cols)"
   ]
  },
  {
   "cell_type": "code",
   "execution_count": 1433,
   "metadata": {},
   "outputs": [],
   "source": [
    "# rename sale_data columns\n",
    "cols={'zip':'zipcode', 'listPrice':'value'}\n",
    "sale_data = sale_data.rename(columns=cols)"
   ]
  },
  {
   "cell_type": "markdown",
   "metadata": {},
   "source": [
    "The 'city' column doesn't add any information. Instead, let's use some information to categorize the cities by household income. Data for 2019 is available on the US Census site. Import that data, add to both the corporate_data and sale_data records, and we will set aside the city column before doing the test/train split. \n",
    "\n",
    "Additionally, the *name* of the district doesn't add any information. For each district, we have already gathered some information on the school lunch program (an indicator of poverty in the community), the rank of the schools within the district, and the racial demographics."
   ]
  },
  {
   "cell_type": "code",
   "execution_count": 1434,
   "metadata": {
    "scrolled": true
   },
   "outputs": [],
   "source": [
    "income = pd.read_csv('../data/City income.csv')\n",
    "income_T = income.T"
   ]
  },
  {
   "cell_type": "code",
   "execution_count": 1435,
   "metadata": {},
   "outputs": [],
   "source": [
    "# manipulate income information to make compatible with a pd.concat\n",
    "new_header = income_T.iloc[0] \n",
    "# take the rest of the data minus the header row\n",
    "income_T = income_T[1:] \n",
    "# set the header row as the df header\n",
    "income_T.columns = new_header \n",
    "income_T.rename(columns = {'Fact ':'City'}, inplace = True)"
   ]
  },
  {
   "cell_type": "code",
   "execution_count": 1436,
   "metadata": {},
   "outputs": [
    {
     "data": {
      "text/plain": [
       "Index(['Median household income (in 2019 dollars), 2015-2019', 'Per capita income in past 12 months (in 2019 dollars), 2015-2019'], dtype='object', name='Fact')"
      ]
     },
     "execution_count": 1436,
     "metadata": {},
     "output_type": "execute_result"
    }
   ],
   "source": [
    "income_T.columns"
   ]
  },
  {
   "cell_type": "code",
   "execution_count": 1437,
   "metadata": {},
   "outputs": [],
   "source": [
    "income_T.drop(['Per capita income in past 12 months (in 2019 dollars), 2015-2019'], axis=1, inplace=True)"
   ]
  },
  {
   "cell_type": "code",
   "execution_count": 1438,
   "metadata": {},
   "outputs": [
    {
     "data": {
      "text/html": [
       "<div>\n",
       "<style scoped>\n",
       "    .dataframe tbody tr th:only-of-type {\n",
       "        vertical-align: middle;\n",
       "    }\n",
       "\n",
       "    .dataframe tbody tr th {\n",
       "        vertical-align: top;\n",
       "    }\n",
       "\n",
       "    .dataframe thead th {\n",
       "        text-align: right;\n",
       "    }\n",
       "</style>\n",
       "<table border=\"1\" class=\"dataframe\">\n",
       "  <thead>\n",
       "    <tr style=\"text-align: right;\">\n",
       "      <th></th>\n",
       "      <th>address_1</th>\n",
       "      <th>city</th>\n",
       "      <th>zipcode</th>\n",
       "      <th>beds</th>\n",
       "      <th>baths</th>\n",
       "      <th>sqft</th>\n",
       "      <th>market_rent</th>\n",
       "      <th>lat</th>\n",
       "      <th>lng</th>\n",
       "      <th>districtMatch</th>\n",
       "      <th>estimatedPrice</th>\n",
       "      <th>percentFreeDiscLunch</th>\n",
       "      <th>percentofAfricanAmericanStudents</th>\n",
       "      <th>percentofAsianStudents</th>\n",
       "      <th>percentofHispanicStudents</th>\n",
       "      <th>percentofIndianStudents</th>\n",
       "      <th>percentofPacificIslanderStudents</th>\n",
       "      <th>percentofTwoOrMoreRaceStudents</th>\n",
       "      <th>percentofWhiteStudents</th>\n",
       "      <th>rankMovement</th>\n",
       "    </tr>\n",
       "  </thead>\n",
       "  <tbody>\n",
       "    <tr>\n",
       "      <th>7</th>\n",
       "      <td>11375 Nome St</td>\n",
       "      <td>Henderson</td>\n",
       "      <td>80640</td>\n",
       "      <td>4</td>\n",
       "      <td>2.0</td>\n",
       "      <td>2087</td>\n",
       "      <td>2595.0</td>\n",
       "      <td>39.90208</td>\n",
       "      <td>-104.85186</td>\n",
       "      <td>Brighton 27J School District</td>\n",
       "      <td>495000.00</td>\n",
       "      <td>44.03</td>\n",
       "      <td>2.20</td>\n",
       "      <td>2.92</td>\n",
       "      <td>53.74</td>\n",
       "      <td>0.31</td>\n",
       "      <td>0.17</td>\n",
       "      <td>3.00</td>\n",
       "      <td>37.65</td>\n",
       "      <td>-48.06</td>\n",
       "    </tr>\n",
       "    <tr>\n",
       "      <th>63</th>\n",
       "      <td>11620 Oakland Dr</td>\n",
       "      <td>Henderson</td>\n",
       "      <td>80640</td>\n",
       "      <td>3</td>\n",
       "      <td>1.5</td>\n",
       "      <td>1420</td>\n",
       "      <td>2300.0</td>\n",
       "      <td>39.90825</td>\n",
       "      <td>-104.84968</td>\n",
       "      <td>Brighton 27J School District</td>\n",
       "      <td>376666.67</td>\n",
       "      <td>44.03</td>\n",
       "      <td>2.20</td>\n",
       "      <td>2.92</td>\n",
       "      <td>53.74</td>\n",
       "      <td>0.31</td>\n",
       "      <td>0.17</td>\n",
       "      <td>3.00</td>\n",
       "      <td>37.65</td>\n",
       "      <td>-48.06</td>\n",
       "    </tr>\n",
       "    <tr>\n",
       "      <th>104</th>\n",
       "      <td>11798 W Marlowe Ave</td>\n",
       "      <td>Morrison</td>\n",
       "      <td>80465</td>\n",
       "      <td>4</td>\n",
       "      <td>2.5</td>\n",
       "      <td>2404</td>\n",
       "      <td>2933.0</td>\n",
       "      <td>39.63200</td>\n",
       "      <td>-105.12900</td>\n",
       "      <td>Jefferson County R-1 School District</td>\n",
       "      <td>405000.00</td>\n",
       "      <td>37.16</td>\n",
       "      <td>1.45</td>\n",
       "      <td>2.89</td>\n",
       "      <td>26.14</td>\n",
       "      <td>0.62</td>\n",
       "      <td>0.14</td>\n",
       "      <td>4.07</td>\n",
       "      <td>64.70</td>\n",
       "      <td>-23.29</td>\n",
       "    </tr>\n",
       "  </tbody>\n",
       "</table>\n",
       "</div>"
      ],
      "text/plain": [
       "               address_1       city  zipcode  beds  baths  sqft  market_rent  \\\n",
       "7          11375 Nome St  Henderson    80640     4    2.0  2087       2595.0   \n",
       "63      11620 Oakland Dr  Henderson    80640     3    1.5  1420       2300.0   \n",
       "104  11798 W Marlowe Ave   Morrison    80465     4    2.5  2404       2933.0   \n",
       "\n",
       "          lat        lng                         districtMatch  \\\n",
       "7    39.90208 -104.85186          Brighton 27J School District   \n",
       "63   39.90825 -104.84968          Brighton 27J School District   \n",
       "104  39.63200 -105.12900  Jefferson County R-1 School District   \n",
       "\n",
       "     estimatedPrice  percentFreeDiscLunch  percentofAfricanAmericanStudents  \\\n",
       "7         495000.00                 44.03                              2.20   \n",
       "63        376666.67                 44.03                              2.20   \n",
       "104       405000.00                 37.16                              1.45   \n",
       "\n",
       "     percentofAsianStudents  percentofHispanicStudents  \\\n",
       "7                      2.92                      53.74   \n",
       "63                     2.92                      53.74   \n",
       "104                    2.89                      26.14   \n",
       "\n",
       "     percentofIndianStudents  percentofPacificIslanderStudents  \\\n",
       "7                       0.31                              0.17   \n",
       "63                      0.31                              0.17   \n",
       "104                     0.62                              0.14   \n",
       "\n",
       "     percentofTwoOrMoreRaceStudents  percentofWhiteStudents  rankMovement  \n",
       "7                              3.00                   37.65        -48.06  \n",
       "63                             3.00                   37.65        -48.06  \n",
       "104                            4.07                   64.70        -23.29  "
      ]
     },
     "execution_count": 1438,
     "metadata": {},
     "output_type": "execute_result"
    }
   ],
   "source": [
    "# Let's see if there are any towns in the corporate_data set which are not included in the income data. \n",
    "no_data = corporate_data[~corporate_data['city'].isin(income_T.index)]\n",
    "no_data.head()"
   ]
  },
  {
   "cell_type": "markdown",
   "metadata": {},
   "source": [
    "The houses in Henderson are actually in Commerce City. This is a quirk of Denver-metro addresses. Morrison is a tiny area, so there isn't any data available for it. The closest town to Morrison is Golden. Let's map these in both the corporate and sales data. "
   ]
  },
  {
   "cell_type": "code",
   "execution_count": 1439,
   "metadata": {},
   "outputs": [],
   "source": [
    "dict1 = {'Henderson':'Commerce City', 'Morrison':'Golden'}\n",
    "corporate_data.loc[corporate_data['city'].isin(dict1.keys()), 'city'] = corporate_data['city'].map(dict1)"
   ]
  },
  {
   "cell_type": "code",
   "execution_count": 1440,
   "metadata": {},
   "outputs": [],
   "source": [
    "# Let's see if there is any sales data that doesn't have income information. \n",
    "no_data = sale_data[~sale_data['city'].isin(income_T.index)]"
   ]
  },
  {
   "cell_type": "code",
   "execution_count": 1441,
   "metadata": {},
   "outputs": [
    {
     "data": {
      "text/plain": [
       "array(['Morrison', 'Idledale'], dtype=object)"
      ]
     },
     "execution_count": 1441,
     "metadata": {},
     "output_type": "execute_result"
    }
   ],
   "source": [
    "no_data['city'].unique()"
   ]
  },
  {
   "cell_type": "markdown",
   "metadata": {},
   "source": [
    "All of these little hamlets are near Golden, so let's map them to Golden. "
   ]
  },
  {
   "cell_type": "code",
   "execution_count": 1442,
   "metadata": {},
   "outputs": [],
   "source": [
    "dict2={'Morrison':'Golden', 'Indian Hills':'Golden', 'Idledale':'Golden'}\n",
    "sale_data.loc[sale_data['city'].isin(dict1.keys()), 'city'] = sale_data['city'].map(dict1)"
   ]
  },
  {
   "cell_type": "code",
   "execution_count": 1443,
   "metadata": {},
   "outputs": [
    {
     "data": {
      "text/plain": [
       "((188, 21), (188, 20))"
      ]
     },
     "execution_count": 1443,
     "metadata": {},
     "output_type": "execute_result"
    }
   ],
   "source": [
    "corporate_data_I = corporate_data.merge(income_T, left_on='city', right_on=income_T.index)\n",
    "corporate_data_I.shape, corporate_data.shape"
   ]
  },
  {
   "cell_type": "code",
   "execution_count": 1444,
   "metadata": {},
   "outputs": [],
   "source": [
    "sale_data_I = sale_data.merge(income_T, left_on='city', right_on=income_T.index)"
   ]
  },
  {
   "cell_type": "markdown",
   "metadata": {},
   "source": [
    "'Beds' and 'baths' should be categorical columns, since these are inherently categorical. Change the data types of these columns."
   ]
  },
  {
   "cell_type": "code",
   "execution_count": 1445,
   "metadata": {},
   "outputs": [],
   "source": [
    "corporate_data_I['beds'] = pd.Categorical(corporate_data_I.beds)\n",
    "corporate_data_I['baths'] = pd.Categorical(corporate_data_I.baths)\n",
    "sale_data_I['beds'] = pd.Categorical(sale_data_I.beds)\n",
    "sale_data_I['baths'] = pd.Categorical(sale_data_I.baths)"
   ]
  },
  {
   "cell_type": "code",
   "execution_count": 1446,
   "metadata": {},
   "outputs": [],
   "source": [
    "# Encode categorical features with dummies, dropping one to avoid instability\n",
    "dummy_features_corp = pd.get_dummies(corporate_data_I[['beds', 'baths']], drop_first=True)\n",
    "dummy_features_sale = pd.get_dummies(sale_data_I[['beds', 'baths']], drop_first=True)\n",
    "\n",
    "# Concat dummy_features to original dfs\n",
    "corporate_data_I = pd.concat([corporate_data_I, dummy_features_corp], axis=1)\n",
    "sale_data_I = pd.concat([sale_data_I, dummy_features_sale], axis=1)"
   ]
  },
  {
   "cell_type": "code",
   "execution_count": 1447,
   "metadata": {},
   "outputs": [
    {
     "data": {
      "text/plain": [
       "(Index(['address', 'city', 'zipcode', 'beds', 'baths', 'sqft', 'value', 'taxes',\n",
       "        'lat', 'lng', 'monthly_hoa', 'districtMatch', 'percentFreeDiscLunch',\n",
       "        'percentofAfricanAmericanStudents', 'percentofAsianStudents',\n",
       "        'percentofHispanicStudents', 'percentofIndianStudents',\n",
       "        'percentofPacificIslanderStudents', 'percentofTwoOrMoreRaceStudents',\n",
       "        'percentofWhiteStudents', 'rankMovement',\n",
       "        'Median household income (in 2019 dollars), 2015-2019', 'beds_2.0',\n",
       "        'beds_3.0', 'beds_4.0', 'beds_5.0', 'beds_6.0', 'beds_7.0', 'beds_9.0',\n",
       "        'baths_2.0', 'baths_3.0', 'baths_4.0', 'baths_7.0'],\n",
       "       dtype='object'),\n",
       " Index(['address_1', 'city', 'zipcode', 'beds', 'baths', 'sqft', 'market_rent',\n",
       "        'lat', 'lng', 'districtMatch', 'estimatedPrice', 'percentFreeDiscLunch',\n",
       "        'percentofAfricanAmericanStudents', 'percentofAsianStudents',\n",
       "        'percentofHispanicStudents', 'percentofIndianStudents',\n",
       "        'percentofPacificIslanderStudents', 'percentofTwoOrMoreRaceStudents',\n",
       "        'percentofWhiteStudents', 'rankMovement',\n",
       "        'Median household income (in 2019 dollars), 2015-2019', 'beds_3',\n",
       "        'beds_4', 'beds_5', 'baths_1.5', 'baths_2.0', 'baths_2.5', 'baths_3.0',\n",
       "        'baths_3.5', 'baths_4.0'],\n",
       "       dtype='object'))"
      ]
     },
     "execution_count": 1447,
     "metadata": {},
     "output_type": "execute_result"
    }
   ],
   "source": [
    "sale_data_I.columns, corporate_data_I.columns"
   ]
  },
  {
   "cell_type": "code",
   "execution_count": 1448,
   "metadata": {},
   "outputs": [],
   "source": [
    "# rename address_1 to address, and estimatedPrice to value\n",
    "corporate_data_I.rename(columns = {'address_1':'address', 'estimatedPrice':'value'}, inplace = True)"
   ]
  },
  {
   "cell_type": "code",
   "execution_count": 1449,
   "metadata": {},
   "outputs": [
    {
     "data": {
      "text/plain": [
       "dtype('O')"
      ]
     },
     "execution_count": 1449,
     "metadata": {},
     "output_type": "execute_result"
    }
   ],
   "source": [
    "# Check datatype of new column\n",
    "corporate_data_I['Median household income (in 2019 dollars), 2015-2019'].dtypes"
   ]
  },
  {
   "cell_type": "code",
   "execution_count": 1450,
   "metadata": {},
   "outputs": [],
   "source": [
    "corporate_data_I[['Median household income (in 2019 dollars), 2015-2019']] = \\\n",
    "        corporate_data_I[['Median household income (in 2019 dollars), 2015-2019']].replace('[\\$,]','',regex=True).astype(float)"
   ]
  },
  {
   "cell_type": "code",
   "execution_count": 1451,
   "metadata": {},
   "outputs": [],
   "source": [
    "sale_data_I[['Median household income (in 2019 dollars), 2015-2019']] = \\\n",
    "        sale_data_I[['Median household income (in 2019 dollars), 2015-2019']].replace('[\\$,]','',regex=True).astype(float)"
   ]
  },
  {
   "cell_type": "markdown",
   "metadata": {},
   "source": [
    "## 3.5 Train/Test Split - Keep Value<a id='4.6_Train/Test_Split'></a>"
   ]
  },
  {
   "cell_type": "markdown",
   "metadata": {},
   "source": [
    "After a couple of preliminary models, it seems that the 'value' of a property is tied to other features, possible some of which we have included in our particular set of features. \n",
    "First, we will run machine learning models including the feature 'value', then run without, and see which gives us a better outcome (explains more of the variability in data). \n",
    "\n",
    "So, let's use a 90/10 train/test split within the corporate data, using 'market_rent' as the dependent variable. "
   ]
  },
  {
   "cell_type": "code",
   "execution_count": 1452,
   "metadata": {},
   "outputs": [],
   "source": [
    "# use train_test_split \n",
    "X_train, X_test, y_train, y_test = train_test_split(corporate_data_I.drop(columns='market_rent'), \n",
    "                                                    corporate_data_I.market_rent, test_size=0.05, \n",
    "                                                    random_state=42)"
   ]
  },
  {
   "cell_type": "code",
   "execution_count": 1453,
   "metadata": {},
   "outputs": [
    {
     "data": {
      "text/plain": [
       "((178, 29), (10, 29))"
      ]
     },
     "execution_count": 1453,
     "metadata": {},
     "output_type": "execute_result"
    }
   ],
   "source": [
    "X_train.shape, X_test.shape"
   ]
  },
  {
   "cell_type": "code",
   "execution_count": 1454,
   "metadata": {},
   "outputs": [
    {
     "data": {
      "text/plain": [
       "((178,), (10,))"
      ]
     },
     "execution_count": 1454,
     "metadata": {},
     "output_type": "execute_result"
    }
   ],
   "source": [
    "y_train.shape, y_test.shape"
   ]
  },
  {
   "cell_type": "code",
   "execution_count": 1455,
   "metadata": {},
   "outputs": [
    {
     "data": {
      "text/plain": [
       "((178, 21), (10, 21))"
      ]
     },
     "execution_count": 1455,
     "metadata": {},
     "output_type": "execute_result"
    }
   ],
   "source": [
    "#Save the 'address' and 'zipcode' columns from the train/test data into address_train\n",
    "# and address_train\n",
    "#Then drop those columns from `X_train` and `X_test`. Use 'inplace=True'\n",
    "address_list = ['address', 'zipcode', 'lat', 'lng', 'districtMatch', 'city', 'beds', 'baths']\n",
    "address_train = X_train[address_list]\n",
    "address_test = X_test[address_list]\n",
    "X_train.drop(columns=address_list, inplace=True)\n",
    "X_test.drop(columns=address_list, inplace=True)\n",
    "X_train.shape, X_test.shape"
   ]
  },
  {
   "cell_type": "code",
   "execution_count": 1456,
   "metadata": {},
   "outputs": [
    {
     "data": {
      "text/plain": [
       "sqft                                                      int64\n",
       "value                                                   float64\n",
       "percentFreeDiscLunch                                    float64\n",
       "percentofAfricanAmericanStudents                        float64\n",
       "percentofAsianStudents                                  float64\n",
       "percentofHispanicStudents                               float64\n",
       "percentofIndianStudents                                 float64\n",
       "percentofPacificIslanderStudents                        float64\n",
       "percentofTwoOrMoreRaceStudents                          float64\n",
       "percentofWhiteStudents                                  float64\n",
       "rankMovement                                            float64\n",
       "Median household income (in 2019 dollars), 2015-2019    float64\n",
       "beds_3                                                    uint8\n",
       "beds_4                                                    uint8\n",
       "beds_5                                                    uint8\n",
       "baths_1.5                                                 uint8\n",
       "baths_2.0                                                 uint8\n",
       "baths_2.5                                                 uint8\n",
       "baths_3.0                                                 uint8\n",
       "baths_3.5                                                 uint8\n",
       "baths_4.0                                                 uint8\n",
       "dtype: object"
      ]
     },
     "execution_count": 1456,
     "metadata": {},
     "output_type": "execute_result"
    }
   ],
   "source": [
    "#Check the `dtypes` attribute of `X_train` to verify all features are numeric\n",
    "X_train.dtypes"
   ]
  },
  {
   "cell_type": "code",
   "execution_count": 1457,
   "metadata": {},
   "outputs": [
    {
     "data": {
      "text/plain": [
       "sqft                                                      int64\n",
       "value                                                   float64\n",
       "percentFreeDiscLunch                                    float64\n",
       "percentofAfricanAmericanStudents                        float64\n",
       "percentofAsianStudents                                  float64\n",
       "percentofHispanicStudents                               float64\n",
       "percentofIndianStudents                                 float64\n",
       "percentofPacificIslanderStudents                        float64\n",
       "percentofTwoOrMoreRaceStudents                          float64\n",
       "percentofWhiteStudents                                  float64\n",
       "rankMovement                                            float64\n",
       "Median household income (in 2019 dollars), 2015-2019    float64\n",
       "beds_3                                                    uint8\n",
       "beds_4                                                    uint8\n",
       "beds_5                                                    uint8\n",
       "baths_1.5                                                 uint8\n",
       "baths_2.0                                                 uint8\n",
       "baths_2.5                                                 uint8\n",
       "baths_3.0                                                 uint8\n",
       "baths_3.5                                                 uint8\n",
       "baths_4.0                                                 uint8\n",
       "dtype: object"
      ]
     },
     "execution_count": 1457,
     "metadata": {},
     "output_type": "execute_result"
    }
   ],
   "source": [
    "#Repeat this check for the test split in `X_test`\n",
    "X_test.dtypes"
   ]
  },
  {
   "cell_type": "markdown",
   "metadata": {},
   "source": [
    "All features in X are numeric."
   ]
  },
  {
   "cell_type": "markdown",
   "metadata": {},
   "source": [
    "## 3.6 Trim Data (Train set includes 'values') <a id='4.6 Trim Data(Train set includes \"values\")'></a>"
   ]
  },
  {
   "cell_type": "markdown",
   "metadata": {},
   "source": [
    " Let's look at the distributions of the training data. "
   ]
  },
  {
   "cell_type": "code",
   "execution_count": 1458,
   "metadata": {},
   "outputs": [
    {
     "data": {
      "image/png": "[encoded data removed]",
      "text/plain": [
       "<Figure size 720x288 with 2 Axes>"
      ]
     },
     "metadata": {
      "needs_background": "light"
     },
     "output_type": "display_data"
    }
   ],
   "source": [
    "X_train[['sqft', 'value']].hist(figsize=(10,4))\n",
    "plt.show()"
   ]
  },
  {
   "cell_type": "markdown",
   "metadata": {},
   "source": [
    "Graphically, it looks like there are a couple on the end - but these may not be outliers really, but rather large houses that are worth a lot of money. More data may prove these to be not outliers at all. We believe that there are more houses in the smaller, less expensive range and fewer in the larger, more expensive range *in general* and that houses smaller than about 1000 square feet are quite rare, leading to this distribution. \n",
    "We choose to not trim these data points as they are representative of the pattern as a whole. "
   ]
  },
  {
   "cell_type": "markdown",
   "metadata": {},
   "source": [
    "## 3.7 Initial Modeling - Dummy Regressor (including 'value')"
   ]
  },
  {
   "cell_type": "markdown",
   "metadata": {},
   "source": [
    "First, let's try the most basic model - the mean. This will give us some basis for comparison of the rest of the work we do. "
   ]
  },
  {
   "cell_type": "code",
   "execution_count": 1459,
   "metadata": {},
   "outputs": [
    {
     "data": {
      "text/plain": [
       "array([[2546.53370787]])"
      ]
     },
     "execution_count": 1459,
     "metadata": {},
     "output_type": "execute_result"
    }
   ],
   "source": [
    "# Fit the Dummy Regressor on the training data\n",
    "dumb_reg = DummyRegressor(strategy='mean')\n",
    "dumb_reg.fit(X_train, y_train)\n",
    "dumb_reg.constant_"
   ]
  },
  {
   "cell_type": "code",
   "execution_count": 1460,
   "metadata": {},
   "outputs": [
    {
     "data": {
      "text/plain": [
       "array([2546.53370787, 2546.53370787, 2546.53370787, 2546.53370787,\n",
       "       2546.53370787])"
      ]
     },
     "execution_count": 1460,
     "metadata": {},
     "output_type": "execute_result"
    }
   ],
   "source": [
    "# Predict outcome on X_train\n",
    "y_tr_pred = dumb_reg.predict(X_train)\n",
    "y_tr_pred[:5]"
   ]
  },
  {
   "cell_type": "code",
   "execution_count": 1461,
   "metadata": {},
   "outputs": [
    {
     "data": {
      "text/plain": [
       "array([2546.53370787, 2546.53370787, 2546.53370787, 2546.53370787,\n",
       "       2546.53370787])"
      ]
     },
     "execution_count": 1461,
     "metadata": {},
     "output_type": "execute_result"
    }
   ],
   "source": [
    "# Predict outcome on X_test\n",
    "y_te_pred = dumb_reg.predict(X_test)\n",
    "y_te_pred[:5]"
   ]
  },
  {
   "cell_type": "markdown",
   "metadata": {},
   "source": [
    "Let's start a list of models and MAE on the test set for some comparison. "
   ]
  },
  {
   "cell_type": "code",
   "execution_count": 1462,
   "metadata": {},
   "outputs": [],
   "source": [
    "models = []\n",
    "mae_test = []\n",
    "mae_train = []\n",
    "r2_test = []\n",
    "r2_train = []\n",
    "models.append(('DR', dumb_reg))"
   ]
  },
  {
   "cell_type": "markdown",
   "metadata": {},
   "source": [
    "### 3.7.1 Metrics on Dummy Regressor<a id='4.7.1_Metrics'></a>"
   ]
  },
  {
   "cell_type": "markdown",
   "metadata": {},
   "source": [
    "#### 3.7.1.1 R-squared, or coefficient of determination of Dummy Model<a id='4.7.1.1_R-squared,_or_coefficient_of_determination'></a>"
   ]
  },
  {
   "cell_type": "markdown",
   "metadata": {},
   "source": [
    "The R-squared of the dummy regressor should be 0 by definition. It will not be zero for the test set. "
   ]
  },
  {
   "cell_type": "code",
   "execution_count": 1463,
   "metadata": {},
   "outputs": [
    {
     "data": {
      "text/plain": [
       "(0.0, -0.2216470495182521)"
      ]
     },
     "execution_count": 1463,
     "metadata": {},
     "output_type": "execute_result"
    }
   ],
   "source": [
    "r2_score(y_train, y_tr_pred), r2_score(y_test, y_te_pred)"
   ]
  },
  {
   "cell_type": "markdown",
   "metadata": {},
   "source": [
    "#### 3.7.1.2 Mean Absolute Error of Dummy Model<a id='4.7.1.1_R-squared,_or_coefficient_of_determination'></a>"
   ]
  },
  {
   "cell_type": "markdown",
   "metadata": {},
   "source": [
    "As a reminder, the mean absolute error is the average of the absolute errors. "
   ]
  },
  {
   "cell_type": "code",
   "execution_count": 1464,
   "metadata": {},
   "outputs": [
    {
     "data": {
      "text/plain": [
       "(175.16740310566848, 215.59325842696626)"
      ]
     },
     "execution_count": 1464,
     "metadata": {},
     "output_type": "execute_result"
    }
   ],
   "source": [
    "mean_absolute_error(y_train, y_tr_pred), mean_absolute_error(y_test, y_te_pred)"
   ]
  },
  {
   "cell_type": "code",
   "execution_count": 1465,
   "metadata": {},
   "outputs": [],
   "source": [
    "mae_test.append(mean_absolute_error(y_test, y_te_pred))\n",
    "r2_test.append(r2_score(y_test, y_te_pred))\n",
    "r2_train.append(r2_score(y_train, y_tr_pred))\n",
    "mae_train.append(mean_absolute_error(y_train, y_tr_pred))"
   ]
  },
  {
   "cell_type": "markdown",
   "metadata": {},
   "source": [
    "#### 3.7.1.3 Mean Squared Error of Dummy Model<a id='4.7.1.1_R-squared,_or_coefficient_of_determination'></a>"
   ]
  },
  {
   "cell_type": "markdown",
   "metadata": {},
   "source": [
    "Another reminder: the mean squared error is the average of the squares of the errors. "
   ]
  },
  {
   "cell_type": "code",
   "execution_count": 1466,
   "metadata": {},
   "outputs": [
    {
     "data": {
      "text/plain": [
       "(53039.61965029668, 104002.58821487182)"
      ]
     },
     "execution_count": 1466,
     "metadata": {},
     "output_type": "execute_result"
    }
   ],
   "source": [
    "mean_squared_error(y_train, y_tr_pred), mean_squared_error(y_test, y_te_pred)"
   ]
  },
  {
   "cell_type": "markdown",
   "metadata": {},
   "source": [
    "## 3.8 Scaling Test/Train (with 'value')<a id='4.8_Initial_Models'></a>"
   ]
  },
  {
   "cell_type": "markdown",
   "metadata": {},
   "source": [
    "Our data is on different scales. For example, square footage is in the thousands, while percentage of kids receiving school lunch is necessarily under 100. The dummy variables are either 0 or 1. Let's scale the features that are not binary. "
   ]
  },
  {
   "cell_type": "code",
   "execution_count": 1467,
   "metadata": {},
   "outputs": [
    {
     "data": {
      "text/plain": [
       "(Index(['sqft', 'value', 'percentFreeDiscLunch',\n",
       "        'percentofAfricanAmericanStudents', 'percentofAsianStudents',\n",
       "        'percentofHispanicStudents', 'percentofIndianStudents',\n",
       "        'percentofPacificIslanderStudents', 'percentofTwoOrMoreRaceStudents',\n",
       "        'percentofWhiteStudents', 'rankMovement',\n",
       "        'Median household income (in 2019 dollars), 2015-2019', 'beds_3',\n",
       "        'beds_4', 'beds_5', 'baths_1.5', 'baths_2.0', 'baths_2.5', 'baths_3.0',\n",
       "        'baths_3.5', 'baths_4.0'],\n",
       "       dtype='object'),\n",
       " Index(['sqft', 'value', 'percentFreeDiscLunch',\n",
       "        'percentofAfricanAmericanStudents', 'percentofAsianStudents',\n",
       "        'percentofHispanicStudents', 'percentofIndianStudents',\n",
       "        'percentofPacificIslanderStudents', 'percentofTwoOrMoreRaceStudents',\n",
       "        'percentofWhiteStudents', 'rankMovement',\n",
       "        'Median household income (in 2019 dollars), 2015-2019', 'beds_3',\n",
       "        'beds_4', 'beds_5', 'baths_1.5', 'baths_2.0', 'baths_2.5', 'baths_3.0',\n",
       "        'baths_3.5', 'baths_4.0'],\n",
       "       dtype='object'))"
      ]
     },
     "execution_count": 1467,
     "metadata": {},
     "output_type": "execute_result"
    }
   ],
   "source": [
    "X_train.columns, X_test.columns"
   ]
  },
  {
   "cell_type": "code",
   "execution_count": 1468,
   "metadata": {},
   "outputs": [],
   "source": [
    "#Call the StandardScaler`s fit method on `X_train` to fit the scaler\n",
    "#then use it's `transform()` method to apply the scaling to both the train and test split\n",
    "#data (`X_train` and `X_test`), naming the results `X_tr_scaled` and `X_te_scaled`, respectively\n",
    "scaler = StandardScaler()\n",
    "col_list = ['sqft', 'value','percentFreeDiscLunch', 'percentofAfricanAmericanStudents',\n",
    "       'percentofAsianStudents', 'percentofHispanicStudents',\n",
    "       'percentofIndianStudents', 'percentofPacificIslanderStudents',\n",
    "       'percentofTwoOrMoreRaceStudents', 'percentofWhiteStudents',\n",
    "       'rankMovement', 'Median household income (in 2019 dollars), 2015-2019']\n",
    "scaled_features = X_train.copy()\n",
    "features = scaled_features[col_list]\n",
    "scaler.fit(features.values)\n",
    "features = scaler.transform(features.values)\n",
    "\n"
   ]
  },
  {
   "cell_type": "code",
   "execution_count": 1469,
   "metadata": {},
   "outputs": [],
   "source": [
    "# transform back to df\n",
    "scaled_features[col_list] = features\n",
    "X_tr_scaled = scaled_features.copy()"
   ]
  },
  {
   "cell_type": "code",
   "execution_count": 1470,
   "metadata": {},
   "outputs": [],
   "source": [
    "# transform test set\n",
    "scaled_te_features = X_test.copy()\n",
    "features = scaled_te_features[col_list]\n",
    "features = scaler.transform(features.values)\n",
    "scaled_te_features[col_list] = features\n",
    "X_te_scaled = scaled_te_features.copy()"
   ]
  },
  {
   "cell_type": "code",
   "execution_count": 1471,
   "metadata": {},
   "outputs": [
    {
     "data": {
      "text/plain": [
       "(Index(['sqft', 'value', 'percentFreeDiscLunch',\n",
       "        'percentofAfricanAmericanStudents', 'percentofAsianStudents',\n",
       "        'percentofHispanicStudents', 'percentofIndianStudents',\n",
       "        'percentofPacificIslanderStudents', 'percentofTwoOrMoreRaceStudents',\n",
       "        'percentofWhiteStudents', 'rankMovement',\n",
       "        'Median household income (in 2019 dollars), 2015-2019', 'beds_3',\n",
       "        'beds_4', 'beds_5', 'baths_1.5', 'baths_2.0', 'baths_2.5', 'baths_3.0',\n",
       "        'baths_3.5', 'baths_4.0'],\n",
       "       dtype='object'),\n",
       " Index(['sqft', 'value', 'percentFreeDiscLunch',\n",
       "        'percentofAfricanAmericanStudents', 'percentofAsianStudents',\n",
       "        'percentofHispanicStudents', 'percentofIndianStudents',\n",
       "        'percentofPacificIslanderStudents', 'percentofTwoOrMoreRaceStudents',\n",
       "        'percentofWhiteStudents', 'rankMovement',\n",
       "        'Median household income (in 2019 dollars), 2015-2019', 'beds_3',\n",
       "        'beds_4', 'beds_5', 'baths_1.5', 'baths_2.0', 'baths_2.5', 'baths_3.0',\n",
       "        'baths_3.5', 'baths_4.0'],\n",
       "       dtype='object'))"
      ]
     },
     "execution_count": 1471,
     "metadata": {},
     "output_type": "execute_result"
    }
   ],
   "source": [
    "X_tr_scaled.columns, X_te_scaled.columns"
   ]
  },
  {
   "cell_type": "markdown",
   "metadata": {},
   "source": [
    "## 3.9 Initial Model - Linear Regression (with 'value')<a id='4.8_Initial_Models'></a>"
   ]
  },
  {
   "cell_type": "markdown",
   "metadata": {},
   "source": [
    "The first model we will run is the default Linear Regression model. We don't need to use the scaled data with Linear Regression (or, we can - it makes no difference). Let's use the unscaled data so that, if necessary, we can interpret the coefficients. "
   ]
  },
  {
   "cell_type": "code",
   "execution_count": 1472,
   "metadata": {},
   "outputs": [
    {
     "name": "stdout",
     "output_type": "stream",
     "text": [
      "(178, 21)\n",
      "21\n"
     ]
    }
   ],
   "source": [
    "# Instantiate the model and fit to training data\n",
    "lm = LinearRegression().fit(X_train, y_train)\n",
    "print(X_train.shape)\n",
    "print(len(lm.coef_))"
   ]
  },
  {
   "cell_type": "markdown",
   "metadata": {},
   "source": [
    "##### 3.9.1 Make predictions using the model on both train and test splits"
   ]
  },
  {
   "cell_type": "code",
   "execution_count": 1473,
   "metadata": {},
   "outputs": [],
   "source": [
    "#Call the `predict()` method of the model (`lm`) on both the (scaled) train and test data\n",
    "#Assign the predictions to `y_tr_pred` and `y_te_pred`, respectively\n",
    "y_tr_pred = lm.predict(X_train)\n",
    "y_te_pred = lm.predict(X_test)"
   ]
  },
  {
   "cell_type": "code",
   "execution_count": 1474,
   "metadata": {},
   "outputs": [
    {
     "data": {
      "text/plain": [
       "(0.7111931629094999, 0.9055077759278861)"
      ]
     },
     "execution_count": 1474,
     "metadata": {},
     "output_type": "execute_result"
    }
   ],
   "source": [
    "# r^2 - train, test\n",
    "lm_r2 = r2_score(y_train, y_tr_pred), r2_score(y_test, y_te_pred)\n",
    "lm_r2"
   ]
  },
  {
   "cell_type": "markdown",
   "metadata": {},
   "source": [
    "Here we see that our simple linear regression model explains over 70% of the variance on the train set and 90% on the test set. This might be a luck of the draw. The model seems underfit. That's a lot of bias. "
   ]
  },
  {
   "cell_type": "code",
   "execution_count": 1475,
   "metadata": {},
   "outputs": [
    {
     "data": {
      "text/plain": [
       "(93.54954986113063, 72.56644425536419)"
      ]
     },
     "execution_count": 1475,
     "metadata": {},
     "output_type": "execute_result"
    }
   ],
   "source": [
    "median_mae = mean_absolute_error(y_train, y_tr_pred), mean_absolute_error(y_test, y_te_pred)\n",
    "median_mae"
   ]
  },
  {
   "cell_type": "code",
   "execution_count": 1476,
   "metadata": {},
   "outputs": [],
   "source": [
    "models.append(('LR', lm))\n",
    "mae_test.append(mean_absolute_error(y_test, y_te_pred))\n",
    "mae_train.append(mean_absolute_error(y_train, y_tr_pred))\n",
    "r2_test.append(r2_score(y_test, y_te_pred))\n",
    "r2_train.append(r2_score(y_train, y_tr_pred))"
   ]
  },
  {
   "cell_type": "markdown",
   "metadata": {},
   "source": [
    "This is much better than simply using the mean as we did with the dummy regressor (MAE=192 on test set). Let's try to fit a hyperparameter, the number of features used. "
   ]
  },
  {
   "cell_type": "code",
   "execution_count": 1477,
   "metadata": {},
   "outputs": [],
   "source": [
    "pipe = make_pipeline( \n",
    "    SelectKBest(f_regression),\n",
    "    LinearRegression()\n",
    ")"
   ]
  },
  {
   "cell_type": "code",
   "execution_count": 1478,
   "metadata": {},
   "outputs": [
    {
     "data": {
      "text/plain": [
       "Pipeline(steps=[('selectkbest',\n",
       "                 SelectKBest(score_func=<function f_regression at 0x00000206BE486160>)),\n",
       "                ('linearregression', LinearRegression())])"
      ]
     },
     "execution_count": 1478,
     "metadata": {},
     "output_type": "execute_result"
    }
   ],
   "source": [
    "#Call the pipe's `fit()` method with `X_train` and `y_train` as arguments\n",
    "pipe.fit(X_train, y_train)"
   ]
  },
  {
   "cell_type": "code",
   "execution_count": 1479,
   "metadata": {},
   "outputs": [],
   "source": [
    "y_tr_pred = pipe.predict(X_train)\n",
    "y_te_pred = pipe.predict(X_test)"
   ]
  },
  {
   "cell_type": "code",
   "execution_count": 1480,
   "metadata": {},
   "outputs": [
    {
     "data": {
      "text/plain": [
       "(0.6356845249343781, 0.9466217609396604)"
      ]
     },
     "execution_count": 1480,
     "metadata": {},
     "output_type": "execute_result"
    }
   ],
   "source": [
    "r2_score(y_train, y_tr_pred), r2_score(y_test, y_te_pred)"
   ]
  },
  {
   "cell_type": "code",
   "execution_count": 1481,
   "metadata": {},
   "outputs": [
    {
     "data": {
      "text/plain": [
       "(105.57467035208002, 56.0500076988626)"
      ]
     },
     "execution_count": 1481,
     "metadata": {},
     "output_type": "execute_result"
    }
   ],
   "source": [
    "mean_absolute_error(y_train, y_tr_pred), mean_absolute_error(y_test, y_te_pred)"
   ]
  },
  {
   "cell_type": "code",
   "execution_count": 1482,
   "metadata": {},
   "outputs": [],
   "source": [
    "models.append(('SelKBest=10', pipe))\n",
    "mae_test.append(mean_absolute_error(y_test, y_te_pred))\n",
    "mae_train.append(mean_absolute_error(y_train, y_tr_pred))\n",
    "r2_test.append(r2_score(y_test, y_te_pred))\n",
    "r2_train.append(r2_score(y_train, y_tr_pred))"
   ]
  },
  {
   "cell_type": "markdown",
   "metadata": {},
   "source": [
    "This improves upon the default linear regression model slightly. There is no overfitting here. The default number of *k* is 10. Perhaps we can do better after checking the best value for k. "
   ]
  },
  {
   "cell_type": "code",
   "execution_count": 1483,
   "metadata": {},
   "outputs": [
    {
     "data": {
      "text/plain": [
       "dict_keys(['memory', 'steps', 'verbose', 'selectkbest', 'linearregression', 'selectkbest__k', 'selectkbest__score_func', 'linearregression__copy_X', 'linearregression__fit_intercept', 'linearregression__n_jobs', 'linearregression__normalize'])"
      ]
     },
     "execution_count": 1483,
     "metadata": {},
     "output_type": "execute_result"
    }
   ],
   "source": [
    "pipe.get_params().keys()"
   ]
  },
  {
   "cell_type": "code",
   "execution_count": 1484,
   "metadata": {},
   "outputs": [
    {
     "name": "stdout",
     "output_type": "stream",
     "text": [
      "{'selectkbest__k': [1, 2, 3, 4, 5, 6, 7, 8, 9, 10, 11, 12, 13, 14, 15, 16, 17, 18, 19, 20, 21]}\n"
     ]
    }
   ],
   "source": [
    "# build grid of hyperparameters\n",
    "k = [k+1 for k in range(len(X_train.columns))]\n",
    "grid_params = {'selectkbest__k': k}\n",
    "print(grid_params)"
   ]
  },
  {
   "cell_type": "code",
   "execution_count": 1485,
   "metadata": {},
   "outputs": [],
   "source": [
    "# We can use GridSearchCV because linear regression is very fast and we're only checking one hyperparameter\n",
    "lr_grid_cv = GridSearchCV(pipe, param_grid=grid_params, cv=5, n_jobs=-1)"
   ]
  },
  {
   "cell_type": "code",
   "execution_count": 1486,
   "metadata": {},
   "outputs": [
    {
     "data": {
      "text/plain": [
       "GridSearchCV(cv=5,\n",
       "             estimator=Pipeline(steps=[('selectkbest',\n",
       "                                        SelectKBest(score_func=<function f_regression at 0x00000206BE486160>)),\n",
       "                                       ('linearregression',\n",
       "                                        LinearRegression())]),\n",
       "             n_jobs=-1,\n",
       "             param_grid={'selectkbest__k': [1, 2, 3, 4, 5, 6, 7, 8, 9, 10, 11,\n",
       "                                            12, 13, 14, 15, 16, 17, 18, 19, 20,\n",
       "                                            21]})"
      ]
     },
     "execution_count": 1486,
     "metadata": {},
     "output_type": "execute_result"
    }
   ],
   "source": [
    "# fit the model with cv=5\n",
    "lr_grid_cv.fit(X_train, y_train)"
   ]
  },
  {
   "cell_type": "code",
   "execution_count": 1487,
   "metadata": {},
   "outputs": [],
   "source": [
    "y_tr_pred = lr_grid_cv.predict(X_train)\n",
    "y_te_pred = lr_grid_cv.predict(X_test)"
   ]
  },
  {
   "cell_type": "code",
   "execution_count": 1488,
   "metadata": {},
   "outputs": [
    {
     "data": {
      "text/plain": [
       "(0.7105064993379351, 0.9051489594363497)"
      ]
     },
     "execution_count": 1488,
     "metadata": {},
     "output_type": "execute_result"
    }
   ],
   "source": [
    "r2_score(y_train, y_tr_pred), r2_score(y_test, y_te_pred)"
   ]
  },
  {
   "cell_type": "code",
   "execution_count": 1489,
   "metadata": {},
   "outputs": [
    {
     "data": {
      "text/plain": [
       "(93.57342488106542, 71.90335964930023)"
      ]
     },
     "execution_count": 1489,
     "metadata": {},
     "output_type": "execute_result"
    }
   ],
   "source": [
    "mean_absolute_error(y_train, y_tr_pred), mean_absolute_error(y_test, y_te_pred)"
   ]
  },
  {
   "cell_type": "code",
   "execution_count": 1490,
   "metadata": {},
   "outputs": [],
   "source": [
    "models.append(('LR optimized', lr_grid_cv))\n",
    "mae_test.append(mean_absolute_error(y_test, y_te_pred))\n",
    "mae_train.append(mean_absolute_error(y_train, y_tr_pred))\n",
    "r2_test.append(r2_score(y_test, y_te_pred))\n",
    "r2_train.append(r2_score(y_train, y_tr_pred))"
   ]
  },
  {
   "cell_type": "code",
   "execution_count": 1491,
   "metadata": {},
   "outputs": [],
   "source": [
    "# Find the best scores\n",
    "score_mean = lr_grid_cv.cv_results_['mean_test_score']\n",
    "score_std = lr_grid_cv.cv_results_['std_test_score']\n",
    "cv_k = [k for k in lr_grid_cv.cv_results_['param_selectkbest__k']]"
   ]
  },
  {
   "cell_type": "code",
   "execution_count": 1492,
   "metadata": {},
   "outputs": [
    {
     "data": {
      "text/plain": [
       "{'selectkbest__k': 20}"
      ]
     },
     "execution_count": 1492,
     "metadata": {},
     "output_type": "execute_result"
    }
   ],
   "source": [
    "#Print the `best_params_` attribute of `lr_grid_cv`\n",
    "lr_grid_cv.best_params_"
   ]
  },
  {
   "cell_type": "code",
   "execution_count": 1493,
   "metadata": {},
   "outputs": [
    {
     "data": {
      "image/png": "[encoded data removed]",
      "text/plain": [
       "<Figure size 720x360 with 1 Axes>"
      ]
     },
     "metadata": {
      "needs_background": "light"
     },
     "output_type": "display_data"
    }
   ],
   "source": [
    "#Assign the value of k from the above dict of `best_params_` and assign it to `best_k`\n",
    "best_k = lr_grid_cv.best_params_['selectkbest__k']\n",
    "plt.subplots(figsize=(10, 5))\n",
    "plt.errorbar(cv_k, score_mean, yerr=score_std)\n",
    "plt.axvline(x=best_k, c='r', ls='--', alpha=.5)\n",
    "plt.xlabel('k')\n",
    "plt.ylabel('CV score (r-squared)')\n",
    "plt.title('Pipeline mean CV score (error bars +/- 1sd)');"
   ]
  },
  {
   "cell_type": "code",
   "execution_count": 1494,
   "metadata": {},
   "outputs": [
    {
     "name": "stdout",
     "output_type": "stream",
     "text": [
      "[ True  True  True  True  True  True  True  True False  True  True  True\n",
      "  True  True  True  True  True  True  True  True  True]\n"
     ]
    }
   ],
   "source": [
    "selected = lr_grid_cv.best_estimator_.named_steps.selectkbest.get_support()\n",
    "print(selected)"
   ]
  },
  {
   "cell_type": "code",
   "execution_count": 1495,
   "metadata": {},
   "outputs": [
    {
     "data": {
      "text/plain": [
       "baths_3.5                                               387.420387\n",
       "baths_4.0                                               385.428374\n",
       "baths_2.5                                               365.011679\n",
       "baths_2.0                                               325.349632\n",
       "baths_3.0                                               320.071612\n",
       "baths_1.5                                               172.450276\n",
       "beds_5                                                  103.334224\n",
       "beds_4                                                   65.887409\n",
       "beds_3                                                   56.119190\n",
       "percentFreeDiscLunch                                     14.503286\n",
       "percentofAsianStudents                                    1.659721\n",
       "sqft                                                      0.300686\n",
       "value                                                     0.000986\n",
       "Median household income (in 2019 dollars), 2015-2019      0.000155\n",
       "rankMovement                                             -0.175080\n",
       "percentofWhiteStudents                                   -5.187729\n",
       "percentofAfricanAmericanStudents                        -15.561214\n",
       "percentofHispanicStudents                               -16.871143\n",
       "percentofPacificIslanderStudents                       -219.151499\n",
       "percentofIndianStudents                                -349.909354\n",
       "dtype: float64"
      ]
     },
     "execution_count": 1495,
     "metadata": {},
     "output_type": "execute_result"
    }
   ],
   "source": [
    "#Get the linear model coefficients from the `coef_` attribute and store in `coefs`,\n",
    "#get the matching feature names from the column names of the dataframe,\n",
    "#and display the results as a pandas Series with `coefs` as the values and `features` as the index,\n",
    "#sorting the values in descending order\n",
    "coefs = lr_grid_cv.best_estimator_.named_steps.linearregression.coef_\n",
    "features = X_train.columns[selected]\n",
    "pd.Series(coefs, index=features).sort_values(ascending=False)"
   ]
  },
  {
   "cell_type": "markdown",
   "metadata": {},
   "source": [
    "This is unexpected. This shows that really, people are willing to pay more for bathrooms. Anything over 1 bathroom commands a premium. The value of the house and the square footage don't seem to matter at all. The median household income of the city also doesn't seem to matter! "
   ]
  },
  {
   "cell_type": "markdown",
   "metadata": {},
   "source": [
    "## 3.10 Ridge model <a id='4.10_LASSO_model'></a>"
   ]
  },
  {
   "cell_type": "markdown",
   "metadata": {},
   "source": [
    "Linear regression worked better than the dummy regressor (mean). But our coefficients are very high. Ridge regression is a type of regularization which reduces the coefficients of the features (but never to zero). "
   ]
  },
  {
   "cell_type": "code",
   "execution_count": 1496,
   "metadata": {},
   "outputs": [],
   "source": [
    "from sklearn.linear_model import Ridge\n",
    "ridgem = Ridge(alpha=0.05, normalize=True)\n",
    "ridgem.fit(X_train, y_train)\n",
    "y_te_pred = ridgem.predict(X_test)\n",
    "y_tr_pred = ridgem.predict(X_train)"
   ]
  },
  {
   "cell_type": "code",
   "execution_count": 1497,
   "metadata": {},
   "outputs": [
    {
     "data": {
      "text/plain": [
       "(0.6909988660174564, 0.9184913421338099)"
      ]
     },
     "execution_count": 1497,
     "metadata": {},
     "output_type": "execute_result"
    }
   ],
   "source": [
    "r2_score(y_train, y_tr_pred), r2_score(y_test, y_te_pred)"
   ]
  },
  {
   "cell_type": "code",
   "execution_count": 1498,
   "metadata": {},
   "outputs": [
    {
     "data": {
      "text/plain": [
       "(97.87312002783196, 67.0358836945832)"
      ]
     },
     "execution_count": 1498,
     "metadata": {},
     "output_type": "execute_result"
    }
   ],
   "source": [
    "mean_absolute_error(y_train, y_tr_pred), mean_absolute_error(y_test, y_te_pred)"
   ]
  },
  {
   "cell_type": "code",
   "execution_count": 1499,
   "metadata": {},
   "outputs": [],
   "source": [
    "models.append(('Ridge', ridgem))\n",
    "mae_test.append(mean_absolute_error(y_test, y_te_pred))\n",
    "mae_train.append(mean_absolute_error(y_train, y_tr_pred))\n",
    "r2_test.append(r2_score(y_test, y_te_pred))\n",
    "r2_train.append(r2_score(y_train, y_tr_pred))"
   ]
  },
  {
   "cell_type": "markdown",
   "metadata": {},
   "source": [
    "## 3.10 Lasso model <a id='4.10_LASSO_model'></a>"
   ]
  },
  {
   "cell_type": "markdown",
   "metadata": {},
   "source": [
    "Lasso is another form of regularization which seeks to minimize lamba multiplied by the magnitude of the sum of the coefficients. In this method, some of the coefficients will go to zero, which can help with feature selection. We have a lot of features with very low coefficients in the linear regression model, those features may simply not be important. "
   ]
  },
  {
   "cell_type": "code",
   "execution_count": 1500,
   "metadata": {},
   "outputs": [],
   "source": [
    "from sklearn.linear_model import Lasso\n",
    "lassoReg = Lasso(max_iter=10000)"
   ]
  },
  {
   "cell_type": "code",
   "execution_count": 1501,
   "metadata": {},
   "outputs": [],
   "source": [
    "# Try default lasso\n",
    "lassoReg.fit(X_train, y_train)\n",
    "\n",
    "y_tr_pred = lassoReg.predict(X_train)\n",
    "y_te_pred = lassoReg.predict(X_test)"
   ]
  },
  {
   "cell_type": "code",
   "execution_count": 1502,
   "metadata": {},
   "outputs": [
    {
     "data": {
      "text/plain": [
       "(0.6860416427765561, 0.9209717274826771)"
      ]
     },
     "execution_count": 1502,
     "metadata": {},
     "output_type": "execute_result"
    }
   ],
   "source": [
    "# r2 of default lasso\n",
    "r2_score(y_train, y_tr_pred), r2_score(y_test, y_te_pred)"
   ]
  },
  {
   "cell_type": "code",
   "execution_count": 1503,
   "metadata": {},
   "outputs": [
    {
     "data": {
      "text/plain": [
       "(99.43636414206956, 68.11127249852002)"
      ]
     },
     "execution_count": 1503,
     "metadata": {},
     "output_type": "execute_result"
    }
   ],
   "source": [
    "# MAE of default lasso\n",
    "mean_absolute_error(y_train, y_tr_pred), mean_absolute_error(y_test, y_te_pred)"
   ]
  },
  {
   "cell_type": "code",
   "execution_count": 1504,
   "metadata": {},
   "outputs": [
    {
     "data": {
      "text/plain": [
       "dict_keys(['alpha', 'copy_X', 'fit_intercept', 'max_iter', 'normalize', 'positive', 'precompute', 'random_state', 'selection', 'tol', 'warm_start'])"
      ]
     },
     "execution_count": 1504,
     "metadata": {},
     "output_type": "execute_result"
    }
   ],
   "source": [
    "# what can we optimize with a lasso model?\n",
    "lassoReg.get_params().keys()"
   ]
  },
  {
   "cell_type": "code",
   "execution_count": 1505,
   "metadata": {},
   "outputs": [],
   "source": [
    "lam = [.03, .1, .15, .2, .25, .5, 1, 1.5, 2, 2.5, 3, 4, 5, 6, 7, 8]\n",
    "grid_params = {'alpha': lam,\n",
    "             'normalize': [True, False],\n",
    "             'max_iter': [10000]\n",
    "             }\n",
    "\n",
    "lasso_grid_cv = GridSearchCV(lassoReg, param_grid=grid_params, cv=5, n_jobs=-1)"
   ]
  },
  {
   "cell_type": "code",
   "execution_count": 1506,
   "metadata": {},
   "outputs": [
    {
     "data": {
      "text/plain": [
       "({'alpha': 0.03, 'max_iter': 10000, 'normalize': False}, 0.5898399607473843)"
      ]
     },
     "execution_count": 1506,
     "metadata": {},
     "output_type": "execute_result"
    }
   ],
   "source": [
    "lasso_grid_cv.fit(X_train, y_train)\n",
    "lasso_grid_cv.best_params_, lasso_grid_cv.best_score_\n"
   ]
  },
  {
   "cell_type": "code",
   "execution_count": 1507,
   "metadata": {},
   "outputs": [],
   "source": [
    "y_tr_pred = lasso_grid_cv.predict(X_train)\n",
    "y_te_pred = lasso_grid_cv.predict(X_test)"
   ]
  },
  {
   "cell_type": "code",
   "execution_count": 1508,
   "metadata": {},
   "outputs": [],
   "source": [
    "Optlasso = Lasso(alpha=0.03, max_iter=10000, normalize=True)\n",
    "Optlasso.fit(X_train, y_train)\n",
    "y_tr_pred_opt = Optlasso.predict(X_train)\n",
    "y_te_pred_opt = Optlasso.predict(X_test)"
   ]
  },
  {
   "cell_type": "code",
   "execution_count": 1509,
   "metadata": {},
   "outputs": [
    {
     "data": {
      "text/plain": [
       "(0.7071989637831392, 0.9171788697287073)"
      ]
     },
     "execution_count": 1509,
     "metadata": {},
     "output_type": "execute_result"
    }
   ],
   "source": [
    "r2_score(y_train, y_tr_pred_opt), r2_score(y_test, y_te_pred_opt)"
   ]
  },
  {
   "cell_type": "code",
   "execution_count": 1510,
   "metadata": {},
   "outputs": [
    {
     "data": {
      "text/plain": [
       "(94.68825766416165, 66.9500691757385)"
      ]
     },
     "execution_count": 1510,
     "metadata": {},
     "output_type": "execute_result"
    }
   ],
   "source": [
    "mean_absolute_error(y_train, y_tr_pred_opt), mean_absolute_error(y_test, y_te_pred_opt)"
   ]
  },
  {
   "cell_type": "markdown",
   "metadata": {},
   "source": [
    "The optimized Lasso estimator has slightly better R2 and MAE than the default. We will save those to our list. "
   ]
  },
  {
   "cell_type": "code",
   "execution_count": 1511,
   "metadata": {},
   "outputs": [],
   "source": [
    "models.append(('Optlasso', Optlasso))\n",
    "mae_test.append(mean_absolute_error(y_test, y_te_pred_opt))\n",
    "mae_train.append(mean_absolute_error(y_train, y_tr_pred_opt))\n",
    "r2_test.append(r2_score(y_test, y_te_pred_opt))\n",
    "r2_train.append(r2_score(y_train, y_tr_pred_opt))"
   ]
  },
  {
   "cell_type": "markdown",
   "metadata": {},
   "source": [
    "## 3.11 Random Forest Model<a id='4.10_Random_Forest_Model'></a>"
   ]
  },
  {
   "cell_type": "markdown",
   "metadata": {},
   "source": [
    "First, let's try Random Forest Regressor with default hyperparameters, using the scaled data which include the 'value' feature. \n"
   ]
  },
  {
   "cell_type": "code",
   "execution_count": 1517,
   "metadata": {},
   "outputs": [
    {
     "data": {
      "text/plain": [
       "RandomForestRegressor(random_state=42)"
      ]
     },
     "execution_count": 1517,
     "metadata": {},
     "output_type": "execute_result"
    }
   ],
   "source": [
    "# Instantiate the model and fit it to scaled training data\n",
    "rf_default = RandomForestRegressor(random_state=42)\n",
    "rf_default.fit(X_tr_scaled, y_train)"
   ]
  },
  {
   "cell_type": "code",
   "execution_count": 1518,
   "metadata": {},
   "outputs": [],
   "source": [
    "#Call `cross_validate` to estimate the pipeline's performance.\n",
    "#Pass it the random forest pipe object, `X_train` and `y_train`,\n",
    "#and get it to use 5-fold cross-validation\n",
    "rf_default_cv_results = cross_validate(rf_default, X_tr_scaled, y_train, cv=5)"
   ]
  },
  {
   "cell_type": "code",
   "execution_count": 1519,
   "metadata": {},
   "outputs": [
    {
     "data": {
      "text/plain": [
       "array([0.4554532 , 0.68497623, 0.30290468, 0.35100523, 0.70941069])"
      ]
     },
     "execution_count": 1519,
     "metadata": {},
     "output_type": "execute_result"
    }
   ],
   "source": [
    "rf_cv_scores = rf_default_cv_results['test_score']\n",
    "rf_cv_scores"
   ]
  },
  {
   "cell_type": "code",
   "execution_count": 1520,
   "metadata": {},
   "outputs": [
    {
     "data": {
      "text/plain": [
       "(0.5007500071020929, 0.1679861030471958)"
      ]
     },
     "execution_count": 1520,
     "metadata": {},
     "output_type": "execute_result"
    }
   ],
   "source": [
    "np.mean(rf_cv_scores), np.std(rf_cv_scores)"
   ]
  },
  {
   "cell_type": "markdown",
   "metadata": {},
   "source": [
    "## 3.12 Hyperparameter search using RandomSearchCV<a id='4.10_Random_Forest_Model'></a>"
   ]
  },
  {
   "cell_type": "markdown",
   "metadata": {},
   "source": [
    "Let's try some hyperparameters and see if we can improve upon the default random forest regressor. "
   ]
  },
  {
   "cell_type": "code",
   "execution_count": 1521,
   "metadata": {},
   "outputs": [
    {
     "data": {
      "text/plain": [
       "{'bootstrap': [True, False],\n",
       " 'n_estimators': [10, 50, 100, 500, 1000, 1200, 1500],\n",
       " 'max_depth': [10, 20, 30, 40, 50, 60, 70, 80, 90, 100],\n",
       " 'max_features': ['auto', 'sqrt'],\n",
       " 'min_samples_split': [2, 5, 10, 15, 20, 25, 30, 35, 40],\n",
       " 'min_samples_leaf': [2, 5, 10, 15, 20],\n",
       " 'criterion': ['mse', 'mae']}"
      ]
     },
     "execution_count": 1521,
     "metadata": {},
     "output_type": "execute_result"
    }
   ],
   "source": [
    "# Build param grid for random search\n",
    "n_est = [10, 50, 100, 500, 1000, 1200, 1500]\n",
    "max_features = ['auto', 'sqrt']\n",
    "max_depth = [10, 20, 30, 40, 50, 60, 70, 80, 90, 100]\n",
    "min_samples_split = [2, 5, 10, 15, 20, 25, 30, 35, 40]\n",
    "min_samples_leaf = [2, 5, 10, 15, 20]\n",
    "\n",
    "random_grid = {\n",
    "        'bootstrap': [True, False],\n",
    "        'n_estimators': n_est,\n",
    "        'max_depth': max_depth,\n",
    "        'max_features': max_features,\n",
    "        'min_samples_split': min_samples_split,\n",
    "        'min_samples_leaf': min_samples_leaf,\n",
    "        'criterion': [\"mse\", \"mae\"]\n",
    "}\n",
    "random_grid"
   ]
  },
  {
   "cell_type": "code",
   "execution_count": 1522,
   "metadata": {},
   "outputs": [],
   "source": [
    "# Call RandomizedSearchCV with RandomForestRegressor, the random_grid, and cv=5\n",
    "rf = RandomForestRegressor(random_state=42)\n",
    "rf_random_cv = RandomizedSearchCV(estimator=rf, param_distributions=random_grid, \n",
    "                                  cv=5, n_jobs=-1)"
   ]
  },
  {
   "cell_type": "code",
   "execution_count": 1523,
   "metadata": {},
   "outputs": [
    {
     "data": {
      "text/plain": [
       "RandomizedSearchCV(cv=5, estimator=RandomForestRegressor(random_state=42),\n",
       "                   n_jobs=-1,\n",
       "                   param_distributions={'bootstrap': [True, False],\n",
       "                                        'criterion': ['mse', 'mae'],\n",
       "                                        'max_depth': [10, 20, 30, 40, 50, 60,\n",
       "                                                      70, 80, 90, 100],\n",
       "                                        'max_features': ['auto', 'sqrt'],\n",
       "                                        'min_samples_leaf': [2, 5, 10, 15, 20],\n",
       "                                        'min_samples_split': [2, 5, 10, 15, 20,\n",
       "                                                              25, 30, 35, 40],\n",
       "                                        'n_estimators': [10, 50, 100, 500, 1000,\n",
       "                                                         1200, 1500]})"
      ]
     },
     "execution_count": 1523,
     "metadata": {},
     "output_type": "execute_result"
    }
   ],
   "source": [
    "#Now call the `RandomizedSearchCV`'s `fit()` method with `X_train` and `y_train` as arguments\n",
    "#to actually start the grid search. This may take a minute or two.\n",
    "rf_random_cv.fit(X_tr_scaled, y_train)"
   ]
  },
  {
   "cell_type": "code",
   "execution_count": 1524,
   "metadata": {},
   "outputs": [
    {
     "data": {
      "text/plain": [
       "{'n_estimators': 1000,\n",
       " 'min_samples_split': 30,\n",
       " 'min_samples_leaf': 10,\n",
       " 'max_features': 'auto',\n",
       " 'max_depth': 100,\n",
       " 'criterion': 'mse',\n",
       " 'bootstrap': False}"
      ]
     },
     "execution_count": 1524,
     "metadata": {},
     "output_type": "execute_result"
    }
   ],
   "source": [
    "#Print the best params (`best_params_` attribute) from the grid search\n",
    "rf_random_cv.best_params_"
   ]
  },
  {
   "cell_type": "code",
   "execution_count": 1525,
   "metadata": {},
   "outputs": [
    {
     "data": {
      "text/plain": [
       "array([0.4031134 , 0.53900205, 0.16277036, 0.32059665, 0.71371422])"
      ]
     },
     "execution_count": 1525,
     "metadata": {},
     "output_type": "execute_result"
    }
   ],
   "source": [
    "rf_best_cv_results = cross_validate(rf_random_cv.best_estimator_, X_tr_scaled, y_train, cv=5)\n",
    "rf_best_scores = rf_best_cv_results['test_score']\n",
    "rf_best_scores"
   ]
  },
  {
   "cell_type": "code",
   "execution_count": 1526,
   "metadata": {},
   "outputs": [
    {
     "data": {
      "text/plain": [
       "(0.4278393342503966, 0.18785926922379986)"
      ]
     },
     "execution_count": 1526,
     "metadata": {},
     "output_type": "execute_result"
    }
   ],
   "source": [
    "np.mean(rf_best_scores), np.std(rf_best_scores)"
   ]
  },
  {
   "cell_type": "markdown",
   "metadata": {},
   "source": [
    "With the hyperparameters, we have improved upon the default Cross-Validation scores (which were (0.5083582011930894, 0.1903526257700541) - but, not by very much. "
   ]
  },
  {
   "cell_type": "code",
   "execution_count": 1527,
   "metadata": {},
   "outputs": [
    {
     "data": {
      "text/plain": [
       "Text(0.5, 1.0, 'Best random forest regressor feature importances')"
      ]
     },
     "execution_count": 1527,
     "metadata": {},
     "output_type": "execute_result"
    },
    {
     "data": {
      "image/png": "[encoded data removed]",
      "text/plain": [
       "<Figure size 720x360 with 1 Axes>"
      ]
     },
     "metadata": {
      "needs_background": "light"
     },
     "output_type": "display_data"
    }
   ],
   "source": [
    "#Plot a barplot of the random forest's feature importances,\n",
    "#assigning the `feature_importances_` attribute of \n",
    "#`rf_random_cv.best_estimator_.named_steps.randomforestregressor` to the name `imps` to then\n",
    "#create a pandas Series object of the feature importances, with the index given by the\n",
    "#training data column names, sorting the values in descending order\n",
    "plt.subplots(figsize=(10, 5))\n",
    "imps = rf_random_cv.best_estimator_.feature_importances_\n",
    "rf_feat_imps = pd.Series(imps, index=X_tr_scaled.columns).sort_values(ascending=False)\n",
    "rf_feat_imps.plot(kind='bar')\n",
    "plt.xlabel('features')\n",
    "plt.ylabel('importance')\n",
    "plt.title('Best random forest regressor feature importances')"
   ]
  },
  {
   "cell_type": "markdown",
   "metadata": {},
   "source": [
    "Strangely - this model values square footage and value of the property over all else. it also likes 2.5 baths, some asian-american people (?) and is positively affected by median household income and an improving school district. "
   ]
  },
  {
   "cell_type": "markdown",
   "metadata": {},
   "source": [
    "## 3.13 Metrics - Comparing models<a id='4.10_Random_Forest_Model'></a>"
   ]
  },
  {
   "cell_type": "markdown",
   "metadata": {},
   "source": [
    "#### 3.13.1 Linear Regression - Lasso Optimized Model Performance"
   ]
  },
  {
   "cell_type": "code",
   "execution_count": 1549,
   "metadata": {},
   "outputs": [],
   "source": [
    "# 'neg_mean_absolute_error' uses the (negative of) the mean absolute error\n",
    "Optlasso_neg_mae = cross_validate(Optlasso, X_train, y_train, \n",
    "                            scoring='neg_mean_absolute_error', cv=5, n_jobs=-1)"
   ]
  },
  {
   "cell_type": "code",
   "execution_count": 1550,
   "metadata": {},
   "outputs": [
    {
     "data": {
      "text/plain": [
       "(106.26405558272306, 20.15315039170548)"
      ]
     },
     "execution_count": 1550,
     "metadata": {},
     "output_type": "execute_result"
    }
   ],
   "source": [
    "Optlasso_mae_mean = np.mean(-1 * Optlasso_neg_mae['test_score'])\n",
    "Optlasso_mae_std = np.std(-1 * Optlasso_neg_mae['test_score'])\n",
    "Optlasso_mae_mean, Optlasso_mae_std"
   ]
  },
  {
   "cell_type": "code",
   "execution_count": 1551,
   "metadata": {},
   "outputs": [
    {
     "data": {
      "text/plain": [
       "(66.9500691757385, 94.68825766416165)"
      ]
     },
     "execution_count": 1551,
     "metadata": {},
     "output_type": "execute_result"
    }
   ],
   "source": [
    "mean_absolute_error(y_test, Optlasso.predict(X_test)), mean_absolute_error(y_train, Optlasso.predict(X_train))"
   ]
  },
  {
   "cell_type": "code",
   "execution_count": 1552,
   "metadata": {},
   "outputs": [
    {
     "data": {
      "text/plain": [
       "-1.9507613272793907"
      ]
     },
     "execution_count": 1552,
     "metadata": {},
     "output_type": "execute_result"
    }
   ],
   "source": [
    "std_from_estimate = (mean_absolute_error(y_test, Optlasso.predict(X_test)) - Optlasso_mae_mean)/Optlasso_mae_std\n",
    "std_from_estimate"
   ]
  },
  {
   "cell_type": "markdown",
   "metadata": {},
   "source": [
    "#### 3.13.2 Random Forest Model Performance"
   ]
  },
  {
   "cell_type": "code",
   "execution_count": 1532,
   "metadata": {},
   "outputs": [],
   "source": [
    "# 'neg_mean_absolute_error' uses the (negative of) the mean absolute error\n",
    "rf_neg_mae = cross_validate(rf_random_cv.best_estimator_, X_tr_scaled, y_train, \n",
    "                            scoring='neg_mean_absolute_error', cv=5, n_jobs=-1)"
   ]
  },
  {
   "cell_type": "code",
   "execution_count": 1533,
   "metadata": {},
   "outputs": [],
   "source": [
    "rf_mae_mean = np.mean(-1 * rf_neg_mae['test_score'])\n",
    "rf_mae_std = np.std(-1 * rf_neg_mae['test_score'])\n",
    "rf_mae_mean, rf_mae_std\n",
    "y_te_pred = rf_random_cv.best_estimator_.predict(X_te_scaled)"
   ]
  },
  {
   "cell_type": "code",
   "execution_count": 1534,
   "metadata": {},
   "outputs": [
    {
     "data": {
      "text/plain": [
       "(128.76579545453941, 100.49240134966651)"
      ]
     },
     "execution_count": 1534,
     "metadata": {},
     "output_type": "execute_result"
    }
   ],
   "source": [
    "mean_absolute_error(y_test, y_te_pred), mean_absolute_error(y_train, rf_random_cv.best_estimator_.predict(X_tr_scaled))"
   ]
  },
  {
   "cell_type": "code",
   "execution_count": 1535,
   "metadata": {},
   "outputs": [],
   "source": [
    "models.append(('RF-Optimized', rf_random_cv))\n",
    "mae_test.append(mean_absolute_error(y_test, y_te_pred))\n",
    "mae_train.append(mean_absolute_error(y_train, y_tr_pred))\n",
    "r2_test.append(r2_score(y_test, y_te_pred))\n",
    "r2_train.append(r2_score(y_train, y_tr_pred))"
   ]
  },
  {
   "cell_type": "code",
   "execution_count": 1536,
   "metadata": {},
   "outputs": [
    {
     "data": {
      "text/plain": [
       "0.43871898744501725"
      ]
     },
     "execution_count": 1536,
     "metadata": {},
     "output_type": "execute_result"
    }
   ],
   "source": [
    "std_from_estimate = (mean_absolute_error(y_test, rf_random_cv.best_estimator_.predict(X_te_scaled)) - rf_mae_mean)/rf_mae_std\n",
    "std_from_estimate"
   ]
  },
  {
   "cell_type": "markdown",
   "metadata": {},
   "source": [
    "#### 3.13.3 Conclusion"
   ]
  },
  {
   "cell_type": "markdown",
   "metadata": {},
   "source": [
    "In all, we tried:\n",
    "-  Dummy Regressor (mean)\n",
    "-  Linear Regression with selectKBest\n",
    "-  Ridge Regression\n",
    "-  Lasso and a Lasso with optimized hyperparameters\n",
    "-  Random forest and a random forest with optimized hyperparameters\n",
    "\n",
    "\n",
    "The best model for the data we have is an optimized Lasso regression. But, the model suffers from a lack of data. \n",
    "The following charts show the MAE and R2 for the various models we have tried in this notebook. "
   ]
  },
  {
   "cell_type": "code",
   "execution_count": 1560,
   "metadata": {},
   "outputs": [
    {
     "data": {
      "image/png": "[encoded data removed]",
      "text/plain": [
       "<Figure size 720x720 with 1 Axes>"
      ]
     },
     "metadata": {
      "needs_background": "light"
     },
     "output_type": "display_data"
    }
   ],
   "source": [
    "names = []\n",
    "for name, model in models:\n",
    "    names.append(name)\n",
    "\n",
    "bar_width=0.4\n",
    "X_axis = np.arange(len(names))\n",
    "fig, ax = plt.subplots(figsize=(10,10))\n",
    "mae_tr = ax.bar(X_axis, mae_train, label='MAE train', color='teal', width=bar_width)\n",
    "mae_te = ax.bar(X_axis + bar_width, mae_test, label='MAE test', color='aqua', width=bar_width)\n",
    "\n",
    "fig.suptitle('Algorithm Comparison, MAE', fontsize=20)\n",
    "plt.xticks(X_axis, names)\n",
    "plt.ylabel(\"MAE in $\", fontsize=16)\n",
    "plt.xlabel(\"Model\", fontsize=16)\n",
    "plt.legend()\n",
    "plt.show()\n"
   ]
  },
  {
   "cell_type": "code",
   "execution_count": 1561,
   "metadata": {},
   "outputs": [
    {
     "data": {
      "text/plain": [
       "<Figure size 432x288 with 0 Axes>"
      ]
     },
     "metadata": {},
     "output_type": "display_data"
    },
    {
     "data": {
      "image/png": "[encoded data removed]",
      "text/plain": [
       "<Figure size 720x720 with 1 Axes>"
      ]
     },
     "metadata": {
      "needs_background": "light"
     },
     "output_type": "display_data"
    }
   ],
   "source": [
    "plt.clf()\n",
    "bar_width=.4\n",
    "X_axis = np.arange(len(names))\n",
    "fig, ax = plt.subplots(figsize=(10,10))\n",
    "r2_te = ax.bar(X_axis, r2_test, label='R2 test', color='navy', width=bar_width)\n",
    "r2_tr = ax.bar(X_axis + bar_width, r2_train, label='R2 train', color='cornflowerblue', width=bar_width)\n",
    "plt.xticks(X_axis, names)\n",
    "plt.legend()\n",
    "fig.suptitle('Algorithm Comparison, R2', fontsize=20)\n",
    "plt.ylabel(\"R2\", fontsize=16)\n",
    "plt.xlabel(\"Model\", fontsize=16)\n",
    "plt.show()"
   ]
  },
  {
   "cell_type": "markdown",
   "metadata": {},
   "source": [
    "The optimized Lasso model has the best scores, using R2 and MAE. \n",
    "R2 on train and test set, respectively: (0.7071989637831392, 0.9171788697287073)\n",
    "MAE on train and test set, respectively: (94.68825766416165, 66.9500691757385)"
   ]
  },
  {
   "cell_type": "markdown",
   "metadata": {},
   "source": [
    "## 3.14 Data quantity assessment<a id='4.12_Data_quantity_assessment'></a>"
   ]
  },
  {
   "cell_type": "markdown",
   "metadata": {},
   "source": [
    "Finally, do we need to acquire more data? Would more data be useful? Gathering more data using the methods we have at our disposal takes time. Assess this trade off by seeing how performance varies with differing data set sizes. The `learning_curve` function does this conveniently."
   ]
  },
  {
   "cell_type": "code",
   "execution_count": 1544,
   "metadata": {},
   "outputs": [],
   "source": [
    "fractions = [.2, .25, .3, .35, .4, .45, .5, .6, .75, .8, 1.0]\n",
    "train_size, train_scores, test_scores = learning_curve(Optlasso, X_tr_scaled, y_train, train_sizes=fractions)\n",
    "train_scores_mean = np.mean(train_scores, axis=1)\n",
    "train_scores_std = np.std(train_scores, axis=1)\n",
    "test_scores_mean = np.mean(test_scores, axis=1)\n",
    "test_scores_std = np.std(test_scores, axis=1)"
   ]
  },
  {
   "cell_type": "code",
   "execution_count": 1562,
   "metadata": {},
   "outputs": [
    {
     "data": {
      "image/png": "[encoded data removed]",
      "text/plain": [
       "<Figure size 720x360 with 1 Axes>"
      ]
     },
     "metadata": {
      "needs_background": "light"
     },
     "output_type": "display_data"
    }
   ],
   "source": [
    "plt.subplots(figsize=(10, 5))\n",
    "plt.errorbar(train_size, test_scores_mean, yerr=test_scores_std)\n",
    "plt.xlabel('Training set size')\n",
    "plt.ylabel('CV scores')\n",
    "plt.title('Cross-validation score as training set size increases', fontsize=18);"
   ]
  },
  {
   "cell_type": "markdown",
   "metadata": {},
   "source": [
    "It looks like we would benefit from more data. The cross validation scores continue to rise. This may help explain why our model seems to be slightly overfit. "
   ]
  },
  {
   "cell_type": "markdown",
   "metadata": {},
   "source": [
    "## 3.15 Save best model object from pipeline<a id='4.13_Save_best_model_object_from_pipeline'></a>"
   ]
  },
  {
   "cell_type": "code",
   "execution_count": 1546,
   "metadata": {},
   "outputs": [],
   "source": [
    "#Assign the pandas version number (`pd.__version__`) to the `pandas_version` attribute,\n",
    "#the numpy version (`np.__version__`) to the `numpy_version` attribute,\n",
    "#the sklearn version (`sklearn_version`) to the `sklearn_version` attribute,\n",
    "#and the current datetime (`datetime.datetime.now()`) to the `build_datetime` attribute\n",
    "#Let's call this model version '1.0'\n",
    "best_model = Optlasso\n",
    "best_model.version = 1.0\n",
    "best_model.pandas_version = pd.__version__\n",
    "best_model.numpy_version = np.__version__\n",
    "best_model.sklearn_version = sklearn_version\n",
    "best_model.X_columns = [col for col in X_train.columns]\n",
    "best_model.build_datetime = datetime.datetime.now()"
   ]
  },
  {
   "cell_type": "code",
   "execution_count": 1547,
   "metadata": {},
   "outputs": [
    {
     "name": "stdout",
     "output_type": "stream",
     "text": [
      "A file already exists with this name.\n",
      "\n",
      "Do you want to overwrite? (Y/N)y\n",
      "Writing file.  \"../models\\market_rent_model.pkl\"\n"
     ]
    }
   ],
   "source": [
    "# save the model\n",
    "modelpath = '../models'\n",
    "save_file(best_model, 'market_rent_model.pkl', modelpath)"
   ]
  },
  {
   "cell_type": "code",
   "execution_count": null,
   "metadata": {},
   "outputs": [],
   "source": []
  },
  {
   "cell_type": "code",
   "execution_count": null,
   "metadata": {},
   "outputs": [],
   "source": []
  }
 ],
 "metadata": {
  "kernelspec": {
   "display_name": "Python 3",
   "language": "python",
   "name": "python3"
  },
  "language_info": {
   "codemirror_mode": {
    "name": "ipython",
    "version": 3
   },
   "file_extension": ".py",
   "mimetype": "text/x-python",
   "name": "python",
   "nbconvert_exporter": "python",
   "pygments_lexer": "ipython3",
   "version": "3.8.10"
  },
  "toc": {
   "base_numbering": 1,
   "nav_menu": {},
   "number_sections": true,
   "sideBar": true,
   "skip_h1_title": false,
   "title_cell": "Table of Contents",
   "title_sidebar": "Contents",
   "toc_cell": false,
   "toc_position": {},
   "toc_section_display": true,
   "toc_window_display": true
  },
  "varInspector": {
   "cols": {
    "lenName": 16,
    "lenType": 16,
    "lenVar": 40
   },
   "kernels_config": {
    "python": {
     "delete_cmd_postfix": "",
     "delete_cmd_prefix": "del ",
     "library": "var_list.py",
     "varRefreshCmd": "print(var_dic_list())"
    },
    "r": {
     "delete_cmd_postfix": ") ",
     "delete_cmd_prefix": "rm(",
     "library": "var_list.r",
     "varRefreshCmd": "cat(var_dic_list()) "
    }
   },
   "types_to_exclude": [
    "module",
    "function",
    "builtin_function_or_method",
    "instance",
    "_Feature"
   ],
   "window_display": false
  }
 },
 "nbformat": 4,
 "nbformat_minor": 4
}
