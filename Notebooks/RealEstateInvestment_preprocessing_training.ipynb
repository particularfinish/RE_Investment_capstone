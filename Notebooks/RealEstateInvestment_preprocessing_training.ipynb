{
 "cells": [
  {
   "cell_type": "markdown",
   "metadata": {},
   "source": [
    "# 4 Pre-Processing Data and Training<a id='4_Pre-Processing_and_Training_Data'></a>"
   ]
  },
  {
   "cell_type": "markdown",
   "metadata": {},
   "source": [
    "## 4.1 Introduction<a id='4.2_Introduction'></a>"
   ]
  },
  {
   "cell_type": "markdown",
   "metadata": {},
   "source": [
    "In preceding notebooks, we performed preliminary assessments of data quality and refined the question to be answered. We determined that predicting market rent is the primary aim. That market rent can be applied to a Return-on-Investment calculation for each house for sale, determining whether or not that house would make a good investment on some ROI threshold. \n",
    "\n",
    "Before we can develop a predictive model, we need to encode categoricals, scale, and reduce dimensionality."
   ]
  },
  {
   "cell_type": "markdown",
   "metadata": {},
   "source": [
    "## 4.2 Imports<a id='4.3_Imports'></a>"
   ]
  },
  {
   "cell_type": "code",
   "execution_count": 191,
   "metadata": {},
   "outputs": [],
   "source": [
    "import pandas as pd\n",
    "import numpy as np\n",
    "import os\n",
    "import pickle\n",
    "import matplotlib.pyplot as plt\n",
    "import seaborn as sns\n",
    "from sklearn import __version__ as sklearn_version\n",
    "from sklearn.decomposition import PCA\n",
    "from sklearn.preprocessing import scale\n",
    "from sklearn.model_selection import train_test_split, cross_validate, GridSearchCV, learning_curve, RandomizedSearchCV\n",
    "from sklearn.preprocessing import StandardScaler, MinMaxScaler\n",
    "from sklearn.dummy import DummyRegressor\n",
    "from sklearn.linear_model import LinearRegression\n",
    "from sklearn.ensemble import RandomForestRegressor\n",
    "from sklearn.metrics import r2_score, mean_squared_error, mean_absolute_error\n",
    "from sklearn.pipeline import make_pipeline\n",
    "from sklearn.impute import SimpleImputer\n",
    "from sklearn.feature_selection import SelectKBest, f_regression\n",
    "from sklearn.compose import ColumnTransformer\n",
    "from sklearn import tree, metrics\n",
    "from io import StringIO\n",
    "from IPython.display import Image\n",
    "import pydotplus\n",
    "import datetime\n",
    "import math\n",
    "\n",
    "from library.sb_utils import save_file"
   ]
  },
  {
   "cell_type": "markdown",
   "metadata": {},
   "source": [
    "## 4.3 Load Data<a id='4.4_Load_Data'></a>"
   ]
  },
  {
   "cell_type": "code",
   "execution_count": 192,
   "metadata": {
    "scrolled": true
   },
   "outputs": [
    {
     "data": {
      "text/html": [
       "<div>\n",
       "<style scoped>\n",
       "    .dataframe tbody tr th:only-of-type {\n",
       "        vertical-align: middle;\n",
       "    }\n",
       "\n",
       "    .dataframe tbody tr th {\n",
       "        vertical-align: top;\n",
       "    }\n",
       "\n",
       "    .dataframe thead th {\n",
       "        text-align: right;\n",
       "    }\n",
       "</style>\n",
       "<table border=\"1\" class=\"dataframe\">\n",
       "  <thead>\n",
       "    <tr style=\"text-align: right;\">\n",
       "      <th></th>\n",
       "      <th>0</th>\n",
       "      <th>1</th>\n",
       "      <th>2</th>\n",
       "      <th>3</th>\n",
       "      <th>4</th>\n",
       "    </tr>\n",
       "  </thead>\n",
       "  <tbody>\n",
       "    <tr>\n",
       "      <th>property_code</th>\n",
       "      <td>10000753</td>\n",
       "      <td>10000801</td>\n",
       "      <td>10000898</td>\n",
       "      <td>10000946</td>\n",
       "      <td>10001199</td>\n",
       "    </tr>\n",
       "    <tr>\n",
       "      <th>address</th>\n",
       "      <td>10627 Kittredge St</td>\n",
       "      <td>10705 Clermont St</td>\n",
       "      <td>10874 Fairfax Way</td>\n",
       "      <td>10944 Bellaire Way</td>\n",
       "      <td>11120 Sylvan Pl</td>\n",
       "    </tr>\n",
       "    <tr>\n",
       "      <th>city</th>\n",
       "      <td>Commerce City</td>\n",
       "      <td>Thornton</td>\n",
       "      <td>Thornton</td>\n",
       "      <td>Thornton</td>\n",
       "      <td>Parker</td>\n",
       "    </tr>\n",
       "    <tr>\n",
       "      <th>state</th>\n",
       "      <td>CO</td>\n",
       "      <td>CO</td>\n",
       "      <td>CO</td>\n",
       "      <td>CO</td>\n",
       "      <td>CO</td>\n",
       "    </tr>\n",
       "    <tr>\n",
       "      <th>zipcode</th>\n",
       "      <td>80022</td>\n",
       "      <td>80233</td>\n",
       "      <td>80233</td>\n",
       "      <td>80233</td>\n",
       "      <td>80138</td>\n",
       "    </tr>\n",
       "    <tr>\n",
       "      <th>beds</th>\n",
       "      <td>3</td>\n",
       "      <td>3</td>\n",
       "      <td>4</td>\n",
       "      <td>4</td>\n",
       "      <td>3</td>\n",
       "    </tr>\n",
       "    <tr>\n",
       "      <th>baths</th>\n",
       "      <td>2.5</td>\n",
       "      <td>2.0</td>\n",
       "      <td>2.0</td>\n",
       "      <td>2.0</td>\n",
       "      <td>2.0</td>\n",
       "    </tr>\n",
       "    <tr>\n",
       "      <th>sqft</th>\n",
       "      <td>1993</td>\n",
       "      <td>1544</td>\n",
       "      <td>1904</td>\n",
       "      <td>1800</td>\n",
       "      <td>1387</td>\n",
       "    </tr>\n",
       "    <tr>\n",
       "      <th>market_rent</th>\n",
       "      <td>2939.0</td>\n",
       "      <td>2529.0</td>\n",
       "      <td>2599.0</td>\n",
       "      <td>2485.0</td>\n",
       "      <td>2549.0</td>\n",
       "    </tr>\n",
       "    <tr>\n",
       "      <th>lat</th>\n",
       "      <td>39.88982</td>\n",
       "      <td>39.89058</td>\n",
       "      <td>39.89348</td>\n",
       "      <td>39.89548</td>\n",
       "      <td>39.51228</td>\n",
       "    </tr>\n",
       "    <tr>\n",
       "      <th>lng</th>\n",
       "      <td>-104.80151</td>\n",
       "      <td>-104.93351</td>\n",
       "      <td>-104.92838</td>\n",
       "      <td>-104.93625</td>\n",
       "      <td>-104.74424</td>\n",
       "    </tr>\n",
       "    <tr>\n",
       "      <th>districtMatch</th>\n",
       "      <td>Brighton 27J School District</td>\n",
       "      <td>Adams 12 Five Star Schools</td>\n",
       "      <td>Adams 12 Five Star Schools</td>\n",
       "      <td>Adams 12 Five Star Schools</td>\n",
       "      <td>Douglas County RE 1 School District</td>\n",
       "    </tr>\n",
       "    <tr>\n",
       "      <th>estimatedValue</th>\n",
       "      <td>473955.0</td>\n",
       "      <td>419002.45</td>\n",
       "      <td>424920.0</td>\n",
       "      <td>409695.0</td>\n",
       "      <td>540525.0</td>\n",
       "    </tr>\n",
       "    <tr>\n",
       "      <th>percentFreeDiscLunch</th>\n",
       "      <td>44.03</td>\n",
       "      <td>47.39</td>\n",
       "      <td>47.39</td>\n",
       "      <td>47.39</td>\n",
       "      <td>10.78</td>\n",
       "    </tr>\n",
       "    <tr>\n",
       "      <th>percentofAfricanAmericanStudents</th>\n",
       "      <td>2.2</td>\n",
       "      <td>1.91</td>\n",
       "      <td>1.91</td>\n",
       "      <td>1.91</td>\n",
       "      <td>1.29</td>\n",
       "    </tr>\n",
       "    <tr>\n",
       "      <th>percentofAsianStudents</th>\n",
       "      <td>2.92</td>\n",
       "      <td>4.73</td>\n",
       "      <td>4.73</td>\n",
       "      <td>4.73</td>\n",
       "      <td>4.64</td>\n",
       "    </tr>\n",
       "    <tr>\n",
       "      <th>percentofHispanicStudents</th>\n",
       "      <td>53.74</td>\n",
       "      <td>47.0</td>\n",
       "      <td>47.0</td>\n",
       "      <td>47.0</td>\n",
       "      <td>13.59</td>\n",
       "    </tr>\n",
       "    <tr>\n",
       "      <th>percentofIndianStudents</th>\n",
       "      <td>0.31</td>\n",
       "      <td>0.55</td>\n",
       "      <td>0.55</td>\n",
       "      <td>0.55</td>\n",
       "      <td>0.41</td>\n",
       "    </tr>\n",
       "    <tr>\n",
       "      <th>percentofPacificIslanderStudents</th>\n",
       "      <td>0.17</td>\n",
       "      <td>0.14</td>\n",
       "      <td>0.14</td>\n",
       "      <td>0.14</td>\n",
       "      <td>0.11</td>\n",
       "    </tr>\n",
       "    <tr>\n",
       "      <th>percentofTwoOrMoreRaceStudents</th>\n",
       "      <td>3.0</td>\n",
       "      <td>3.32</td>\n",
       "      <td>3.32</td>\n",
       "      <td>3.32</td>\n",
       "      <td>5.69</td>\n",
       "    </tr>\n",
       "    <tr>\n",
       "      <th>percentofWhiteStudents</th>\n",
       "      <td>37.65</td>\n",
       "      <td>42.36</td>\n",
       "      <td>42.36</td>\n",
       "      <td>42.36</td>\n",
       "      <td>74.28</td>\n",
       "    </tr>\n",
       "    <tr>\n",
       "      <th>rankMovement</th>\n",
       "      <td>-48.06</td>\n",
       "      <td>-23.4</td>\n",
       "      <td>-23.4</td>\n",
       "      <td>-23.4</td>\n",
       "      <td>10.24</td>\n",
       "    </tr>\n",
       "  </tbody>\n",
       "</table>\n",
       "</div>"
      ],
      "text/plain": [
       "                                                             0  \\\n",
       "property_code                                         10000753   \n",
       "address                                     10627 Kittredge St   \n",
       "city                                             Commerce City   \n",
       "state                                                       CO   \n",
       "zipcode                                                  80022   \n",
       "beds                                                         3   \n",
       "baths                                                      2.5   \n",
       "sqft                                                      1993   \n",
       "market_rent                                             2939.0   \n",
       "lat                                                   39.88982   \n",
       "lng                                                 -104.80151   \n",
       "districtMatch                     Brighton 27J School District   \n",
       "estimatedValue                                        473955.0   \n",
       "percentFreeDiscLunch                                     44.03   \n",
       "percentofAfricanAmericanStudents                           2.2   \n",
       "percentofAsianStudents                                    2.92   \n",
       "percentofHispanicStudents                                53.74   \n",
       "percentofIndianStudents                                   0.31   \n",
       "percentofPacificIslanderStudents                          0.17   \n",
       "percentofTwoOrMoreRaceStudents                             3.0   \n",
       "percentofWhiteStudents                                   37.65   \n",
       "rankMovement                                            -48.06   \n",
       "\n",
       "                                                           1  \\\n",
       "property_code                                       10000801   \n",
       "address                                    10705 Clermont St   \n",
       "city                                                Thornton   \n",
       "state                                                     CO   \n",
       "zipcode                                                80233   \n",
       "beds                                                       3   \n",
       "baths                                                    2.0   \n",
       "sqft                                                    1544   \n",
       "market_rent                                           2529.0   \n",
       "lat                                                 39.89058   \n",
       "lng                                               -104.93351   \n",
       "districtMatch                     Adams 12 Five Star Schools   \n",
       "estimatedValue                                     419002.45   \n",
       "percentFreeDiscLunch                                   47.39   \n",
       "percentofAfricanAmericanStudents                        1.91   \n",
       "percentofAsianStudents                                  4.73   \n",
       "percentofHispanicStudents                               47.0   \n",
       "percentofIndianStudents                                 0.55   \n",
       "percentofPacificIslanderStudents                        0.14   \n",
       "percentofTwoOrMoreRaceStudents                          3.32   \n",
       "percentofWhiteStudents                                 42.36   \n",
       "rankMovement                                           -23.4   \n",
       "\n",
       "                                                           2  \\\n",
       "property_code                                       10000898   \n",
       "address                                    10874 Fairfax Way   \n",
       "city                                                Thornton   \n",
       "state                                                     CO   \n",
       "zipcode                                                80233   \n",
       "beds                                                       4   \n",
       "baths                                                    2.0   \n",
       "sqft                                                    1904   \n",
       "market_rent                                           2599.0   \n",
       "lat                                                 39.89348   \n",
       "lng                                               -104.92838   \n",
       "districtMatch                     Adams 12 Five Star Schools   \n",
       "estimatedValue                                      424920.0   \n",
       "percentFreeDiscLunch                                   47.39   \n",
       "percentofAfricanAmericanStudents                        1.91   \n",
       "percentofAsianStudents                                  4.73   \n",
       "percentofHispanicStudents                               47.0   \n",
       "percentofIndianStudents                                 0.55   \n",
       "percentofPacificIslanderStudents                        0.14   \n",
       "percentofTwoOrMoreRaceStudents                          3.32   \n",
       "percentofWhiteStudents                                 42.36   \n",
       "rankMovement                                           -23.4   \n",
       "\n",
       "                                                           3  \\\n",
       "property_code                                       10000946   \n",
       "address                                   10944 Bellaire Way   \n",
       "city                                                Thornton   \n",
       "state                                                     CO   \n",
       "zipcode                                                80233   \n",
       "beds                                                       4   \n",
       "baths                                                    2.0   \n",
       "sqft                                                    1800   \n",
       "market_rent                                           2485.0   \n",
       "lat                                                 39.89548   \n",
       "lng                                               -104.93625   \n",
       "districtMatch                     Adams 12 Five Star Schools   \n",
       "estimatedValue                                      409695.0   \n",
       "percentFreeDiscLunch                                   47.39   \n",
       "percentofAfricanAmericanStudents                        1.91   \n",
       "percentofAsianStudents                                  4.73   \n",
       "percentofHispanicStudents                               47.0   \n",
       "percentofIndianStudents                                 0.55   \n",
       "percentofPacificIslanderStudents                        0.14   \n",
       "percentofTwoOrMoreRaceStudents                          3.32   \n",
       "percentofWhiteStudents                                 42.36   \n",
       "rankMovement                                           -23.4   \n",
       "\n",
       "                                                                    4  \n",
       "property_code                                                10001199  \n",
       "address                                               11120 Sylvan Pl  \n",
       "city                                                           Parker  \n",
       "state                                                              CO  \n",
       "zipcode                                                         80138  \n",
       "beds                                                                3  \n",
       "baths                                                             2.0  \n",
       "sqft                                                             1387  \n",
       "market_rent                                                    2549.0  \n",
       "lat                                                          39.51228  \n",
       "lng                                                        -104.74424  \n",
       "districtMatch                     Douglas County RE 1 School District  \n",
       "estimatedValue                                               540525.0  \n",
       "percentFreeDiscLunch                                            10.78  \n",
       "percentofAfricanAmericanStudents                                 1.29  \n",
       "percentofAsianStudents                                           4.64  \n",
       "percentofHispanicStudents                                       13.59  \n",
       "percentofIndianStudents                                          0.41  \n",
       "percentofPacificIslanderStudents                                 0.11  \n",
       "percentofTwoOrMoreRaceStudents                                   5.69  \n",
       "percentofWhiteStudents                                          74.28  \n",
       "rankMovement                                                    10.24  "
      ]
     },
     "execution_count": 192,
     "metadata": {},
     "output_type": "execute_result"
    }
   ],
   "source": [
    "corporate_data = pd.read_csv('../data/corporate_properties_values_Demo.csv')\n",
    "corporate_data.head().T"
   ]
  },
  {
   "cell_type": "code",
   "execution_count": 193,
   "metadata": {},
   "outputs": [
    {
     "data": {
      "text/plain": [
       "(170, 22)"
      ]
     },
     "execution_count": 193,
     "metadata": {},
     "output_type": "execute_result"
    }
   ],
   "source": [
    "corporate_data.shape"
   ]
  },
  {
   "cell_type": "code",
   "execution_count": 194,
   "metadata": {},
   "outputs": [
    {
     "data": {
      "text/html": [
       "<div>\n",
       "<style scoped>\n",
       "    .dataframe tbody tr th:only-of-type {\n",
       "        vertical-align: middle;\n",
       "    }\n",
       "\n",
       "    .dataframe tbody tr th {\n",
       "        vertical-align: top;\n",
       "    }\n",
       "\n",
       "    .dataframe thead th {\n",
       "        text-align: right;\n",
       "    }\n",
       "</style>\n",
       "<table border=\"1\" class=\"dataframe\">\n",
       "  <thead>\n",
       "    <tr style=\"text-align: right;\">\n",
       "      <th></th>\n",
       "      <th>0</th>\n",
       "      <th>1</th>\n",
       "      <th>2</th>\n",
       "      <th>3</th>\n",
       "      <th>4</th>\n",
       "    </tr>\n",
       "  </thead>\n",
       "  <tbody>\n",
       "    <tr>\n",
       "      <th>address</th>\n",
       "      <td>5211 Willow Way</td>\n",
       "      <td>3547 S Ivanhoe Street</td>\n",
       "      <td>1128 S Jackson Street</td>\n",
       "      <td>2585 N Holly Street</td>\n",
       "      <td>1193 S Clarkson Street</td>\n",
       "    </tr>\n",
       "    <tr>\n",
       "      <th>city</th>\n",
       "      <td>Denver</td>\n",
       "      <td>Denver</td>\n",
       "      <td>Denver</td>\n",
       "      <td>Denver</td>\n",
       "      <td>Denver</td>\n",
       "    </tr>\n",
       "    <tr>\n",
       "      <th>zip</th>\n",
       "      <td>80238</td>\n",
       "      <td>80237</td>\n",
       "      <td>80210</td>\n",
       "      <td>80207</td>\n",
       "      <td>80210</td>\n",
       "    </tr>\n",
       "    <tr>\n",
       "      <th>beds</th>\n",
       "      <td>4.0</td>\n",
       "      <td>5.0</td>\n",
       "      <td>2.0</td>\n",
       "      <td>4.0</td>\n",
       "      <td>4.0</td>\n",
       "    </tr>\n",
       "    <tr>\n",
       "      <th>baths</th>\n",
       "      <td>4.0</td>\n",
       "      <td>4.0</td>\n",
       "      <td>2.0</td>\n",
       "      <td>2.0</td>\n",
       "      <td>2.0</td>\n",
       "    </tr>\n",
       "    <tr>\n",
       "      <th>sqft</th>\n",
       "      <td>2773</td>\n",
       "      <td>3269</td>\n",
       "      <td>1595</td>\n",
       "      <td>1795</td>\n",
       "      <td>2177</td>\n",
       "    </tr>\n",
       "    <tr>\n",
       "      <th>listPrice</th>\n",
       "      <td>750000</td>\n",
       "      <td>750000</td>\n",
       "      <td>750000</td>\n",
       "      <td>750000</td>\n",
       "      <td>750000</td>\n",
       "    </tr>\n",
       "    <tr>\n",
       "      <th>taxes</th>\n",
       "      <td>5431</td>\n",
       "      <td>2919</td>\n",
       "      <td>2935</td>\n",
       "      <td>2877</td>\n",
       "      <td>3038</td>\n",
       "    </tr>\n",
       "    <tr>\n",
       "      <th>lat</th>\n",
       "      <td>39.792285</td>\n",
       "      <td>39.651669</td>\n",
       "      <td>39.696093</td>\n",
       "      <td>39.754414</td>\n",
       "      <td>39.694933</td>\n",
       "    </tr>\n",
       "    <tr>\n",
       "      <th>lng</th>\n",
       "      <td>-104.886263</td>\n",
       "      <td>-104.922119</td>\n",
       "      <td>-104.943268</td>\n",
       "      <td>-104.922607</td>\n",
       "      <td>-104.978287</td>\n",
       "    </tr>\n",
       "    <tr>\n",
       "      <th>monthly_hoa</th>\n",
       "      <td>43.0</td>\n",
       "      <td>0.0</td>\n",
       "      <td>0.0</td>\n",
       "      <td>0.0</td>\n",
       "      <td>0.0</td>\n",
       "    </tr>\n",
       "    <tr>\n",
       "      <th>districtMatch</th>\n",
       "      <td>Denver County 1 School District</td>\n",
       "      <td>Denver County 1 School District</td>\n",
       "      <td>Denver County 1 School District</td>\n",
       "      <td>Denver County 1 School District</td>\n",
       "      <td>Denver County 1 School District</td>\n",
       "    </tr>\n",
       "    <tr>\n",
       "      <th>percentFreeDiscLunch</th>\n",
       "      <td>65.04</td>\n",
       "      <td>65.04</td>\n",
       "      <td>65.04</td>\n",
       "      <td>65.04</td>\n",
       "      <td>65.04</td>\n",
       "    </tr>\n",
       "    <tr>\n",
       "      <th>percentofAfricanAmericanStudents</th>\n",
       "      <td>12.19</td>\n",
       "      <td>12.19</td>\n",
       "      <td>12.19</td>\n",
       "      <td>12.19</td>\n",
       "      <td>12.19</td>\n",
       "    </tr>\n",
       "    <tr>\n",
       "      <th>percentofAsianStudents</th>\n",
       "      <td>2.77</td>\n",
       "      <td>2.77</td>\n",
       "      <td>2.77</td>\n",
       "      <td>2.77</td>\n",
       "      <td>2.77</td>\n",
       "    </tr>\n",
       "    <tr>\n",
       "      <th>percentofHispanicStudents</th>\n",
       "      <td>53.59</td>\n",
       "      <td>53.59</td>\n",
       "      <td>53.59</td>\n",
       "      <td>53.59</td>\n",
       "      <td>53.59</td>\n",
       "    </tr>\n",
       "    <tr>\n",
       "      <th>percentofIndianStudents</th>\n",
       "      <td>0.71</td>\n",
       "      <td>0.71</td>\n",
       "      <td>0.71</td>\n",
       "      <td>0.71</td>\n",
       "      <td>0.71</td>\n",
       "    </tr>\n",
       "    <tr>\n",
       "      <th>percentofPacificIslanderStudents</th>\n",
       "      <td>0.4</td>\n",
       "      <td>0.4</td>\n",
       "      <td>0.4</td>\n",
       "      <td>0.4</td>\n",
       "      <td>0.4</td>\n",
       "    </tr>\n",
       "    <tr>\n",
       "      <th>percentofTwoOrMoreRaceStudents</th>\n",
       "      <td>3.71</td>\n",
       "      <td>3.71</td>\n",
       "      <td>3.71</td>\n",
       "      <td>3.71</td>\n",
       "      <td>3.71</td>\n",
       "    </tr>\n",
       "    <tr>\n",
       "      <th>percentofWhiteStudents</th>\n",
       "      <td>26.62</td>\n",
       "      <td>26.62</td>\n",
       "      <td>26.62</td>\n",
       "      <td>26.62</td>\n",
       "      <td>26.62</td>\n",
       "    </tr>\n",
       "    <tr>\n",
       "      <th>rankMovement</th>\n",
       "      <td>-34.32</td>\n",
       "      <td>-34.32</td>\n",
       "      <td>-34.32</td>\n",
       "      <td>-34.32</td>\n",
       "      <td>-34.32</td>\n",
       "    </tr>\n",
       "  </tbody>\n",
       "</table>\n",
       "</div>"
      ],
      "text/plain": [
       "                                                                0  \\\n",
       "address                                           5211 Willow Way   \n",
       "city                                                       Denver   \n",
       "zip                                                         80238   \n",
       "beds                                                          4.0   \n",
       "baths                                                         4.0   \n",
       "sqft                                                         2773   \n",
       "listPrice                                                  750000   \n",
       "taxes                                                        5431   \n",
       "lat                                                     39.792285   \n",
       "lng                                                   -104.886263   \n",
       "monthly_hoa                                                  43.0   \n",
       "districtMatch                     Denver County 1 School District   \n",
       "percentFreeDiscLunch                                        65.04   \n",
       "percentofAfricanAmericanStudents                            12.19   \n",
       "percentofAsianStudents                                       2.77   \n",
       "percentofHispanicStudents                                   53.59   \n",
       "percentofIndianStudents                                      0.71   \n",
       "percentofPacificIslanderStudents                              0.4   \n",
       "percentofTwoOrMoreRaceStudents                               3.71   \n",
       "percentofWhiteStudents                                      26.62   \n",
       "rankMovement                                               -34.32   \n",
       "\n",
       "                                                                1  \\\n",
       "address                                     3547 S Ivanhoe Street   \n",
       "city                                                       Denver   \n",
       "zip                                                         80237   \n",
       "beds                                                          5.0   \n",
       "baths                                                         4.0   \n",
       "sqft                                                         3269   \n",
       "listPrice                                                  750000   \n",
       "taxes                                                        2919   \n",
       "lat                                                     39.651669   \n",
       "lng                                                   -104.922119   \n",
       "monthly_hoa                                                   0.0   \n",
       "districtMatch                     Denver County 1 School District   \n",
       "percentFreeDiscLunch                                        65.04   \n",
       "percentofAfricanAmericanStudents                            12.19   \n",
       "percentofAsianStudents                                       2.77   \n",
       "percentofHispanicStudents                                   53.59   \n",
       "percentofIndianStudents                                      0.71   \n",
       "percentofPacificIslanderStudents                              0.4   \n",
       "percentofTwoOrMoreRaceStudents                               3.71   \n",
       "percentofWhiteStudents                                      26.62   \n",
       "rankMovement                                               -34.32   \n",
       "\n",
       "                                                                2  \\\n",
       "address                                     1128 S Jackson Street   \n",
       "city                                                       Denver   \n",
       "zip                                                         80210   \n",
       "beds                                                          2.0   \n",
       "baths                                                         2.0   \n",
       "sqft                                                         1595   \n",
       "listPrice                                                  750000   \n",
       "taxes                                                        2935   \n",
       "lat                                                     39.696093   \n",
       "lng                                                   -104.943268   \n",
       "monthly_hoa                                                   0.0   \n",
       "districtMatch                     Denver County 1 School District   \n",
       "percentFreeDiscLunch                                        65.04   \n",
       "percentofAfricanAmericanStudents                            12.19   \n",
       "percentofAsianStudents                                       2.77   \n",
       "percentofHispanicStudents                                   53.59   \n",
       "percentofIndianStudents                                      0.71   \n",
       "percentofPacificIslanderStudents                              0.4   \n",
       "percentofTwoOrMoreRaceStudents                               3.71   \n",
       "percentofWhiteStudents                                      26.62   \n",
       "rankMovement                                               -34.32   \n",
       "\n",
       "                                                                3  \\\n",
       "address                                       2585 N Holly Street   \n",
       "city                                                       Denver   \n",
       "zip                                                         80207   \n",
       "beds                                                          4.0   \n",
       "baths                                                         2.0   \n",
       "sqft                                                         1795   \n",
       "listPrice                                                  750000   \n",
       "taxes                                                        2877   \n",
       "lat                                                     39.754414   \n",
       "lng                                                   -104.922607   \n",
       "monthly_hoa                                                   0.0   \n",
       "districtMatch                     Denver County 1 School District   \n",
       "percentFreeDiscLunch                                        65.04   \n",
       "percentofAfricanAmericanStudents                            12.19   \n",
       "percentofAsianStudents                                       2.77   \n",
       "percentofHispanicStudents                                   53.59   \n",
       "percentofIndianStudents                                      0.71   \n",
       "percentofPacificIslanderStudents                              0.4   \n",
       "percentofTwoOrMoreRaceStudents                               3.71   \n",
       "percentofWhiteStudents                                      26.62   \n",
       "rankMovement                                               -34.32   \n",
       "\n",
       "                                                                4  \n",
       "address                                    1193 S Clarkson Street  \n",
       "city                                                       Denver  \n",
       "zip                                                         80210  \n",
       "beds                                                          4.0  \n",
       "baths                                                         2.0  \n",
       "sqft                                                         2177  \n",
       "listPrice                                                  750000  \n",
       "taxes                                                        3038  \n",
       "lat                                                     39.694933  \n",
       "lng                                                   -104.978287  \n",
       "monthly_hoa                                                   0.0  \n",
       "districtMatch                     Denver County 1 School District  \n",
       "percentFreeDiscLunch                                        65.04  \n",
       "percentofAfricanAmericanStudents                            12.19  \n",
       "percentofAsianStudents                                       2.77  \n",
       "percentofHispanicStudents                                   53.59  \n",
       "percentofIndianStudents                                      0.71  \n",
       "percentofPacificIslanderStudents                              0.4  \n",
       "percentofTwoOrMoreRaceStudents                               3.71  \n",
       "percentofWhiteStudents                                      26.62  \n",
       "rankMovement                                               -34.32  "
      ]
     },
     "execution_count": 194,
     "metadata": {},
     "output_type": "execute_result"
    }
   ],
   "source": [
    "sale_data = pd.read_csv('../data/for_sale_Demo.csv')\n",
    "sale_data.head().T"
   ]
  },
  {
   "cell_type": "markdown",
   "metadata": {},
   "source": [
    "## 4.4 Manipulate Categorical Data <a id='4.5_Extract_Big_Mountain_Data'></a>"
   ]
  },
  {
   "cell_type": "markdown",
   "metadata": {},
   "source": [
    "Let's start with the corporate owned properties. \n",
    "Because all of the properties are in Colorado, the state column doesn't add any information: let's remove it. The property_code is a unique, discrete piece of information used only by the property owner, with no relationship to the dependent variable, so let's remove that too. "
   ]
  },
  {
   "cell_type": "code",
   "execution_count": 195,
   "metadata": {},
   "outputs": [],
   "source": [
    "# Drop uninformative 'state' and 'property_code' columns\n",
    "corporate_data = corporate_data.drop(['state', 'property_code'], axis=1)"
   ]
  },
  {
   "cell_type": "markdown",
   "metadata": {},
   "source": [
    "Let's rename a couple of features so they make sense across dataframes. Rename 'estimatedValue' to 'value'. We will do the same on the other dataframe once we begin pre-processing it. "
   ]
  },
  {
   "cell_type": "code",
   "execution_count": 196,
   "metadata": {},
   "outputs": [],
   "source": [
    "# Rename two columns in corporate data df\n",
    "cols = {'estimatedValue':'value'}\n",
    "corporate_data = corporate_data.rename(columns=cols)"
   ]
  },
  {
   "cell_type": "code",
   "execution_count": 197,
   "metadata": {},
   "outputs": [],
   "source": [
    "# rename sale_data columns\n",
    "cols={'zip':'zipcode', 'listPrice':'value'}\n",
    "sale_data = sale_data.rename(columns=cols)"
   ]
  },
  {
   "cell_type": "markdown",
   "metadata": {},
   "source": [
    "The 'city' column doesn't add any information. Instead, let's use some information to categorize the cities by household income. Data for 2019 is available on the US Census site. Import that data, add to both the corporate_data and sale_data records, and we will set aside the city column before doing the test/train split. \n",
    "\n",
    "Additionally, the *name* of the district doesn't add any information. For each district, we have already gathered some information on the school lunch program (an indicator of poverty in the community), the rank of the schools within the district, and the racial demographics."
   ]
  },
  {
   "cell_type": "code",
   "execution_count": 203,
   "metadata": {
    "scrolled": true
   },
   "outputs": [],
   "source": [
    "income = pd.read_csv('../data/City income.csv')\n",
    "income_T = income.T"
   ]
  },
  {
   "cell_type": "code",
   "execution_count": 204,
   "metadata": {},
   "outputs": [],
   "source": [
    "# manipulate income information to make compatible with a pd.concat\n",
    "new_header = income_T.iloc[0] \n",
    "# take the rest of the data minus the header row\n",
    "income_T = income_T[1:] \n",
    "# set the header row as the df header\n",
    "income_T.columns = new_header \n",
    "income_T.rename(columns = {'Fact ':'City'}, inplace = True)"
   ]
  },
  {
   "cell_type": "code",
   "execution_count": 205,
   "metadata": {},
   "outputs": [
    {
     "data": {
      "text/plain": [
       "Index(['Median household income (in 2019 dollars), 2015-2019', 'Per capita income in past 12 months (in 2019 dollars), 2015-2019'], dtype='object', name='Fact')"
      ]
     },
     "execution_count": 205,
     "metadata": {},
     "output_type": "execute_result"
    }
   ],
   "source": [
    "income_T.columns"
   ]
  },
  {
   "cell_type": "code",
   "execution_count": 206,
   "metadata": {},
   "outputs": [],
   "source": [
    "income_T.drop(['Per capita income in past 12 months (in 2019 dollars), 2015-2019'], axis=1, inplace=True)"
   ]
  },
  {
   "cell_type": "code",
   "execution_count": 207,
   "metadata": {},
   "outputs": [
    {
     "data": {
      "text/html": [
       "<div>\n",
       "<style scoped>\n",
       "    .dataframe tbody tr th:only-of-type {\n",
       "        vertical-align: middle;\n",
       "    }\n",
       "\n",
       "    .dataframe tbody tr th {\n",
       "        vertical-align: top;\n",
       "    }\n",
       "\n",
       "    .dataframe thead th {\n",
       "        text-align: right;\n",
       "    }\n",
       "</style>\n",
       "<table border=\"1\" class=\"dataframe\">\n",
       "  <thead>\n",
       "    <tr style=\"text-align: right;\">\n",
       "      <th></th>\n",
       "      <th>address</th>\n",
       "      <th>city</th>\n",
       "      <th>zipcode</th>\n",
       "      <th>beds</th>\n",
       "      <th>baths</th>\n",
       "      <th>sqft</th>\n",
       "      <th>market_rent</th>\n",
       "      <th>lat</th>\n",
       "      <th>lng</th>\n",
       "      <th>districtMatch</th>\n",
       "      <th>value</th>\n",
       "      <th>percentFreeDiscLunch</th>\n",
       "      <th>percentofAfricanAmericanStudents</th>\n",
       "      <th>percentofAsianStudents</th>\n",
       "      <th>percentofHispanicStudents</th>\n",
       "      <th>percentofIndianStudents</th>\n",
       "      <th>percentofPacificIslanderStudents</th>\n",
       "      <th>percentofTwoOrMoreRaceStudents</th>\n",
       "      <th>percentofWhiteStudents</th>\n",
       "      <th>rankMovement</th>\n",
       "    </tr>\n",
       "  </thead>\n",
       "  <tbody>\n",
       "    <tr>\n",
       "      <th>6</th>\n",
       "      <td>11375 Nome St</td>\n",
       "      <td>Henderson</td>\n",
       "      <td>80640</td>\n",
       "      <td>4</td>\n",
       "      <td>2.0</td>\n",
       "      <td>2087</td>\n",
       "      <td>2595.0</td>\n",
       "      <td>39.90208</td>\n",
       "      <td>-104.85186</td>\n",
       "      <td>Brighton 27J School District</td>\n",
       "      <td>471589.95</td>\n",
       "      <td>44.03</td>\n",
       "      <td>2.20</td>\n",
       "      <td>2.92</td>\n",
       "      <td>53.74</td>\n",
       "      <td>0.31</td>\n",
       "      <td>0.17</td>\n",
       "      <td>3.00</td>\n",
       "      <td>37.65</td>\n",
       "      <td>-48.06</td>\n",
       "    </tr>\n",
       "    <tr>\n",
       "      <th>59</th>\n",
       "      <td>11620 Oakland Dr</td>\n",
       "      <td>Henderson</td>\n",
       "      <td>80640</td>\n",
       "      <td>3</td>\n",
       "      <td>1.5</td>\n",
       "      <td>1420</td>\n",
       "      <td>2339.0</td>\n",
       "      <td>39.90825</td>\n",
       "      <td>-104.84968</td>\n",
       "      <td>Brighton 27J School District</td>\n",
       "      <td>425300.00</td>\n",
       "      <td>44.03</td>\n",
       "      <td>2.20</td>\n",
       "      <td>2.92</td>\n",
       "      <td>53.74</td>\n",
       "      <td>0.31</td>\n",
       "      <td>0.17</td>\n",
       "      <td>3.00</td>\n",
       "      <td>37.65</td>\n",
       "      <td>-48.06</td>\n",
       "    </tr>\n",
       "    <tr>\n",
       "      <th>97</th>\n",
       "      <td>11798 W Marlowe Ave</td>\n",
       "      <td>Morrison</td>\n",
       "      <td>80465</td>\n",
       "      <td>4</td>\n",
       "      <td>2.5</td>\n",
       "      <td>2404</td>\n",
       "      <td>2933.0</td>\n",
       "      <td>39.63200</td>\n",
       "      <td>-105.12900</td>\n",
       "      <td>Jefferson County R-1 School District</td>\n",
       "      <td>430457.50</td>\n",
       "      <td>37.16</td>\n",
       "      <td>1.45</td>\n",
       "      <td>2.89</td>\n",
       "      <td>26.14</td>\n",
       "      <td>0.62</td>\n",
       "      <td>0.14</td>\n",
       "      <td>4.07</td>\n",
       "      <td>64.70</td>\n",
       "      <td>-23.29</td>\n",
       "    </tr>\n",
       "  </tbody>\n",
       "</table>\n",
       "</div>"
      ],
      "text/plain": [
       "                address       city  zipcode  beds  baths  sqft  market_rent  \\\n",
       "6         11375 Nome St  Henderson    80640     4    2.0  2087       2595.0   \n",
       "59     11620 Oakland Dr  Henderson    80640     3    1.5  1420       2339.0   \n",
       "97  11798 W Marlowe Ave   Morrison    80465     4    2.5  2404       2933.0   \n",
       "\n",
       "         lat        lng                         districtMatch      value  \\\n",
       "6   39.90208 -104.85186          Brighton 27J School District  471589.95   \n",
       "59  39.90825 -104.84968          Brighton 27J School District  425300.00   \n",
       "97  39.63200 -105.12900  Jefferson County R-1 School District  430457.50   \n",
       "\n",
       "    percentFreeDiscLunch  percentofAfricanAmericanStudents  \\\n",
       "6                  44.03                              2.20   \n",
       "59                 44.03                              2.20   \n",
       "97                 37.16                              1.45   \n",
       "\n",
       "    percentofAsianStudents  percentofHispanicStudents  \\\n",
       "6                     2.92                      53.74   \n",
       "59                    2.92                      53.74   \n",
       "97                    2.89                      26.14   \n",
       "\n",
       "    percentofIndianStudents  percentofPacificIslanderStudents  \\\n",
       "6                      0.31                              0.17   \n",
       "59                     0.31                              0.17   \n",
       "97                     0.62                              0.14   \n",
       "\n",
       "    percentofTwoOrMoreRaceStudents  percentofWhiteStudents  rankMovement  \n",
       "6                             3.00                   37.65        -48.06  \n",
       "59                            3.00                   37.65        -48.06  \n",
       "97                            4.07                   64.70        -23.29  "
      ]
     },
     "execution_count": 207,
     "metadata": {},
     "output_type": "execute_result"
    }
   ],
   "source": [
    "# Let's see if there are any towns in the corporate_data set which are not included in the income data. \n",
    "no_data = corporate_data[~corporate_data['city'].isin(income_T.index)]\n",
    "no_data.head()"
   ]
  },
  {
   "cell_type": "markdown",
   "metadata": {},
   "source": [
    "The houses in Henderson are actually in Commerce City. This is a quirk of Denver-metro addresses. Morrison is a tiny area, so there isn't any data available for it. The closest town to Morrison is Golden. Let's map these in both the corporate and sales data. "
   ]
  },
  {
   "cell_type": "code",
   "execution_count": 208,
   "metadata": {},
   "outputs": [],
   "source": [
    "dict1 = {'Henderson':'Commerce City', 'Morrison':'Golden'}\n",
    "corporate_data.loc[corporate_data['city'].isin(dict1.keys()), 'city'] = corporate_data['city'].map(dict1)"
   ]
  },
  {
   "cell_type": "code",
   "execution_count": 209,
   "metadata": {},
   "outputs": [],
   "source": [
    "# Let's see if there is any sales data that doesn't have income information. \n",
    "no_data = sale_data[~sale_data['city'].isin(income_T.index)]"
   ]
  },
  {
   "cell_type": "code",
   "execution_count": 210,
   "metadata": {},
   "outputs": [
    {
     "data": {
      "text/plain": [
       "array(['Morrison', 'Indian Hills', 'Idledale'], dtype=object)"
      ]
     },
     "execution_count": 210,
     "metadata": {},
     "output_type": "execute_result"
    }
   ],
   "source": [
    "no_data['city'].unique()"
   ]
  },
  {
   "cell_type": "markdown",
   "metadata": {},
   "source": [
    "All of these little hamlets are near Golden, so let's map them to Golden. "
   ]
  },
  {
   "cell_type": "code",
   "execution_count": 211,
   "metadata": {},
   "outputs": [],
   "source": [
    "dict2={'Morrison':'Golden', 'Indian Hills':'Golden', 'Idledale':'Golden'}\n",
    "sale_data.loc[sale_data['city'].isin(dict1.keys()), 'city'] = sale_data['city'].map(dict1)"
   ]
  },
  {
   "cell_type": "code",
   "execution_count": 212,
   "metadata": {},
   "outputs": [
    {
     "data": {
      "text/plain": [
       "((170, 21), (170, 20))"
      ]
     },
     "execution_count": 212,
     "metadata": {},
     "output_type": "execute_result"
    }
   ],
   "source": [
    "corporate_data_I = corporate_data.merge(income_T, left_on='city', right_on=income_T.index)\n",
    "corporate_data_I.shape, corporate_data.shape"
   ]
  },
  {
   "cell_type": "code",
   "execution_count": 213,
   "metadata": {},
   "outputs": [],
   "source": [
    "sale_data_I = sale_data.merge(income_T, left_on='city', right_on=income_T.index)"
   ]
  },
  {
   "cell_type": "markdown",
   "metadata": {},
   "source": [
    "We have a problem with the HOA data. Some of the deployment data (houses for sale) have HOAs, but we don't have any information about whether the corporate properties have an HOA. So, we have no way to scale that data.\n",
    "One way to handle this is to combine the HOA price into the value of the house, over 30 years. Let's do that with the sales_data. "
   ]
  },
  {
   "cell_type": "code",
   "execution_count": 214,
   "metadata": {},
   "outputs": [],
   "source": [
    "sale_data_I['value'] = sale_data_I['value'] + (sale_data_I['monthly_hoa'] * 12)\n",
    "sale_data_I.drop(['monthly_hoa'], axis=1, inplace=True)"
   ]
  },
  {
   "cell_type": "markdown",
   "metadata": {},
   "source": [
    "We have taxes for the sale data, because it is included in the listing. But, it is linearly related to the value of the house, because taxes are calculated as a percentage of the house's value. Therefore, instead of *adding* tax data for the corporate-owned houses, we shall remove the tax data from the sale houses. "
   ]
  },
  {
   "cell_type": "code",
   "execution_count": 215,
   "metadata": {},
   "outputs": [],
   "source": [
    "# drop tax column because it's linearly related to sales price (percentage of sales price)\n",
    "sale_data_I.drop('taxes', axis=1, inplace=True)"
   ]
  },
  {
   "cell_type": "markdown",
   "metadata": {},
   "source": [
    "'Beds' and 'baths' should be categorical columns, since these are inherently categorical. Change the data types of these columns."
   ]
  },
  {
   "cell_type": "code",
   "execution_count": 216,
   "metadata": {},
   "outputs": [],
   "source": [
    "corporate_data_I['beds'] = pd.Categorical(corporate_data_I.beds)\n",
    "corporate_data_I['baths'] = pd.Categorical(corporate_data_I.baths)\n",
    "sale_data_I['beds'] = pd.Categorical(sale_data_I.beds)\n",
    "sale_data_I['baths'] = pd.Categorical(sale_data_I.baths)"
   ]
  },
  {
   "cell_type": "code",
   "execution_count": 217,
   "metadata": {},
   "outputs": [],
   "source": [
    "# Encode categorical features with dummies, dropping one to avoid instability\n",
    "dummy_features_corp = pd.get_dummies(corporate_data_I[['beds', 'baths']], drop_first=True)\n",
    "dummy_features_sale = pd.get_dummies(sale_data_I[['beds', 'baths']], drop_first=True)\n",
    "\n",
    "# Concat dummy_features to original dfs\n",
    "corporate_data_I = pd.concat([corporate_data_I, dummy_features_corp], axis=1)\n",
    "sale_data_I = pd.concat([sale_data_I, dummy_features_sale], axis=1)"
   ]
  },
  {
   "cell_type": "code",
   "execution_count": 218,
   "metadata": {},
   "outputs": [
    {
     "data": {
      "text/plain": [
       "(Index(['address', 'city', 'zipcode', 'beds', 'baths', 'sqft', 'value', 'lat',\n",
       "        'lng', 'districtMatch', 'percentFreeDiscLunch',\n",
       "        'percentofAfricanAmericanStudents', 'percentofAsianStudents',\n",
       "        'percentofHispanicStudents', 'percentofIndianStudents',\n",
       "        'percentofPacificIslanderStudents', 'percentofTwoOrMoreRaceStudents',\n",
       "        'percentofWhiteStudents', 'rankMovement',\n",
       "        'Median household income (in 2019 dollars), 2015-2019', 'beds_2.0',\n",
       "        'beds_3.0', 'beds_4.0', 'beds_5.0', 'beds_6.0', 'beds_7.0', 'beds_9.0',\n",
       "        'baths_2.0', 'baths_3.0', 'baths_4.0', 'baths_7.0'],\n",
       "       dtype='object'),\n",
       " Index(['address', 'city', 'zipcode', 'beds', 'baths', 'sqft', 'market_rent',\n",
       "        'lat', 'lng', 'districtMatch', 'value', 'percentFreeDiscLunch',\n",
       "        'percentofAfricanAmericanStudents', 'percentofAsianStudents',\n",
       "        'percentofHispanicStudents', 'percentofIndianStudents',\n",
       "        'percentofPacificIslanderStudents', 'percentofTwoOrMoreRaceStudents',\n",
       "        'percentofWhiteStudents', 'rankMovement',\n",
       "        'Median household income (in 2019 dollars), 2015-2019', 'beds_3',\n",
       "        'beds_4', 'beds_5', 'baths_1.5', 'baths_2.0', 'baths_2.5', 'baths_3.0',\n",
       "        'baths_3.5', 'baths_4.0'],\n",
       "       dtype='object'))"
      ]
     },
     "execution_count": 218,
     "metadata": {},
     "output_type": "execute_result"
    }
   ],
   "source": [
    "sale_data_I.columns, corporate_data_I.columns"
   ]
  },
  {
   "cell_type": "code",
   "execution_count": 219,
   "metadata": {},
   "outputs": [
    {
     "data": {
      "text/plain": [
       "dtype('O')"
      ]
     },
     "execution_count": 219,
     "metadata": {},
     "output_type": "execute_result"
    }
   ],
   "source": [
    "# Check datatype of new column\n",
    "corporate_data_I['Median household income (in 2019 dollars), 2015-2019'].dtypes"
   ]
  },
  {
   "cell_type": "code",
   "execution_count": 220,
   "metadata": {},
   "outputs": [],
   "source": [
    "corporate_data_I[['Median household income (in 2019 dollars), 2015-2019']] = \\\n",
    "        corporate_data_I[['Median household income (in 2019 dollars), 2015-2019']].replace('[\\$,]','',regex=True).astype(float)"
   ]
  },
  {
   "cell_type": "code",
   "execution_count": 221,
   "metadata": {},
   "outputs": [],
   "source": [
    "sale_data_I[['Median household income (in 2019 dollars), 2015-2019']] = \\\n",
    "        sale_data_I[['Median household income (in 2019 dollars), 2015-2019']].replace('[\\$,]','',regex=True).astype(float)"
   ]
  },
  {
   "cell_type": "markdown",
   "metadata": {},
   "source": [
    "## 4.5 Train/Test Split - Keep Value<a id='4.6_Train/Test_Split'></a>"
   ]
  },
  {
   "cell_type": "markdown",
   "metadata": {},
   "source": [
    "After a couple of preliminary models, it seems that the 'value' of a property is tied to other features, possible some of which we have included in our particular set of features. \n",
    "First, we will run machine learning models including the feature 'value', then run without, and see which gives us a better outcome (explains more of the variability in data). \n",
    "\n",
    "So, let's use a 90/10 train/test split within the corporate data, using 'market_rent' as the dependent variable. "
   ]
  },
  {
   "cell_type": "code",
   "execution_count": 538,
   "metadata": {},
   "outputs": [],
   "source": [
    "# use train_test_split \n",
    "X_train, X_test, y_train, y_test = train_test_split(corporate_data_I.drop(columns='market_rent'), \n",
    "                                                    corporate_data_I.market_rent, test_size=0.1, \n",
    "                                                    random_state=42)"
   ]
  },
  {
   "cell_type": "code",
   "execution_count": 539,
   "metadata": {},
   "outputs": [
    {
     "data": {
      "text/plain": [
       "((153, 29), (17, 29))"
      ]
     },
     "execution_count": 539,
     "metadata": {},
     "output_type": "execute_result"
    }
   ],
   "source": [
    "X_train.shape, X_test.shape"
   ]
  },
  {
   "cell_type": "code",
   "execution_count": 540,
   "metadata": {},
   "outputs": [
    {
     "data": {
      "text/plain": [
       "((153,), (17,))"
      ]
     },
     "execution_count": 540,
     "metadata": {},
     "output_type": "execute_result"
    }
   ],
   "source": [
    "y_train.shape, y_test.shape"
   ]
  },
  {
   "cell_type": "code",
   "execution_count": 541,
   "metadata": {},
   "outputs": [
    {
     "data": {
      "text/plain": [
       "((153, 21), (17, 21))"
      ]
     },
     "execution_count": 541,
     "metadata": {},
     "output_type": "execute_result"
    }
   ],
   "source": [
    "#Save the 'address' and 'zipcode' columns from the train/test data into address_train\n",
    "# and address_train\n",
    "#Then drop those columns from `X_train` and `X_test`. Use 'inplace=True'\n",
    "address_list = ['address', 'zipcode', 'lat', 'lng', 'districtMatch', 'city', 'beds', 'baths']\n",
    "address_train = X_train[address_list]\n",
    "address_test = X_test[address_list]\n",
    "X_train.drop(columns=address_list, inplace=True)\n",
    "X_test.drop(columns=address_list, inplace=True)\n",
    "X_train.shape, X_test.shape"
   ]
  },
  {
   "cell_type": "code",
   "execution_count": 542,
   "metadata": {},
   "outputs": [
    {
     "data": {
      "text/plain": [
       "sqft                                                      int64\n",
       "value                                                   float64\n",
       "percentFreeDiscLunch                                    float64\n",
       "percentofAfricanAmericanStudents                        float64\n",
       "percentofAsianStudents                                  float64\n",
       "percentofHispanicStudents                               float64\n",
       "percentofIndianStudents                                 float64\n",
       "percentofPacificIslanderStudents                        float64\n",
       "percentofTwoOrMoreRaceStudents                          float64\n",
       "percentofWhiteStudents                                  float64\n",
       "rankMovement                                            float64\n",
       "Median household income (in 2019 dollars), 2015-2019    float64\n",
       "beds_3                                                    uint8\n",
       "beds_4                                                    uint8\n",
       "beds_5                                                    uint8\n",
       "baths_1.5                                                 uint8\n",
       "baths_2.0                                                 uint8\n",
       "baths_2.5                                                 uint8\n",
       "baths_3.0                                                 uint8\n",
       "baths_3.5                                                 uint8\n",
       "baths_4.0                                                 uint8\n",
       "dtype: object"
      ]
     },
     "execution_count": 542,
     "metadata": {},
     "output_type": "execute_result"
    }
   ],
   "source": [
    "#Check the `dtypes` attribute of `X_train` to verify all features are numeric\n",
    "X_train.dtypes"
   ]
  },
  {
   "cell_type": "code",
   "execution_count": 543,
   "metadata": {},
   "outputs": [
    {
     "data": {
      "text/plain": [
       "sqft                                                      int64\n",
       "value                                                   float64\n",
       "percentFreeDiscLunch                                    float64\n",
       "percentofAfricanAmericanStudents                        float64\n",
       "percentofAsianStudents                                  float64\n",
       "percentofHispanicStudents                               float64\n",
       "percentofIndianStudents                                 float64\n",
       "percentofPacificIslanderStudents                        float64\n",
       "percentofTwoOrMoreRaceStudents                          float64\n",
       "percentofWhiteStudents                                  float64\n",
       "rankMovement                                            float64\n",
       "Median household income (in 2019 dollars), 2015-2019    float64\n",
       "beds_3                                                    uint8\n",
       "beds_4                                                    uint8\n",
       "beds_5                                                    uint8\n",
       "baths_1.5                                                 uint8\n",
       "baths_2.0                                                 uint8\n",
       "baths_2.5                                                 uint8\n",
       "baths_3.0                                                 uint8\n",
       "baths_3.5                                                 uint8\n",
       "baths_4.0                                                 uint8\n",
       "dtype: object"
      ]
     },
     "execution_count": 543,
     "metadata": {},
     "output_type": "execute_result"
    }
   ],
   "source": [
    "#Repeat this check for the test split in `X_test`\n",
    "X_test.dtypes"
   ]
  },
  {
   "cell_type": "markdown",
   "metadata": {},
   "source": [
    "All features in X are numeric."
   ]
  },
  {
   "cell_type": "markdown",
   "metadata": {},
   "source": [
    "## 4.6 Trim Data (Train set includes 'values') <a id='4.6 Trim Data(Train set includes \"values\")'></a>"
   ]
  },
  {
   "cell_type": "markdown",
   "metadata": {},
   "source": [
    " Let's look at the distributions of the training data. "
   ]
  },
  {
   "cell_type": "code",
   "execution_count": 544,
   "metadata": {},
   "outputs": [
    {
     "data": {
      "image/png": "[encoded data removed]",
      "text/plain": [
       "<Figure size 720x288 with 2 Axes>"
      ]
     },
     "metadata": {
      "needs_background": "light"
     },
     "output_type": "display_data"
    }
   ],
   "source": [
    "X_train[['sqft', 'value']].hist(figsize=(10,4))\n",
    "plt.show()"
   ]
  },
  {
   "cell_type": "markdown",
   "metadata": {},
   "source": [
    "Graphically, it looks like there are a couple on the end - but these may not be outliers really, but rather large houses that are worth a lot of money. More data may prove these to be not outliers at all. We believe that there are more houses in the smaller, less expensive range and fewer in the larger, more expensive range *in general* and that houses smaller than about 1000 square feet are quite rare, leading to this distribution. \n",
    "We choose to not trim these data points as they are representative of the pattern as a whole. "
   ]
  },
  {
   "cell_type": "markdown",
   "metadata": {},
   "source": [
    "## 4.7 Initial Modeling - Dummy Regressor (including 'value')"
   ]
  },
  {
   "cell_type": "markdown",
   "metadata": {},
   "source": [
    "First, let's try the most basic model - the mean. This will give us some basis for comparison of the rest of the work we do. "
   ]
  },
  {
   "cell_type": "code",
   "execution_count": 545,
   "metadata": {},
   "outputs": [
    {
     "data": {
      "text/plain": [
       "array([[2550.28104575]])"
      ]
     },
     "execution_count": 545,
     "metadata": {},
     "output_type": "execute_result"
    }
   ],
   "source": [
    "# Fit the Dummy Regressor on the training data\n",
    "dumb_reg = DummyRegressor(strategy='mean')\n",
    "dumb_reg.fit(X_train, y_train)\n",
    "dumb_reg.constant_"
   ]
  },
  {
   "cell_type": "code",
   "execution_count": 546,
   "metadata": {},
   "outputs": [
    {
     "data": {
      "text/plain": [
       "array([2550.28104575, 2550.28104575, 2550.28104575, 2550.28104575,\n",
       "       2550.28104575])"
      ]
     },
     "execution_count": 546,
     "metadata": {},
     "output_type": "execute_result"
    }
   ],
   "source": [
    "# Predict outcome on X_train\n",
    "y_tr_pred = dumb_reg.predict(X_train)\n",
    "y_tr_pred[:5]"
   ]
  },
  {
   "cell_type": "code",
   "execution_count": 547,
   "metadata": {},
   "outputs": [
    {
     "data": {
      "text/plain": [
       "array([2550.28104575, 2550.28104575, 2550.28104575, 2550.28104575,\n",
       "       2550.28104575])"
      ]
     },
     "execution_count": 547,
     "metadata": {},
     "output_type": "execute_result"
    }
   ],
   "source": [
    "# Predict outcome on X_test\n",
    "y_te_pred = dumb_reg.predict(X_test)\n",
    "y_te_pred[:5]"
   ]
  },
  {
   "cell_type": "markdown",
   "metadata": {},
   "source": [
    "### 4.7.1 Metrics on Dummy Regressor<a id='4.7.1_Metrics'></a>"
   ]
  },
  {
   "cell_type": "markdown",
   "metadata": {},
   "source": [
    "#### 4.7.1.1 R-squared, or coefficient of determination of Dummy Model<a id='4.7.1.1_R-squared,_or_coefficient_of_determination'></a>"
   ]
  },
  {
   "cell_type": "markdown",
   "metadata": {},
   "source": [
    "The R-squared of the dummy regressor should be 0 by definition. It will not be zero for the test set. "
   ]
  },
  {
   "cell_type": "code",
   "execution_count": 548,
   "metadata": {},
   "outputs": [
    {
     "data": {
      "text/plain": [
       "(0.0, -0.18676089981796995)"
      ]
     },
     "execution_count": 548,
     "metadata": {},
     "output_type": "execute_result"
    }
   ],
   "source": [
    "r2_score(y_train, y_tr_pred), r2_score(y_test, y_te_pred)"
   ]
  },
  {
   "cell_type": "markdown",
   "metadata": {},
   "source": [
    "#### 4.7.1.2 Mean Absolute Error of Dummy Model<a id='4.7.1.1_R-squared,_or_coefficient_of_determination'></a>"
   ]
  },
  {
   "cell_type": "markdown",
   "metadata": {},
   "source": [
    "As a reminder, the mean absolute error is the average of the absolute errors. "
   ]
  },
  {
   "cell_type": "code",
   "execution_count": 549,
   "metadata": {},
   "outputs": [
    {
     "data": {
      "text/plain": [
       "(189.14520056388568, 145.17839292579782)"
      ]
     },
     "execution_count": 549,
     "metadata": {},
     "output_type": "execute_result"
    }
   ],
   "source": [
    "mean_absolute_error(y_train, y_tr_pred), mean_absolute_error(y_test, y_te_pred)"
   ]
  },
  {
   "cell_type": "markdown",
   "metadata": {},
   "source": [
    "#### 4.7.1.3 Mean Squared Error of Dummy Model<a id='4.7.1.1_R-squared,_or_coefficient_of_determination'></a>"
   ]
  },
  {
   "cell_type": "markdown",
   "metadata": {},
   "source": [
    "Another reminder: the mean squared error is the average of the squares of the errors. "
   ]
  },
  {
   "cell_type": "code",
   "execution_count": 550,
   "metadata": {},
   "outputs": [
    {
     "data": {
      "text/plain": [
       "(63398.04519629201, 31410.637233542668)"
      ]
     },
     "execution_count": 550,
     "metadata": {},
     "output_type": "execute_result"
    }
   ],
   "source": [
    "mean_squared_error(y_train, y_tr_pred), mean_squared_error(y_test, y_te_pred)"
   ]
  },
  {
   "cell_type": "markdown",
   "metadata": {},
   "source": [
    "## 4.8 Scaling Test/Train (with 'value')<a id='4.8_Initial_Models'></a>"
   ]
  },
  {
   "cell_type": "markdown",
   "metadata": {},
   "source": [
    "Our data is on different scales. For example, square footage is in the thousands, while percentage of kids receiving school lunch is necessarily under 100. The dummy variables are either 0 or 1. Let's scale the features that are not binary. "
   ]
  },
  {
   "cell_type": "code",
   "execution_count": 551,
   "metadata": {},
   "outputs": [
    {
     "data": {
      "text/plain": [
       "(Index(['sqft', 'value', 'percentFreeDiscLunch',\n",
       "        'percentofAfricanAmericanStudents', 'percentofAsianStudents',\n",
       "        'percentofHispanicStudents', 'percentofIndianStudents',\n",
       "        'percentofPacificIslanderStudents', 'percentofTwoOrMoreRaceStudents',\n",
       "        'percentofWhiteStudents', 'rankMovement',\n",
       "        'Median household income (in 2019 dollars), 2015-2019', 'beds_3',\n",
       "        'beds_4', 'beds_5', 'baths_1.5', 'baths_2.0', 'baths_2.5', 'baths_3.0',\n",
       "        'baths_3.5', 'baths_4.0'],\n",
       "       dtype='object'),\n",
       " Index(['sqft', 'value', 'percentFreeDiscLunch',\n",
       "        'percentofAfricanAmericanStudents', 'percentofAsianStudents',\n",
       "        'percentofHispanicStudents', 'percentofIndianStudents',\n",
       "        'percentofPacificIslanderStudents', 'percentofTwoOrMoreRaceStudents',\n",
       "        'percentofWhiteStudents', 'rankMovement',\n",
       "        'Median household income (in 2019 dollars), 2015-2019', 'beds_3',\n",
       "        'beds_4', 'beds_5', 'baths_1.5', 'baths_2.0', 'baths_2.5', 'baths_3.0',\n",
       "        'baths_3.5', 'baths_4.0'],\n",
       "       dtype='object'))"
      ]
     },
     "execution_count": 551,
     "metadata": {},
     "output_type": "execute_result"
    }
   ],
   "source": [
    "X_train.columns, X_test.columns"
   ]
  },
  {
   "cell_type": "code",
   "execution_count": 552,
   "metadata": {},
   "outputs": [],
   "source": [
    "#Call the StandardScaler`s fit method on `X_train` to fit the scaler\n",
    "#then use it's `transform()` method to apply the scaling to both the train and test split\n",
    "#data (`X_train` and `X_test`), naming the results `X_tr_scaled` and `X_te_scaled`, respectively\n",
    "scaler = StandardScaler()\n",
    "col_list = ['sqft', 'value','percentFreeDiscLunch', 'percentofAfricanAmericanStudents',\n",
    "       'percentofAsianStudents', 'percentofHispanicStudents',\n",
    "       'percentofIndianStudents', 'percentofPacificIslanderStudents',\n",
    "       'percentofTwoOrMoreRaceStudents', 'percentofWhiteStudents',\n",
    "       'rankMovement', 'Median household income (in 2019 dollars), 2015-2019']\n",
    "scaled_features = X_train.copy()\n",
    "features = scaled_features[col_list]\n",
    "scaler.fit(features.values)\n",
    "features = scaler.transform(features.values)\n",
    "\n"
   ]
  },
  {
   "cell_type": "code",
   "execution_count": 553,
   "metadata": {},
   "outputs": [],
   "source": [
    "# transform back to df\n",
    "scaled_features[col_list] = features\n",
    "X_tr_scaled = scaled_features.copy()"
   ]
  },
  {
   "cell_type": "code",
   "execution_count": 554,
   "metadata": {},
   "outputs": [],
   "source": [
    "# transform test set\n",
    "scaled_te_features = X_test.copy()\n",
    "features = scaled_te_features[col_list]\n",
    "features = scaler.transform(features.values)\n",
    "scaled_te_features[col_list] = features\n",
    "X_te_scaled = scaled_te_features.copy()"
   ]
  },
  {
   "cell_type": "code",
   "execution_count": 555,
   "metadata": {},
   "outputs": [
    {
     "data": {
      "text/plain": [
       "(Index(['sqft', 'value', 'percentFreeDiscLunch',\n",
       "        'percentofAfricanAmericanStudents', 'percentofAsianStudents',\n",
       "        'percentofHispanicStudents', 'percentofIndianStudents',\n",
       "        'percentofPacificIslanderStudents', 'percentofTwoOrMoreRaceStudents',\n",
       "        'percentofWhiteStudents', 'rankMovement',\n",
       "        'Median household income (in 2019 dollars), 2015-2019', 'beds_3',\n",
       "        'beds_4', 'beds_5', 'baths_1.5', 'baths_2.0', 'baths_2.5', 'baths_3.0',\n",
       "        'baths_3.5', 'baths_4.0'],\n",
       "       dtype='object'),\n",
       " Index(['sqft', 'value', 'percentFreeDiscLunch',\n",
       "        'percentofAfricanAmericanStudents', 'percentofAsianStudents',\n",
       "        'percentofHispanicStudents', 'percentofIndianStudents',\n",
       "        'percentofPacificIslanderStudents', 'percentofTwoOrMoreRaceStudents',\n",
       "        'percentofWhiteStudents', 'rankMovement',\n",
       "        'Median household income (in 2019 dollars), 2015-2019', 'beds_3',\n",
       "        'beds_4', 'beds_5', 'baths_1.5', 'baths_2.0', 'baths_2.5', 'baths_3.0',\n",
       "        'baths_3.5', 'baths_4.0'],\n",
       "       dtype='object'))"
      ]
     },
     "execution_count": 555,
     "metadata": {},
     "output_type": "execute_result"
    }
   ],
   "source": [
    "X_tr_scaled.columns, X_te_scaled.columns"
   ]
  },
  {
   "cell_type": "markdown",
   "metadata": {},
   "source": [
    "## 4.9 Initial Model - Linear Regression (with 'value')<a id='4.8_Initial_Models'></a>"
   ]
  },
  {
   "cell_type": "markdown",
   "metadata": {},
   "source": [
    "The first model we will run is the default Linear Regression model. We don't need to use the scaled data with Linear Regression (or, we can - it makes no difference). Let's use the unscaled data so that, if necessary, we can interpret the coefficients. "
   ]
  },
  {
   "cell_type": "code",
   "execution_count": 556,
   "metadata": {},
   "outputs": [
    {
     "name": "stdout",
     "output_type": "stream",
     "text": [
      "(153, 21)\n",
      "21\n"
     ]
    }
   ],
   "source": [
    "# Instantiate the model and fit to training data\n",
    "lm = LinearRegression().fit(X_train, y_train)\n",
    "print(X_train.shape)\n",
    "print(len(lm.coef_))"
   ]
  },
  {
   "cell_type": "markdown",
   "metadata": {},
   "source": [
    "##### 4.9.1 Make predictions using the model on both train and test splits"
   ]
  },
  {
   "cell_type": "code",
   "execution_count": 557,
   "metadata": {},
   "outputs": [],
   "source": [
    "#Call the `predict()` method of the model (`lm`) on both the (scaled) train and test data\n",
    "#Assign the predictions to `y_tr_pred` and `y_te_pred`, respectively\n",
    "y_tr_pred = lm.predict(X_train)\n",
    "y_te_pred = lm.predict(X_test)"
   ]
  },
  {
   "cell_type": "code",
   "execution_count": 558,
   "metadata": {},
   "outputs": [
    {
     "data": {
      "text/plain": [
       "(0.7612988034112752, 0.23381348873786156)"
      ]
     },
     "execution_count": 558,
     "metadata": {},
     "output_type": "execute_result"
    }
   ],
   "source": [
    "# r^2 - train, test\n",
    "lm_r2 = r2_score(y_train, y_tr_pred), r2_score(y_test, y_te_pred)\n",
    "lm_r2"
   ]
  },
  {
   "cell_type": "markdown",
   "metadata": {},
   "source": [
    "Here we see that our simple linear regression model explains over 70% of the variance on the train set but only 23% on the test set. The much lower value for the test set suggests overfitting. This isn't a surprise because we have a high dimensionality and haven't accounted for that in any way.  "
   ]
  },
  {
   "cell_type": "code",
   "execution_count": 559,
   "metadata": {},
   "outputs": [
    {
     "data": {
      "text/plain": [
       "(90.39676046917954, 110.7935350431681)"
      ]
     },
     "execution_count": 559,
     "metadata": {},
     "output_type": "execute_result"
    }
   ],
   "source": [
    "median_mae = mean_absolute_error(y_train, y_tr_pred), mean_absolute_error(y_test, y_te_pred)\n",
    "median_mae"
   ]
  },
  {
   "cell_type": "markdown",
   "metadata": {},
   "source": [
    "This is much better than simply using the mean. For the Dummy Regressor model, the MAE of the test set was 145. This is 110. "
   ]
  },
  {
   "cell_type": "code",
   "execution_count": 560,
   "metadata": {},
   "outputs": [],
   "source": [
    "pipe = make_pipeline( \n",
    "    SelectKBest(f_regression),\n",
    "    LinearRegression()\n",
    ")"
   ]
  },
  {
   "cell_type": "code",
   "execution_count": 561,
   "metadata": {},
   "outputs": [
    {
     "data": {
      "text/plain": [
       "Pipeline(steps=[('selectkbest',\n",
       "                 SelectKBest(score_func=<function f_regression at 0x000001D51D4995E0>)),\n",
       "                ('linearregression', LinearRegression())])"
      ]
     },
     "execution_count": 561,
     "metadata": {},
     "output_type": "execute_result"
    }
   ],
   "source": [
    "#Call the pipe's `fit()` method with `X_train` and `y_train` as arguments\n",
    "pipe.fit(X_train, y_train)"
   ]
  },
  {
   "cell_type": "code",
   "execution_count": 562,
   "metadata": {},
   "outputs": [],
   "source": [
    "y_tr_pred = pipe.predict(X_train)\n",
    "y_te_pred = pipe.predict(X_test)"
   ]
  },
  {
   "cell_type": "code",
   "execution_count": 563,
   "metadata": {},
   "outputs": [
    {
     "data": {
      "text/plain": [
       "(0.6917943188273797, 0.4463482575999346)"
      ]
     },
     "execution_count": 563,
     "metadata": {},
     "output_type": "execute_result"
    }
   ],
   "source": [
    "r2_score(y_train, y_tr_pred), r2_score(y_test, y_te_pred)"
   ]
  },
  {
   "cell_type": "code",
   "execution_count": 564,
   "metadata": {},
   "outputs": [
    {
     "data": {
      "text/plain": [
       "(105.87982220264948, 88.69542185918435)"
      ]
     },
     "execution_count": 564,
     "metadata": {},
     "output_type": "execute_result"
    }
   ],
   "source": [
    "mean_absolute_error(y_train, y_tr_pred), mean_absolute_error(y_test, y_te_pred)"
   ]
  },
  {
   "cell_type": "markdown",
   "metadata": {},
   "source": [
    "This improves upon the default linear regression model. The default number of *k* is 10. Perhaps we can do better after checking the best value for k. "
   ]
  },
  {
   "cell_type": "code",
   "execution_count": 565,
   "metadata": {},
   "outputs": [
    {
     "data": {
      "text/plain": [
       "dict_keys(['memory', 'steps', 'verbose', 'selectkbest', 'linearregression', 'selectkbest__k', 'selectkbest__score_func', 'linearregression__copy_X', 'linearregression__fit_intercept', 'linearregression__n_jobs', 'linearregression__normalize'])"
      ]
     },
     "execution_count": 565,
     "metadata": {},
     "output_type": "execute_result"
    }
   ],
   "source": [
    "pipe.get_params().keys()"
   ]
  },
  {
   "cell_type": "code",
   "execution_count": 566,
   "metadata": {},
   "outputs": [
    {
     "name": "stdout",
     "output_type": "stream",
     "text": [
      "{'selectkbest__k': [1, 2, 3, 4, 5, 6, 7, 8, 9, 10, 11, 12, 13, 14, 15, 16, 17, 18, 19, 20, 21]}\n"
     ]
    }
   ],
   "source": [
    "# build grid of hyperparameters\n",
    "k = [k+1 for k in range(len(X_train.columns))]\n",
    "grid_params = {'selectkbest__k': k}\n",
    "print(grid_params)"
   ]
  },
  {
   "cell_type": "code",
   "execution_count": 567,
   "metadata": {},
   "outputs": [],
   "source": [
    "# We can use GridSearchCV because linear regression is very fast and we're only checking one hyperparameter\n",
    "lr_grid_cv = GridSearchCV(pipe, param_grid=grid_params, cv=5, n_jobs=-1)"
   ]
  },
  {
   "cell_type": "code",
   "execution_count": 568,
   "metadata": {},
   "outputs": [
    {
     "data": {
      "text/plain": [
       "GridSearchCV(cv=5,\n",
       "             estimator=Pipeline(steps=[('selectkbest',\n",
       "                                        SelectKBest(score_func=<function f_regression at 0x000001D51D4995E0>)),\n",
       "                                       ('linearregression',\n",
       "                                        LinearRegression())]),\n",
       "             n_jobs=-1,\n",
       "             param_grid={'selectkbest__k': [1, 2, 3, 4, 5, 6, 7, 8, 9, 10, 11,\n",
       "                                            12, 13, 14, 15, 16, 17, 18, 19, 20,\n",
       "                                            21]})"
      ]
     },
     "execution_count": 568,
     "metadata": {},
     "output_type": "execute_result"
    }
   ],
   "source": [
    "# fit the model with cv=5\n",
    "lr_grid_cv.fit(X_train, y_train)"
   ]
  },
  {
   "cell_type": "code",
   "execution_count": 569,
   "metadata": {},
   "outputs": [],
   "source": [
    "# Find the best scores\n",
    "score_mean = lr_grid_cv.cv_results_['mean_test_score']\n",
    "score_std = lr_grid_cv.cv_results_['std_test_score']\n",
    "cv_k = [k for k in lr_grid_cv.cv_results_['param_selectkbest__k']]"
   ]
  },
  {
   "cell_type": "code",
   "execution_count": 570,
   "metadata": {},
   "outputs": [
    {
     "data": {
      "text/plain": [
       "{'selectkbest__k': 19}"
      ]
     },
     "execution_count": 570,
     "metadata": {},
     "output_type": "execute_result"
    }
   ],
   "source": [
    "#Print the `best_params_` attribute of `lr_grid_cv`\n",
    "lr_grid_cv.best_params_"
   ]
  },
  {
   "cell_type": "code",
   "execution_count": 571,
   "metadata": {},
   "outputs": [
    {
     "data": {
      "image/png": "[encoded data removed]",
      "text/plain": [
       "<Figure size 720x360 with 1 Axes>"
      ]
     },
     "metadata": {
      "needs_background": "light"
     },
     "output_type": "display_data"
    }
   ],
   "source": [
    "#Assign the value of k from the above dict of `best_params_` and assign it to `best_k`\n",
    "best_k = lr_grid_cv.best_params_['selectkbest__k']\n",
    "plt.subplots(figsize=(10, 5))\n",
    "plt.errorbar(cv_k, score_mean, yerr=score_std)\n",
    "plt.axvline(x=best_k, c='r', ls='--', alpha=.5)\n",
    "plt.xlabel('k')\n",
    "plt.ylabel('CV score (r-squared)')\n",
    "plt.title('Pipeline mean CV score (error bars +/- 1sd)');"
   ]
  },
  {
   "cell_type": "code",
   "execution_count": 572,
   "metadata": {},
   "outputs": [
    {
     "name": "stdout",
     "output_type": "stream",
     "text": [
      "[ True  True  True  True False  True  True  True False  True  True  True\n",
      "  True  True  True  True  True  True  True  True  True]\n"
     ]
    }
   ],
   "source": [
    "selected = lr_grid_cv.best_estimator_.named_steps.selectkbest.get_support()\n",
    "print(selected)"
   ]
  },
  {
   "cell_type": "code",
   "execution_count": 573,
   "metadata": {},
   "outputs": [
    {
     "data": {
      "text/plain": [
       "baths_4.0                                                466.213068\n",
       "baths_2.5                                                365.061884\n",
       "baths_3.5                                                317.391049\n",
       "baths_2.0                                                298.552436\n",
       "baths_3.0                                                291.714088\n",
       "baths_1.5                                                171.639154\n",
       "beds_5                                                   149.597964\n",
       "beds_3                                                    94.958348\n",
       "beds_4                                                    82.631930\n",
       "percentFreeDiscLunch                                      33.590312\n",
       "rankMovement                                               2.640386\n",
       "sqft                                                       0.315461\n",
       "value                                                      0.000936\n",
       "Median household income (in 2019 dollars), 2015-2019       0.000836\n",
       "percentofWhiteStudents                                    -8.325877\n",
       "percentofAfricanAmericanStudents                         -14.786367\n",
       "percentofHispanicStudents                                -33.406387\n",
       "percentofPacificIslanderStudents                        -534.872698\n",
       "percentofIndianStudents                                -1302.900253\n",
       "dtype: float64"
      ]
     },
     "execution_count": 573,
     "metadata": {},
     "output_type": "execute_result"
    }
   ],
   "source": [
    "#Get the linear model coefficients from the `coef_` attribute and store in `coefs`,\n",
    "#get the matching feature names from the column names of the dataframe,\n",
    "#and display the results as a pandas Series with `coefs` as the values and `features` as the index,\n",
    "#sorting the values in descending order\n",
    "coefs = lr_grid_cv.best_estimator_.named_steps.linearregression.coef_\n",
    "features = X_train.columns[selected]\n",
    "pd.Series(coefs, index=features).sort_values(ascending=False)"
   ]
  },
  {
   "cell_type": "code",
   "execution_count": null,
   "metadata": {},
   "outputs": [],
   "source": []
  },
  {
   "cell_type": "code",
   "execution_count": null,
   "metadata": {},
   "outputs": [],
   "source": []
  },
  {
   "cell_type": "code",
   "execution_count": null,
   "metadata": {},
   "outputs": [],
   "source": []
  },
  {
   "cell_type": "code",
   "execution_count": null,
   "metadata": {},
   "outputs": [],
   "source": []
  },
  {
   "cell_type": "markdown",
   "metadata": {},
   "source": [
    "## 4.10 Random Forest Model<a id='4.10_Random_Forest_Model'></a>"
   ]
  },
  {
   "cell_type": "markdown",
   "metadata": {},
   "source": [
    "First, let's try Random Forest Regressor with default hyperparameters, using the scaled data which include the 'value' feature. \n"
   ]
  },
  {
   "cell_type": "code",
   "execution_count": 574,
   "metadata": {},
   "outputs": [
    {
     "data": {
      "text/plain": [
       "RandomForestRegressor(random_state=42)"
      ]
     },
     "execution_count": 574,
     "metadata": {},
     "output_type": "execute_result"
    }
   ],
   "source": [
    "# Instantiate the model and fit it to scaled training data\n",
    "rf_default = RandomForestRegressor(random_state=42)\n",
    "rf_default.fit(X_tr_scaled, y_train)"
   ]
  },
  {
   "cell_type": "code",
   "execution_count": 575,
   "metadata": {},
   "outputs": [],
   "source": [
    "#Call `cross_validate` to estimate the pipeline's performance.\n",
    "#Pass it the random forest pipe object, `X_train` and `y_train`,\n",
    "#and get it to use 5-fold cross-validation\n",
    "rf_default_cv_results = cross_validate(rf_default, X_tr_scaled, y_train, cv=5)"
   ]
  },
  {
   "cell_type": "code",
   "execution_count": 576,
   "metadata": {},
   "outputs": [
    {
     "data": {
      "text/plain": [
       "array([0.38169794, 0.44723863, 0.57238272, 0.60059676, 0.64220459])"
      ]
     },
     "execution_count": 576,
     "metadata": {},
     "output_type": "execute_result"
    }
   ],
   "source": [
    "rf_cv_scores = rf_default_cv_results['test_score']\n",
    "rf_cv_scores"
   ]
  },
  {
   "cell_type": "code",
   "execution_count": 577,
   "metadata": {},
   "outputs": [
    {
     "data": {
      "text/plain": [
       "(0.5288241280301604, 0.09818971749809279)"
      ]
     },
     "execution_count": 577,
     "metadata": {},
     "output_type": "execute_result"
    }
   ],
   "source": [
    "np.mean(rf_cv_scores), np.std(rf_cv_scores)"
   ]
  },
  {
   "cell_type": "markdown",
   "metadata": {},
   "source": [
    "## 4.11 Hyperparameter search using RandomSearchCV<a id='4.10_Random_Forest_Model'></a>"
   ]
  },
  {
   "cell_type": "markdown",
   "metadata": {},
   "source": [
    "Let's try some hyperparameters and see if we can improve upon the default random forest regressor. "
   ]
  },
  {
   "cell_type": "code",
   "execution_count": 578,
   "metadata": {},
   "outputs": [
    {
     "data": {
      "text/plain": [
       "{'bootstrap': [True, False],\n",
       " 'n_estimators': [10, 50, 100, 500, 1000, 1200, 1500],\n",
       " 'max_depth': [10, 20, 30, 40, 50, 60, 70, 80, 90, 100],\n",
       " 'max_features': ['auto', 'sqrt'],\n",
       " 'min_samples_split': [2, 5, 10, 15, 20, 25, 30, 35, 40],\n",
       " 'min_samples_leaf': [1, 2, 5, 10, 15, 20],\n",
       " 'criterion': ['mse', 'mae']}"
      ]
     },
     "execution_count": 578,
     "metadata": {},
     "output_type": "execute_result"
    }
   ],
   "source": [
    "# Build param grid for random search\n",
    "n_est = [10, 50, 100, 500, 1000, 1200, 1500]\n",
    "max_features = ['auto', 'sqrt']\n",
    "max_depth = [10, 20, 30, 40, 50, 60, 70, 80, 90, 100]\n",
    "min_samples_split = [2, 5, 10, 15, 20, 25, 30, 35, 40]\n",
    "min_samples_leaf = [1, 2, 5, 10, 15, 20]\n",
    "\n",
    "random_grid = {\n",
    "        'bootstrap': [True, False],\n",
    "        'n_estimators': n_est,\n",
    "        'max_depth': max_depth,\n",
    "        'max_features': max_features,\n",
    "        'min_samples_split': min_samples_split,\n",
    "        'min_samples_leaf': min_samples_leaf,\n",
    "        'criterion': [\"mse\", \"mae\"]\n",
    "}\n",
    "random_grid"
   ]
  },
  {
   "cell_type": "code",
   "execution_count": 579,
   "metadata": {},
   "outputs": [],
   "source": [
    "# Call RandomizedSearchCV with RandomForestRegressor, the random_grid, and cv=5\n",
    "rf = RandomForestRegressor(random_state=42)\n",
    "rf_random_cv = RandomizedSearchCV(estimator=rf, param_distributions=random_grid, \n",
    "                                  cv=5, n_jobs=-1)"
   ]
  },
  {
   "cell_type": "code",
   "execution_count": 580,
   "metadata": {},
   "outputs": [
    {
     "data": {
      "text/plain": [
       "RandomizedSearchCV(cv=5, estimator=RandomForestRegressor(random_state=42),\n",
       "                   n_jobs=-1,\n",
       "                   param_distributions={'bootstrap': [True, False],\n",
       "                                        'criterion': ['mse', 'mae'],\n",
       "                                        'max_depth': [10, 20, 30, 40, 50, 60,\n",
       "                                                      70, 80, 90, 100],\n",
       "                                        'max_features': ['auto', 'sqrt'],\n",
       "                                        'min_samples_leaf': [1, 2, 5, 10, 15,\n",
       "                                                             20],\n",
       "                                        'min_samples_split': [2, 5, 10, 15, 20,\n",
       "                                                              25, 30, 35, 40],\n",
       "                                        'n_estimators': [10, 50, 100, 500, 1000,\n",
       "                                                         1200, 1500]})"
      ]
     },
     "execution_count": 580,
     "metadata": {},
     "output_type": "execute_result"
    }
   ],
   "source": [
    "#Now call the `RandomizedSearchCV`'s `fit()` method with `X_train` and `y_train` as arguments\n",
    "#to actually start the grid search. This may take a minute or two.\n",
    "rf_random_cv.fit(X_tr_scaled, y_train)"
   ]
  },
  {
   "cell_type": "code",
   "execution_count": 581,
   "metadata": {},
   "outputs": [
    {
     "data": {
      "text/plain": [
       "{'n_estimators': 1000,\n",
       " 'min_samples_split': 20,\n",
       " 'min_samples_leaf': 10,\n",
       " 'max_features': 'auto',\n",
       " 'max_depth': 70,\n",
       " 'criterion': 'mse',\n",
       " 'bootstrap': True}"
      ]
     },
     "execution_count": 581,
     "metadata": {},
     "output_type": "execute_result"
    }
   ],
   "source": [
    "#Print the best params (`best_params_` attribute) from the grid search\n",
    "rf_random_cv.best_params_"
   ]
  },
  {
   "cell_type": "code",
   "execution_count": 582,
   "metadata": {},
   "outputs": [
    {
     "data": {
      "text/plain": [
       "array([0.32693407, 0.55520105, 0.50907008, 0.59402934, 0.61133764])"
      ]
     },
     "execution_count": 582,
     "metadata": {},
     "output_type": "execute_result"
    }
   ],
   "source": [
    "rf_best_cv_results = cross_validate(rf_random_cv.best_estimator_, X_tr_scaled, y_train, cv=5)\n",
    "rf_best_scores = rf_best_cv_results['test_score']\n",
    "rf_best_scores"
   ]
  },
  {
   "cell_type": "code",
   "execution_count": 583,
   "metadata": {},
   "outputs": [
    {
     "data": {
      "text/plain": [
       "(0.5193144380016406, 0.10242420379106468)"
      ]
     },
     "execution_count": 583,
     "metadata": {},
     "output_type": "execute_result"
    }
   ],
   "source": [
    "np.mean(rf_best_scores), np.std(rf_best_scores)"
   ]
  },
  {
   "cell_type": "markdown",
   "metadata": {},
   "source": [
    "With the hyperparameters, we have improved upon the default Cross-Validation scores. "
   ]
  },
  {
   "cell_type": "code",
   "execution_count": 584,
   "metadata": {},
   "outputs": [
    {
     "data": {
      "text/plain": [
       "Text(0.5, 1.0, 'Best random forest regressor feature importances')"
      ]
     },
     "execution_count": 584,
     "metadata": {},
     "output_type": "execute_result"
    },
    {
     "data": {
      "image/png": "[encoded data removed]",
      "text/plain": [
       "<Figure size 720x360 with 1 Axes>"
      ]
     },
     "metadata": {
      "needs_background": "light"
     },
     "output_type": "display_data"
    }
   ],
   "source": [
    "#Code task 27#\n",
    "#Plot a barplot of the random forest's feature importances,\n",
    "#assigning the `feature_importances_` attribute of \n",
    "#`rf_random_cv.best_estimator_.named_steps.randomforestregressor` to the name `imps` to then\n",
    "#create a pandas Series object of the feature importances, with the index given by the\n",
    "#training data column names, sorting the values in descending order\n",
    "plt.subplots(figsize=(10, 5))\n",
    "imps = rf_random_cv.best_estimator_.feature_importances_\n",
    "rf_feat_imps = pd.Series(imps, index=X_tr_scaled.columns).sort_values(ascending=False)\n",
    "rf_feat_imps.plot(kind='bar')\n",
    "plt.xlabel('features')\n",
    "plt.ylabel('importance')\n",
    "plt.title('Best random forest regressor feature importances')"
   ]
  },
  {
   "cell_type": "markdown",
   "metadata": {},
   "source": [
    "## 4.12 Metrics - Comparing models<a id='4.10_Random_Forest_Model'></a>"
   ]
  },
  {
   "cell_type": "markdown",
   "metadata": {},
   "source": [
    "#### 4.12.1 Linear Regression Model Performance"
   ]
  },
  {
   "cell_type": "code",
   "execution_count": 585,
   "metadata": {},
   "outputs": [],
   "source": [
    "# 'neg_mean_absolute_error' uses the (negative of) the mean absolute error\n",
    "lr_neg_mae = cross_validate(lr_grid_cv.best_estimator_, X_train, y_train, \n",
    "                            scoring='neg_mean_absolute_error', cv=5, n_jobs=-1)"
   ]
  },
  {
   "cell_type": "code",
   "execution_count": 586,
   "metadata": {},
   "outputs": [
    {
     "data": {
      "text/plain": [
       "(114.24764749332537, 12.905779063902868)"
      ]
     },
     "execution_count": 586,
     "metadata": {},
     "output_type": "execute_result"
    }
   ],
   "source": [
    "lr_mae_mean = np.mean(-1 * lr_neg_mae['test_score'])\n",
    "lr_mae_std = np.std(-1 * lr_neg_mae['test_score'])\n",
    "lr_mae_mean, lr_mae_std"
   ]
  },
  {
   "cell_type": "code",
   "execution_count": 587,
   "metadata": {},
   "outputs": [
    {
     "data": {
      "text/plain": [
       "115.74326173788931"
      ]
     },
     "execution_count": 587,
     "metadata": {},
     "output_type": "execute_result"
    }
   ],
   "source": [
    "mean_absolute_error(y_test, lr_grid_cv.best_estimator_.predict(X_test))"
   ]
  },
  {
   "cell_type": "code",
   "execution_count": 588,
   "metadata": {},
   "outputs": [
    {
     "data": {
      "text/plain": [
       "0.11588717249523768"
      ]
     },
     "execution_count": 588,
     "metadata": {},
     "output_type": "execute_result"
    }
   ],
   "source": [
    "std_from_estimate = (mean_absolute_error(y_test, lr_grid_cv.best_estimator_.predict(X_test)) - lr_mae_mean)/lr_mae_std\n",
    "std_from_estimate"
   ]
  },
  {
   "cell_type": "markdown",
   "metadata": {},
   "source": [
    "#### 4.12.2 Random Forest Model Performance"
   ]
  },
  {
   "cell_type": "code",
   "execution_count": 589,
   "metadata": {},
   "outputs": [],
   "source": [
    "# 'neg_mean_absolute_error' uses the (negative of) the mean absolute error\n",
    "rf_neg_mae = cross_validate(rf_random_cv.best_estimator_, X_tr_scaled, y_train, \n",
    "                            scoring='neg_mean_absolute_error', cv=5, n_jobs=-1)"
   ]
  },
  {
   "cell_type": "code",
   "execution_count": 590,
   "metadata": {},
   "outputs": [
    {
     "data": {
      "text/plain": [
       "(124.83695897891009, 22.603958102418666)"
      ]
     },
     "execution_count": 590,
     "metadata": {},
     "output_type": "execute_result"
    }
   ],
   "source": [
    "rf_mae_mean = np.mean(-1 * rf_neg_mae['test_score'])\n",
    "rf_mae_std = np.std(-1 * rf_neg_mae['test_score'])\n",
    "rf_mae_mean, rf_mae_std"
   ]
  },
  {
   "cell_type": "code",
   "execution_count": 591,
   "metadata": {},
   "outputs": [
    {
     "data": {
      "text/plain": [
       "(105.05414233668395, 104.17957863373556)"
      ]
     },
     "execution_count": 591,
     "metadata": {},
     "output_type": "execute_result"
    }
   ],
   "source": [
    "mean_absolute_error(y_test, rf_random_cv.best_estimator_.predict(X_te_scaled)), mean_absolute_error(y_train, rf_random_cv.best_estimator_.predict(X_tr_scaled))"
   ]
  },
  {
   "cell_type": "code",
   "execution_count": 592,
   "metadata": {},
   "outputs": [
    {
     "data": {
      "text/plain": [
       "-0.8751925902795467"
      ]
     },
     "execution_count": 592,
     "metadata": {},
     "output_type": "execute_result"
    }
   ],
   "source": [
    "std_from_estimate = (mean_absolute_error(y_test, rf_random_cv.best_estimator_.predict(X_te_scaled)) - rf_mae_mean)/rf_mae_std\n",
    "std_from_estimate"
   ]
  },
  {
   "cell_type": "markdown",
   "metadata": {},
   "source": [
    "#### 4.12.3 Conclusion"
   ]
  },
  {
   "cell_type": "markdown",
   "metadata": {},
   "source": [
    "The random forest model has a lower cross-validation mean absolute error by about 15 dollars. Verifying performance on the test set produces performance consistent with the cross-validation results."
   ]
  },
  {
   "cell_type": "markdown",
   "metadata": {},
   "source": [
    "## 4.13 Data quantity assessment<a id='4.12_Data_quantity_assessment'></a>"
   ]
  },
  {
   "cell_type": "code",
   "execution_count": null,
   "metadata": {},
   "outputs": [],
   "source": []
  },
  {
   "cell_type": "code",
   "execution_count": 596,
   "metadata": {},
   "outputs": [
    {
     "name": "stderr",
     "output_type": "stream",
     "text": [
      "C:\\Users\\macef\\anaconda3\\lib\\site-packages\\sklearn\\feature_selection\\_univariate_selection.py:302: RuntimeWarning: invalid value encountered in true_divide\n",
      "  corr /= X_norms\n",
      "C:\\Users\\macef\\anaconda3\\lib\\site-packages\\sklearn\\feature_selection\\_univariate_selection.py:302: RuntimeWarning: invalid value encountered in true_divide\n",
      "  corr /= X_norms\n",
      "C:\\Users\\macef\\anaconda3\\lib\\site-packages\\sklearn\\feature_selection\\_univariate_selection.py:302: RuntimeWarning: invalid value encountered in true_divide\n",
      "  corr /= X_norms\n",
      "C:\\Users\\macef\\anaconda3\\lib\\site-packages\\sklearn\\feature_selection\\_univariate_selection.py:302: RuntimeWarning: invalid value encountered in true_divide\n",
      "  corr /= X_norms\n",
      "C:\\Users\\macef\\anaconda3\\lib\\site-packages\\sklearn\\feature_selection\\_univariate_selection.py:302: RuntimeWarning: invalid value encountered in true_divide\n",
      "  corr /= X_norms\n",
      "C:\\Users\\macef\\anaconda3\\lib\\site-packages\\sklearn\\feature_selection\\_univariate_selection.py:302: RuntimeWarning: invalid value encountered in true_divide\n",
      "  corr /= X_norms\n",
      "C:\\Users\\macef\\anaconda3\\lib\\site-packages\\sklearn\\feature_selection\\_univariate_selection.py:302: RuntimeWarning: invalid value encountered in true_divide\n",
      "  corr /= X_norms\n",
      "C:\\Users\\macef\\anaconda3\\lib\\site-packages\\sklearn\\feature_selection\\_univariate_selection.py:302: RuntimeWarning: invalid value encountered in true_divide\n",
      "  corr /= X_norms\n",
      "C:\\Users\\macef\\anaconda3\\lib\\site-packages\\sklearn\\feature_selection\\_univariate_selection.py:302: RuntimeWarning: invalid value encountered in true_divide\n",
      "  corr /= X_norms\n",
      "C:\\Users\\macef\\anaconda3\\lib\\site-packages\\sklearn\\feature_selection\\_univariate_selection.py:302: RuntimeWarning: invalid value encountered in true_divide\n",
      "  corr /= X_norms\n",
      "C:\\Users\\macef\\anaconda3\\lib\\site-packages\\sklearn\\feature_selection\\_univariate_selection.py:302: RuntimeWarning: invalid value encountered in true_divide\n",
      "  corr /= X_norms\n",
      "C:\\Users\\macef\\anaconda3\\lib\\site-packages\\sklearn\\feature_selection\\_univariate_selection.py:302: RuntimeWarning: invalid value encountered in true_divide\n",
      "  corr /= X_norms\n",
      "C:\\Users\\macef\\anaconda3\\lib\\site-packages\\sklearn\\feature_selection\\_univariate_selection.py:302: RuntimeWarning: invalid value encountered in true_divide\n",
      "  corr /= X_norms\n",
      "C:\\Users\\macef\\anaconda3\\lib\\site-packages\\sklearn\\feature_selection\\_univariate_selection.py:302: RuntimeWarning: invalid value encountered in true_divide\n",
      "  corr /= X_norms\n",
      "C:\\Users\\macef\\anaconda3\\lib\\site-packages\\sklearn\\feature_selection\\_univariate_selection.py:302: RuntimeWarning: invalid value encountered in true_divide\n",
      "  corr /= X_norms\n",
      "C:\\Users\\macef\\anaconda3\\lib\\site-packages\\sklearn\\feature_selection\\_univariate_selection.py:302: RuntimeWarning: invalid value encountered in true_divide\n",
      "  corr /= X_norms\n",
      "C:\\Users\\macef\\anaconda3\\lib\\site-packages\\sklearn\\feature_selection\\_univariate_selection.py:302: RuntimeWarning: invalid value encountered in true_divide\n",
      "  corr /= X_norms\n",
      "C:\\Users\\macef\\anaconda3\\lib\\site-packages\\sklearn\\feature_selection\\_univariate_selection.py:302: RuntimeWarning: invalid value encountered in true_divide\n",
      "  corr /= X_norms\n",
      "C:\\Users\\macef\\anaconda3\\lib\\site-packages\\sklearn\\feature_selection\\_univariate_selection.py:302: RuntimeWarning: invalid value encountered in true_divide\n",
      "  corr /= X_norms\n",
      "C:\\Users\\macef\\anaconda3\\lib\\site-packages\\sklearn\\feature_selection\\_univariate_selection.py:302: RuntimeWarning: invalid value encountered in true_divide\n",
      "  corr /= X_norms\n",
      "C:\\Users\\macef\\anaconda3\\lib\\site-packages\\sklearn\\feature_selection\\_univariate_selection.py:302: RuntimeWarning: invalid value encountered in true_divide\n",
      "  corr /= X_norms\n",
      "C:\\Users\\macef\\anaconda3\\lib\\site-packages\\sklearn\\feature_selection\\_univariate_selection.py:302: RuntimeWarning: invalid value encountered in true_divide\n",
      "  corr /= X_norms\n",
      "C:\\Users\\macef\\anaconda3\\lib\\site-packages\\sklearn\\feature_selection\\_univariate_selection.py:302: RuntimeWarning: invalid value encountered in true_divide\n",
      "  corr /= X_norms\n",
      "C:\\Users\\macef\\anaconda3\\lib\\site-packages\\sklearn\\feature_selection\\_univariate_selection.py:302: RuntimeWarning: invalid value encountered in true_divide\n",
      "  corr /= X_norms\n",
      "C:\\Users\\macef\\anaconda3\\lib\\site-packages\\sklearn\\feature_selection\\_univariate_selection.py:302: RuntimeWarning: invalid value encountered in true_divide\n",
      "  corr /= X_norms\n",
      "C:\\Users\\macef\\anaconda3\\lib\\site-packages\\sklearn\\feature_selection\\_univariate_selection.py:302: RuntimeWarning: invalid value encountered in true_divide\n",
      "  corr /= X_norms\n",
      "C:\\Users\\macef\\anaconda3\\lib\\site-packages\\sklearn\\feature_selection\\_univariate_selection.py:302: RuntimeWarning: invalid value encountered in true_divide\n",
      "  corr /= X_norms\n",
      "C:\\Users\\macef\\anaconda3\\lib\\site-packages\\sklearn\\feature_selection\\_univariate_selection.py:302: RuntimeWarning: invalid value encountered in true_divide\n",
      "  corr /= X_norms\n",
      "C:\\Users\\macef\\anaconda3\\lib\\site-packages\\sklearn\\feature_selection\\_univariate_selection.py:302: RuntimeWarning: invalid value encountered in true_divide\n",
      "  corr /= X_norms\n",
      "C:\\Users\\macef\\anaconda3\\lib\\site-packages\\sklearn\\feature_selection\\_univariate_selection.py:302: RuntimeWarning: invalid value encountered in true_divide\n",
      "  corr /= X_norms\n",
      "C:\\Users\\macef\\anaconda3\\lib\\site-packages\\sklearn\\feature_selection\\_univariate_selection.py:302: RuntimeWarning: invalid value encountered in true_divide\n",
      "  corr /= X_norms\n",
      "C:\\Users\\macef\\anaconda3\\lib\\site-packages\\sklearn\\feature_selection\\_univariate_selection.py:302: RuntimeWarning: invalid value encountered in true_divide\n",
      "  corr /= X_norms\n",
      "C:\\Users\\macef\\anaconda3\\lib\\site-packages\\sklearn\\feature_selection\\_univariate_selection.py:302: RuntimeWarning: invalid value encountered in true_divide\n",
      "  corr /= X_norms\n",
      "C:\\Users\\macef\\anaconda3\\lib\\site-packages\\sklearn\\feature_selection\\_univariate_selection.py:302: RuntimeWarning: invalid value encountered in true_divide\n",
      "  corr /= X_norms\n",
      "C:\\Users\\macef\\anaconda3\\lib\\site-packages\\sklearn\\feature_selection\\_univariate_selection.py:302: RuntimeWarning: invalid value encountered in true_divide\n",
      "  corr /= X_norms\n",
      "C:\\Users\\macef\\anaconda3\\lib\\site-packages\\sklearn\\feature_selection\\_univariate_selection.py:302: RuntimeWarning: invalid value encountered in true_divide\n",
      "  corr /= X_norms\n",
      "C:\\Users\\macef\\anaconda3\\lib\\site-packages\\sklearn\\feature_selection\\_univariate_selection.py:302: RuntimeWarning: invalid value encountered in true_divide\n",
      "  corr /= X_norms\n",
      "C:\\Users\\macef\\anaconda3\\lib\\site-packages\\sklearn\\feature_selection\\_univariate_selection.py:302: RuntimeWarning: invalid value encountered in true_divide\n",
      "  corr /= X_norms\n",
      "C:\\Users\\macef\\anaconda3\\lib\\site-packages\\sklearn\\feature_selection\\_univariate_selection.py:302: RuntimeWarning: invalid value encountered in true_divide\n",
      "  corr /= X_norms\n",
      "C:\\Users\\macef\\anaconda3\\lib\\site-packages\\sklearn\\feature_selection\\_univariate_selection.py:302: RuntimeWarning: invalid value encountered in true_divide\n",
      "  corr /= X_norms\n",
      "C:\\Users\\macef\\anaconda3\\lib\\site-packages\\sklearn\\feature_selection\\_univariate_selection.py:302: RuntimeWarning: invalid value encountered in true_divide\n",
      "  corr /= X_norms\n",
      "C:\\Users\\macef\\anaconda3\\lib\\site-packages\\sklearn\\feature_selection\\_univariate_selection.py:302: RuntimeWarning: invalid value encountered in true_divide\n",
      "  corr /= X_norms\n",
      "C:\\Users\\macef\\anaconda3\\lib\\site-packages\\sklearn\\feature_selection\\_univariate_selection.py:302: RuntimeWarning: invalid value encountered in true_divide\n",
      "  corr /= X_norms\n",
      "C:\\Users\\macef\\anaconda3\\lib\\site-packages\\sklearn\\feature_selection\\_univariate_selection.py:302: RuntimeWarning: invalid value encountered in true_divide\n",
      "  corr /= X_norms\n",
      "C:\\Users\\macef\\anaconda3\\lib\\site-packages\\sklearn\\feature_selection\\_univariate_selection.py:302: RuntimeWarning: invalid value encountered in true_divide\n",
      "  corr /= X_norms\n",
      "C:\\Users\\macef\\anaconda3\\lib\\site-packages\\sklearn\\feature_selection\\_univariate_selection.py:302: RuntimeWarning: invalid value encountered in true_divide\n",
      "  corr /= X_norms\n",
      "C:\\Users\\macef\\anaconda3\\lib\\site-packages\\sklearn\\feature_selection\\_univariate_selection.py:302: RuntimeWarning: invalid value encountered in true_divide\n",
      "  corr /= X_norms\n",
      "C:\\Users\\macef\\anaconda3\\lib\\site-packages\\sklearn\\feature_selection\\_univariate_selection.py:302: RuntimeWarning: invalid value encountered in true_divide\n",
      "  corr /= X_norms\n",
      "C:\\Users\\macef\\anaconda3\\lib\\site-packages\\sklearn\\feature_selection\\_univariate_selection.py:302: RuntimeWarning: invalid value encountered in true_divide\n",
      "  corr /= X_norms\n"
     ]
    }
   ],
   "source": [
    "fractions = [.2, .25, .3, .35, .4, .45, .5, .6, .75, .8, 1.0]\n",
    "train_size, train_scores, test_scores = learning_curve(pipe, X_tr_scaled, y_train, train_sizes=fractions)\n",
    "train_scores_mean = np.mean(train_scores, axis=1)\n",
    "train_scores_std = np.std(train_scores, axis=1)\n",
    "test_scores_mean = np.mean(test_scores, axis=1)\n",
    "test_scores_std = np.std(test_scores, axis=1)"
   ]
  },
  {
   "cell_type": "code",
   "execution_count": 597,
   "metadata": {},
   "outputs": [
    {
     "data": {
      "image/png": "[encoded data removed]",
      "text/plain": [
       "<Figure size 720x360 with 1 Axes>"
      ]
     },
     "metadata": {
      "needs_background": "light"
     },
     "output_type": "display_data"
    }
   ],
   "source": [
    "plt.subplots(figsize=(10, 5))\n",
    "plt.errorbar(train_size, test_scores_mean, yerr=test_scores_std)\n",
    "plt.xlabel('Training set size')\n",
    "plt.ylabel('CV scores')\n",
    "plt.title('Cross-validation score as training set size increases');"
   ]
  },
  {
   "cell_type": "markdown",
   "metadata": {},
   "source": [
    "Finally, do we need to acquire more data? Would more data be useful? Gathering more data using the methods we have at our disposal takes time. Assess this trade off by seeing how performance varies with differing data set sizes. The `learning_curve` function does this conveniently."
   ]
  },
  {
   "cell_type": "markdown",
   "metadata": {},
   "source": [
    "We have plenty of data according to this chart. "
   ]
  },
  {
   "cell_type": "markdown",
   "metadata": {},
   "source": [
    "## 4.14 Save best model object from pipeline<a id='4.13_Save_best_model_object_from_pipeline'></a>"
   ]
  },
  {
   "cell_type": "code",
   "execution_count": 599,
   "metadata": {},
   "outputs": [],
   "source": [
    "#Assign the pandas version number (`pd.__version__`) to the `pandas_version` attribute,\n",
    "#the numpy version (`np.__version__`) to the `numpy_version` attribute,\n",
    "#the sklearn version (`sklearn_version`) to the `sklearn_version` attribute,\n",
    "#and the current datetime (`datetime.datetime.now()`) to the `build_datetime` attribute\n",
    "#Let's call this model version '1.0'\n",
    "best_model = rf_random_cv.best_estimator_\n",
    "best_model.version = 1.0\n",
    "best_model.pandas_version = pd.__version__\n",
    "best_model.numpy_version = np.__version__\n",
    "best_model.sklearn_version = sklearn_version\n",
    "best_model.X_columns = [col for col in X_train.columns]\n",
    "best_model.build_datetime = datetime.datetime.now()"
   ]
  },
  {
   "cell_type": "code",
   "execution_count": 600,
   "metadata": {},
   "outputs": [
    {
     "name": "stdout",
     "output_type": "stream",
     "text": [
      "Writing file.  \"../models\\market_rent_model.pkl\"\n"
     ]
    }
   ],
   "source": [
    "# save the model\n",
    "\n",
    "modelpath = '../models'\n",
    "save_file(best_model, 'market_rent_model.pkl', modelpath)"
   ]
  },
  {
   "cell_type": "code",
   "execution_count": null,
   "metadata": {},
   "outputs": [],
   "source": []
  },
  {
   "cell_type": "code",
   "execution_count": null,
   "metadata": {},
   "outputs": [],
   "source": []
  }
 ],
 "metadata": {
  "kernelspec": {
   "display_name": "Python 3",
   "language": "python",
   "name": "python3"
  },
  "language_info": {
   "codemirror_mode": {
    "name": "ipython",
    "version": 3
   },
   "file_extension": ".py",
   "mimetype": "text/x-python",
   "name": "python",
   "nbconvert_exporter": "python",
   "pygments_lexer": "ipython3",
   "version": "3.8.10"
  },
  "toc": {
   "base_numbering": 1,
   "nav_menu": {},
   "number_sections": true,
   "sideBar": true,
   "skip_h1_title": false,
   "title_cell": "Table of Contents",
   "title_sidebar": "Contents",
   "toc_cell": false,
   "toc_position": {},
   "toc_section_display": true,
   "toc_window_display": true
  },
  "varInspector": {
   "cols": {
    "lenName": 16,
    "lenType": 16,
    "lenVar": 40
   },
   "kernels_config": {
    "python": {
     "delete_cmd_postfix": "",
     "delete_cmd_prefix": "del ",
     "library": "var_list.py",
     "varRefreshCmd": "print(var_dic_list())"
    },
    "r": {
     "delete_cmd_postfix": ") ",
     "delete_cmd_prefix": "rm(",
     "library": "var_list.r",
     "varRefreshCmd": "cat(var_dic_list()) "
    }
   },
   "types_to_exclude": [
    "module",
    "function",
    "builtin_function_or_method",
    "instance",
    "_Feature"
   ],
   "window_display": false
  }
 },
 "nbformat": 4,
 "nbformat_minor": 4
}
