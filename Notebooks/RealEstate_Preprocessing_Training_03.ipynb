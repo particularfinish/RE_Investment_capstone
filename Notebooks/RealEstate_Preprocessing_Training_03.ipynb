{
 "cells": [
  {
   "cell_type": "markdown",
   "metadata": {},
   "source": [
    "# 3 Pre-Processing Data and Training<a id='4_Pre-Processing_and_Training_Data'></a>"
   ]
  },
  {
   "cell_type": "markdown",
   "metadata": {},
   "source": [
    "## 3.1 Introduction<a id='4.2_Introduction'></a>"
   ]
  },
  {
   "cell_type": "markdown",
   "metadata": {},
   "source": [
    "In preceding notebooks, we performed preliminary assessments of data quality and refined the question to be answered. We determined that predicting market rent is the primary aim. That market rent can be applied to a Return-on-Investment calculation for each house for sale, determining whether or not that house would make a good investment on some ROI threshold. \n",
    "\n",
    "Before we can develop a predictive model, we need to encode categoricals, scale, and reduce dimensionality."
   ]
  },
  {
   "cell_type": "markdown",
   "metadata": {},
   "source": [
    "## 3.2 Imports<a id='4.3_Imports'></a>"
   ]
  },
  {
   "cell_type": "code",
   "execution_count": 132,
   "metadata": {},
   "outputs": [],
   "source": [
    "import pandas as pd\n",
    "import numpy as np\n",
    "import os\n",
    "import pickle\n",
    "import matplotlib.pyplot as plt\n",
    "import seaborn as sns\n",
    "from sklearn import __version__ as sklearn_version\n",
    "from sklearn.decomposition import PCA\n",
    "from sklearn.preprocessing import scale\n",
    "from sklearn.model_selection import train_test_split, cross_validate, GridSearchCV, learning_curve, RandomizedSearchCV\n",
    "from sklearn.preprocessing import StandardScaler, MinMaxScaler\n",
    "from sklearn.preprocessing import PolynomialFeatures\n",
    "from sklearn.dummy import DummyRegressor\n",
    "from sklearn.linear_model import LinearRegression\n",
    "from sklearn.ensemble import RandomForestRegressor\n",
    "from sklearn.pipeline import Pipeline\n",
    "from sklearn.metrics import r2_score, mean_squared_error, mean_absolute_error\n",
    "from sklearn.pipeline import make_pipeline\n",
    "from sklearn.impute import SimpleImputer\n",
    "from sklearn.feature_selection import SelectKBest, f_regression\n",
    "from sklearn.compose import ColumnTransformer\n",
    "from sklearn import tree, metrics\n",
    "from sklearn.utils import check_array\n",
    "from io import StringIO\n",
    "from IPython.display import Image\n",
    "import pydotplus\n",
    "import datetime\n",
    "import math\n",
    "from numpy import arange\n",
    "from yellowbrick.regressor import ResidualsPlot\n",
    "\n",
    "from library.sb_utils import save_file"
   ]
  },
  {
   "cell_type": "markdown",
   "metadata": {},
   "source": [
    "## 3.3 Load Data<a id='4.4_Load_Data'></a>"
   ]
  },
  {
   "cell_type": "code",
   "execution_count": 133,
   "metadata": {
    "scrolled": true
   },
   "outputs": [
    {
     "data": {
      "text/html": [
       "<div>\n",
       "<style scoped>\n",
       "    .dataframe tbody tr th:only-of-type {\n",
       "        vertical-align: middle;\n",
       "    }\n",
       "\n",
       "    .dataframe tbody tr th {\n",
       "        vertical-align: top;\n",
       "    }\n",
       "\n",
       "    .dataframe thead th {\n",
       "        text-align: right;\n",
       "    }\n",
       "</style>\n",
       "<table border=\"1\" class=\"dataframe\">\n",
       "  <thead>\n",
       "    <tr style=\"text-align: right;\">\n",
       "      <th></th>\n",
       "      <th>0</th>\n",
       "      <th>1</th>\n",
       "      <th>2</th>\n",
       "      <th>3</th>\n",
       "      <th>4</th>\n",
       "    </tr>\n",
       "  </thead>\n",
       "  <tbody>\n",
       "    <tr>\n",
       "      <th>property_code</th>\n",
       "      <td>10000470</td>\n",
       "      <td>10000616</td>\n",
       "      <td>10000695</td>\n",
       "      <td>10000753</td>\n",
       "      <td>10000801</td>\n",
       "    </tr>\n",
       "    <tr>\n",
       "      <th>address_1</th>\n",
       "      <td>10265 Quail St</td>\n",
       "      <td>10433 Holland Pl</td>\n",
       "      <td>10545 Hoyt St</td>\n",
       "      <td>10627 Kittredge St</td>\n",
       "      <td>10705 Clermont St</td>\n",
       "    </tr>\n",
       "    <tr>\n",
       "      <th>city</th>\n",
       "      <td>Westminster</td>\n",
       "      <td>Westminster</td>\n",
       "      <td>Westminster</td>\n",
       "      <td>Commerce City</td>\n",
       "      <td>Thornton</td>\n",
       "    </tr>\n",
       "    <tr>\n",
       "      <th>state</th>\n",
       "      <td>CO</td>\n",
       "      <td>CO</td>\n",
       "      <td>CO</td>\n",
       "      <td>CO</td>\n",
       "      <td>CO</td>\n",
       "    </tr>\n",
       "    <tr>\n",
       "      <th>zipcode</th>\n",
       "      <td>80021</td>\n",
       "      <td>80021</td>\n",
       "      <td>80021</td>\n",
       "      <td>80022</td>\n",
       "      <td>80233</td>\n",
       "    </tr>\n",
       "    <tr>\n",
       "      <th>beds</th>\n",
       "      <td>3</td>\n",
       "      <td>3</td>\n",
       "      <td>3</td>\n",
       "      <td>3</td>\n",
       "      <td>3</td>\n",
       "    </tr>\n",
       "    <tr>\n",
       "      <th>baths</th>\n",
       "      <td>2.0</td>\n",
       "      <td>1.5</td>\n",
       "      <td>2.0</td>\n",
       "      <td>2.5</td>\n",
       "      <td>2.0</td>\n",
       "    </tr>\n",
       "    <tr>\n",
       "      <th>sqft</th>\n",
       "      <td>1437</td>\n",
       "      <td>1144</td>\n",
       "      <td>1296</td>\n",
       "      <td>1993</td>\n",
       "      <td>1544</td>\n",
       "    </tr>\n",
       "    <tr>\n",
       "      <th>market_rent</th>\n",
       "      <td>2582.0</td>\n",
       "      <td>2199.0</td>\n",
       "      <td>2351.0</td>\n",
       "      <td>2939.0</td>\n",
       "      <td>2529.0</td>\n",
       "    </tr>\n",
       "    <tr>\n",
       "      <th>lat</th>\n",
       "      <td>39.8823</td>\n",
       "      <td>39.8825</td>\n",
       "      <td>39.8882</td>\n",
       "      <td>39.88982</td>\n",
       "      <td>39.89058</td>\n",
       "    </tr>\n",
       "    <tr>\n",
       "      <th>lng</th>\n",
       "      <td>-105.1249</td>\n",
       "      <td>-105.10441</td>\n",
       "      <td>-105.10326</td>\n",
       "      <td>-104.80151</td>\n",
       "      <td>-104.93351</td>\n",
       "    </tr>\n",
       "    <tr>\n",
       "      <th>districtMatch</th>\n",
       "      <td>Jefferson County R-1 School District</td>\n",
       "      <td>Jefferson County R-1 School District</td>\n",
       "      <td>Jefferson County R-1 School District</td>\n",
       "      <td>Brighton 27J School District</td>\n",
       "      <td>Adams 12 Five Star Schools</td>\n",
       "    </tr>\n",
       "    <tr>\n",
       "      <th>estimatedPrice</th>\n",
       "      <td>481565.0</td>\n",
       "      <td>452333.33</td>\n",
       "      <td>490234.95</td>\n",
       "      <td>503300.0</td>\n",
       "      <td>418283.33</td>\n",
       "    </tr>\n",
       "    <tr>\n",
       "      <th>percentFreeDiscLunch</th>\n",
       "      <td>37.16</td>\n",
       "      <td>37.16</td>\n",
       "      <td>37.16</td>\n",
       "      <td>44.03</td>\n",
       "      <td>47.39</td>\n",
       "    </tr>\n",
       "    <tr>\n",
       "      <th>percentofAfricanAmericanStudents</th>\n",
       "      <td>1.45</td>\n",
       "      <td>1.45</td>\n",
       "      <td>1.45</td>\n",
       "      <td>2.2</td>\n",
       "      <td>1.91</td>\n",
       "    </tr>\n",
       "    <tr>\n",
       "      <th>percentofAsianStudents</th>\n",
       "      <td>2.89</td>\n",
       "      <td>2.89</td>\n",
       "      <td>2.89</td>\n",
       "      <td>2.92</td>\n",
       "      <td>4.73</td>\n",
       "    </tr>\n",
       "    <tr>\n",
       "      <th>percentofHispanicStudents</th>\n",
       "      <td>26.14</td>\n",
       "      <td>26.14</td>\n",
       "      <td>26.14</td>\n",
       "      <td>53.74</td>\n",
       "      <td>47.0</td>\n",
       "    </tr>\n",
       "    <tr>\n",
       "      <th>percentofIndianStudents</th>\n",
       "      <td>0.62</td>\n",
       "      <td>0.62</td>\n",
       "      <td>0.62</td>\n",
       "      <td>0.31</td>\n",
       "      <td>0.55</td>\n",
       "    </tr>\n",
       "    <tr>\n",
       "      <th>percentofPacificIslanderStudents</th>\n",
       "      <td>0.14</td>\n",
       "      <td>0.14</td>\n",
       "      <td>0.14</td>\n",
       "      <td>0.17</td>\n",
       "      <td>0.14</td>\n",
       "    </tr>\n",
       "    <tr>\n",
       "      <th>percentofTwoOrMoreRaceStudents</th>\n",
       "      <td>4.07</td>\n",
       "      <td>4.07</td>\n",
       "      <td>4.07</td>\n",
       "      <td>3.0</td>\n",
       "      <td>3.32</td>\n",
       "    </tr>\n",
       "    <tr>\n",
       "      <th>percentofWhiteStudents</th>\n",
       "      <td>64.7</td>\n",
       "      <td>64.7</td>\n",
       "      <td>64.7</td>\n",
       "      <td>37.65</td>\n",
       "      <td>42.36</td>\n",
       "    </tr>\n",
       "    <tr>\n",
       "      <th>rankMovement</th>\n",
       "      <td>-23.29</td>\n",
       "      <td>-23.29</td>\n",
       "      <td>-23.29</td>\n",
       "      <td>-48.06</td>\n",
       "      <td>-23.4</td>\n",
       "    </tr>\n",
       "  </tbody>\n",
       "</table>\n",
       "</div>"
      ],
      "text/plain": [
       "                                                                     0  \\\n",
       "property_code                                                 10000470   \n",
       "address_1                                               10265 Quail St   \n",
       "city                                                       Westminster   \n",
       "state                                                               CO   \n",
       "zipcode                                                          80021   \n",
       "beds                                                                 3   \n",
       "baths                                                              2.0   \n",
       "sqft                                                              1437   \n",
       "market_rent                                                     2582.0   \n",
       "lat                                                            39.8823   \n",
       "lng                                                          -105.1249   \n",
       "districtMatch                     Jefferson County R-1 School District   \n",
       "estimatedPrice                                                481565.0   \n",
       "percentFreeDiscLunch                                             37.16   \n",
       "percentofAfricanAmericanStudents                                  1.45   \n",
       "percentofAsianStudents                                            2.89   \n",
       "percentofHispanicStudents                                        26.14   \n",
       "percentofIndianStudents                                           0.62   \n",
       "percentofPacificIslanderStudents                                  0.14   \n",
       "percentofTwoOrMoreRaceStudents                                    4.07   \n",
       "percentofWhiteStudents                                            64.7   \n",
       "rankMovement                                                    -23.29   \n",
       "\n",
       "                                                                     1  \\\n",
       "property_code                                                 10000616   \n",
       "address_1                                             10433 Holland Pl   \n",
       "city                                                       Westminster   \n",
       "state                                                               CO   \n",
       "zipcode                                                          80021   \n",
       "beds                                                                 3   \n",
       "baths                                                              1.5   \n",
       "sqft                                                              1144   \n",
       "market_rent                                                     2199.0   \n",
       "lat                                                            39.8825   \n",
       "lng                                                         -105.10441   \n",
       "districtMatch                     Jefferson County R-1 School District   \n",
       "estimatedPrice                                               452333.33   \n",
       "percentFreeDiscLunch                                             37.16   \n",
       "percentofAfricanAmericanStudents                                  1.45   \n",
       "percentofAsianStudents                                            2.89   \n",
       "percentofHispanicStudents                                        26.14   \n",
       "percentofIndianStudents                                           0.62   \n",
       "percentofPacificIslanderStudents                                  0.14   \n",
       "percentofTwoOrMoreRaceStudents                                    4.07   \n",
       "percentofWhiteStudents                                            64.7   \n",
       "rankMovement                                                    -23.29   \n",
       "\n",
       "                                                                     2  \\\n",
       "property_code                                                 10000695   \n",
       "address_1                                                10545 Hoyt St   \n",
       "city                                                       Westminster   \n",
       "state                                                               CO   \n",
       "zipcode                                                          80021   \n",
       "beds                                                                 3   \n",
       "baths                                                              2.0   \n",
       "sqft                                                              1296   \n",
       "market_rent                                                     2351.0   \n",
       "lat                                                            39.8882   \n",
       "lng                                                         -105.10326   \n",
       "districtMatch                     Jefferson County R-1 School District   \n",
       "estimatedPrice                                               490234.95   \n",
       "percentFreeDiscLunch                                             37.16   \n",
       "percentofAfricanAmericanStudents                                  1.45   \n",
       "percentofAsianStudents                                            2.89   \n",
       "percentofHispanicStudents                                        26.14   \n",
       "percentofIndianStudents                                           0.62   \n",
       "percentofPacificIslanderStudents                                  0.14   \n",
       "percentofTwoOrMoreRaceStudents                                    4.07   \n",
       "percentofWhiteStudents                                            64.7   \n",
       "rankMovement                                                    -23.29   \n",
       "\n",
       "                                                             3  \\\n",
       "property_code                                         10000753   \n",
       "address_1                                   10627 Kittredge St   \n",
       "city                                             Commerce City   \n",
       "state                                                       CO   \n",
       "zipcode                                                  80022   \n",
       "beds                                                         3   \n",
       "baths                                                      2.5   \n",
       "sqft                                                      1993   \n",
       "market_rent                                             2939.0   \n",
       "lat                                                   39.88982   \n",
       "lng                                                 -104.80151   \n",
       "districtMatch                     Brighton 27J School District   \n",
       "estimatedPrice                                        503300.0   \n",
       "percentFreeDiscLunch                                     44.03   \n",
       "percentofAfricanAmericanStudents                           2.2   \n",
       "percentofAsianStudents                                    2.92   \n",
       "percentofHispanicStudents                                53.74   \n",
       "percentofIndianStudents                                   0.31   \n",
       "percentofPacificIslanderStudents                          0.17   \n",
       "percentofTwoOrMoreRaceStudents                             3.0   \n",
       "percentofWhiteStudents                                   37.65   \n",
       "rankMovement                                            -48.06   \n",
       "\n",
       "                                                           4  \n",
       "property_code                                       10000801  \n",
       "address_1                                  10705 Clermont St  \n",
       "city                                                Thornton  \n",
       "state                                                     CO  \n",
       "zipcode                                                80233  \n",
       "beds                                                       3  \n",
       "baths                                                    2.0  \n",
       "sqft                                                    1544  \n",
       "market_rent                                           2529.0  \n",
       "lat                                                 39.89058  \n",
       "lng                                               -104.93351  \n",
       "districtMatch                     Adams 12 Five Star Schools  \n",
       "estimatedPrice                                     418283.33  \n",
       "percentFreeDiscLunch                                   47.39  \n",
       "percentofAfricanAmericanStudents                        1.91  \n",
       "percentofAsianStudents                                  4.73  \n",
       "percentofHispanicStudents                               47.0  \n",
       "percentofIndianStudents                                 0.55  \n",
       "percentofPacificIslanderStudents                        0.14  \n",
       "percentofTwoOrMoreRaceStudents                          3.32  \n",
       "percentofWhiteStudents                                 42.36  \n",
       "rankMovement                                           -23.4  "
      ]
     },
     "execution_count": 133,
     "metadata": {},
     "output_type": "execute_result"
    }
   ],
   "source": [
    "corporate_data = pd.read_csv('../data/corporate_properties_values_Demo.csv')\n",
    "corporate_data.head().T"
   ]
  },
  {
   "cell_type": "code",
   "execution_count": 134,
   "metadata": {},
   "outputs": [
    {
     "data": {
      "text/plain": [
       "(259, 22)"
      ]
     },
     "execution_count": 134,
     "metadata": {},
     "output_type": "execute_result"
    }
   ],
   "source": [
    "corporate_data.shape"
   ]
  },
  {
   "cell_type": "code",
   "execution_count": 135,
   "metadata": {},
   "outputs": [
    {
     "data": {
      "text/html": [
       "<div>\n",
       "<style scoped>\n",
       "    .dataframe tbody tr th:only-of-type {\n",
       "        vertical-align: middle;\n",
       "    }\n",
       "\n",
       "    .dataframe tbody tr th {\n",
       "        vertical-align: top;\n",
       "    }\n",
       "\n",
       "    .dataframe thead th {\n",
       "        text-align: right;\n",
       "    }\n",
       "</style>\n",
       "<table border=\"1\" class=\"dataframe\">\n",
       "  <thead>\n",
       "    <tr style=\"text-align: right;\">\n",
       "      <th></th>\n",
       "      <th>0</th>\n",
       "      <th>1</th>\n",
       "      <th>2</th>\n",
       "      <th>3</th>\n",
       "      <th>4</th>\n",
       "    </tr>\n",
       "  </thead>\n",
       "  <tbody>\n",
       "    <tr>\n",
       "      <th>address</th>\n",
       "      <td>19632 W 59th Avenue</td>\n",
       "      <td>2655 Locust Street</td>\n",
       "      <td>3453 Wabash Street</td>\n",
       "      <td>1550 E Dartmouth Avenue</td>\n",
       "      <td>1270 Pontiac Street</td>\n",
       "    </tr>\n",
       "    <tr>\n",
       "      <th>city</th>\n",
       "      <td>Golden</td>\n",
       "      <td>Denver</td>\n",
       "      <td>Denver</td>\n",
       "      <td>Englewood</td>\n",
       "      <td>Denver</td>\n",
       "    </tr>\n",
       "    <tr>\n",
       "      <th>zip</th>\n",
       "      <td>80403</td>\n",
       "      <td>80207</td>\n",
       "      <td>80238</td>\n",
       "      <td>80113</td>\n",
       "      <td>80220</td>\n",
       "    </tr>\n",
       "    <tr>\n",
       "      <th>beds</th>\n",
       "      <td>4.0</td>\n",
       "      <td>5.0</td>\n",
       "      <td>3.0</td>\n",
       "      <td>5.0</td>\n",
       "      <td>4.0</td>\n",
       "    </tr>\n",
       "    <tr>\n",
       "      <th>baths</th>\n",
       "      <td>3.0</td>\n",
       "      <td>3.0</td>\n",
       "      <td>4.0</td>\n",
       "      <td>2.0</td>\n",
       "      <td>2.0</td>\n",
       "    </tr>\n",
       "    <tr>\n",
       "      <th>sqft</th>\n",
       "      <td>2216</td>\n",
       "      <td>2915</td>\n",
       "      <td>2134</td>\n",
       "      <td>2727</td>\n",
       "      <td>1835</td>\n",
       "    </tr>\n",
       "    <tr>\n",
       "      <th>listPrice</th>\n",
       "      <td>750000</td>\n",
       "      <td>750000</td>\n",
       "      <td>750000</td>\n",
       "      <td>750000</td>\n",
       "      <td>750000</td>\n",
       "    </tr>\n",
       "    <tr>\n",
       "      <th>taxes</th>\n",
       "      <td>6807</td>\n",
       "      <td>2846</td>\n",
       "      <td>4916</td>\n",
       "      <td>2755</td>\n",
       "      <td>2937</td>\n",
       "    </tr>\n",
       "    <tr>\n",
       "      <th>lat</th>\n",
       "      <td>39.804067</td>\n",
       "      <td>39.755696</td>\n",
       "      <td>39.764499</td>\n",
       "      <td>39.660276</td>\n",
       "      <td>39.736881</td>\n",
       "    </tr>\n",
       "    <tr>\n",
       "      <th>lng</th>\n",
       "      <td>-105.222061</td>\n",
       "      <td>-104.914396</td>\n",
       "      <td>-104.889523</td>\n",
       "      <td>-104.969208</td>\n",
       "      <td>-104.905484</td>\n",
       "    </tr>\n",
       "    <tr>\n",
       "      <th>monthly_hoa</th>\n",
       "      <td>40.0</td>\n",
       "      <td>0.0</td>\n",
       "      <td>43.0</td>\n",
       "      <td>0.0</td>\n",
       "      <td>0.0</td>\n",
       "    </tr>\n",
       "    <tr>\n",
       "      <th>districtMatch</th>\n",
       "      <td>Jefferson County R-1 School District</td>\n",
       "      <td>Denver County 1 School District</td>\n",
       "      <td>Denver County 1 School District</td>\n",
       "      <td>Englewood 1 School District</td>\n",
       "      <td>Denver County 1 School District</td>\n",
       "    </tr>\n",
       "    <tr>\n",
       "      <th>percentFreeDiscLunch</th>\n",
       "      <td>37.16</td>\n",
       "      <td>65.04</td>\n",
       "      <td>65.04</td>\n",
       "      <td>61.99</td>\n",
       "      <td>65.04</td>\n",
       "    </tr>\n",
       "    <tr>\n",
       "      <th>percentofAfricanAmericanStudents</th>\n",
       "      <td>1.45</td>\n",
       "      <td>12.19</td>\n",
       "      <td>12.19</td>\n",
       "      <td>2.94</td>\n",
       "      <td>12.19</td>\n",
       "    </tr>\n",
       "    <tr>\n",
       "      <th>percentofAsianStudents</th>\n",
       "      <td>2.89</td>\n",
       "      <td>2.77</td>\n",
       "      <td>2.77</td>\n",
       "      <td>1.12</td>\n",
       "      <td>2.77</td>\n",
       "    </tr>\n",
       "    <tr>\n",
       "      <th>percentofHispanicStudents</th>\n",
       "      <td>26.14</td>\n",
       "      <td>53.59</td>\n",
       "      <td>53.59</td>\n",
       "      <td>40.56</td>\n",
       "      <td>53.59</td>\n",
       "    </tr>\n",
       "    <tr>\n",
       "      <th>percentofIndianStudents</th>\n",
       "      <td>0.62</td>\n",
       "      <td>0.71</td>\n",
       "      <td>0.71</td>\n",
       "      <td>0.27</td>\n",
       "      <td>0.71</td>\n",
       "    </tr>\n",
       "    <tr>\n",
       "      <th>percentofPacificIslanderStudents</th>\n",
       "      <td>0.14</td>\n",
       "      <td>0.4</td>\n",
       "      <td>0.4</td>\n",
       "      <td>0.41</td>\n",
       "      <td>0.4</td>\n",
       "    </tr>\n",
       "    <tr>\n",
       "      <th>percentofTwoOrMoreRaceStudents</th>\n",
       "      <td>4.07</td>\n",
       "      <td>3.71</td>\n",
       "      <td>3.71</td>\n",
       "      <td>5.03</td>\n",
       "      <td>3.71</td>\n",
       "    </tr>\n",
       "    <tr>\n",
       "      <th>percentofWhiteStudents</th>\n",
       "      <td>64.7</td>\n",
       "      <td>26.62</td>\n",
       "      <td>26.62</td>\n",
       "      <td>49.69</td>\n",
       "      <td>26.62</td>\n",
       "    </tr>\n",
       "    <tr>\n",
       "      <th>rankMovement</th>\n",
       "      <td>-23.29</td>\n",
       "      <td>-34.32</td>\n",
       "      <td>-34.32</td>\n",
       "      <td>-26.38</td>\n",
       "      <td>-34.32</td>\n",
       "    </tr>\n",
       "  </tbody>\n",
       "</table>\n",
       "</div>"
      ],
      "text/plain": [
       "                                                                     0  \\\n",
       "address                                            19632 W 59th Avenue   \n",
       "city                                                            Golden   \n",
       "zip                                                              80403   \n",
       "beds                                                               4.0   \n",
       "baths                                                              3.0   \n",
       "sqft                                                              2216   \n",
       "listPrice                                                       750000   \n",
       "taxes                                                             6807   \n",
       "lat                                                          39.804067   \n",
       "lng                                                        -105.222061   \n",
       "monthly_hoa                                                       40.0   \n",
       "districtMatch                     Jefferson County R-1 School District   \n",
       "percentFreeDiscLunch                                             37.16   \n",
       "percentofAfricanAmericanStudents                                  1.45   \n",
       "percentofAsianStudents                                            2.89   \n",
       "percentofHispanicStudents                                        26.14   \n",
       "percentofIndianStudents                                           0.62   \n",
       "percentofPacificIslanderStudents                                  0.14   \n",
       "percentofTwoOrMoreRaceStudents                                    4.07   \n",
       "percentofWhiteStudents                                            64.7   \n",
       "rankMovement                                                    -23.29   \n",
       "\n",
       "                                                                1  \\\n",
       "address                                        2655 Locust Street   \n",
       "city                                                       Denver   \n",
       "zip                                                         80207   \n",
       "beds                                                          5.0   \n",
       "baths                                                         3.0   \n",
       "sqft                                                         2915   \n",
       "listPrice                                                  750000   \n",
       "taxes                                                        2846   \n",
       "lat                                                     39.755696   \n",
       "lng                                                   -104.914396   \n",
       "monthly_hoa                                                   0.0   \n",
       "districtMatch                     Denver County 1 School District   \n",
       "percentFreeDiscLunch                                        65.04   \n",
       "percentofAfricanAmericanStudents                            12.19   \n",
       "percentofAsianStudents                                       2.77   \n",
       "percentofHispanicStudents                                   53.59   \n",
       "percentofIndianStudents                                      0.71   \n",
       "percentofPacificIslanderStudents                              0.4   \n",
       "percentofTwoOrMoreRaceStudents                               3.71   \n",
       "percentofWhiteStudents                                      26.62   \n",
       "rankMovement                                               -34.32   \n",
       "\n",
       "                                                                2  \\\n",
       "address                                        3453 Wabash Street   \n",
       "city                                                       Denver   \n",
       "zip                                                         80238   \n",
       "beds                                                          3.0   \n",
       "baths                                                         4.0   \n",
       "sqft                                                         2134   \n",
       "listPrice                                                  750000   \n",
       "taxes                                                        4916   \n",
       "lat                                                     39.764499   \n",
       "lng                                                   -104.889523   \n",
       "monthly_hoa                                                  43.0   \n",
       "districtMatch                     Denver County 1 School District   \n",
       "percentFreeDiscLunch                                        65.04   \n",
       "percentofAfricanAmericanStudents                            12.19   \n",
       "percentofAsianStudents                                       2.77   \n",
       "percentofHispanicStudents                                   53.59   \n",
       "percentofIndianStudents                                      0.71   \n",
       "percentofPacificIslanderStudents                              0.4   \n",
       "percentofTwoOrMoreRaceStudents                               3.71   \n",
       "percentofWhiteStudents                                      26.62   \n",
       "rankMovement                                               -34.32   \n",
       "\n",
       "                                                            3  \\\n",
       "address                               1550 E Dartmouth Avenue   \n",
       "city                                                Englewood   \n",
       "zip                                                     80113   \n",
       "beds                                                      5.0   \n",
       "baths                                                     2.0   \n",
       "sqft                                                     2727   \n",
       "listPrice                                              750000   \n",
       "taxes                                                    2755   \n",
       "lat                                                 39.660276   \n",
       "lng                                               -104.969208   \n",
       "monthly_hoa                                               0.0   \n",
       "districtMatch                     Englewood 1 School District   \n",
       "percentFreeDiscLunch                                    61.99   \n",
       "percentofAfricanAmericanStudents                         2.94   \n",
       "percentofAsianStudents                                   1.12   \n",
       "percentofHispanicStudents                               40.56   \n",
       "percentofIndianStudents                                  0.27   \n",
       "percentofPacificIslanderStudents                         0.41   \n",
       "percentofTwoOrMoreRaceStudents                           5.03   \n",
       "percentofWhiteStudents                                  49.69   \n",
       "rankMovement                                           -26.38   \n",
       "\n",
       "                                                                4  \n",
       "address                                       1270 Pontiac Street  \n",
       "city                                                       Denver  \n",
       "zip                                                         80220  \n",
       "beds                                                          4.0  \n",
       "baths                                                         2.0  \n",
       "sqft                                                         1835  \n",
       "listPrice                                                  750000  \n",
       "taxes                                                        2937  \n",
       "lat                                                     39.736881  \n",
       "lng                                                   -104.905484  \n",
       "monthly_hoa                                                   0.0  \n",
       "districtMatch                     Denver County 1 School District  \n",
       "percentFreeDiscLunch                                        65.04  \n",
       "percentofAfricanAmericanStudents                            12.19  \n",
       "percentofAsianStudents                                       2.77  \n",
       "percentofHispanicStudents                                   53.59  \n",
       "percentofIndianStudents                                      0.71  \n",
       "percentofPacificIslanderStudents                              0.4  \n",
       "percentofTwoOrMoreRaceStudents                               3.71  \n",
       "percentofWhiteStudents                                      26.62  \n",
       "rankMovement                                               -34.32  "
      ]
     },
     "execution_count": 135,
     "metadata": {},
     "output_type": "execute_result"
    }
   ],
   "source": [
    "sale_data = pd.read_csv('../data/for_sale_Demo.csv')\n",
    "sale_data.head().T"
   ]
  },
  {
   "cell_type": "markdown",
   "metadata": {},
   "source": [
    "## 3.4 Manipulate Categorical Data <a id='4.5_Extract_Big_Mountain_Data'></a>"
   ]
  },
  {
   "cell_type": "markdown",
   "metadata": {},
   "source": [
    "Let's start with the corporate owned properties. \n",
    "Because all of the properties are in Colorado, the state column doesn't add any information: let's remove it. The property_code is a unique, discrete piece of information used only by the property owner, with no relationship to the dependent variable, so let's remove that too. "
   ]
  },
  {
   "cell_type": "code",
   "execution_count": 136,
   "metadata": {},
   "outputs": [],
   "source": [
    "# Drop uninformative 'state' and 'property_code' columns\n",
    "corporate_data = corporate_data.drop(['state', 'property_code'], axis=1)"
   ]
  },
  {
   "cell_type": "markdown",
   "metadata": {},
   "source": [
    "Let's rename a couple of features so they make sense across dataframes. Rename 'estimatedValue' to 'value'. We will do the same on the other dataframe once we begin pre-processing it. "
   ]
  },
  {
   "cell_type": "code",
   "execution_count": 137,
   "metadata": {},
   "outputs": [],
   "source": [
    "# Rename two columns in corporate data df\n",
    "cols = {'estimatedValue':'value'}\n",
    "corporate_data = corporate_data.rename(columns=cols)"
   ]
  },
  {
   "cell_type": "code",
   "execution_count": 138,
   "metadata": {},
   "outputs": [],
   "source": [
    "# rename sale_data columns\n",
    "cols={'zip':'zipcode', 'listPrice':'value'}\n",
    "sale_data = sale_data.rename(columns=cols)"
   ]
  },
  {
   "cell_type": "markdown",
   "metadata": {},
   "source": [
    "The 'city' column doesn't add any information. Instead, let's use some information to categorize the cities by household income. Data for 2019 is available on the US Census site. Import that data, add to both the corporate_data and sale_data records, and we will set aside the city column before doing the test/train split. \n",
    "\n",
    "Additionally, the *name* of the district doesn't add any information. For each district, we have already gathered some information on the school lunch program (an indicator of poverty in the community), the rank of the schools within the district, and the racial demographics."
   ]
  },
  {
   "cell_type": "code",
   "execution_count": 139,
   "metadata": {
    "scrolled": true
   },
   "outputs": [],
   "source": [
    "income = pd.read_csv('../data/City income.csv')\n",
    "income_T = income.T"
   ]
  },
  {
   "cell_type": "code",
   "execution_count": 140,
   "metadata": {},
   "outputs": [],
   "source": [
    "# manipulate income information to make compatible with a pd.concat\n",
    "new_header = income_T.iloc[0] \n",
    "# take the rest of the data minus the header row\n",
    "income_T = income_T[1:] \n",
    "# set the header row as the df header\n",
    "income_T.columns = new_header \n",
    "income_T.rename(columns = {'Fact ':'City'}, inplace = True)"
   ]
  },
  {
   "cell_type": "code",
   "execution_count": 141,
   "metadata": {},
   "outputs": [
    {
     "data": {
      "text/plain": [
       "Index(['Median household income (in 2019 dollars), 2015-2019', 'Per capita income in past 12 months (in 2019 dollars), 2015-2019'], dtype='object', name='Fact')"
      ]
     },
     "execution_count": 141,
     "metadata": {},
     "output_type": "execute_result"
    }
   ],
   "source": [
    "income_T.columns"
   ]
  },
  {
   "cell_type": "code",
   "execution_count": 142,
   "metadata": {},
   "outputs": [],
   "source": [
    "income_T.drop(['Per capita income in past 12 months (in 2019 dollars), 2015-2019'], axis=1, inplace=True)"
   ]
  },
  {
   "cell_type": "code",
   "execution_count": 143,
   "metadata": {},
   "outputs": [
    {
     "data": {
      "text/html": [
       "<div>\n",
       "<style scoped>\n",
       "    .dataframe tbody tr th:only-of-type {\n",
       "        vertical-align: middle;\n",
       "    }\n",
       "\n",
       "    .dataframe tbody tr th {\n",
       "        vertical-align: top;\n",
       "    }\n",
       "\n",
       "    .dataframe thead th {\n",
       "        text-align: right;\n",
       "    }\n",
       "</style>\n",
       "<table border=\"1\" class=\"dataframe\">\n",
       "  <thead>\n",
       "    <tr style=\"text-align: right;\">\n",
       "      <th></th>\n",
       "      <th>address_1</th>\n",
       "      <th>city</th>\n",
       "      <th>zipcode</th>\n",
       "      <th>beds</th>\n",
       "      <th>baths</th>\n",
       "      <th>sqft</th>\n",
       "      <th>market_rent</th>\n",
       "      <th>lat</th>\n",
       "      <th>lng</th>\n",
       "      <th>districtMatch</th>\n",
       "      <th>estimatedPrice</th>\n",
       "      <th>percentFreeDiscLunch</th>\n",
       "      <th>percentofAfricanAmericanStudents</th>\n",
       "      <th>percentofAsianStudents</th>\n",
       "      <th>percentofHispanicStudents</th>\n",
       "      <th>percentofIndianStudents</th>\n",
       "      <th>percentofPacificIslanderStudents</th>\n",
       "      <th>percentofTwoOrMoreRaceStudents</th>\n",
       "      <th>percentofWhiteStudents</th>\n",
       "      <th>rankMovement</th>\n",
       "    </tr>\n",
       "  </thead>\n",
       "  <tbody>\n",
       "    <tr>\n",
       "      <th>11</th>\n",
       "      <td>11375 Nome St</td>\n",
       "      <td>Henderson</td>\n",
       "      <td>80640</td>\n",
       "      <td>4</td>\n",
       "      <td>2.0</td>\n",
       "      <td>2087</td>\n",
       "      <td>2595.0</td>\n",
       "      <td>39.90208</td>\n",
       "      <td>-104.85186</td>\n",
       "      <td>Brighton 27J School District</td>\n",
       "      <td>495000.00</td>\n",
       "      <td>44.03</td>\n",
       "      <td>2.20</td>\n",
       "      <td>2.92</td>\n",
       "      <td>53.74</td>\n",
       "      <td>0.31</td>\n",
       "      <td>0.17</td>\n",
       "      <td>3.00</td>\n",
       "      <td>37.65</td>\n",
       "      <td>-48.06</td>\n",
       "    </tr>\n",
       "    <tr>\n",
       "      <th>89</th>\n",
       "      <td>11620 Oakland Dr</td>\n",
       "      <td>Henderson</td>\n",
       "      <td>80640</td>\n",
       "      <td>3</td>\n",
       "      <td>1.5</td>\n",
       "      <td>1420</td>\n",
       "      <td>2300.0</td>\n",
       "      <td>39.90825</td>\n",
       "      <td>-104.84968</td>\n",
       "      <td>Brighton 27J School District</td>\n",
       "      <td>376666.67</td>\n",
       "      <td>44.03</td>\n",
       "      <td>2.20</td>\n",
       "      <td>2.92</td>\n",
       "      <td>53.74</td>\n",
       "      <td>0.31</td>\n",
       "      <td>0.17</td>\n",
       "      <td>3.00</td>\n",
       "      <td>37.65</td>\n",
       "      <td>-48.06</td>\n",
       "    </tr>\n",
       "    <tr>\n",
       "      <th>143</th>\n",
       "      <td>11798 W Marlowe Ave</td>\n",
       "      <td>Morrison</td>\n",
       "      <td>80465</td>\n",
       "      <td>4</td>\n",
       "      <td>2.5</td>\n",
       "      <td>2404</td>\n",
       "      <td>2900.0</td>\n",
       "      <td>39.63200</td>\n",
       "      <td>-105.12900</td>\n",
       "      <td>Jefferson County R-1 School District</td>\n",
       "      <td>429937.50</td>\n",
       "      <td>37.16</td>\n",
       "      <td>1.45</td>\n",
       "      <td>2.89</td>\n",
       "      <td>26.14</td>\n",
       "      <td>0.62</td>\n",
       "      <td>0.14</td>\n",
       "      <td>4.07</td>\n",
       "      <td>64.70</td>\n",
       "      <td>-23.29</td>\n",
       "    </tr>\n",
       "    <tr>\n",
       "      <th>144</th>\n",
       "      <td>11798 W Marlowe Ave</td>\n",
       "      <td>Morrison</td>\n",
       "      <td>80465</td>\n",
       "      <td>4</td>\n",
       "      <td>2.5</td>\n",
       "      <td>2404</td>\n",
       "      <td>2933.0</td>\n",
       "      <td>39.63200</td>\n",
       "      <td>-105.12900</td>\n",
       "      <td>Jefferson County R-1 School District</td>\n",
       "      <td>405000.00</td>\n",
       "      <td>37.16</td>\n",
       "      <td>1.45</td>\n",
       "      <td>2.89</td>\n",
       "      <td>26.14</td>\n",
       "      <td>0.62</td>\n",
       "      <td>0.14</td>\n",
       "      <td>4.07</td>\n",
       "      <td>64.70</td>\n",
       "      <td>-23.29</td>\n",
       "    </tr>\n",
       "  </tbody>\n",
       "</table>\n",
       "</div>"
      ],
      "text/plain": [
       "               address_1       city  zipcode  beds  baths  sqft  market_rent  \\\n",
       "11         11375 Nome St  Henderson    80640     4    2.0  2087       2595.0   \n",
       "89      11620 Oakland Dr  Henderson    80640     3    1.5  1420       2300.0   \n",
       "143  11798 W Marlowe Ave   Morrison    80465     4    2.5  2404       2900.0   \n",
       "144  11798 W Marlowe Ave   Morrison    80465     4    2.5  2404       2933.0   \n",
       "\n",
       "          lat        lng                         districtMatch  \\\n",
       "11   39.90208 -104.85186          Brighton 27J School District   \n",
       "89   39.90825 -104.84968          Brighton 27J School District   \n",
       "143  39.63200 -105.12900  Jefferson County R-1 School District   \n",
       "144  39.63200 -105.12900  Jefferson County R-1 School District   \n",
       "\n",
       "     estimatedPrice  percentFreeDiscLunch  percentofAfricanAmericanStudents  \\\n",
       "11        495000.00                 44.03                              2.20   \n",
       "89        376666.67                 44.03                              2.20   \n",
       "143       429937.50                 37.16                              1.45   \n",
       "144       405000.00                 37.16                              1.45   \n",
       "\n",
       "     percentofAsianStudents  percentofHispanicStudents  \\\n",
       "11                     2.92                      53.74   \n",
       "89                     2.92                      53.74   \n",
       "143                    2.89                      26.14   \n",
       "144                    2.89                      26.14   \n",
       "\n",
       "     percentofIndianStudents  percentofPacificIslanderStudents  \\\n",
       "11                      0.31                              0.17   \n",
       "89                      0.31                              0.17   \n",
       "143                     0.62                              0.14   \n",
       "144                     0.62                              0.14   \n",
       "\n",
       "     percentofTwoOrMoreRaceStudents  percentofWhiteStudents  rankMovement  \n",
       "11                             3.00                   37.65        -48.06  \n",
       "89                             3.00                   37.65        -48.06  \n",
       "143                            4.07                   64.70        -23.29  \n",
       "144                            4.07                   64.70        -23.29  "
      ]
     },
     "execution_count": 143,
     "metadata": {},
     "output_type": "execute_result"
    }
   ],
   "source": [
    "# Let's see if there are any towns in the corporate_data set which are not included in the income data. \n",
    "no_data = corporate_data[~corporate_data['city'].isin(income_T.index)]\n",
    "no_data.head()"
   ]
  },
  {
   "cell_type": "markdown",
   "metadata": {},
   "source": [
    "The houses in Henderson are actually in Commerce City. This is a quirk of Denver-metro addresses. Morrison is a tiny area, so there isn't any data available for it. The closest town to Morrison is Golden. Let's map these in both the corporate and sales data. "
   ]
  },
  {
   "cell_type": "code",
   "execution_count": 144,
   "metadata": {},
   "outputs": [],
   "source": [
    "dict1 = {'Henderson':'Commerce City', 'Morrison':'Golden'}\n",
    "corporate_data.loc[corporate_data['city'].isin(dict1.keys()), 'city'] = corporate_data['city'].map(dict1)"
   ]
  },
  {
   "cell_type": "code",
   "execution_count": 145,
   "metadata": {},
   "outputs": [],
   "source": [
    "# Let's see if there is any sales data that doesn't have income information. \n",
    "no_data = sale_data[~sale_data['city'].isin(income_T.index)]"
   ]
  },
  {
   "cell_type": "code",
   "execution_count": 146,
   "metadata": {},
   "outputs": [
    {
     "data": {
      "text/plain": [
       "array(['Morrison'], dtype=object)"
      ]
     },
     "execution_count": 146,
     "metadata": {},
     "output_type": "execute_result"
    }
   ],
   "source": [
    "no_data['city'].unique()"
   ]
  },
  {
   "cell_type": "markdown",
   "metadata": {},
   "source": [
    "All of these little hamlets are near Golden, so let's map them to Golden. "
   ]
  },
  {
   "cell_type": "code",
   "execution_count": 147,
   "metadata": {},
   "outputs": [],
   "source": [
    "dict2={'Morrison':'Golden', 'Indian Hills':'Golden', 'Idledale':'Golden'}\n",
    "sale_data.loc[sale_data['city'].isin(dict1.keys()), 'city'] = sale_data['city'].map(dict1)"
   ]
  },
  {
   "cell_type": "code",
   "execution_count": 148,
   "metadata": {},
   "outputs": [
    {
     "data": {
      "text/plain": [
       "((259, 21), (259, 20))"
      ]
     },
     "execution_count": 148,
     "metadata": {},
     "output_type": "execute_result"
    }
   ],
   "source": [
    "corporate_data_I = corporate_data.merge(income_T, left_on='city', right_on=income_T.index)\n",
    "corporate_data_I.shape, corporate_data.shape"
   ]
  },
  {
   "cell_type": "code",
   "execution_count": 149,
   "metadata": {},
   "outputs": [],
   "source": [
    "sale_data_I = sale_data.merge(income_T, left_on='city', right_on=income_T.index)"
   ]
  },
  {
   "cell_type": "markdown",
   "metadata": {},
   "source": [
    "'Beds' and 'baths' should be categorical columns, since these are inherently categorical. Change the data types of these columns."
   ]
  },
  {
   "cell_type": "markdown",
   "metadata": {},
   "source": [
    "We can see that the data for sale includes 2, 3, 4, 5, 6 and 7 bedroom houses. The bathrooms count 2, 3, 4, and 7! The corporate data includes 1, 2, 3, and 4 bathroom properties, and bedrooms from 3 to 5. The corporate entity does not invest in 2 bedroom houses, according to our data. The investor also make a distinction between half baths and baths that our sales data does not appear to make. Let's go back to the data and change all the half baths to integers (round up), and remove the data from the sales of any bedroom count below 3 or over 5, and bathrooms below 2 and more than 4. If written correctly, this modification will allow us to scale our model to all sorts of sales data and weird counts of beds and baths. "
   ]
  },
  {
   "cell_type": "code",
   "execution_count": 150,
   "metadata": {},
   "outputs": [
    {
     "data": {
      "text/plain": [
       "(array([3, 4, 2, 5], dtype=int64), array([4., 5., 3., 2., 7., 6., 9., 1.]))"
      ]
     },
     "execution_count": 150,
     "metadata": {},
     "output_type": "execute_result"
    }
   ],
   "source": [
    "# check counts of bedrooms and bathrooms; needs to be consistent.\n",
    "corporate_data_I['beds'].unique(), sale_data_I['beds'].unique()"
   ]
  },
  {
   "cell_type": "code",
   "execution_count": 151,
   "metadata": {},
   "outputs": [
    {
     "data": {
      "text/plain": [
       "(array([2.  , 1.5 , 3.  , 2.5 , 3.5 , 1.  , 2.25, 4.  ]),\n",
       " array([3., 1., 2., 4., 5.]))"
      ]
     },
     "execution_count": 151,
     "metadata": {},
     "output_type": "execute_result"
    }
   ],
   "source": [
    "# check counts of bedrooms and bathrooms; needs to be consistent.\n",
    "corporate_data_I['baths'].unique(), sale_data_I['baths'].unique()"
   ]
  },
  {
   "cell_type": "code",
   "execution_count": 152,
   "metadata": {},
   "outputs": [],
   "source": [
    "\n",
    "# change count of bathrooms to integers\n",
    "corporate_data_I['baths'] = corporate_data_I['baths'].apply(np.ceil)"
   ]
  },
  {
   "cell_type": "code",
   "execution_count": 153,
   "metadata": {},
   "outputs": [],
   "source": [
    "# change data types\n",
    "corporate_data_I['beds'] = corporate_data_I['beds'].astype(int)\n",
    "corporate_data_I['baths'] = corporate_data_I['baths'].astype(int)\n",
    "sale_data_I['baths'] = sale_data_I['baths'].astype(int)\n",
    "sale_data_I['beds'] = sale_data_I['beds'].astype(int)"
   ]
  },
  {
   "cell_type": "code",
   "execution_count": 154,
   "metadata": {},
   "outputs": [
    {
     "data": {
      "text/plain": [
       "array([2, 3, 4, 1])"
      ]
     },
     "execution_count": 154,
     "metadata": {},
     "output_type": "execute_result"
    }
   ],
   "source": [
    "# identify unique bathroom counts in corporate properties\n",
    "corporate_data_I['baths'].unique()"
   ]
  },
  {
   "cell_type": "code",
   "execution_count": 155,
   "metadata": {},
   "outputs": [
    {
     "data": {
      "text/plain": [
       "array([3, 4, 2, 5])"
      ]
     },
     "execution_count": 155,
     "metadata": {},
     "output_type": "execute_result"
    }
   ],
   "source": [
    "# How many bedrooms does the corporate investor prefer?\n",
    "corporate_data_I['beds'].unique()"
   ]
  },
  {
   "cell_type": "code",
   "execution_count": 156,
   "metadata": {},
   "outputs": [],
   "source": [
    "# Drop NaN sales data and sales where bathroom count is not in [1, 2, 3, 4]\n",
    "sale_data_I.dropna(inplace=True)\n",
    "#define values\n",
    "bath_values = [1, 2, 3, 4]\n",
    "bed_values = [2, 3, 4, 5]\n",
    "#drop rows that contain any value in the list\n",
    "sale_data_I = sale_data_I[sale_data_I.baths.isin(bath_values) == True]\n",
    "sale_data_I = sale_data_I[sale_data_I.beds.isin(bed_values) == True]"
   ]
  },
  {
   "cell_type": "code",
   "execution_count": 157,
   "metadata": {},
   "outputs": [
    {
     "data": {
      "text/plain": [
       "(586, 22)"
      ]
     },
     "execution_count": 157,
     "metadata": {},
     "output_type": "execute_result"
    }
   ],
   "source": [
    "# We started with 666 sales listings, what do we have after considering the restrictions of modeling?\n",
    "sale_data_I.shape"
   ]
  },
  {
   "cell_type": "markdown",
   "metadata": {},
   "source": [
    "After making sure that the sales data information will meet the requirements of the model, we still have a lot of listings. The properties that did not meet the apparent requirements of the corporate investor did not make up many of the dataset (about 5%). "
   ]
  },
  {
   "cell_type": "code",
   "execution_count": 158,
   "metadata": {},
   "outputs": [],
   "source": [
    "# change data to categorical type\n",
    "corporate_data_I['beds'] = pd.Categorical(corporate_data_I.beds)\n",
    "corporate_data_I['baths'] = pd.Categorical(corporate_data_I.baths)\n",
    "sale_data_I['beds'] = pd.Categorical(sale_data_I.beds)\n",
    "sale_data_I['baths'] = pd.Categorical(sale_data_I.baths)"
   ]
  },
  {
   "cell_type": "code",
   "execution_count": 159,
   "metadata": {},
   "outputs": [],
   "source": [
    "# Encode categorical features with dummies, dropping one to avoid instability\n",
    "dummy_features_corp = pd.get_dummies(corporate_data_I[['beds', 'baths']], drop_first=True)\n",
    "dummy_features_sale = pd.get_dummies(sale_data_I[['beds', 'baths']], drop_first=True)\n",
    "\n",
    "# Concat dummy_features to original dfs\n",
    "corporate_data_I = pd.concat([corporate_data_I, dummy_features_corp], axis=1)\n",
    "sale_data_I = pd.concat([sale_data_I, dummy_features_sale], axis=1)"
   ]
  },
  {
   "cell_type": "code",
   "execution_count": 160,
   "metadata": {},
   "outputs": [
    {
     "data": {
      "text/plain": [
       "(Index(['address', 'city', 'zipcode', 'beds', 'baths', 'sqft', 'value', 'taxes',\n",
       "        'lat', 'lng', 'monthly_hoa', 'districtMatch', 'percentFreeDiscLunch',\n",
       "        'percentofAfricanAmericanStudents', 'percentofAsianStudents',\n",
       "        'percentofHispanicStudents', 'percentofIndianStudents',\n",
       "        'percentofPacificIslanderStudents', 'percentofTwoOrMoreRaceStudents',\n",
       "        'percentofWhiteStudents', 'rankMovement',\n",
       "        'Median household income (in 2019 dollars), 2015-2019', 'beds_3',\n",
       "        'beds_4', 'beds_5', 'baths_2', 'baths_3', 'baths_4'],\n",
       "       dtype='object'),\n",
       " Index(['address_1', 'city', 'zipcode', 'beds', 'baths', 'sqft', 'market_rent',\n",
       "        'lat', 'lng', 'districtMatch', 'estimatedPrice', 'percentFreeDiscLunch',\n",
       "        'percentofAfricanAmericanStudents', 'percentofAsianStudents',\n",
       "        'percentofHispanicStudents', 'percentofIndianStudents',\n",
       "        'percentofPacificIslanderStudents', 'percentofTwoOrMoreRaceStudents',\n",
       "        'percentofWhiteStudents', 'rankMovement',\n",
       "        'Median household income (in 2019 dollars), 2015-2019', 'beds_3',\n",
       "        'beds_4', 'beds_5', 'baths_2', 'baths_3', 'baths_4'],\n",
       "       dtype='object'))"
      ]
     },
     "execution_count": 160,
     "metadata": {},
     "output_type": "execute_result"
    }
   ],
   "source": [
    "sale_data_I.columns, corporate_data_I.columns"
   ]
  },
  {
   "cell_type": "code",
   "execution_count": 161,
   "metadata": {},
   "outputs": [],
   "source": [
    "# rename address_1 to address, and estimatedPrice to value\n",
    "corporate_data_I.rename(columns = {'address_1':'address', 'estimatedPrice':'value'}, inplace = True)"
   ]
  },
  {
   "cell_type": "code",
   "execution_count": 162,
   "metadata": {},
   "outputs": [
    {
     "data": {
      "text/plain": [
       "dtype('O')"
      ]
     },
     "execution_count": 162,
     "metadata": {},
     "output_type": "execute_result"
    }
   ],
   "source": [
    "# Check datatype of new column\n",
    "corporate_data_I['Median household income (in 2019 dollars), 2015-2019'].dtypes"
   ]
  },
  {
   "cell_type": "code",
   "execution_count": 163,
   "metadata": {},
   "outputs": [
    {
     "data": {
      "text/plain": [
       "(Index(['address', 'city', 'zipcode', 'beds', 'baths', 'sqft', 'market_rent',\n",
       "        'lat', 'lng', 'districtMatch', 'value', 'percentFreeDiscLunch',\n",
       "        'percentofAfricanAmericanStudents', 'percentofAsianStudents',\n",
       "        'percentofHispanicStudents', 'percentofIndianStudents',\n",
       "        'percentofPacificIslanderStudents', 'percentofTwoOrMoreRaceStudents',\n",
       "        'percentofWhiteStudents', 'rankMovement',\n",
       "        'Median household income (in 2019 dollars), 2015-2019', 'beds_3',\n",
       "        'beds_4', 'beds_5', 'baths_2', 'baths_3', 'baths_4'],\n",
       "       dtype='object'),\n",
       " Index(['address', 'city', 'zipcode', 'beds', 'baths', 'sqft', 'value', 'taxes',\n",
       "        'lat', 'lng', 'monthly_hoa', 'districtMatch', 'percentFreeDiscLunch',\n",
       "        'percentofAfricanAmericanStudents', 'percentofAsianStudents',\n",
       "        'percentofHispanicStudents', 'percentofIndianStudents',\n",
       "        'percentofPacificIslanderStudents', 'percentofTwoOrMoreRaceStudents',\n",
       "        'percentofWhiteStudents', 'rankMovement',\n",
       "        'Median household income (in 2019 dollars), 2015-2019', 'beds_3',\n",
       "        'beds_4', 'beds_5', 'baths_2', 'baths_3', 'baths_4'],\n",
       "       dtype='object'))"
      ]
     },
     "execution_count": 163,
     "metadata": {},
     "output_type": "execute_result"
    }
   ],
   "source": [
    "corporate_data_I.columns, sale_data_I.columns"
   ]
  },
  {
   "cell_type": "code",
   "execution_count": 164,
   "metadata": {},
   "outputs": [],
   "source": [
    "corporate_data_I[['Median household income (in 2019 dollars), 2015-2019']] = \\\n",
    "        corporate_data_I[['Median household income (in 2019 dollars), 2015-2019']].replace('[\\$,]','',regex=True).astype(float)"
   ]
  },
  {
   "cell_type": "code",
   "execution_count": 165,
   "metadata": {},
   "outputs": [],
   "source": [
    "sale_data_I[['Median household income (in 2019 dollars), 2015-2019']] = \\\n",
    "        sale_data_I[['Median household income (in 2019 dollars), 2015-2019']].replace('[\\$,]','',regex=True).astype(float)"
   ]
  },
  {
   "cell_type": "code",
   "execution_count": 166,
   "metadata": {},
   "outputs": [],
   "source": [
    "# Write the combined dataframe to a new csv\n",
    "corporate_data_I.to_csv('../data/corporate_data_I.csv', index = False, header = True)\n",
    "sale_data_I.to_csv('../data/sale_data_I.csv', index = False, header = True)"
   ]
  },
  {
   "cell_type": "markdown",
   "metadata": {},
   "source": [
    "## 3.5 Train/Test Split<a id='4.6_Train/Test_Split'></a>"
   ]
  },
  {
   "cell_type": "markdown",
   "metadata": {},
   "source": [
    "After a couple of preliminary models, it seems that the 'value' of a property is tied to other features, possible some of which we have included in our particular set of features. \n",
    "First, we will run machine learning models including the feature 'value', then run without, and see which gives us a better outcome (explains more of the variability in data). \n",
    "\n",
    "So, let's use a 90/10 train/test split within the corporate data, using 'market_rent' as the dependent variable. "
   ]
  },
  {
   "cell_type": "code",
   "execution_count": 167,
   "metadata": {},
   "outputs": [],
   "source": [
    "# use train_test_split \n",
    "X_train, X_test, y_train, y_test = train_test_split(corporate_data_I.drop(columns='market_rent'), \n",
    "                                                    corporate_data_I.market_rent, test_size=0.05, \n",
    "                                                    random_state=42)"
   ]
  },
  {
   "cell_type": "code",
   "execution_count": 168,
   "metadata": {},
   "outputs": [
    {
     "data": {
      "text/plain": [
       "((246, 26), (13, 26))"
      ]
     },
     "execution_count": 168,
     "metadata": {},
     "output_type": "execute_result"
    }
   ],
   "source": [
    "X_train.shape, X_test.shape"
   ]
  },
  {
   "cell_type": "code",
   "execution_count": 169,
   "metadata": {},
   "outputs": [
    {
     "data": {
      "text/plain": [
       "((246,), (13,))"
      ]
     },
     "execution_count": 169,
     "metadata": {},
     "output_type": "execute_result"
    }
   ],
   "source": [
    "y_train.shape, y_test.shape"
   ]
  },
  {
   "cell_type": "code",
   "execution_count": 170,
   "metadata": {},
   "outputs": [
    {
     "data": {
      "text/plain": [
       "((246, 17), (13, 17))"
      ]
     },
     "execution_count": 170,
     "metadata": {},
     "output_type": "execute_result"
    }
   ],
   "source": [
    "#Save the 'address' and 'zipcode' columns from the train/test data into address_train\n",
    "# and address_train\n",
    "#Then drop those columns from `X_train` and `X_test`. Use 'inplace=True'\n",
    "drop_columns = ['address', 'zipcode', 'lat', 'lng', 'districtMatch', 'city', 'beds', 'baths', 'value']\n",
    "dropped_train = X_train[drop_columns]\n",
    "dropped_test = X_test[drop_columns]\n",
    "X_train.drop(columns=drop_columns, inplace=True)\n",
    "X_test.drop(columns=drop_columns, inplace=True)\n",
    "X_train.shape, X_test.shape"
   ]
  },
  {
   "cell_type": "code",
   "execution_count": 171,
   "metadata": {},
   "outputs": [
    {
     "data": {
      "text/plain": [
       "sqft                                                      int64\n",
       "percentFreeDiscLunch                                    float64\n",
       "percentofAfricanAmericanStudents                        float64\n",
       "percentofAsianStudents                                  float64\n",
       "percentofHispanicStudents                               float64\n",
       "percentofIndianStudents                                 float64\n",
       "percentofPacificIslanderStudents                        float64\n",
       "percentofTwoOrMoreRaceStudents                          float64\n",
       "percentofWhiteStudents                                  float64\n",
       "rankMovement                                            float64\n",
       "Median household income (in 2019 dollars), 2015-2019    float64\n",
       "beds_3                                                    uint8\n",
       "beds_4                                                    uint8\n",
       "beds_5                                                    uint8\n",
       "baths_2                                                   uint8\n",
       "baths_3                                                   uint8\n",
       "baths_4                                                   uint8\n",
       "dtype: object"
      ]
     },
     "execution_count": 171,
     "metadata": {},
     "output_type": "execute_result"
    }
   ],
   "source": [
    "#Check the `dtypes` attribute of `X_train` to verify all features are numeric\n",
    "X_train.dtypes"
   ]
  },
  {
   "cell_type": "code",
   "execution_count": 172,
   "metadata": {},
   "outputs": [
    {
     "data": {
      "text/plain": [
       "sqft                                                      int64\n",
       "percentFreeDiscLunch                                    float64\n",
       "percentofAfricanAmericanStudents                        float64\n",
       "percentofAsianStudents                                  float64\n",
       "percentofHispanicStudents                               float64\n",
       "percentofIndianStudents                                 float64\n",
       "percentofPacificIslanderStudents                        float64\n",
       "percentofTwoOrMoreRaceStudents                          float64\n",
       "percentofWhiteStudents                                  float64\n",
       "rankMovement                                            float64\n",
       "Median household income (in 2019 dollars), 2015-2019    float64\n",
       "beds_3                                                    uint8\n",
       "beds_4                                                    uint8\n",
       "beds_5                                                    uint8\n",
       "baths_2                                                   uint8\n",
       "baths_3                                                   uint8\n",
       "baths_4                                                   uint8\n",
       "dtype: object"
      ]
     },
     "execution_count": 172,
     "metadata": {},
     "output_type": "execute_result"
    }
   ],
   "source": [
    "#Repeat this check for the test split in `X_test`\n",
    "X_test.dtypes"
   ]
  },
  {
   "cell_type": "markdown",
   "metadata": {},
   "source": [
    "All features in X are numeric."
   ]
  },
  {
   "cell_type": "markdown",
   "metadata": {},
   "source": [
    "## 3.6 Check Data Distributions <a id='3.6 Check Data Distributions'></a>"
   ]
  },
  {
   "cell_type": "markdown",
   "metadata": {},
   "source": [
    " Let's look at the distributions of the training data. "
   ]
  },
  {
   "cell_type": "code",
   "execution_count": 173,
   "metadata": {},
   "outputs": [
    {
     "data": {
      "image/png": "[encoded data removed]",
      "text/plain": [
       "<Figure size 720x288 with 1 Axes>"
      ]
     },
     "metadata": {},
     "output_type": "display_data"
    }
   ],
   "source": [
    "X_train[['sqft']].hist(figsize=(10,4))\n",
    "plt.show()"
   ]
  },
  {
   "cell_type": "markdown",
   "metadata": {},
   "source": [
    "Graphically, it looks like there are a couple on the end - but these may not be outliers really, but rather large houses that are worth a lot of money. More data may prove these to be not outliers at all. We believe that there are more houses in the smaller, less expensive range and fewer in the larger, more expensive range *in general* and that houses smaller than about 1000 square feet are quite rare, leading to this distribution. \n",
    "We choose to not trim these data points as they are representative of the pattern as a whole. "
   ]
  },
  {
   "cell_type": "markdown",
   "metadata": {},
   "source": [
    "## 3.7 Initial Modeling - Dummy Regressor"
   ]
  },
  {
   "cell_type": "markdown",
   "metadata": {},
   "source": [
    "First, let's try the most basic model - the mean. This will give us some basis for comparison of the rest of the work we do. "
   ]
  },
  {
   "cell_type": "code",
   "execution_count": 174,
   "metadata": {},
   "outputs": [
    {
     "data": {
      "text/plain": [
       "array([[2553.48780488]])"
      ]
     },
     "execution_count": 174,
     "metadata": {},
     "output_type": "execute_result"
    }
   ],
   "source": [
    "# Fit the Dummy Regressor on the training data\n",
    "dumb_reg = DummyRegressor(strategy='mean')\n",
    "dumb_reg.fit(X_train, y_train)\n",
    "dumb_reg.constant_"
   ]
  },
  {
   "cell_type": "code",
   "execution_count": 175,
   "metadata": {},
   "outputs": [
    {
     "data": {
      "text/plain": [
       "array([2553.48780488, 2553.48780488, 2553.48780488, 2553.48780488,\n",
       "       2553.48780488])"
      ]
     },
     "execution_count": 175,
     "metadata": {},
     "output_type": "execute_result"
    }
   ],
   "source": [
    "# Predict outcome on X_train\n",
    "y_tr_pred = dumb_reg.predict(X_train)\n",
    "y_tr_pred[:5]"
   ]
  },
  {
   "cell_type": "code",
   "execution_count": 176,
   "metadata": {},
   "outputs": [
    {
     "data": {
      "text/plain": [
       "array([2553.48780488, 2553.48780488, 2553.48780488, 2553.48780488,\n",
       "       2553.48780488])"
      ]
     },
     "execution_count": 176,
     "metadata": {},
     "output_type": "execute_result"
    }
   ],
   "source": [
    "# Predict outcome on X_test\n",
    "y_te_pred = dumb_reg.predict(X_test)\n",
    "y_te_pred[:5]"
   ]
  },
  {
   "cell_type": "markdown",
   "metadata": {},
   "source": [
    "Let's start a list of models and MAE on the test set for some comparison. "
   ]
  },
  {
   "cell_type": "code",
   "execution_count": 177,
   "metadata": {},
   "outputs": [],
   "source": [
    "models = []\n",
    "mae_test = []\n",
    "mae_train = []\n",
    "r2_test = []\n",
    "r2_train = []\n",
    "MAPE_test = []\n",
    "MAPE_train = []\n",
    "models.append(('DR', dumb_reg))"
   ]
  },
  {
   "cell_type": "markdown",
   "metadata": {},
   "source": [
    "### 3.7.1 Metrics on Dummy Regressor<a id='4.7.1_Metrics'></a>"
   ]
  },
  {
   "cell_type": "markdown",
   "metadata": {},
   "source": [
    "#### 3.7.1.1 R-squared, or coefficient of determination of Dummy Model<a id='4.7.1.1_R-squared,_or_coefficient_of_determination'></a>"
   ]
  },
  {
   "cell_type": "markdown",
   "metadata": {},
   "source": [
    "The R-squared of the dummy regressor should be 0 by definition. It will not be zero for the test set. "
   ]
  },
  {
   "cell_type": "code",
   "execution_count": 178,
   "metadata": {},
   "outputs": [
    {
     "data": {
      "text/plain": [
       "(0.0, -0.0722490818722541)"
      ]
     },
     "execution_count": 178,
     "metadata": {},
     "output_type": "execute_result"
    }
   ],
   "source": [
    "r2_score(y_train, y_tr_pred), r2_score(y_test, y_te_pred)"
   ]
  },
  {
   "cell_type": "markdown",
   "metadata": {},
   "source": [
    "#### 3.7.1.2 Mean Absolute Error of Dummy Model<a id='4.7.1.1_R-squared,_or_coefficient_of_determination'></a>"
   ]
  },
  {
   "cell_type": "markdown",
   "metadata": {},
   "source": [
    "As a reminder, the mean absolute error is the average of the absolute errors. "
   ]
  },
  {
   "cell_type": "code",
   "execution_count": 179,
   "metadata": {},
   "outputs": [
    {
     "data": {
      "text/plain": [
       "(183.17826690462027, 194.65103189493433)"
      ]
     },
     "execution_count": 179,
     "metadata": {},
     "output_type": "execute_result"
    }
   ],
   "source": [
    "mean_absolute_error(y_train, y_tr_pred), mean_absolute_error(y_test, y_te_pred)"
   ]
  },
  {
   "cell_type": "code",
   "execution_count": 180,
   "metadata": {},
   "outputs": [],
   "source": [
    "mae_test.append(mean_absolute_error(y_test, y_te_pred))\n",
    "r2_test.append(r2_score(y_test, y_te_pred))\n",
    "r2_train.append(r2_score(y_train, y_tr_pred))\n",
    "mae_train.append(mean_absolute_error(y_train, y_tr_pred))"
   ]
  },
  {
   "cell_type": "markdown",
   "metadata": {},
   "source": [
    "#### 3.7.1.3 Mean Squared Error of Dummy Model<a id='4.7.1.1_R-squared,_or_coefficient_of_determination'></a>"
   ]
  },
  {
   "cell_type": "markdown",
   "metadata": {},
   "source": [
    "Another reminder: the mean squared error is the average of the squares of the errors. "
   ]
  },
  {
   "cell_type": "code",
   "execution_count": 181,
   "metadata": {},
   "outputs": [
    {
     "data": {
      "text/plain": [
       "(59799.794566726145, 53611.553150597174)"
      ]
     },
     "execution_count": 181,
     "metadata": {},
     "output_type": "execute_result"
    }
   ],
   "source": [
    "mean_squared_error(y_train, y_tr_pred), mean_squared_error(y_test, y_te_pred)"
   ]
  },
  {
   "cell_type": "markdown",
   "metadata": {},
   "source": [
    "#### 3.7.1.4 Mean Absolute Percentage Error of Dummy Model<a id='3.7.1.4_Mean_Absolute_Percentage_Error_of_Dummy_Model'></a>"
   ]
  },
  {
   "attachments": {
    "image.png": {
     "image/png": "[encoded data removed]"
    }
   },
   "cell_type": "markdown",
   "metadata": {},
   "source": [
    "![image.png](attachment:image.png)"
   ]
  },
  {
   "cell_type": "markdown",
   "metadata": {},
   "source": [
    "This metric is a percentage error. "
   ]
  },
  {
   "cell_type": "code",
   "execution_count": 182,
   "metadata": {},
   "outputs": [],
   "source": [
    "def mean_absolute_percentage_error(y_true, y_pred): \n",
    "    y_true, y_pred = np.array(y_true), np.array(y_pred)\n",
    "    return np.mean(np.abs((y_true - y_pred) / y_true)) * 100"
   ]
  },
  {
   "cell_type": "code",
   "execution_count": 183,
   "metadata": {},
   "outputs": [
    {
     "data": {
      "text/plain": [
       "(7.230818158899728, 8.03507166167836)"
      ]
     },
     "execution_count": 183,
     "metadata": {},
     "output_type": "execute_result"
    }
   ],
   "source": [
    "MAPE_test.append(mean_absolute_percentage_error(y_test, y_te_pred))\n",
    "MAPE_train.append(mean_absolute_percentage_error(y_train, y_tr_pred))\n",
    "mean_absolute_percentage_error(y_train, y_tr_pred), mean_absolute_percentage_error(y_test, y_te_pred)                 "
   ]
  },
  {
   "cell_type": "markdown",
   "metadata": {},
   "source": [
    "## 3.8 Scaling Test/Train<a id='3.8_Scaling Test/Train'></a>"
   ]
  },
  {
   "cell_type": "markdown",
   "metadata": {},
   "source": [
    "Our data is on different scales. For example, square footage is in the thousands, while percentage of kids receiving school lunch is necessarily under 100. The dummy variables are either 0 or 1. Let's scale the features that are not binary. "
   ]
  },
  {
   "cell_type": "code",
   "execution_count": 184,
   "metadata": {},
   "outputs": [
    {
     "data": {
      "text/plain": [
       "(Index(['sqft', 'percentFreeDiscLunch', 'percentofAfricanAmericanStudents',\n",
       "        'percentofAsianStudents', 'percentofHispanicStudents',\n",
       "        'percentofIndianStudents', 'percentofPacificIslanderStudents',\n",
       "        'percentofTwoOrMoreRaceStudents', 'percentofWhiteStudents',\n",
       "        'rankMovement', 'Median household income (in 2019 dollars), 2015-2019',\n",
       "        'beds_3', 'beds_4', 'beds_5', 'baths_2', 'baths_3', 'baths_4'],\n",
       "       dtype='object'),\n",
       " Index(['sqft', 'percentFreeDiscLunch', 'percentofAfricanAmericanStudents',\n",
       "        'percentofAsianStudents', 'percentofHispanicStudents',\n",
       "        'percentofIndianStudents', 'percentofPacificIslanderStudents',\n",
       "        'percentofTwoOrMoreRaceStudents', 'percentofWhiteStudents',\n",
       "        'rankMovement', 'Median household income (in 2019 dollars), 2015-2019',\n",
       "        'beds_3', 'beds_4', 'beds_5', 'baths_2', 'baths_3', 'baths_4'],\n",
       "       dtype='object'))"
      ]
     },
     "execution_count": 184,
     "metadata": {},
     "output_type": "execute_result"
    }
   ],
   "source": [
    "X_train.columns, X_test.columns"
   ]
  },
  {
   "cell_type": "code",
   "execution_count": 185,
   "metadata": {},
   "outputs": [],
   "source": [
    "#Call the StandardScaler`s fit method on `X_train` to fit the scaler\n",
    "#then use it's `transform()` method to apply the scaling to both the train and test split\n",
    "#data (`X_train` and `X_test`), naming the results `X_tr_scaled` and `X_te_scaled`, respectively\n",
    "scaler = StandardScaler()\n",
    "col_list = ['sqft', 'percentFreeDiscLunch','percentofAfricanAmericanStudents',\n",
    "       'percentofAsianStudents', 'percentofHispanicStudents',\n",
    "       'percentofIndianStudents', 'percentofPacificIslanderStudents',\n",
    "       'percentofTwoOrMoreRaceStudents', 'percentofWhiteStudents',\n",
    "       'rankMovement', 'Median household income (in 2019 dollars), 2015-2019']\n",
    "scaled_features = X_train.copy()\n",
    "features = scaled_features[col_list]\n",
    "scaler.fit(features.values)\n",
    "features = scaler.transform(features.values)"
   ]
  },
  {
   "cell_type": "code",
   "execution_count": 186,
   "metadata": {},
   "outputs": [],
   "source": [
    "# transform back to df\n",
    "scaled_features[col_list] = features\n",
    "X_tr_scaled = scaled_features.copy()"
   ]
  },
  {
   "cell_type": "code",
   "execution_count": 187,
   "metadata": {},
   "outputs": [],
   "source": [
    "# transform test set\n",
    "scaled_te_features = X_test.copy()\n",
    "features = scaled_te_features[col_list]\n",
    "features = scaler.transform(features.values)\n",
    "scaled_te_features[col_list] = features\n",
    "X_te_scaled = scaled_te_features.copy()"
   ]
  },
  {
   "cell_type": "code",
   "execution_count": 188,
   "metadata": {},
   "outputs": [
    {
     "data": {
      "text/plain": [
       "(Index(['sqft', 'percentFreeDiscLunch', 'percentofAfricanAmericanStudents',\n",
       "        'percentofAsianStudents', 'percentofHispanicStudents',\n",
       "        'percentofIndianStudents', 'percentofPacificIslanderStudents',\n",
       "        'percentofTwoOrMoreRaceStudents', 'percentofWhiteStudents',\n",
       "        'rankMovement', 'Median household income (in 2019 dollars), 2015-2019',\n",
       "        'beds_3', 'beds_4', 'beds_5', 'baths_2', 'baths_3', 'baths_4'],\n",
       "       dtype='object'),\n",
       " Index(['sqft', 'percentFreeDiscLunch', 'percentofAfricanAmericanStudents',\n",
       "        'percentofAsianStudents', 'percentofHispanicStudents',\n",
       "        'percentofIndianStudents', 'percentofPacificIslanderStudents',\n",
       "        'percentofTwoOrMoreRaceStudents', 'percentofWhiteStudents',\n",
       "        'rankMovement', 'Median household income (in 2019 dollars), 2015-2019',\n",
       "        'beds_3', 'beds_4', 'beds_5', 'baths_2', 'baths_3', 'baths_4'],\n",
       "       dtype='object'))"
      ]
     },
     "execution_count": 188,
     "metadata": {},
     "output_type": "execute_result"
    }
   ],
   "source": [
    "X_tr_scaled.columns, X_te_scaled.columns"
   ]
  },
  {
   "cell_type": "markdown",
   "metadata": {},
   "source": [
    "## 3.9 Initial Model - Linear Regression<a id='3.9_Initial_Model_-_Linear_Regression'></a>"
   ]
  },
  {
   "cell_type": "markdown",
   "metadata": {},
   "source": [
    "The first model we will run is the default Linear Regression model. We don't need to use the scaled data with Linear Regression (or, we can - it makes no difference). Let's use the unscaled data so that, if necessary, we can interpret the coefficients. "
   ]
  },
  {
   "cell_type": "code",
   "execution_count": 189,
   "metadata": {},
   "outputs": [
    {
     "name": "stdout",
     "output_type": "stream",
     "text": [
      "(246, 17)\n",
      "17\n"
     ]
    }
   ],
   "source": [
    "# Instantiate the model and fit to training data\n",
    "lm = LinearRegression().fit(X_tr_scaled, y_train)\n",
    "print(X_tr_scaled.shape)\n",
    "print(len(lm.coef_))"
   ]
  },
  {
   "cell_type": "markdown",
   "metadata": {},
   "source": [
    "##### 3.9.1 Make predictions using the model on both train and test splits"
   ]
  },
  {
   "cell_type": "code",
   "execution_count": 190,
   "metadata": {},
   "outputs": [],
   "source": [
    "#Call the `predict()` method of the model (`lm`) on both the (scaled) train and test data\n",
    "#Assign the predictions to `y_tr_pred` and `y_te_pred`, respectively\n",
    "y_tr_pred = lm.predict(X_tr_scaled)\n",
    "y_te_pred = lm.predict(X_te_scaled)"
   ]
  },
  {
   "cell_type": "code",
   "execution_count": 191,
   "metadata": {},
   "outputs": [
    {
     "data": {
      "text/plain": [
       "(0.6694320138327788, 0.8541632189840455)"
      ]
     },
     "execution_count": 191,
     "metadata": {},
     "output_type": "execute_result"
    }
   ],
   "source": [
    "# r^2 - train, test\n",
    "lm_r2 = r2_score(y_train, y_tr_pred), r2_score(y_test, y_te_pred)\n",
    "lm_r2"
   ]
  },
  {
   "cell_type": "markdown",
   "metadata": {},
   "source": [
    "Here we see that our simple linear regression model explains almost 70% of the variance on the train set and 86% on the test set. This might be a luck of the draw. The model seems underfit. That's a lot of bias. "
   ]
  },
  {
   "cell_type": "code",
   "execution_count": 192,
   "metadata": {},
   "outputs": [
    {
     "data": {
      "text/plain": [
       "(104.93570628628994, 68.94947728788478)"
      ]
     },
     "execution_count": 192,
     "metadata": {},
     "output_type": "execute_result"
    }
   ],
   "source": [
    "median_mae = mean_absolute_error(y_train, y_tr_pred), mean_absolute_error(y_test, y_te_pred)\n",
    "median_mae"
   ]
  },
  {
   "cell_type": "code",
   "execution_count": 193,
   "metadata": {},
   "outputs": [],
   "source": [
    "models.append(('LR', lm))\n",
    "mae_test.append(mean_absolute_error(y_test, y_te_pred))\n",
    "mae_train.append(mean_absolute_error(y_train, y_tr_pred))\n",
    "r2_test.append(r2_score(y_test, y_te_pred))\n",
    "r2_train.append(r2_score(y_train, y_tr_pred))\n",
    "MAPE_test.append(mean_absolute_percentage_error(y_test, y_te_pred))\n",
    "MAPE_train.append(mean_absolute_percentage_error(y_train, y_tr_pred))"
   ]
  },
  {
   "cell_type": "markdown",
   "metadata": {},
   "source": [
    "This is much better than simply using the mean as we did with the dummy regressor (MAE=192 on test set). Let's try to fit a hyperparameter, the number of features used. "
   ]
  },
  {
   "cell_type": "code",
   "execution_count": 194,
   "metadata": {},
   "outputs": [],
   "source": [
    "pipe = make_pipeline( \n",
    "    SelectKBest(f_regression),\n",
    "    LinearRegression()\n",
    ")"
   ]
  },
  {
   "cell_type": "code",
   "execution_count": 195,
   "metadata": {},
   "outputs": [
    {
     "data": {
      "text/plain": [
       "Pipeline(steps=[('selectkbest',\n",
       "                 SelectKBest(score_func=<function f_regression at 0x0000011F33C58700>)),\n",
       "                ('linearregression', LinearRegression())])"
      ]
     },
     "execution_count": 195,
     "metadata": {},
     "output_type": "execute_result"
    }
   ],
   "source": [
    "#Call the pipe's `fit()` method with `X_train` and `y_train` as arguments\n",
    "pipe.fit(X_tr_scaled, y_train)"
   ]
  },
  {
   "cell_type": "code",
   "execution_count": 196,
   "metadata": {},
   "outputs": [],
   "source": [
    "y_tr_pred = pipe.predict(X_tr_scaled)\n",
    "y_te_pred = pipe.predict(X_te_scaled)"
   ]
  },
  {
   "cell_type": "code",
   "execution_count": 197,
   "metadata": {},
   "outputs": [
    {
     "data": {
      "text/plain": [
       "(0.6349763889511297, 0.8488555088632413)"
      ]
     },
     "execution_count": 197,
     "metadata": {},
     "output_type": "execute_result"
    }
   ],
   "source": [
    "r2_score(y_train, y_tr_pred), r2_score(y_test, y_te_pred)"
   ]
  },
  {
   "cell_type": "code",
   "execution_count": 198,
   "metadata": {},
   "outputs": [
    {
     "data": {
      "text/plain": [
       "(111.77609517053844, 71.86325992329274)"
      ]
     },
     "execution_count": 198,
     "metadata": {},
     "output_type": "execute_result"
    }
   ],
   "source": [
    "mean_absolute_error(y_train, y_tr_pred), mean_absolute_error(y_test, y_te_pred)"
   ]
  },
  {
   "cell_type": "code",
   "execution_count": 199,
   "metadata": {},
   "outputs": [],
   "source": [
    "models.append(('SelKBest=10', pipe))\n",
    "mae_test.append(mean_absolute_error(y_test, y_te_pred))\n",
    "mae_train.append(mean_absolute_error(y_train, y_tr_pred))\n",
    "r2_test.append(r2_score(y_test, y_te_pred))\n",
    "r2_train.append(r2_score(y_train, y_tr_pred))\n",
    "MAPE_test.append(mean_absolute_percentage_error(y_test, y_te_pred))\n",
    "MAPE_train.append(mean_absolute_percentage_error(y_train, y_tr_pred))"
   ]
  },
  {
   "cell_type": "markdown",
   "metadata": {},
   "source": [
    "This improves upon the default linear regression model slightly. There is no overfitting here. The default number of *k* is 10. Perhaps we can do better after checking the best value for k. "
   ]
  },
  {
   "cell_type": "code",
   "execution_count": 200,
   "metadata": {},
   "outputs": [
    {
     "data": {
      "text/plain": [
       "dict_keys(['memory', 'steps', 'verbose', 'selectkbest', 'linearregression', 'selectkbest__k', 'selectkbest__score_func', 'linearregression__copy_X', 'linearregression__fit_intercept', 'linearregression__n_jobs', 'linearregression__normalize'])"
      ]
     },
     "execution_count": 200,
     "metadata": {},
     "output_type": "execute_result"
    }
   ],
   "source": [
    "pipe.get_params().keys()"
   ]
  },
  {
   "cell_type": "code",
   "execution_count": 201,
   "metadata": {},
   "outputs": [
    {
     "name": "stdout",
     "output_type": "stream",
     "text": [
      "{'selectkbest__k': [1, 2, 3, 4, 5, 6, 7, 8, 9, 10, 11, 12, 13, 14, 15, 16, 17]}\n"
     ]
    }
   ],
   "source": [
    "# build grid of hyperparameters\n",
    "k = [k+1 for k in range(len(X_tr_scaled.columns))]\n",
    "grid_params = {'selectkbest__k': k}\n",
    "print(grid_params)"
   ]
  },
  {
   "cell_type": "code",
   "execution_count": 202,
   "metadata": {},
   "outputs": [],
   "source": [
    "# We can use GridSearchCV because linear regression is very fast and we're only checking one parameter\n",
    "lr_grid_cv = GridSearchCV(pipe, param_grid=grid_params, cv=10, n_jobs=-1)"
   ]
  },
  {
   "cell_type": "code",
   "execution_count": 203,
   "metadata": {},
   "outputs": [
    {
     "data": {
      "text/plain": [
       "GridSearchCV(cv=10,\n",
       "             estimator=Pipeline(steps=[('selectkbest',\n",
       "                                        SelectKBest(score_func=<function f_regression at 0x0000011F33C58700>)),\n",
       "                                       ('linearregression',\n",
       "                                        LinearRegression())]),\n",
       "             n_jobs=-1,\n",
       "             param_grid={'selectkbest__k': [1, 2, 3, 4, 5, 6, 7, 8, 9, 10, 11,\n",
       "                                            12, 13, 14, 15, 16, 17]})"
      ]
     },
     "execution_count": 203,
     "metadata": {},
     "output_type": "execute_result"
    }
   ],
   "source": [
    "# fit the model with cv=10\n",
    "lr_grid_cv.fit(X_tr_scaled, y_train)"
   ]
  },
  {
   "cell_type": "code",
   "execution_count": 204,
   "metadata": {},
   "outputs": [],
   "source": [
    "y_tr_pred = lr_grid_cv.predict(X_tr_scaled)\n",
    "y_te_pred = lr_grid_cv.predict(X_te_scaled)"
   ]
  },
  {
   "cell_type": "code",
   "execution_count": 205,
   "metadata": {},
   "outputs": [
    {
     "data": {
      "text/plain": [
       "(0.6691394462065974, 0.8564394053487611)"
      ]
     },
     "execution_count": 205,
     "metadata": {},
     "output_type": "execute_result"
    }
   ],
   "source": [
    "r2_score(y_train, y_tr_pred), r2_score(y_test, y_te_pred)"
   ]
  },
  {
   "cell_type": "code",
   "execution_count": 206,
   "metadata": {},
   "outputs": [
    {
     "data": {
      "text/plain": [
       "(104.98100096722503, 68.25861095680176)"
      ]
     },
     "execution_count": 206,
     "metadata": {},
     "output_type": "execute_result"
    }
   ],
   "source": [
    "mean_absolute_error(y_train, y_tr_pred), mean_absolute_error(y_test, y_te_pred)"
   ]
  },
  {
   "cell_type": "code",
   "execution_count": 207,
   "metadata": {},
   "outputs": [
    {
     "data": {
      "image/png": "[encoded data removed]",
      "text/plain": [
       "<Figure size 576x396 with 2 Axes>"
      ]
     },
     "metadata": {},
     "output_type": "display_data"
    },
    {
     "data": {
      "text/plain": [
       "<AxesSubplot:title={'center':'Residuals for GridSearchCV Model'}, xlabel='Predicted Value', ylabel='Residuals'>"
      ]
     },
     "execution_count": 207,
     "metadata": {},
     "output_type": "execute_result"
    }
   ],
   "source": [
    "visualizer = ResidualsPlot(lr_grid_cv)\n",
    "\n",
    "visualizer.fit(X_tr_scaled, y_train)  # Fit the training data to the visualizer\n",
    "visualizer.score(X_te_scaled, y_test)  # Evaluate the model on the test data\n",
    "visualizer.show()  "
   ]
  },
  {
   "cell_type": "code",
   "execution_count": 208,
   "metadata": {},
   "outputs": [],
   "source": [
    "models.append(('LR optimized', lr_grid_cv))\n",
    "mae_test.append(mean_absolute_error(y_test, y_te_pred))\n",
    "mae_train.append(mean_absolute_error(y_train, y_tr_pred))\n",
    "r2_test.append(r2_score(y_test, y_te_pred))\n",
    "r2_train.append(r2_score(y_train, y_tr_pred))\n",
    "MAPE_test.append(mean_absolute_percentage_error(y_test, y_te_pred))\n",
    "MAPE_train.append(mean_absolute_percentage_error(y_train, y_tr_pred))"
   ]
  },
  {
   "cell_type": "code",
   "execution_count": 209,
   "metadata": {},
   "outputs": [],
   "source": [
    "# Find the best scores\n",
    "score_mean = lr_grid_cv.cv_results_['mean_test_score']\n",
    "score_std = lr_grid_cv.cv_results_['std_test_score']\n",
    "cv_k = [k for k in lr_grid_cv.cv_results_['param_selectkbest__k']]"
   ]
  },
  {
   "cell_type": "code",
   "execution_count": 210,
   "metadata": {},
   "outputs": [
    {
     "data": {
      "text/plain": [
       "{'selectkbest__k': 15}"
      ]
     },
     "execution_count": 210,
     "metadata": {},
     "output_type": "execute_result"
    }
   ],
   "source": [
    "#Print the `best_params_` attribute of `lr_grid_cv`\n",
    "lr_grid_cv.best_params_"
   ]
  },
  {
   "cell_type": "code",
   "execution_count": 211,
   "metadata": {},
   "outputs": [
    {
     "data": {
      "image/png": "[encoded data removed]",
      "text/plain": [
       "<Figure size 720x360 with 1 Axes>"
      ]
     },
     "metadata": {},
     "output_type": "display_data"
    }
   ],
   "source": [
    "#Assign the value of k from the above dict of `best_params_` and assign it to `best_k`\n",
    "best_k = lr_grid_cv.best_params_['selectkbest__k']\n",
    "plt.subplots(figsize=(10, 5))\n",
    "plt.errorbar(cv_k, score_mean, yerr=score_std)\n",
    "plt.axvline(x=best_k, c='r', ls='--', alpha=.5)\n",
    "plt.xlabel('k')\n",
    "plt.ylabel('CV score (r-squared)')\n",
    "plt.title('Pipeline mean CV score (error bars +/- 1sd)');"
   ]
  },
  {
   "cell_type": "code",
   "execution_count": 212,
   "metadata": {},
   "outputs": [
    {
     "name": "stdout",
     "output_type": "stream",
     "text": [
      "[ True  True  True False  True  True  True False  True  True  True  True\n",
      "  True  True  True  True  True]\n"
     ]
    }
   ],
   "source": [
    "selected = lr_grid_cv.best_estimator_.named_steps.selectkbest.get_support()\n",
    "print(selected)"
   ]
  },
  {
   "cell_type": "code",
   "execution_count": 213,
   "metadata": {},
   "outputs": [],
   "source": [
    "#Get the linear model coefficients from the `coef_` attribute and store in `coefs`,\n",
    "#get the matching feature names from the column names of the dataframe,\n",
    "#and display the results as a pandas Series with `coefs` as the values and `features` as the index,\n",
    "#sorting the values in descending order\n",
    "coefs = lr_grid_cv.best_estimator_.named_steps.linearregression.coef_\n",
    "features = X_tr_scaled.columns[selected]\n",
    "lr_coefs = pd.Series(coefs, index=features).sort_values(ascending=False)"
   ]
  },
  {
   "cell_type": "code",
   "execution_count": 214,
   "metadata": {},
   "outputs": [
    {
     "data": {
      "text/plain": [
       "baths_3                                                 306.811373\n",
       "baths_4                                                 292.134974\n",
       "baths_2                                                 257.727317\n",
       "percentFreeDiscLunch                                    212.573128\n",
       "sqft                                                    160.359256\n",
       "beds_5                                                  118.763824\n",
       "beds_4                                                  111.552239\n",
       "beds_3                                                   82.316945\n",
       "Median household income (in 2019 dollars), 2015-2019     35.977315\n",
       "rankMovement                                             -2.887222\n",
       "percentofIndianStudents                                 -15.919399\n",
       "percentofPacificIslanderStudents                        -57.582656\n",
       "percentofAfricanAmericanStudents                        -64.599767\n",
       "percentofWhiteStudents                                  -72.424285\n",
       "percentofHispanicStudents                              -226.733394\n",
       "dtype: float64"
      ]
     },
     "execution_count": 214,
     "metadata": {},
     "output_type": "execute_result"
    }
   ],
   "source": [
    "lr_coefs"
   ]
  },
  {
   "cell_type": "code",
   "execution_count": 215,
   "metadata": {},
   "outputs": [
    {
     "data": {
      "image/png": "[encoded data removed]",
      "text/plain": [
       "<Figure size 720x360 with 1 Axes>"
      ]
     },
     "metadata": {},
     "output_type": "display_data"
    }
   ],
   "source": [
    "ticks = ['baths_3', 'baths_4', 'baths_2', 'percentFreeDiscLunch', 'sqft',\n",
    "         'beds_5', 'beds_4', 'beds_3', 'Median Household Income', 'rank Movement', \n",
    "         '% Indian', '% Pacific Islander', '% African American', '% White',\n",
    "         '% Hispanic']\n",
    "figure, ax = plt.subplots(figsize=(10, 5))\n",
    "lr_coefs.plot(kind='bar', ax=ax)\n",
    "ax.set_ylabel('Coefficients')\n",
    "ax.set_title('Features')\n",
    "ax.set_xticklabels(ticks)\n",
    "plt.title('Optimized Linear Regression Feature Coefficients', fontsize=14)\n",
    "plt.show()"
   ]
  },
  {
   "cell_type": "markdown",
   "metadata": {},
   "source": [
    "This is unexpected. This shows that really, people are willing to pay more for bathrooms. Anything over 1 bathroom commands a premium. The value of the house and the square footage don't seem to matter much. The median household income of the city also doesn't seem to matter! "
   ]
  },
  {
   "cell_type": "markdown",
   "metadata": {},
   "source": [
    "## 3.10 Ridge model <a id='4.10_LASSO_model'></a>"
   ]
  },
  {
   "cell_type": "markdown",
   "metadata": {},
   "source": [
    "Linear regression worked better than the dummy regressor (mean). But our coefficients are very high. Ridge regression is a type of regularization which reduces the coefficients of the features (but never to zero). "
   ]
  },
  {
   "cell_type": "code",
   "execution_count": 216,
   "metadata": {},
   "outputs": [],
   "source": [
    "from sklearn.linear_model import Ridge\n",
    "ridgem = Ridge(alpha=0.05, normalize=True)\n",
    "ridgem.fit(X_tr_scaled, y_train)\n",
    "y_te_pred = ridgem.predict(X_te_scaled)\n",
    "y_tr_pred = ridgem.predict(X_tr_scaled)"
   ]
  },
  {
   "cell_type": "code",
   "execution_count": 217,
   "metadata": {},
   "outputs": [
    {
     "data": {
      "text/plain": [
       "(0.6560260438181813, 0.8556016689334155)"
      ]
     },
     "execution_count": 217,
     "metadata": {},
     "output_type": "execute_result"
    }
   ],
   "source": [
    "r2_score(y_train, y_tr_pred), r2_score(y_test, y_te_pred)"
   ]
  },
  {
   "cell_type": "code",
   "execution_count": 218,
   "metadata": {},
   "outputs": [
    {
     "data": {
      "text/plain": [
       "(106.8931160395097, 69.90026078917823)"
      ]
     },
     "execution_count": 218,
     "metadata": {},
     "output_type": "execute_result"
    }
   ],
   "source": [
    "mean_absolute_error(y_train, y_tr_pred), mean_absolute_error(y_test, y_te_pred)"
   ]
  },
  {
   "cell_type": "code",
   "execution_count": 219,
   "metadata": {},
   "outputs": [],
   "source": [
    "models.append(('Ridge', ridgem))\n",
    "mae_test.append(mean_absolute_error(y_test, y_te_pred))\n",
    "mae_train.append(mean_absolute_error(y_train, y_tr_pred))\n",
    "r2_test.append(r2_score(y_test, y_te_pred))\n",
    "r2_train.append(r2_score(y_train, y_tr_pred))\n",
    "MAPE_test.append(mean_absolute_percentage_error(y_test, y_te_pred))\n",
    "MAPE_train.append(mean_absolute_percentage_error(y_train, y_tr_pred))"
   ]
  },
  {
   "cell_type": "code",
   "execution_count": 220,
   "metadata": {},
   "outputs": [
    {
     "data": {
      "text/plain": [
       "array([152.90298112,  10.09246812, -26.35269064,   6.15121176,\n",
       "       -18.27092888,  26.34738489,  -8.01323731,  -3.48306291,\n",
       "        26.75186679, -14.54132768,  27.78471149,  49.9078998 ,\n",
       "        89.84921059, 101.5401785 ,  98.0589864 , 145.15006092,\n",
       "       135.9263215 ])"
      ]
     },
     "execution_count": 220,
     "metadata": {},
     "output_type": "execute_result"
    }
   ],
   "source": [
    "ridgem.coef_"
   ]
  },
  {
   "cell_type": "markdown",
   "metadata": {},
   "source": [
    "## 3.10 Lasso model <a id='4.10_LASSO_model'></a>"
   ]
  },
  {
   "cell_type": "markdown",
   "metadata": {},
   "source": [
    "Lasso is another form of regularization which seeks to minimize lamba multiplied by the magnitude of the sum of the coefficients. In this method, some of the coefficients will go to zero, which can help with feature selection. We have a lot of features with very low coefficients in the linear regression model, those features may simply not be important. "
   ]
  },
  {
   "cell_type": "code",
   "execution_count": 221,
   "metadata": {},
   "outputs": [],
   "source": [
    "from sklearn.linear_model import Lasso\n",
    "lassoReg = Lasso(max_iter=10000)"
   ]
  },
  {
   "cell_type": "code",
   "execution_count": 222,
   "metadata": {},
   "outputs": [],
   "source": [
    "# Try default lasso\n",
    "lassoReg.fit(X_tr_scaled, y_train)\n",
    "\n",
    "y_tr_pred = lassoReg.predict(X_tr_scaled)\n",
    "y_te_pred = lassoReg.predict(X_te_scaled)"
   ]
  },
  {
   "cell_type": "code",
   "execution_count": 223,
   "metadata": {},
   "outputs": [
    {
     "data": {
      "text/plain": [
       "(0.654083208642541, 0.8661046250743178)"
      ]
     },
     "execution_count": 223,
     "metadata": {},
     "output_type": "execute_result"
    }
   ],
   "source": [
    "# r2 of default lasso\n",
    "r2_score(y_train, y_tr_pred), r2_score(y_test, y_te_pred)"
   ]
  },
  {
   "cell_type": "code",
   "execution_count": 224,
   "metadata": {},
   "outputs": [
    {
     "data": {
      "text/plain": [
       "(107.22658250421219, 65.40438600579455)"
      ]
     },
     "execution_count": 224,
     "metadata": {},
     "output_type": "execute_result"
    }
   ],
   "source": [
    "# MAE of default lasso\n",
    "mean_absolute_error(y_train, y_tr_pred), mean_absolute_error(y_test, y_te_pred)"
   ]
  },
  {
   "cell_type": "code",
   "execution_count": 225,
   "metadata": {},
   "outputs": [
    {
     "data": {
      "text/plain": [
       "dict_keys(['alpha', 'copy_X', 'fit_intercept', 'max_iter', 'normalize', 'positive', 'precompute', 'random_state', 'selection', 'tol', 'warm_start'])"
      ]
     },
     "execution_count": 225,
     "metadata": {},
     "output_type": "execute_result"
    }
   ],
   "source": [
    "# what can we optimize with a lasso model?\n",
    "lassoReg.get_params().keys()"
   ]
  },
  {
   "cell_type": "code",
   "execution_count": 226,
   "metadata": {},
   "outputs": [],
   "source": [
    "# Set up grid for search\n",
    "grid_params = {'alpha': arange(0,1,.01),\n",
    "             'normalize': [True, False],\n",
    "             'max_iter': [100000]\n",
    "             }\n",
    "\n",
    "lasso_grid_cv = GridSearchCV(lassoReg, param_grid=grid_params, cv=5, n_jobs=-1)"
   ]
  },
  {
   "cell_type": "code",
   "execution_count": 227,
   "metadata": {},
   "outputs": [
    {
     "data": {
      "text/plain": [
       "({'alpha': 0.04, 'max_iter': 100000, 'normalize': True}, 0.6244933027568365)"
      ]
     },
     "execution_count": 227,
     "metadata": {},
     "output_type": "execute_result"
    }
   ],
   "source": [
    "lasso_grid_cv.fit(X_tr_scaled, y_train)\n",
    "lasso_grid_cv.best_params_, lasso_grid_cv.best_score_\n"
   ]
  },
  {
   "cell_type": "code",
   "execution_count": 228,
   "metadata": {},
   "outputs": [],
   "source": [
    "y_tr_pred = lasso_grid_cv.predict(X_tr_scaled)\n",
    "y_te_pred = lasso_grid_cv.predict(X_te_scaled)"
   ]
  },
  {
   "cell_type": "code",
   "execution_count": 229,
   "metadata": {},
   "outputs": [],
   "source": [
    "Optlasso = Lasso(alpha=0.04, max_iter=100000, normalize=True)\n",
    "Optlasso.fit(X_tr_scaled, y_train)\n",
    "y_tr_pred_opt = Optlasso.predict(X_tr_scaled)\n",
    "y_te_pred_opt = Optlasso.predict(X_te_scaled)"
   ]
  },
  {
   "cell_type": "code",
   "execution_count": 230,
   "metadata": {},
   "outputs": [
    {
     "data": {
      "text/plain": [
       "(0.6657159274198496, 0.8608623074157429)"
      ]
     },
     "execution_count": 230,
     "metadata": {},
     "output_type": "execute_result"
    }
   ],
   "source": [
    "r2_score(y_train, y_tr_pred_opt), r2_score(y_test, y_te_pred_opt)"
   ]
  },
  {
   "cell_type": "code",
   "execution_count": 231,
   "metadata": {},
   "outputs": [
    {
     "data": {
      "text/plain": [
       "(105.21152397515952, 67.50220820639707)"
      ]
     },
     "execution_count": 231,
     "metadata": {},
     "output_type": "execute_result"
    }
   ],
   "source": [
    "mean_absolute_error(y_train, y_tr_pred_opt), mean_absolute_error(y_test, y_te_pred_opt)"
   ]
  },
  {
   "cell_type": "markdown",
   "metadata": {},
   "source": [
    "The optimized Lasso estimator has slightly better R2 and MAE than the default. We will save those to our list. "
   ]
  },
  {
   "cell_type": "code",
   "execution_count": 232,
   "metadata": {},
   "outputs": [],
   "source": [
    "models.append(('Optlasso', Optlasso))\n",
    "mae_test.append(mean_absolute_error(y_test, y_te_pred_opt))\n",
    "mae_train.append(mean_absolute_error(y_train, y_tr_pred_opt))\n",
    "r2_test.append(r2_score(y_test, y_te_pred_opt))\n",
    "r2_train.append(r2_score(y_train, y_tr_pred_opt))\n",
    "MAPE_test.append(mean_absolute_percentage_error(y_test, y_te_pred))\n",
    "MAPE_train.append(mean_absolute_percentage_error(y_train, y_tr_pred))"
   ]
  },
  {
   "cell_type": "code",
   "execution_count": 233,
   "metadata": {},
   "outputs": [
    {
     "data": {
      "text/plain": [
       "array([160.36090046,   0.        , -32.07603604,   0.        ,\n",
       "       -21.95292927,  33.73013696,  -8.80003441,  -0.        ,\n",
       "        12.35888395, -15.88357218,  28.0989266 ,  67.60828279,\n",
       "       101.03950986, 112.1160115 , 226.0899765 , 271.76082336,\n",
       "       261.99504369])"
      ]
     },
     "execution_count": 233,
     "metadata": {},
     "output_type": "execute_result"
    }
   ],
   "source": [
    "# What are the coefficients of the Lasso model\n",
    "Optlasso.coef_"
   ]
  },
  {
   "cell_type": "code",
   "execution_count": 234,
   "metadata": {},
   "outputs": [
    {
     "data": {
      "image/png": "[encoded data removed]",
      "text/plain": [
       "<Figure size 576x396 with 2 Axes>"
      ]
     },
     "metadata": {},
     "output_type": "display_data"
    },
    {
     "data": {
      "text/plain": [
       "<AxesSubplot:title={'center':'Residuals for Lasso Model'}, xlabel='Predicted Value', ylabel='Residuals'>"
      ]
     },
     "execution_count": 234,
     "metadata": {},
     "output_type": "execute_result"
    }
   ],
   "source": [
    "visualizer = ResidualsPlot(Optlasso)\n",
    "\n",
    "visualizer.fit(X_tr_scaled, y_train)  # Fit the training data to the visualizer\n",
    "visualizer.score(X_te_scaled, y_test)  # Evaluate the model on the test data\n",
    "visualizer.show()  "
   ]
  },
  {
   "cell_type": "code",
   "execution_count": 235,
   "metadata": {},
   "outputs": [
    {
     "data": {
      "text/plain": [
       "Text(0.5, 1.0, 'Optimized Lasso feature coefficients')"
      ]
     },
     "execution_count": 235,
     "metadata": {},
     "output_type": "execute_result"
    },
    {
     "data": {
      "image/png": "[encoded data removed]",
      "text/plain": [
       "<Figure size 720x360 with 1 Axes>"
      ]
     },
     "metadata": {},
     "output_type": "display_data"
    }
   ],
   "source": [
    "plt.subplots(figsize=(10, 5))\n",
    "imps = Optlasso.coef_\n",
    "ol_feat_imps = pd.Series(imps, index=X_train.columns).sort_values(ascending=False)\n",
    "ol_feat_imps.plot(kind='bar')\n",
    "plt.xlabel('Features')\n",
    "plt.ylabel('Coefficients')\n",
    "plt.title('Optimized Lasso feature coefficients')"
   ]
  },
  {
   "cell_type": "markdown",
   "metadata": {},
   "source": [
    "## 3.11 Random Forest Model<a id='4.10_Random_Forest_Model'></a>"
   ]
  },
  {
   "cell_type": "markdown",
   "metadata": {},
   "source": [
    "First, let's try Random Forest Regressor with default hyperparameters, using the scaled data which include the 'value' feature. \n"
   ]
  },
  {
   "cell_type": "code",
   "execution_count": 236,
   "metadata": {},
   "outputs": [
    {
     "data": {
      "text/plain": [
       "RandomForestRegressor(random_state=42)"
      ]
     },
     "execution_count": 236,
     "metadata": {},
     "output_type": "execute_result"
    }
   ],
   "source": [
    "# Instantiate the model and fit it to scaled training data\n",
    "rf_default = RandomForestRegressor(random_state=42)\n",
    "rf_default.fit(X_tr_scaled, y_train)"
   ]
  },
  {
   "cell_type": "code",
   "execution_count": 237,
   "metadata": {},
   "outputs": [],
   "source": [
    "#Call `cross_validate` to estimate the pipeline's performance.\n",
    "#Pass it the random forest pipe object, `X_train` and `y_train`,\n",
    "#and get it to use 5-fold cross-validation\n",
    "rf_default_cv_results = cross_validate(rf_default, X_tr_scaled, y_train, cv=5)"
   ]
  },
  {
   "cell_type": "code",
   "execution_count": 238,
   "metadata": {},
   "outputs": [
    {
     "data": {
      "text/plain": [
       "array([0.61599887, 0.50851343, 0.59538351, 0.4782765 , 0.60426942])"
      ]
     },
     "execution_count": 238,
     "metadata": {},
     "output_type": "execute_result"
    }
   ],
   "source": [
    "rf_cv_scores = rf_default_cv_results['test_score']\n",
    "rf_cv_scores"
   ]
  },
  {
   "cell_type": "code",
   "execution_count": 239,
   "metadata": {},
   "outputs": [
    {
     "data": {
      "text/plain": [
       "(0.5604883459044357, 0.05599295097634886)"
      ]
     },
     "execution_count": 239,
     "metadata": {},
     "output_type": "execute_result"
    }
   ],
   "source": [
    "np.mean(rf_cv_scores), np.std(rf_cv_scores)"
   ]
  },
  {
   "cell_type": "markdown",
   "metadata": {},
   "source": [
    "## 3.12 Hyperparameter search using RandomSearchCV<a id='4.10_Random_Forest_Model'></a>"
   ]
  },
  {
   "cell_type": "markdown",
   "metadata": {},
   "source": [
    "Let's try some hyperparameters and see if we can improve upon the default random forest regressor. "
   ]
  },
  {
   "cell_type": "code",
   "execution_count": 240,
   "metadata": {},
   "outputs": [
    {
     "data": {
      "text/plain": [
       "{'bootstrap': [True, False],\n",
       " 'n_estimators': [10, 50, 100, 500, 1000, 1200, 1500],\n",
       " 'max_depth': [10, 20, 30, 40, 50, 60, 70, 80, 90, 100],\n",
       " 'max_features': ['auto', 'sqrt'],\n",
       " 'min_samples_split': [2, 5, 10, 15, 20, 25, 30, 35, 40],\n",
       " 'min_samples_leaf': [2, 5, 10, 15, 20],\n",
       " 'criterion': ['mse', 'mae']}"
      ]
     },
     "execution_count": 240,
     "metadata": {},
     "output_type": "execute_result"
    }
   ],
   "source": [
    "# Build param grid for random search\n",
    "n_est = [10, 50, 100, 500, 1000, 1200, 1500]\n",
    "max_features = ['auto', 'sqrt']\n",
    "max_depth = [10, 20, 30, 40, 50, 60, 70, 80, 90, 100]\n",
    "min_samples_split = [2, 5, 10, 15, 20, 25, 30, 35, 40]\n",
    "min_samples_leaf = [2, 5, 10, 15, 20]\n",
    "\n",
    "random_grid = {\n",
    "        'bootstrap': [True, False],\n",
    "        'n_estimators': n_est,\n",
    "        'max_depth': max_depth,\n",
    "        'max_features': max_features,\n",
    "        'min_samples_split': min_samples_split,\n",
    "        'min_samples_leaf': min_samples_leaf,\n",
    "        'criterion': [\"mse\", \"mae\"]\n",
    "}\n",
    "random_grid"
   ]
  },
  {
   "cell_type": "code",
   "execution_count": 241,
   "metadata": {},
   "outputs": [],
   "source": [
    "# Call RandomizedSearchCV with RandomForestRegressor, the random_grid, and cv=5\n",
    "rf = RandomForestRegressor(random_state=42)\n",
    "rf_random_cv = RandomizedSearchCV(estimator=rf, param_distributions=random_grid, \n",
    "                                  cv=5, n_jobs=-1)"
   ]
  },
  {
   "cell_type": "code",
   "execution_count": 242,
   "metadata": {},
   "outputs": [
    {
     "data": {
      "text/plain": [
       "RandomizedSearchCV(cv=5, estimator=RandomForestRegressor(random_state=42),\n",
       "                   n_jobs=-1,\n",
       "                   param_distributions={'bootstrap': [True, False],\n",
       "                                        'criterion': ['mse', 'mae'],\n",
       "                                        'max_depth': [10, 20, 30, 40, 50, 60,\n",
       "                                                      70, 80, 90, 100],\n",
       "                                        'max_features': ['auto', 'sqrt'],\n",
       "                                        'min_samples_leaf': [2, 5, 10, 15, 20],\n",
       "                                        'min_samples_split': [2, 5, 10, 15, 20,\n",
       "                                                              25, 30, 35, 40],\n",
       "                                        'n_estimators': [10, 50, 100, 500, 1000,\n",
       "                                                         1200, 1500]})"
      ]
     },
     "execution_count": 242,
     "metadata": {},
     "output_type": "execute_result"
    }
   ],
   "source": [
    "#Now call the `RandomizedSearchCV`'s `fit()` method with `X_train` and `y_train` as arguments\n",
    "#to actually start the grid search. This may take a minute or two.\n",
    "rf_random_cv.fit(X_tr_scaled, y_train)"
   ]
  },
  {
   "cell_type": "code",
   "execution_count": 243,
   "metadata": {},
   "outputs": [
    {
     "data": {
      "text/plain": [
       "{'n_estimators': 1500,\n",
       " 'min_samples_split': 35,\n",
       " 'min_samples_leaf': 2,\n",
       " 'max_features': 'auto',\n",
       " 'max_depth': 100,\n",
       " 'criterion': 'mae',\n",
       " 'bootstrap': True}"
      ]
     },
     "execution_count": 243,
     "metadata": {},
     "output_type": "execute_result"
    }
   ],
   "source": [
    "#Print the best params (`best_params_` attribute) from the grid search\n",
    "rf_random_cv.best_params_"
   ]
  },
  {
   "cell_type": "code",
   "execution_count": 244,
   "metadata": {},
   "outputs": [
    {
     "data": {
      "text/plain": [
       "array([0.66038298, 0.5120526 , 0.45826059, 0.42047515, 0.52869222])"
      ]
     },
     "execution_count": 244,
     "metadata": {},
     "output_type": "execute_result"
    }
   ],
   "source": [
    "rf_best_cv_results = cross_validate(rf_random_cv.best_estimator_, X_tr_scaled, y_train, cv=5)\n",
    "rf_best_scores = rf_best_cv_results['test_score']\n",
    "rf_best_scores"
   ]
  },
  {
   "cell_type": "code",
   "execution_count": 245,
   "metadata": {},
   "outputs": [
    {
     "data": {
      "text/plain": [
       "(0.5159727092322595, 0.08183147511213489)"
      ]
     },
     "execution_count": 245,
     "metadata": {},
     "output_type": "execute_result"
    }
   ],
   "source": [
    "np.mean(rf_best_scores), np.std(rf_best_scores)"
   ]
  },
  {
   "cell_type": "markdown",
   "metadata": {},
   "source": [
    "With the hyperparameters, we have improved upon the default Cross-Validation scores (which were (0.5083582011930894, 0.1903526257700541) - but, not by very much. "
   ]
  },
  {
   "cell_type": "code",
   "execution_count": 246,
   "metadata": {},
   "outputs": [
    {
     "data": {
      "text/plain": [
       "Text(0.5, 1.0, 'Best random forest regressor feature importances')"
      ]
     },
     "execution_count": 246,
     "metadata": {},
     "output_type": "execute_result"
    },
    {
     "data": {
      "image/png": "[encoded data removed]",
      "text/plain": [
       "<Figure size 720x360 with 1 Axes>"
      ]
     },
     "metadata": {},
     "output_type": "display_data"
    }
   ],
   "source": [
    "#Plot a barplot of the random forest's feature importances,\n",
    "#assigning the `feature_importances_` attribute of \n",
    "#`rf_random_cv.best_estimator_.named_steps.randomforestregressor` to the name `imps` to then\n",
    "#create a pandas Series object of the feature importances, with the index given by the\n",
    "#training data column names, sorting the values in descending order\n",
    "plt.subplots(figsize=(10, 5))\n",
    "imps = rf_random_cv.best_estimator_.feature_importances_\n",
    "rf_feat_imps = pd.Series(imps, index=X_tr_scaled.columns).sort_values(ascending=False)\n",
    "rf_feat_imps.plot(kind='bar')\n",
    "plt.xlabel('features')\n",
    "plt.ylabel('importance')\n",
    "plt.title('Best random forest regressor feature importances')"
   ]
  },
  {
   "cell_type": "markdown",
   "metadata": {},
   "source": [
    "Strangely - this model values square footage and value of the property over all else. it also likes 3 baths, certain racial demographics (?) and is positively affected by median household income and an improving school district. "
   ]
  },
  {
   "cell_type": "markdown",
   "metadata": {},
   "source": [
    "## 3.13 Metrics - Comparing models<a id='4.10_Random_Forest_Model'></a>"
   ]
  },
  {
   "cell_type": "markdown",
   "metadata": {},
   "source": [
    "#### 3.13.1 Linear Regression - Lasso Optimized Model Performance"
   ]
  },
  {
   "cell_type": "code",
   "execution_count": 247,
   "metadata": {},
   "outputs": [],
   "source": [
    "# 'neg_mean_absolute_error' uses the (negative of) the mean absolute error\n",
    "Optlasso_neg_mae = cross_validate(Optlasso, X_tr_scaled, y_train, \n",
    "                            scoring='neg_mean_absolute_error', cv=5, n_jobs=-1)"
   ]
  },
  {
   "cell_type": "code",
   "execution_count": 248,
   "metadata": {},
   "outputs": [
    {
     "data": {
      "text/plain": [
       "(111.28670348356215, 11.466391987801867)"
      ]
     },
     "execution_count": 248,
     "metadata": {},
     "output_type": "execute_result"
    }
   ],
   "source": [
    "Optlasso_mae_mean = np.mean(-1 * Optlasso_neg_mae['test_score'])\n",
    "Optlasso_mae_std = np.std(-1 * Optlasso_neg_mae['test_score'])\n",
    "Optlasso_mae_mean, Optlasso_mae_std"
   ]
  },
  {
   "cell_type": "code",
   "execution_count": 249,
   "metadata": {},
   "outputs": [
    {
     "data": {
      "text/plain": [
       "(67.50220820639707, 105.21152397515952)"
      ]
     },
     "execution_count": 249,
     "metadata": {},
     "output_type": "execute_result"
    }
   ],
   "source": [
    "mean_absolute_error(y_test, Optlasso.predict(X_te_scaled)), mean_absolute_error(y_train, Optlasso.predict(X_tr_scaled))"
   ]
  },
  {
   "cell_type": "code",
   "execution_count": 250,
   "metadata": {},
   "outputs": [
    {
     "data": {
      "text/plain": [
       "-3.818506756418561"
      ]
     },
     "execution_count": 250,
     "metadata": {},
     "output_type": "execute_result"
    }
   ],
   "source": [
    "std_from_estimate = (mean_absolute_error(y_test, Optlasso.predict(X_te_scaled)) - Optlasso_mae_mean)/Optlasso_mae_std\n",
    "std_from_estimate"
   ]
  },
  {
   "cell_type": "markdown",
   "metadata": {},
   "source": [
    "#### 3.13.2 Random Forest Model Performance"
   ]
  },
  {
   "cell_type": "code",
   "execution_count": 251,
   "metadata": {},
   "outputs": [],
   "source": [
    "# 'neg_mean_absolute_error' uses the (negative of) the mean absolute error\n",
    "rf_neg_mae = cross_validate(rf_random_cv.best_estimator_, X_tr_scaled, y_train, \n",
    "                            scoring='neg_mean_absolute_error', cv=5, n_jobs=-1)"
   ]
  },
  {
   "cell_type": "code",
   "execution_count": 252,
   "metadata": {},
   "outputs": [],
   "source": [
    "rf_mae_mean = np.mean(-1 * rf_neg_mae['test_score'])\n",
    "rf_mae_std = np.std(-1 * rf_neg_mae['test_score'])\n",
    "rf_mae_mean, rf_mae_std\n",
    "y_te_pred = rf_random_cv.best_estimator_.predict(X_te_scaled)"
   ]
  },
  {
   "cell_type": "code",
   "execution_count": 253,
   "metadata": {},
   "outputs": [
    {
     "data": {
      "text/plain": [
       "(101.43976923076924, 105.62936178861789)"
      ]
     },
     "execution_count": 253,
     "metadata": {},
     "output_type": "execute_result"
    }
   ],
   "source": [
    "mean_absolute_error(y_test, y_te_pred), mean_absolute_error(y_train, rf_random_cv.best_estimator_.predict(X_tr_scaled))"
   ]
  },
  {
   "cell_type": "code",
   "execution_count": 254,
   "metadata": {},
   "outputs": [],
   "source": [
    "models.append(('RF-Optimized', rf_random_cv))\n",
    "mae_test.append(mean_absolute_error(y_test, y_te_pred))\n",
    "mae_train.append(mean_absolute_error(y_train, y_tr_pred))\n",
    "r2_test.append(r2_score(y_test, y_te_pred))\n",
    "r2_train.append(r2_score(y_train, y_tr_pred))\n",
    "MAPE_test.append(mean_absolute_percentage_error(y_test, y_te_pred))\n",
    "MAPE_train.append(mean_absolute_percentage_error(y_train, y_tr_pred))"
   ]
  },
  {
   "cell_type": "code",
   "execution_count": 255,
   "metadata": {},
   "outputs": [
    {
     "data": {
      "text/plain": [
       "-1.6756511202458786"
      ]
     },
     "execution_count": 255,
     "metadata": {},
     "output_type": "execute_result"
    }
   ],
   "source": [
    "std_from_estimate = (mean_absolute_error(y_test, rf_random_cv.best_estimator_.predict(X_te_scaled)) - rf_mae_mean)/rf_mae_std\n",
    "std_from_estimate"
   ]
  },
  {
   "cell_type": "code",
   "execution_count": 256,
   "metadata": {},
   "outputs": [],
   "source": [
    "# Create a df of the metrics\n",
    "metrics = pd.DataFrame()\n",
    "metrics['model'] = models\n",
    "metrics['r2_test'] = r2_test\n",
    "metrics['r2_train'] = r2_train\n",
    "metrics['MAPE_test'] = MAPE_test\n",
    "metrics['MAPE_train'] = MAPE_train"
   ]
  },
  {
   "cell_type": "code",
   "execution_count": 257,
   "metadata": {},
   "outputs": [
    {
     "data": {
      "text/html": [
       "<div>\n",
       "<style scoped>\n",
       "    .dataframe tbody tr th:only-of-type {\n",
       "        vertical-align: middle;\n",
       "    }\n",
       "\n",
       "    .dataframe tbody tr th {\n",
       "        vertical-align: top;\n",
       "    }\n",
       "\n",
       "    .dataframe thead th {\n",
       "        text-align: right;\n",
       "    }\n",
       "</style>\n",
       "<table border=\"1\" class=\"dataframe\">\n",
       "  <thead>\n",
       "    <tr style=\"text-align: right;\">\n",
       "      <th></th>\n",
       "      <th>model</th>\n",
       "      <th>r2_test</th>\n",
       "      <th>r2_train</th>\n",
       "      <th>MAPE_test</th>\n",
       "      <th>MAPE_train</th>\n",
       "    </tr>\n",
       "  </thead>\n",
       "  <tbody>\n",
       "    <tr>\n",
       "      <th>5</th>\n",
       "      <td>(Optlasso, Lasso(alpha=0.04, max_iter=100000, ...</td>\n",
       "      <td>0.860862</td>\n",
       "      <td>0.665716</td>\n",
       "      <td>2.683370</td>\n",
       "      <td>4.167345</td>\n",
       "    </tr>\n",
       "    <tr>\n",
       "      <th>3</th>\n",
       "      <td>(LR optimized, GridSearchCV(cv=10,\\n          ...</td>\n",
       "      <td>0.856439</td>\n",
       "      <td>0.669139</td>\n",
       "      <td>2.724822</td>\n",
       "      <td>4.159289</td>\n",
       "    </tr>\n",
       "    <tr>\n",
       "      <th>1</th>\n",
       "      <td>(LR, LinearRegression())</td>\n",
       "      <td>0.854163</td>\n",
       "      <td>0.669432</td>\n",
       "      <td>2.755728</td>\n",
       "      <td>4.157378</td>\n",
       "    </tr>\n",
       "    <tr>\n",
       "      <th>4</th>\n",
       "      <td>(Ridge, Ridge(alpha=0.05, normalize=True))</td>\n",
       "      <td>0.855602</td>\n",
       "      <td>0.656026</td>\n",
       "      <td>2.793839</td>\n",
       "      <td>4.244363</td>\n",
       "    </tr>\n",
       "    <tr>\n",
       "      <th>2</th>\n",
       "      <td>(SelKBest=10, (SelectKBest(score_func=&lt;functio...</td>\n",
       "      <td>0.848856</td>\n",
       "      <td>0.634976</td>\n",
       "      <td>2.909747</td>\n",
       "      <td>4.439860</td>\n",
       "    </tr>\n",
       "    <tr>\n",
       "      <th>6</th>\n",
       "      <td>(RF-Optimized, RandomizedSearchCV(cv=5, estima...</td>\n",
       "      <td>0.743929</td>\n",
       "      <td>0.665716</td>\n",
       "      <td>4.103208</td>\n",
       "      <td>4.167345</td>\n",
       "    </tr>\n",
       "    <tr>\n",
       "      <th>0</th>\n",
       "      <td>(DR, DummyRegressor())</td>\n",
       "      <td>-0.072249</td>\n",
       "      <td>0.000000</td>\n",
       "      <td>8.035072</td>\n",
       "      <td>7.230818</td>\n",
       "    </tr>\n",
       "  </tbody>\n",
       "</table>\n",
       "</div>"
      ],
      "text/plain": [
       "                                               model   r2_test  r2_train  \\\n",
       "5  (Optlasso, Lasso(alpha=0.04, max_iter=100000, ...  0.860862  0.665716   \n",
       "3  (LR optimized, GridSearchCV(cv=10,\\n          ...  0.856439  0.669139   \n",
       "1                           (LR, LinearRegression())  0.854163  0.669432   \n",
       "4         (Ridge, Ridge(alpha=0.05, normalize=True))  0.855602  0.656026   \n",
       "2  (SelKBest=10, (SelectKBest(score_func=<functio...  0.848856  0.634976   \n",
       "6  (RF-Optimized, RandomizedSearchCV(cv=5, estima...  0.743929  0.665716   \n",
       "0                             (DR, DummyRegressor()) -0.072249  0.000000   \n",
       "\n",
       "   MAPE_test  MAPE_train  \n",
       "5   2.683370    4.167345  \n",
       "3   2.724822    4.159289  \n",
       "1   2.755728    4.157378  \n",
       "4   2.793839    4.244363  \n",
       "2   2.909747    4.439860  \n",
       "6   4.103208    4.167345  \n",
       "0   8.035072    7.230818  "
      ]
     },
     "execution_count": 257,
     "metadata": {},
     "output_type": "execute_result"
    }
   ],
   "source": [
    "metrics.sort_values(['MAPE_test', 'MAPE_train'])"
   ]
  },
  {
   "cell_type": "markdown",
   "metadata": {},
   "source": [
    "#### 3.13.3 Conclusion"
   ]
  },
  {
   "cell_type": "markdown",
   "metadata": {},
   "source": [
    "In all, we tried:\n",
    "-  Dummy Regressor (mean)\n",
    "-  Linear Regression with selectKBest\n",
    "-  Ridge Regression\n",
    "-  Lasso and a Lasso with optimized hyperparameters\n",
    "-  Random forest and a random forest with optimized hyperparameters\n",
    "\n",
    "\n",
    "The best model for the data we have is an optimized Linear Regression based on lowest MAPE on test set. \n",
    "The following charts show the MAPE and R2 for the various models we have tried in this notebook. "
   ]
  },
  {
   "cell_type": "code",
   "execution_count": 258,
   "metadata": {},
   "outputs": [
    {
     "data": {
      "image/png": "[encoded data removed]",
      "text/plain": [
       "<Figure size 576x576 with 1 Axes>"
      ]
     },
     "metadata": {},
     "output_type": "display_data"
    }
   ],
   "source": [
    "names = []\n",
    "for name, model in models:\n",
    "    names.append(name)\n",
    "\n",
    "bar_width=0.4\n",
    "X_axis = np.arange(len(names))\n",
    "fig, ax = plt.subplots(figsize=(8, 8))\n",
    "MAPE_tr = ax.bar(X_axis, MAPE_train, label='MAPE train', color='teal', width=bar_width)\n",
    "MAPE_te = ax.bar(X_axis + bar_width, MAPE_test, label='MAPE test', color='aqua', width=bar_width)\n",
    "\n",
    "fig.suptitle('Algorithm Comparison, MAPE', fontsize=14)\n",
    "plt.xticks(X_axis, names)\n",
    "plt.ylabel(\"MAPE, %\", fontsize=12)\n",
    "plt.xlabel(\"Model\", fontsize=12)\n",
    "plt.legend()\n",
    "plt.show()\n"
   ]
  },
  {
   "cell_type": "code",
   "execution_count": 259,
   "metadata": {},
   "outputs": [
    {
     "data": {
      "text/plain": [
       "<Figure size 576x396 with 0 Axes>"
      ]
     },
     "metadata": {},
     "output_type": "display_data"
    },
    {
     "data": {
      "image/png": "[encoded data removed]",
      "text/plain": [
       "<Figure size 720x720 with 1 Axes>"
      ]
     },
     "metadata": {},
     "output_type": "display_data"
    }
   ],
   "source": [
    "plt.clf()\n",
    "bar_width=.4\n",
    "X_axis = np.arange(len(names))\n",
    "fig, ax = plt.subplots(figsize=(10,10))\n",
    "r2_te = ax.bar(X_axis, r2_test, label='R2 test', color='cornflowerblue', width=bar_width)\n",
    "r2_tr = ax.bar(X_axis + bar_width, r2_train, label='R2 train', color='navy', width=bar_width)\n",
    "plt.xticks(X_axis, names)\n",
    "plt.legend()\n",
    "fig.suptitle('Algorithm Comparison, R2', fontsize=14)\n",
    "plt.ylabel(\"R2\", fontsize=12)\n",
    "plt.xlabel(\"Model\", fontsize=12)\n",
    "plt.show()"
   ]
  },
  {
   "cell_type": "markdown",
   "metadata": {},
   "source": [
    "The optimized Linear Regression model has the best score using MAPE on the test set. "
   ]
  },
  {
   "cell_type": "markdown",
   "metadata": {},
   "source": [
    "## 3.14 Data quantity assessment<a id='4.12_Data_quantity_assessment'></a>"
   ]
  },
  {
   "cell_type": "markdown",
   "metadata": {},
   "source": [
    "Finally, do we need to acquire more data? Would more data be useful? Gathering more data using the methods we have at our disposal takes time. Assess this trade off by seeing how performance varies with differing data set sizes. The `learning_curve` function does this conveniently."
   ]
  },
  {
   "cell_type": "code",
   "execution_count": 260,
   "metadata": {},
   "outputs": [],
   "source": [
    "fractions = [.1, .2, .25, .3, .35, .4, .45, .5, .6, .75, .8, 1.0]\n",
    "train_size, train_scores, test_scores = learning_curve(Optlasso, X_tr_scaled, y_train, train_sizes=fractions)\n",
    "train_scores_mean = np.mean(train_scores, axis=1)\n",
    "train_scores_std = np.std(train_scores, axis=1)\n",
    "test_scores_mean = np.mean(test_scores, axis=1)\n",
    "test_scores_std = np.std(test_scores, axis=1)"
   ]
  },
  {
   "cell_type": "code",
   "execution_count": 261,
   "metadata": {},
   "outputs": [
    {
     "data": {
      "image/png": "[encoded data removed]",
      "text/plain": [
       "<Figure size 720x360 with 1 Axes>"
      ]
     },
     "metadata": {},
     "output_type": "display_data"
    }
   ],
   "source": [
    "plt.subplots(figsize=(10, 5))\n",
    "plt.errorbar(train_size, test_scores_mean, yerr=test_scores_std)\n",
    "plt.xlabel('Training set size')\n",
    "plt.ylabel('CV scores')\n",
    "plt.title('Cross-validation score as training set size increases', fontsize=18);"
   ]
  },
  {
   "cell_type": "markdown",
   "metadata": {},
   "source": [
    "It looks like we are past the elbow, but it would continue to benefit the model to collect new data. "
   ]
  },
  {
   "cell_type": "markdown",
   "metadata": {},
   "source": [
    "## 3.15 Save best model object from pipeline<a id='4.13_Save_best_model_object_from_pipeline'></a>"
   ]
  },
  {
   "cell_type": "code",
   "execution_count": 262,
   "metadata": {},
   "outputs": [],
   "source": [
    "#Assign the pandas version number (`pd.__version__`) to the `pandas_version` attribute,\n",
    "#the numpy version (`np.__version__`) to the `numpy_version` attribute,\n",
    "#the sklearn version (`sklearn_version`) to the `sklearn_version` attribute,\n",
    "#and the current datetime (`datetime.datetime.now()`) to the `build_datetime` attribute\n",
    "#Let's call this model version '1.0'\n",
    "best_model = Optlasso\n",
    "best_model.version = 1.0\n",
    "best_model.pandas_version = pd.__version__\n",
    "best_model.numpy_version = np.__version__\n",
    "best_model.sklearn_version = sklearn_version\n",
    "best_model.X_columns = [col for col in X_train.columns]\n",
    "best_model.build_datetime = datetime.datetime.now()"
   ]
  },
  {
   "cell_type": "code",
   "execution_count": 263,
   "metadata": {},
   "outputs": [
    {
     "name": "stdout",
     "output_type": "stream",
     "text": [
      "A file already exists with this name.\n",
      "\n",
      "Do you want to overwrite? (Y/N)y\n",
      "Writing file.  \"../models\\market_rent_model.pkl\"\n"
     ]
    }
   ],
   "source": [
    "# save the model\n",
    "modelpath = '../models'\n",
    "save_file(best_model, 'market_rent_model.pkl', modelpath)"
   ]
  },
  {
   "cell_type": "code",
   "execution_count": null,
   "metadata": {},
   "outputs": [],
   "source": []
  },
  {
   "cell_type": "code",
   "execution_count": null,
   "metadata": {},
   "outputs": [],
   "source": []
  }
 ],
 "metadata": {
  "kernelspec": {
   "display_name": "Python 3",
   "language": "python",
   "name": "python3"
  },
  "language_info": {
   "codemirror_mode": {
    "name": "ipython",
    "version": 3
   },
   "file_extension": ".py",
   "mimetype": "text/x-python",
   "name": "python",
   "nbconvert_exporter": "python",
   "pygments_lexer": "ipython3",
   "version": "3.8.10"
  },
  "toc": {
   "base_numbering": 1,
   "nav_menu": {},
   "number_sections": true,
   "sideBar": true,
   "skip_h1_title": false,
   "title_cell": "Table of Contents",
   "title_sidebar": "Contents",
   "toc_cell": false,
   "toc_position": {},
   "toc_section_display": true,
   "toc_window_display": true
  },
  "varInspector": {
   "cols": {
    "lenName": 16,
    "lenType": 16,
    "lenVar": 40
   },
   "kernels_config": {
    "python": {
     "delete_cmd_postfix": "",
     "delete_cmd_prefix": "del ",
     "library": "var_list.py",
     "varRefreshCmd": "print(var_dic_list())"
    },
    "r": {
     "delete_cmd_postfix": ") ",
     "delete_cmd_prefix": "rm(",
     "library": "var_list.r",
     "varRefreshCmd": "cat(var_dic_list()) "
    }
   },
   "types_to_exclude": [
    "module",
    "function",
    "builtin_function_or_method",
    "instance",
    "_Feature"
   ],
   "window_display": false
  }
 },
 "nbformat": 4,
 "nbformat_minor": 4
}
